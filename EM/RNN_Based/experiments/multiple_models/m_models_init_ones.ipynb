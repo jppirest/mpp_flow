{
 "cells": [
  {
   "cell_type": "code",
   "execution_count": 1,
   "id": "88fa258d-c31e-4cff-a543-fae428fe4b93",
   "metadata": {},
   "outputs": [],
   "source": [
    "import numpy as np\n",
    "import matplotlib.pyplot as plt\n",
    "\n",
    "\n",
    "np.random.seed(42)\n",
    "\n",
    "n_points = 600 \n",
    "time = np.arange(n_points)\n",
    "\n",
    "\n",
    "X1 = np.random.binomial(1, 0.6, n_points)\n",
    "X2 = np.zeros(n_points)\n",
    "X3 = np.zeros(n_points)\n",
    "\n",
    "\n",
    "for t in range(1, n_points):\n",
    "    # X2 is more likely to happen if X1 happened in the previous step\n",
    "    X2[t] = np.random.binomial(1, 0.8 * X1[t-1])\n",
    "    # X3 is more likely to happen if X2 happened in the previous step\n",
    "    X3[t] = np.random.binomial(1, 0.7 * X2[t-1] )\n",
    "\n",
    "\n",
    "\n",
    "X1 = [time[i] for i in range(len(X1)) if X1[i] > 0]\n",
    "X2 = [time[i] + 0.1 for i in range(len(X2)) if X2[i] > 0]\n",
    "X3 = [time[i] + 0.2 for i in range(len(X3)) if X3[i] > 0]"
   ]
  },
  {
   "cell_type": "code",
   "execution_count": 2,
   "id": "85c66ed5-4c64-415d-b060-5bdf06d5e68d",
   "metadata": {},
   "outputs": [
    {
     "data": {
      "image/png": "[encoded data removed]",
      "text/plain": [
       "<Figure size 640x480 with 3 Axes>"
      ]
     },
     "metadata": {},
     "output_type": "display_data"
    }
   ],
   "source": [
    "def _plot_tick_bars(timestamps_i, ax, color):\n",
    "    for t in timestamps_i:\n",
    "        ax.axvline(x=t, color = color)\n",
    "    # ax.set_title(label, fontsize=20)\n",
    "    ax.get_yaxis().set_visible(False)\n",
    "def _plot_tick_bars_causes(timestamps_i, ax, cause):\n",
    "    colors = ['red', 'green', 'blue']\n",
    "    for idx, t in enumerate(timestamps_i):\n",
    "        cause_ = torch.argmax(cause[idx]).item()\n",
    "        ax.axvline(x=t, color = colors[cause_])\n",
    "    ax.get_yaxis().set_visible(False)\n",
    "\n",
    "fig, ax = plt.subplots(nrows = 3, sharex = True)\n",
    "\n",
    "_plot_tick_bars(X1, ax[0], color = 'red')\n",
    "_plot_tick_bars(X2, ax[1], color = 'green')\n",
    "_plot_tick_bars(X3, ax[2], color = 'blue')"
   ]
  },
  {
   "cell_type": "code",
   "execution_count": 3,
   "id": "b1a6a48f-ac51-4f35-b834-d83ca5145426",
   "metadata": {},
   "outputs": [],
   "source": [
    "import torch\n",
    "import torch.nn as nn\n",
    "import torch.nn.functional as F\n",
    "from torch.nn.utils.rnn import pad_sequence\n",
    "from torch.utils.data import DataLoader\n",
    "\n",
    "if torch.cuda.is_available():\n",
    "    torch.set_default_tensor_type(\"torch.cuda.FloatTensor\")\n",
    "    device = \"cuda\"\n",
    "else:\n",
    "    torch.set_default_tensor_type(\"torch.FloatTensor\")\n",
    "    device = \"cpu\"\n",
    "    "
   ]
  },
  {
   "cell_type": "code",
   "execution_count": 4,
   "id": "7749ccfc-6d6b-4376-9003-14aa3a73b1e8",
   "metadata": {},
   "outputs": [],
   "source": [
    "import torch \n",
    "\n",
    "class ProbRNN(nn.Module):\n",
    "    def __init__(self, memory_size, gmm_size : int = 20):\n",
    "        super().__init__()\n",
    "\n",
    "        self.gmm_size = memory_size\n",
    "        self.memory_size = memory_size\n",
    "        self.linear = nn.Sequential(nn.Linear(self.memory_size, 64), nn.LayerNorm(64), nn.Tanh())\n",
    "        self.lstm = nn.GRU(input_size = 64, hidden_size = 128, num_layers = 2, batch_first = True)\n",
    "        self.lstm_norm = nn.LayerNorm(128)\n",
    "        self.linear_mu = nn.Sequential(nn.Linear(128, self.gmm_size), nn.LayerNorm(self.gmm_size))\n",
    "        self.linear_std = nn.Sequential(nn.Linear(128, self.gmm_size), nn.LayerNorm(self.gmm_size))\n",
    "        self.linear_gmm_weights = nn.Sequential(nn.Linear(128, self.gmm_size), nn.LayerNorm(self.gmm_size), nn.Softmax(dim = 1))\n",
    "        \n",
    "\n",
    "    def forward(self, x):\n",
    "      debug_x = x.clone()\n",
    "      x = self.linear(x) # x_emb\n",
    "      x, _ = self.lstm(x)\n",
    "      x = self.lstm_norm(x)\n",
    "      mu = self.linear_mu(x)      \n",
    "      std = self.linear_std(x)\n",
    "      std = torch.exp(std)\n",
    "      gmm_weights = self.linear_gmm_weights(x)\n",
    "      \n",
    "      if torch.isnan(mu).any() or torch.isnan(std).any():\n",
    "          print(mu, std, debug_x)\n",
    "\n",
    "\n",
    "      mix_dist = self.build_distrib(mu, std, gmm_weights)\n",
    "\n",
    "      new_X = self.sample(mu, std)\n",
    "      log_prob = mix_dist.log_prob(new_X)\n",
    "\n",
    "    \n",
    "      return new_X, log_prob\n",
    "\n",
    "\n",
    "    def build_distrib(self, mus, stds, gmm_weights):\n",
    "      \n",
    "      \n",
    "      \n",
    "      component_dist = torch.distributions.Normal(mus.T, stds.T)\n",
    "      mix_weight = torch.distributions.Categorical(gmm_weights.T)\n",
    "      mix_dist = torch.distributions.MixtureSameFamily(mix_weight, component_dist)\n",
    "      \n",
    "      self.mix_dist = mix_dist\n",
    "      \n",
    "\n",
    "      return mix_dist\n",
    "\n",
    "    def sample(self, mu, std):\n",
    "      size = (std.size(0),)\n",
    "\n",
    "      X =  mu + self.mix_dist.sample(size)*std \n",
    "\n",
    "      return X\n"
   ]
  },
  {
   "cell_type": "code",
   "execution_count": 5,
   "id": "8ed764e6-a3a4-409a-988c-d9d8dae769b4",
   "metadata": {},
   "outputs": [],
   "source": [
    "X1_ = torch.tensor(X1.copy(), dtype = torch.float32)\n",
    "X2_ = torch.tensor(X2.copy(), dtype = torch.float32)\n",
    "X3_ = torch.tensor(X3.copy(), dtype = torch.float32)\n",
    "processes = [X1_, X2_, X3_]"
   ]
  },
  {
   "cell_type": "code",
   "execution_count": 7,
   "id": "7b598d71-6331-4512-8a1b-24f433b46be9",
   "metadata": {},
   "outputs": [],
   "source": [
    "class GrangerMPP(nn.Module):\n",
    "\n",
    "    def __init__(self, processes, memory_dim : int = 10):\n",
    "        \n",
    "        super().__init__()\n",
    "        \n",
    "        self.processes = processes\n",
    "        self.memory_dim = memory_dim\n",
    "        self.n_processes = len(self.processes)\n",
    "        \n",
    "        \n",
    "    \n",
    "        self.GrangerMatrix = nn.Parameter((torch.empty(self.n_processes, self.n_processes)))\n",
    "        nn.init.ones_(self.GrangerMatrix)#, mean=0.5, std=0.001) # very important\n",
    "        \n",
    "    \n",
    "        self.models = nn.ModuleList([ProbRNN(self.memory_dim) for i in range(self.n_processes)])\n",
    "        self.sweep_dict = self.make_sweep_dict()\n",
    "        self.optimizers = [torch.optim.Adam(list(self.models[i].parameters()), lr=1e-4, weight_decay = 1e-5) for i in range(self.n_processes)]\n",
    "        self.g_optimizer = torch.optim.Adam([self.GrangerMatrix], lr=1e-4, weight_decay = 1e-5) \n",
    "        self.log_GrangerMatrix = []\n",
    "        \n",
    "    def e_step(self, i_proc, points_current_pp):\n",
    "        \n",
    "        \"\"\"\n",
    "        Return the causes for each event of the current_p\n",
    "        \n",
    "        \"\"\"\n",
    "        \n",
    "        n = len(points_current_pp)\n",
    "        rv = []\n",
    "        in_weights = nn.Softmax(dim = 0)(self.GrangerMatrix[i_proc])\n",
    "        in_ = in_weights\n",
    "        \n",
    "        for i in range(n):            \n",
    "            cause = F.gumbel_softmax(\n",
    "                in_,\n",
    "                tau = 1,\n",
    "                hard = False\n",
    "            )\n",
    "            rv.append(cause)\n",
    "        \n",
    "        return rv\n",
    "\n",
    "    def em_step(self, n_steps):\n",
    "        dic = {}\n",
    "        \n",
    "        for i in range(self.n_processes):\n",
    "            dic[i] = []\n",
    "        \n",
    "        for step in range(n_steps):\n",
    "            self.causes = []\n",
    "            for i_proc in range(self.n_processes):\n",
    "                rv = self.e_step(\n",
    "                    i_proc,\n",
    "                    self.processes[i_proc]\n",
    "                )\n",
    "                self.causes.append(rv)\n",
    "            \n",
    "            \n",
    "            for i_proc in range(self.n_processes):\n",
    "                \n",
    "                batch_list = self.get_batch_list(i_proc)\n",
    "                self.batch_size = 60 # multiplo do n_processos\n",
    "                dataloader = self.make_dl(batch_list = batch_list, batch_size = self.batch_size, drop_last = False)\n",
    "                self.dataloader = dataloader\n",
    "                \n",
    "                for _, (X, cause_rank) in enumerate(dataloader):\n",
    "\n",
    "                    reg_term = len(self.processes[i_proc])\n",
    "                    loss = self.m_step(i_proc, X, cause_rank) \n",
    "                    dic[i_proc].append(loss)\n",
    "                \n",
    "                if (step + 1) % 5 == 0 or step == 0:\n",
    "                    print(f'Step: {step + 1}, Model: {i_proc}, Loss: {loss}')\n",
    "                    \n",
    "            #self.log_GrangerMatrix.append(self.GrangerMatrix)\n",
    "        \n",
    "        return dic\n",
    "\n",
    "    def m_step(self, i_proc, X, cause_rank):\n",
    "\n",
    "        model = self.models[i_proc]\n",
    "        self.optimizers[i_proc].zero_grad()\n",
    "        self.g_optimizer.zero_grad()\n",
    "        \n",
    "        z, logp = model(X)\n",
    "        loss = -1*logp.sum(axis = 1)\n",
    "        \n",
    "        loss_rnn = (loss * cause_rank).sum()/self.batch_size  + -1*(torch.log(cause_rank + 1e-7)).sum()/self.batch_size\n",
    "       \n",
    "        \n",
    "        if not (torch.isnan(loss_rnn) | torch.isinf(loss_rnn)):\n",
    "\n",
    "            \n",
    "            loss_rnn.backward(retain_graph = True)\n",
    "            \n",
    "            self.optimizers[i_proc].step()\n",
    "            self.g_optimizer.step()\n",
    "            self.log_GrangerMatrix.append(self.GrangerMatrix.clone().detach())\n",
    "            \n",
    "        \n",
    "        else:\n",
    "            print(f'NaN found in epoch: {step}')    \n",
    "\n",
    "        return loss_rnn.item()\n",
    "\n",
    "    def make_sweep_dict(self):\n",
    "        \n",
    "        dic = {}\n",
    "        for i in range(self.n_processes):\n",
    "            target = processes[i]\n",
    "            dic[i] = {}\n",
    "            for j in range(self.n_processes):\n",
    "                cause = self.processes[j]\n",
    "                dic[i][j] = self.sweep(target, cause)\n",
    "        return dic\n",
    "\n",
    "\n",
    "    def sweep(self, pa, pc):\n",
    "        events = []\n",
    "        pa_indices = []  \n",
    "    \n",
    "        \n",
    "        for i, ia in enumerate(pa):\n",
    "            events.append((ia, 'a'))\n",
    "            pa_indices.append(i)  \n",
    "    \n",
    "        for ic in pc:\n",
    "            events.append((ic, 'c'))\n",
    "    \n",
    "        lim = self.memory_dim\n",
    "    \n",
    "        events.sort()\n",
    "        mem = []\n",
    "        ret = []\n",
    "        indices = []  # List to store indices relative to pa\n",
    "    \n",
    "        pa_idx_counter = 0  # Counter to track which index in pa we are at\n",
    "    \n",
    "        for t, e in events:\n",
    "            if e == 'c':\n",
    "                if len(mem) >= lim:\n",
    "                    mem.pop(0)\n",
    "                mem.append(t)\n",
    "    \n",
    "            if e == 'a':\n",
    "                # Memory is not full yet\n",
    "                if len(mem) < lim:\n",
    "                    pa_idx_counter += 1  # Move to the next pa index\n",
    "                    continue\n",
    "                # Retrieve deltas from this time to the cause times\n",
    "                pp = [t - tc for tc in mem]\n",
    "                ret.append(pp)\n",
    "                indices.append(pa_indices[pa_idx_counter])  # Save index relative to pa\n",
    "                pa_idx_counter += 1  # Move to the next pa index\n",
    "    \n",
    "        return torch.tensor(ret, dtype=torch.float), indices\n",
    "\n",
    "    def get_batch_list(self, i_proc):\n",
    "    \n",
    "      batch_list = []\n",
    "      dic = self.sweep_dict\n",
    "      causes = self.causes[i_proc]\n",
    "      \n",
    "      for idx in range(len(causes)):\n",
    "          full = True\n",
    "          n_causes = causes[idx] \n",
    "          cur = []\n",
    "        \n",
    "          for idx_j, cause_rank in enumerate(n_causes):\n",
    "            \n",
    "            if idx < dic[i_proc][idx_j][1][0]: ## cannot cause target process\n",
    "                full =  False\n",
    "                new_causes = n_causes.detach().clone()\n",
    "                new_causes[idx_j] = 0.0\n",
    "                new_causes[i_proc] = 1.0\n",
    "                self.causes[i_proc][idx] = new_causes\n",
    "                \n",
    "            else:\n",
    "              where_in_tensor = dic[i_proc][idx_j][1].index(idx)\n",
    "              app = (dic[i_proc][idx_j][0][where_in_tensor], cause_rank.clone())\n",
    "              cur.append(app)\n",
    "          \n",
    "          # Add current timestamp to batch_list only if all other processes are already alive\n",
    "          if full:\n",
    "            batch_list.extend(cur)\n",
    "        \n",
    "      #print('IDX', foo)\n",
    "      #return Exception()\n",
    "      return batch_list\n",
    "    \n",
    "    def make_dl(self, batch_list : list, batch_size : int, drop_last : bool):\n",
    "    \n",
    "      dataloader = DataLoader(batch_list, batch_size = batch_size, drop_last = drop_last, shuffle = False)\n",
    "    \n",
    "      return dataloader"
   ]
  },
  {
   "cell_type": "code",
   "execution_count": 8,
   "id": "d8352769-ccac-4f6f-b833-bcd4d8756f58",
   "metadata": {
    "scrolled": true
   },
   "outputs": [
    {
     "name": "stdout",
     "output_type": "stream",
     "text": [
      "Step: 1, Model: 0, Loss: 0.923709511756897\n",
      "Step: 1, Model: 1, Loss: 5.939194679260254\n",
      "Step: 1, Model: 2, Loss: 6.072340965270996\n",
      "Step: 5, Model: 0, Loss: 1.0145618915557861\n",
      "Step: 5, Model: 1, Loss: 4.836716175079346\n",
      "Step: 5, Model: 2, Loss: 5.360710620880127\n",
      "Step: 10, Model: 0, Loss: 0.8419358730316162\n",
      "Step: 10, Model: 1, Loss: 4.9364776611328125\n",
      "Step: 10, Model: 2, Loss: 5.027000904083252\n",
      "Step: 15, Model: 0, Loss: 0.7613381147384644\n",
      "Step: 15, Model: 1, Loss: 4.777763366699219\n",
      "Step: 15, Model: 2, Loss: 5.127923011779785\n",
      "Step: 20, Model: 0, Loss: 0.9998185038566589\n",
      "Step: 20, Model: 1, Loss: 4.529540061950684\n",
      "Step: 20, Model: 2, Loss: 4.837701797485352\n",
      "Step: 25, Model: 0, Loss: 0.9462069272994995\n",
      "Step: 25, Model: 1, Loss: 4.969073295593262\n",
      "Step: 25, Model: 2, Loss: 5.342228889465332\n"
     ]
    },
    {
     "ename": "KeyboardInterrupt",
     "evalue": "",
     "output_type": "error",
     "traceback": [
      "\u001b[0;31m---------------------------------------------------------------------------\u001b[0m",
      "\u001b[0;31mKeyboardInterrupt\u001b[0m                         Traceback (most recent call last)",
      "Cell \u001b[0;32mIn[8], line 2\u001b[0m\n\u001b[1;32m      1\u001b[0m mpp \u001b[38;5;241m=\u001b[39m GrangerMPP(processes, memory_dim \u001b[38;5;241m=\u001b[39m \u001b[38;5;241m4\u001b[39m)\n\u001b[0;32m----> 2\u001b[0m l \u001b[38;5;241m=\u001b[39m \u001b[43mmpp\u001b[49m\u001b[38;5;241;43m.\u001b[39;49m\u001b[43mem_step\u001b[49m\u001b[43m(\u001b[49m\u001b[43mn_steps\u001b[49m\u001b[43m \u001b[49m\u001b[38;5;241;43m=\u001b[39;49m\u001b[43m \u001b[49m\u001b[38;5;241;43m400\u001b[39;49m\u001b[43m)\u001b[49m\n",
      "Cell \u001b[0;32mIn[7], line 71\u001b[0m, in \u001b[0;36mGrangerMPP.em_step\u001b[0;34m(self, n_steps)\u001b[0m\n\u001b[1;32m     68\u001b[0m \u001b[38;5;28;01mfor\u001b[39;00m _, (X, cause_rank) \u001b[38;5;129;01min\u001b[39;00m \u001b[38;5;28menumerate\u001b[39m(dataloader):\n\u001b[1;32m     70\u001b[0m     reg_term \u001b[38;5;241m=\u001b[39m \u001b[38;5;28mlen\u001b[39m(\u001b[38;5;28mself\u001b[39m\u001b[38;5;241m.\u001b[39mprocesses[i_proc])\n\u001b[0;32m---> 71\u001b[0m     loss \u001b[38;5;241m=\u001b[39m \u001b[38;5;28;43mself\u001b[39;49m\u001b[38;5;241;43m.\u001b[39;49m\u001b[43mm_step\u001b[49m\u001b[43m(\u001b[49m\u001b[43mi_proc\u001b[49m\u001b[43m,\u001b[49m\u001b[43m \u001b[49m\u001b[43mX\u001b[49m\u001b[43m,\u001b[49m\u001b[43m \u001b[49m\u001b[43mcause_rank\u001b[49m\u001b[43m)\u001b[49m \n\u001b[1;32m     72\u001b[0m     dic[i_proc]\u001b[38;5;241m.\u001b[39mappend(loss)\n\u001b[1;32m     74\u001b[0m \u001b[38;5;28;01mif\u001b[39;00m (step \u001b[38;5;241m+\u001b[39m \u001b[38;5;241m1\u001b[39m) \u001b[38;5;241m%\u001b[39m \u001b[38;5;241m5\u001b[39m \u001b[38;5;241m==\u001b[39m \u001b[38;5;241m0\u001b[39m \u001b[38;5;129;01mor\u001b[39;00m step \u001b[38;5;241m==\u001b[39m \u001b[38;5;241m0\u001b[39m:\n",
      "Cell \u001b[0;32mIn[7], line 87\u001b[0m, in \u001b[0;36mGrangerMPP.m_step\u001b[0;34m(self, i_proc, X, cause_rank)\u001b[0m\n\u001b[1;32m     84\u001b[0m \u001b[38;5;28mself\u001b[39m\u001b[38;5;241m.\u001b[39moptimizers[i_proc]\u001b[38;5;241m.\u001b[39mzero_grad()\n\u001b[1;32m     85\u001b[0m \u001b[38;5;28mself\u001b[39m\u001b[38;5;241m.\u001b[39mg_optimizer\u001b[38;5;241m.\u001b[39mzero_grad()\n\u001b[0;32m---> 87\u001b[0m z, logp \u001b[38;5;241m=\u001b[39m \u001b[43mmodel\u001b[49m\u001b[43m(\u001b[49m\u001b[43mX\u001b[49m\u001b[43m)\u001b[49m\n\u001b[1;32m     88\u001b[0m loss \u001b[38;5;241m=\u001b[39m \u001b[38;5;241m-\u001b[39m\u001b[38;5;241m1\u001b[39m\u001b[38;5;241m*\u001b[39mlogp\u001b[38;5;241m.\u001b[39msum(axis \u001b[38;5;241m=\u001b[39m \u001b[38;5;241m1\u001b[39m)\n\u001b[1;32m     90\u001b[0m loss_rnn \u001b[38;5;241m=\u001b[39m (loss \u001b[38;5;241m*\u001b[39m cause_rank)\u001b[38;5;241m.\u001b[39msum()\u001b[38;5;241m/\u001b[39m\u001b[38;5;28mself\u001b[39m\u001b[38;5;241m.\u001b[39mbatch_size  \u001b[38;5;241m+\u001b[39m \u001b[38;5;241m-\u001b[39m\u001b[38;5;241m1\u001b[39m\u001b[38;5;241m*\u001b[39m(torch\u001b[38;5;241m.\u001b[39mlog(cause_rank \u001b[38;5;241m+\u001b[39m \u001b[38;5;241m1e-7\u001b[39m))\u001b[38;5;241m.\u001b[39msum()\u001b[38;5;241m/\u001b[39m\u001b[38;5;28mself\u001b[39m\u001b[38;5;241m.\u001b[39mbatch_size\n",
      "File \u001b[0;32m/apps/conda/joao.pires/.envs/jpt/lib/python3.10/site-packages/torch/nn/modules/module.py:1130\u001b[0m, in \u001b[0;36mModule._call_impl\u001b[0;34m(self, *input, **kwargs)\u001b[0m\n\u001b[1;32m   1126\u001b[0m \u001b[38;5;66;03m# If we don't have any hooks, we want to skip the rest of the logic in\u001b[39;00m\n\u001b[1;32m   1127\u001b[0m \u001b[38;5;66;03m# this function, and just call forward.\u001b[39;00m\n\u001b[1;32m   1128\u001b[0m \u001b[38;5;28;01mif\u001b[39;00m \u001b[38;5;129;01mnot\u001b[39;00m (\u001b[38;5;28mself\u001b[39m\u001b[38;5;241m.\u001b[39m_backward_hooks \u001b[38;5;129;01mor\u001b[39;00m \u001b[38;5;28mself\u001b[39m\u001b[38;5;241m.\u001b[39m_forward_hooks \u001b[38;5;129;01mor\u001b[39;00m \u001b[38;5;28mself\u001b[39m\u001b[38;5;241m.\u001b[39m_forward_pre_hooks \u001b[38;5;129;01mor\u001b[39;00m _global_backward_hooks\n\u001b[1;32m   1129\u001b[0m         \u001b[38;5;129;01mor\u001b[39;00m _global_forward_hooks \u001b[38;5;129;01mor\u001b[39;00m _global_forward_pre_hooks):\n\u001b[0;32m-> 1130\u001b[0m     \u001b[38;5;28;01mreturn\u001b[39;00m \u001b[43mforward_call\u001b[49m\u001b[43m(\u001b[49m\u001b[38;5;241;43m*\u001b[39;49m\u001b[38;5;28;43minput\u001b[39;49m\u001b[43m,\u001b[49m\u001b[43m \u001b[49m\u001b[38;5;241;43m*\u001b[39;49m\u001b[38;5;241;43m*\u001b[39;49m\u001b[43mkwargs\u001b[49m\u001b[43m)\u001b[49m\n\u001b[1;32m   1131\u001b[0m \u001b[38;5;66;03m# Do not call functions when jit is used\u001b[39;00m\n\u001b[1;32m   1132\u001b[0m full_backward_hooks, non_full_backward_hooks \u001b[38;5;241m=\u001b[39m [], []\n",
      "Cell \u001b[0;32mIn[4], line 20\u001b[0m, in \u001b[0;36mProbRNN.forward\u001b[0;34m(self, x)\u001b[0m\n\u001b[1;32m     18\u001b[0m debug_x \u001b[38;5;241m=\u001b[39m x\u001b[38;5;241m.\u001b[39mclone()\n\u001b[1;32m     19\u001b[0m x \u001b[38;5;241m=\u001b[39m \u001b[38;5;28mself\u001b[39m\u001b[38;5;241m.\u001b[39mlinear(x) \u001b[38;5;66;03m# x_emb\u001b[39;00m\n\u001b[0;32m---> 20\u001b[0m x, _ \u001b[38;5;241m=\u001b[39m \u001b[38;5;28;43mself\u001b[39;49m\u001b[38;5;241;43m.\u001b[39;49m\u001b[43mlstm\u001b[49m\u001b[43m(\u001b[49m\u001b[43mx\u001b[49m\u001b[43m)\u001b[49m\n\u001b[1;32m     21\u001b[0m x \u001b[38;5;241m=\u001b[39m \u001b[38;5;28mself\u001b[39m\u001b[38;5;241m.\u001b[39mlstm_norm(x)\n\u001b[1;32m     22\u001b[0m mu \u001b[38;5;241m=\u001b[39m \u001b[38;5;28mself\u001b[39m\u001b[38;5;241m.\u001b[39mlinear_mu(x)      \n",
      "File \u001b[0;32m/apps/conda/joao.pires/.envs/jpt/lib/python3.10/site-packages/torch/nn/modules/module.py:1130\u001b[0m, in \u001b[0;36mModule._call_impl\u001b[0;34m(self, *input, **kwargs)\u001b[0m\n\u001b[1;32m   1126\u001b[0m \u001b[38;5;66;03m# If we don't have any hooks, we want to skip the rest of the logic in\u001b[39;00m\n\u001b[1;32m   1127\u001b[0m \u001b[38;5;66;03m# this function, and just call forward.\u001b[39;00m\n\u001b[1;32m   1128\u001b[0m \u001b[38;5;28;01mif\u001b[39;00m \u001b[38;5;129;01mnot\u001b[39;00m (\u001b[38;5;28mself\u001b[39m\u001b[38;5;241m.\u001b[39m_backward_hooks \u001b[38;5;129;01mor\u001b[39;00m \u001b[38;5;28mself\u001b[39m\u001b[38;5;241m.\u001b[39m_forward_hooks \u001b[38;5;129;01mor\u001b[39;00m \u001b[38;5;28mself\u001b[39m\u001b[38;5;241m.\u001b[39m_forward_pre_hooks \u001b[38;5;129;01mor\u001b[39;00m _global_backward_hooks\n\u001b[1;32m   1129\u001b[0m         \u001b[38;5;129;01mor\u001b[39;00m _global_forward_hooks \u001b[38;5;129;01mor\u001b[39;00m _global_forward_pre_hooks):\n\u001b[0;32m-> 1130\u001b[0m     \u001b[38;5;28;01mreturn\u001b[39;00m \u001b[43mforward_call\u001b[49m\u001b[43m(\u001b[49m\u001b[38;5;241;43m*\u001b[39;49m\u001b[38;5;28;43minput\u001b[39;49m\u001b[43m,\u001b[49m\u001b[43m \u001b[49m\u001b[38;5;241;43m*\u001b[39;49m\u001b[38;5;241;43m*\u001b[39;49m\u001b[43mkwargs\u001b[49m\u001b[43m)\u001b[49m\n\u001b[1;32m   1131\u001b[0m \u001b[38;5;66;03m# Do not call functions when jit is used\u001b[39;00m\n\u001b[1;32m   1132\u001b[0m full_backward_hooks, non_full_backward_hooks \u001b[38;5;241m=\u001b[39m [], []\n",
      "File \u001b[0;32m/apps/conda/joao.pires/.envs/jpt/lib/python3.10/site-packages/torch/nn/modules/rnn.py:950\u001b[0m, in \u001b[0;36mGRU.forward\u001b[0;34m(self, input, hx)\u001b[0m\n\u001b[1;32m    948\u001b[0m \u001b[38;5;28mself\u001b[39m\u001b[38;5;241m.\u001b[39mcheck_forward_args(\u001b[38;5;28minput\u001b[39m, hx, batch_sizes)\n\u001b[1;32m    949\u001b[0m \u001b[38;5;28;01mif\u001b[39;00m batch_sizes \u001b[38;5;129;01mis\u001b[39;00m \u001b[38;5;28;01mNone\u001b[39;00m:\n\u001b[0;32m--> 950\u001b[0m     result \u001b[38;5;241m=\u001b[39m \u001b[43m_VF\u001b[49m\u001b[38;5;241;43m.\u001b[39;49m\u001b[43mgru\u001b[49m\u001b[43m(\u001b[49m\u001b[38;5;28;43minput\u001b[39;49m\u001b[43m,\u001b[49m\u001b[43m \u001b[49m\u001b[43mhx\u001b[49m\u001b[43m,\u001b[49m\u001b[43m \u001b[49m\u001b[38;5;28;43mself\u001b[39;49m\u001b[38;5;241;43m.\u001b[39;49m\u001b[43m_flat_weights\u001b[49m\u001b[43m,\u001b[49m\u001b[43m \u001b[49m\u001b[38;5;28;43mself\u001b[39;49m\u001b[38;5;241;43m.\u001b[39;49m\u001b[43mbias\u001b[49m\u001b[43m,\u001b[49m\u001b[43m \u001b[49m\u001b[38;5;28;43mself\u001b[39;49m\u001b[38;5;241;43m.\u001b[39;49m\u001b[43mnum_layers\u001b[49m\u001b[43m,\u001b[49m\n\u001b[1;32m    951\u001b[0m \u001b[43m                     \u001b[49m\u001b[38;5;28;43mself\u001b[39;49m\u001b[38;5;241;43m.\u001b[39;49m\u001b[43mdropout\u001b[49m\u001b[43m,\u001b[49m\u001b[43m \u001b[49m\u001b[38;5;28;43mself\u001b[39;49m\u001b[38;5;241;43m.\u001b[39;49m\u001b[43mtraining\u001b[49m\u001b[43m,\u001b[49m\u001b[43m \u001b[49m\u001b[38;5;28;43mself\u001b[39;49m\u001b[38;5;241;43m.\u001b[39;49m\u001b[43mbidirectional\u001b[49m\u001b[43m,\u001b[49m\u001b[43m \u001b[49m\u001b[38;5;28;43mself\u001b[39;49m\u001b[38;5;241;43m.\u001b[39;49m\u001b[43mbatch_first\u001b[49m\u001b[43m)\u001b[49m\n\u001b[1;32m    952\u001b[0m \u001b[38;5;28;01melse\u001b[39;00m:\n\u001b[1;32m    953\u001b[0m     result \u001b[38;5;241m=\u001b[39m _VF\u001b[38;5;241m.\u001b[39mgru(\u001b[38;5;28minput\u001b[39m, batch_sizes, hx, \u001b[38;5;28mself\u001b[39m\u001b[38;5;241m.\u001b[39m_flat_weights, \u001b[38;5;28mself\u001b[39m\u001b[38;5;241m.\u001b[39mbias,\n\u001b[1;32m    954\u001b[0m                      \u001b[38;5;28mself\u001b[39m\u001b[38;5;241m.\u001b[39mnum_layers, \u001b[38;5;28mself\u001b[39m\u001b[38;5;241m.\u001b[39mdropout, \u001b[38;5;28mself\u001b[39m\u001b[38;5;241m.\u001b[39mtraining, \u001b[38;5;28mself\u001b[39m\u001b[38;5;241m.\u001b[39mbidirectional)\n",
      "\u001b[0;31mKeyboardInterrupt\u001b[0m: "
     ]
    }
   ],
   "source": [
    "mpp = GrangerMPP(processes, memory_dim = 4)\n",
    "l = mpp.em_step(n_steps = 400)"
   ]
  },
  {
   "cell_type": "code",
   "execution_count": 9,
   "id": "d399934a",
   "metadata": {},
   "outputs": [
    {
     "data": {
      "text/plain": [
       "array([[0.14690349, 0.33642948, 0.516667  ],\n",
       "       [0.22403221, 0.51587594, 0.26009184],\n",
       "       [0.16925192, 0.4826066 , 0.34814152]], dtype=float32)"
      ]
     },
     "execution_count": 9,
     "metadata": {},
     "output_type": "execute_result"
    }
   ],
   "source": [
    "mpp.GrangerMatrix.softmax(dim = 1).detach().cpu().numpy()"
   ]
  },
  {
   "cell_type": "code",
   "execution_count": 10,
   "id": "40dee73f",
   "metadata": {},
   "outputs": [
    {
     "data": {
      "text/plain": [
       "Parameter containing:\n",
       "tensor([[0.2496, 1.0782, 1.5072],\n",
       "        [0.6487, 1.4828, 0.7979],\n",
       "        [0.3631, 1.4109, 1.0843]], requires_grad=True)"
      ]
     },
     "execution_count": 10,
     "metadata": {},
     "output_type": "execute_result"
    }
   ],
   "source": [
    "mpp.GrangerMatrix"
   ]
  },
  {
   "cell_type": "code",
   "execution_count": 11,
   "id": "7a96b3d9",
   "metadata": {},
   "outputs": [
    {
     "data": {
      "text/plain": [
       "(tensor([0, 1, 2]), tensor([101, 121, 127]))"
      ]
     },
     "execution_count": 11,
     "metadata": {},
     "output_type": "execute_result"
    }
   ],
   "source": [
    "s = [i.argmax().item() for i in mpp.causes[0]]\n",
    "s = torch.tensor(s)\n",
    "s.unique(return_counts = True)"
   ]
  },
  {
   "cell_type": "code",
   "execution_count": 17,
   "id": "64d3c230",
   "metadata": {},
   "outputs": [],
   "source": [
    "# mpp.log_GrangerMatrix"
   ]
  },
  {
   "cell_type": "code",
   "execution_count": 13,
   "id": "0c27daef-95e3-4359-ac3e-fde179c9ad0e",
   "metadata": {},
   "outputs": [
    {
     "data": {
      "image/png": "[encoded data removed]",
      "text/plain": [
       "<Figure size 640x480 with 3 Axes>"
      ]
     },
     "metadata": {},
     "output_type": "display_data"
    }
   ],
   "source": [
    "colors = ['red', 'green', 'blue']\n",
    "for i in range(3):\n",
    "    plt.plot(l[i], color = colors[i])\n",
    "\n",
    "t = [len(l[i]) for i in range(3)]\n",
    "\n",
    "print(f'Len of losses: {t}')"
   ]
  },
  {
   "cell_type": "code",
   "execution_count": 14,
   "id": "a849d14a-fb46-4791-9b5d-74bb6a86bbfd",
   "metadata": {},
   "outputs": [
    {
     "data": {
      "image/png": "[encoded data removed]",
      "text/plain": [
       "<Figure size 640x480 with 2 Axes>"
      ]
     },
     "metadata": {},
     "output_type": "display_data"
    }
   ],
   "source": [
    "final = []\n",
    "for proc in range(3):\n",
    "    proc_size = len(processes[proc])\n",
    "    loss_size = len(l[proc])\n",
    "    temp = [ sum(l[proc][i:i + proc_size])/proc_size for i in range(0, loss_size - proc_size, proc_size)]\n",
    "    final.append(temp)\n",
    "\n",
    "colors = ['red', 'green', 'blue']\n",
    "for i in range(3):\n",
    "    plt.plot(final[i], color = colors[i])"
   ]
  },
  {
   "cell_type": "code",
   "execution_count": 63,
   "id": "c7e33ef6-ceb9-4439-ba04-d858d9f777ea",
   "metadata": {},
   "outputs": [],
   "source": [
    "fig, ax = plt.subplots(nrows = 3, sharex = True)\n",
    "\n",
    "_plot_tick_bars(X1, ax[0], color = 'red')\n",
    "_plot_tick_bars(X2, ax[1], color = 'green')\n",
    "_plot_tick_bars(X3, ax[2], color = 'blue')"
   ]
  },
  {
   "cell_type": "code",
   "execution_count": 61,
   "id": "e17d12db-0a20-4278-b974-41d1dd70549b",
   "metadata": {},
   "outputs": [
    {
     "data": {
      "text/plain": [
       "array([[0.00166924, 0.0053907 , 0.99294007],\n",
       "       [0.0013505 , 0.00827624, 0.99037325],\n",
       "       [0.00370433, 0.00761864, 0.988677  ]], dtype=float32)"
      ]
     },
     "execution_count": 61,
     "metadata": {},
     "output_type": "execute_result"
    }
   ],
   "source": [
    "fig, ax = plt.subplots(nrows=2, sharex = True)\n",
    "colors = ['red', 'green', 'blue']\n",
    "idx = 0\n",
    "proc_to_plot = processes[idx].detach().cpu().numpy()\n",
    "_plot_tick_bars(proc_to_plot, ax[0], color = colors[idx])\n",
    "_plot_tick_bars_causes(proc_to_plot, ax[1], cause = mpp.causes[idx])\n"
   ]
  },
  {
   "cell_type": "code",
   "execution_count": 34,
   "id": "2de6ed49-bef9-49bf-a906-1f60f7f46568",
   "metadata": {},
   "outputs": [],
   "source": [
    "# mpp.GrangerMatrix.detach().cpu().numpy()"
   ]
  },
  {
   "cell_type": "code",
   "execution_count": 42,
   "id": "851c5047-be73-4842-baef-130eddc2aed0",
   "metadata": {},
   "outputs": [
    {
     "data": {
      "text/plain": [
       "array([[0.44164148, 0.34938595, 0.20897254],\n",
       "       [0.43051302, 0.36175406, 0.20773299],\n",
       "       [0.3983191 , 0.37586117, 0.2258197 ]], dtype=float32)"
      ]
     },
     "execution_count": 42,
     "metadata": {},
     "output_type": "execute_result"
    }
   ],
   "source": [
    "mpp.GrangerMatrix.softmax(dim = 1).detach().cpu().numpy()"
   ]
  },
  {
   "cell_type": "code",
   "execution_count": 284,
   "id": "64d22837-16b6-484b-a8c2-3eb70491f04e",
   "metadata": {},
   "outputs": [
    {
     "data": {
      "text/plain": [
       "<matplotlib.colorbar.Colorbar at 0x7f14efb85330>"
      ]
     },
     "execution_count": 284,
     "metadata": {},
     "output_type": "execute_result"
    },
    {
     "data": {
      "image/png": "[encoded data removed]",
      "text/plain": [
       "<Figure size 640x480 with 2 Axes>"
      ]
     },
     "metadata": {},
     "output_type": "display_data"
    }
   ],
   "source": [
    "X = mpp.GrangerMatrix.detach().cpu().numpy()\n",
    "X = (X.T/X.sum(axis = 1)).T\n",
    "plt.imshow(X)\n",
    "plt.axis('off')\n",
    "plt.colorbar()"
   ]
  },
  {
   "cell_type": "code",
   "execution_count": 93,
   "id": "3561311a-3428-4d2d-a973-5f03dac5b563",
   "metadata": {},
   "outputs": [
    {
     "data": {
      "text/plain": [
       "array([[ 0.996765  , -0.00235457,  0.00471825],\n",
       "       [ 0.33289954,  0.33716395,  0.3306691 ],\n",
       "       [ 0.42307693,  0.01438018,  0.56958264]], dtype=float32)"
      ]
     },
     "execution_count": 93,
     "metadata": {},
     "output_type": "execute_result"
    }
   ],
   "source": [
    "mpp.GrangerMatrix.detach().cpu().numpy()"
   ]
  },
  {
   "cell_type": "code",
   "execution_count": 38,
   "id": "e620d8a4-1bc5-433a-8489-0465de8464d5",
   "metadata": {},
   "outputs": [
    {
     "data": {
      "text/plain": [
       "<matplotlib.colorbar.Colorbar at 0x7f33f13f1810>"
      ]
     },
     "execution_count": 38,
     "metadata": {},
     "output_type": "execute_result"
    },
    {
     "data": {
      "image/png": "[encoded data removed]",
      "text/plain": [
       "<Figure size 640x480 with 2 Axes>"
      ]
     },
     "metadata": {},
     "output_type": "display_data"
    }
   ],
   "source": [
    "s = mpp.GrangerMatrix.softmax(dim = 1).detach().cpu().numpy()\n",
    "\n",
    "plt.imshow(s)\n",
    "plt.axis('off')\n",
    "plt.colorbar()"
   ]
  }
 ],
 "metadata": {
  "kernelspec": {
   "display_name": "jpt",
   "language": "python",
   "name": "jpt"
  },
  "language_info": {
   "codemirror_mode": {
    "name": "ipython",
    "version": 3
   },
   "file_extension": ".py",
   "mimetype": "text/x-python",
   "name": "python",
   "nbconvert_exporter": "python",
   "pygments_lexer": "ipython3",
   "version": "3.10.14"
  }
 },
 "nbformat": 4,
 "nbformat_minor": 5
}
