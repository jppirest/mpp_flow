{
 "cells": [
  {
   "cell_type": "code",
   "execution_count": 1,
   "id": "88fa258d-c31e-4cff-a543-fae428fe4b93",
   "metadata": {},
   "outputs": [],
   "source": [
    "import numpy as np\n",
    "import matplotlib.pyplot as plt\n",
    "\n",
    "# Set random seed for reproducibility\n",
    "np.random.seed(42)\n",
    "\n",
    "# Parameters\n",
    "n_points = 120 # Number of time points\n",
    "time = np.arange(n_points)\n",
    "\n",
    "# Generate base binary time series using Bernoulli distribution\n",
    "X1 = np.random.binomial(1, 0.6, n_points)\n",
    "X2 = np.zeros(n_points)\n",
    "X3 = np.zeros(n_points)\n",
    "\n",
    "# Introduce causal relationships\n",
    "for t in range(1, n_points):\n",
    "    # X2 is more likely to happen if X1 happened in the previous step\n",
    "    X2[t] = np.random.binomial(1, 0.95 * X1[t-1])\n",
    "    # X3 is more likely to happen if X2 happened in the previous step\n",
    "    X3[t] = np.random.binomial(1, 0.95 * X2[t-1] )\n",
    "\n",
    "\n",
    "#print(X1)\n",
    "\n",
    "X1 = [time[i] for i in range(len(X1)) if X1[i] > 0]\n",
    "X2 = [time[i] + 0.1 for i in range(len(X2)) if X2[i] > 0]\n",
    "X3 = [time[i] + 0.2 for i in range(len(X3)) if X3[i] > 0]"
   ]
  },
  {
   "cell_type": "code",
   "execution_count": 2,
   "id": "85c66ed5-4c64-415d-b060-5bdf06d5e68d",
   "metadata": {},
   "outputs": [
    {
     "data": {
      "image/png": "[encoded data removed]",
      "text/plain": [
       "<Figure size 640x480 with 3 Axes>"
      ]
     },
     "metadata": {},
     "output_type": "display_data"
    }
   ],
   "source": [
    "def _plot_tick_bars(timestamps_i, ax, color):\n",
    "    for t in timestamps_i:\n",
    "        ax.axvline(x=t, color = color)\n",
    "    # ax.set_title(label, fontsize=20)\n",
    "    ax.get_yaxis().set_visible(False)\n",
    "def _plot_tick_bars_causes(timestamps_i, ax, cause):\n",
    "    colors = ['red', 'green', 'blue']\n",
    "    for idx, t in enumerate(timestamps_i):\n",
    "        cause_ = torch.argmax(cause[idx]).item()\n",
    "        ax.axvline(x=t, color = colors[cause_])\n",
    "    ax.get_yaxis().set_visible(False)\n",
    "\n",
    "fig, ax = plt.subplots(nrows = 3, sharex = True)\n",
    "\n",
    "_plot_tick_bars(X1, ax[0], color = 'red')\n",
    "_plot_tick_bars(X2, ax[1], color = 'green')\n",
    "_plot_tick_bars(X3, ax[2], color = 'blue')"
   ]
  },
  {
   "cell_type": "code",
   "execution_count": 3,
   "id": "b1a6a48f-ac51-4f35-b834-d83ca5145426",
   "metadata": {},
   "outputs": [],
   "source": [
    "import torch\n",
    "import torch.nn as nn\n",
    "import torch.nn.functional as F\n",
    "from torch.nn.utils.rnn import pad_sequence\n",
    "from torch.utils.data import DataLoader\n",
    "\n",
    "if torch.cuda.is_available():\n",
    "    torch.set_default_tensor_type(\"torch.cuda.FloatTensor\")\n",
    "    device = \"cuda\"\n",
    "else:\n",
    "    torch.set_default_tensor_type(\"torch.FloatTensor\")\n",
    "    device = \"cpu\"\n",
    "    "
   ]
  },
  {
   "cell_type": "code",
   "execution_count": 4,
   "id": "7749ccfc-6d6b-4376-9003-14aa3a73b1e8",
   "metadata": {},
   "outputs": [],
   "source": [
    "import torch \n",
    "\n",
    "class ProbRNN(nn.Module):\n",
    "    def __init__(self, memory_size):\n",
    "        super().__init__()\n",
    "\n",
    "        self.memory_size = memory_size\n",
    "        self.linear = nn.Sequential(nn.Linear(self.memory_size, 64), nn.LayerNorm(64), nn.Tanh())\n",
    "        self.lstm = nn.GRU(input_size = 64, hidden_size = 128, num_layers = 2, batch_first = True)\n",
    "        self.lstm_norm = nn.LayerNorm(128)\n",
    "        self.linear_mu = nn.Sequential(nn.Linear(128, self.memory_size), nn.LayerNorm(self.memory_size))\n",
    "        self.linear_std = nn.Sequential(nn.Linear(128, self.memory_size), nn.LayerNorm(self.memory_size))\n",
    "        self.linear_gmm_weights = nn.Sequential(nn.Linear(128, self.memory_size), nn.LayerNorm(self.memory_size), nn.Softmax(dim = 1))\n",
    "        \n",
    "\n",
    "    def forward(self, x):\n",
    "      debug_x = x.clone()\n",
    "      x = self.linear(x)\n",
    "      x, _ = self.lstm(x)\n",
    "      x = self.lstm_norm(x)\n",
    "      mu = self.linear_mu(x)\n",
    "      # print(mu)\n",
    "      std = self.linear_std(x)\n",
    "      std = torch.exp(std)\n",
    "      gmm_weights = self.linear_gmm_weights(x)\n",
    "      if torch.isnan(mu).any() or torch.isnan(std).any():\n",
    "          print(mu, std, debug_x)\n",
    "\n",
    "\n",
    "      mix_dist = self.build_distrib(mu, std, gmm_weights)\n",
    "\n",
    "      new_X = self.sample(mu, std)\n",
    "      log_prob = mix_dist.log_prob(new_X)\n",
    "\n",
    "    \n",
    "      return new_X, log_prob\n",
    "\n",
    "\n",
    "    def build_distrib(self, mus, stds, gmm_weights):\n",
    "      \n",
    "      \n",
    "      \n",
    "      component_dist = torch.distributions.Normal(mus.T, stds.T)\n",
    "      mix_weight = torch.distributions.Categorical(gmm_weights.T)\n",
    "      mix_dist = torch.distributions.MixtureSameFamily(mix_weight, component_dist)\n",
    "      self.mix_dist = mix_dist\n",
    "      \n",
    "\n",
    "      return mix_dist\n",
    "\n",
    "    def sample(self, mu, std):\n",
    "      size = (std.size(0),)\n",
    "\n",
    "      X =  mu + self.mix_dist.sample(size)*std\n",
    "\n",
    "      return X\n"
   ]
  },
  {
   "cell_type": "code",
   "execution_count": 5,
   "id": "f67fd288-e6e7-4a1c-8144-bd7aae098751",
   "metadata": {},
   "outputs": [
    {
     "data": {
      "text/plain": [
       "178586"
      ]
     },
     "execution_count": 5,
     "metadata": {},
     "output_type": "execute_result"
    }
   ],
   "source": [
    "rede = ProbRNN(memory_size=10)\n",
    "sum(p.numel() for p in rede.parameters())"
   ]
  },
  {
   "cell_type": "code",
   "execution_count": 6,
   "id": "8ed764e6-a3a4-409a-988c-d9d8dae769b4",
   "metadata": {},
   "outputs": [],
   "source": [
    "X1_ = torch.tensor(X1.copy(), dtype = torch.float32)\n",
    "X2_ = torch.tensor(X2.copy(), dtype = torch.float32)\n",
    "X3_ = torch.tensor(X3.copy(), dtype = torch.float32)\n",
    "processes = [X1_, X2_, X3_]"
   ]
  },
  {
   "cell_type": "code",
   "execution_count": 16,
   "id": "7b598d71-6331-4512-8a1b-24f433b46be9",
   "metadata": {},
   "outputs": [],
   "source": [
    "class GrangerMPP(nn.Module):\n",
    "\n",
    "    def __init__(self, processes, memory_dim : int = 10):\n",
    "        \n",
    "        super().__init__()\n",
    "        \n",
    "        self.processes = processes\n",
    "        self.memory_dim = memory_dim\n",
    "        self.n_processes = len(self.processes)\n",
    "        #initial_matrix = torch.empty(self.n_processes, self.n_processes)\n",
    "        #nn.init.normal_(initial_matrix, mean=0.0, std=0.1)\n",
    "\n",
    "        # Apply softmax along dim=1 to ensure each row sums to 1\n",
    "        #self.GrangerMatrix = nn.Parameter(initial_matrix)\n",
    "        self.GrangerMatrix = nn.Parameter((torch.Tensor(self.n_processes, self.n_processes)))\n",
    "        nn.init.normal_(self.GrangerMatrix, mean=0.0, std=0.5)\n",
    "        # nn.init.ones_(self.GrangerMatrix)\n",
    "        \n",
    "        self.models = nn.ModuleList([ProbRNN(self.memory_dim) for i in range(self.n_processes)])\n",
    "        self.sweep_dict = self.make_sweep_dict()\n",
    "        self.optimizers = [torch.optim.Adam(list(self.models[i].parameters()), lr=1e-4, weight_decay = 1e-5) for i in range(self.n_processes)]\n",
    "        self.g_optimizers = [torch.optim.Adam([self.GrangerMatrix], lr=1e-3) for i in range(self.n_processes)]\n",
    "        self.log_GrangerMatrix = []\n",
    "        \n",
    "    def e_step(self, i_proc, points_current_pp):\n",
    "        \n",
    "        \"\"\"\n",
    "        Return the causes for each event of the current_p\n",
    "        \n",
    "        \"\"\"\n",
    "        \n",
    "        n = len(points_current_pp)\n",
    "        rv = []\n",
    "        in_weights = nn.Softmax(dim = 0)(self.GrangerMatrix[i_proc])\n",
    "        #self.GrangerMatrix[i_proc] = in_weights\n",
    "        \n",
    "        in_ = in_weights\n",
    "        \n",
    "        for i in range(n):\n",
    "            # in_ = in_weights#nn.Tanh()(in_weights)\n",
    "            cause = F.gumbel_softmax(\n",
    "                in_,\n",
    "                tau = 1,\n",
    "                hard = False\n",
    "            )\n",
    "            rv.append(cause)\n",
    "        \n",
    "        return rv\n",
    "\n",
    "    def em_step(self, n_steps):\n",
    "        dic = {}\n",
    "        \n",
    "        for i in range(self.n_processes):\n",
    "            dic[i] = []\n",
    "        \n",
    "        for step in range(n_steps):\n",
    "            self.causes = []\n",
    "            for i_proc in range(self.n_processes):\n",
    "                rv = self.e_step(\n",
    "                    i_proc,\n",
    "                    self.processes[i_proc]\n",
    "                )\n",
    "                self.causes.append(rv)\n",
    "            \n",
    "            \n",
    "            for i_proc in range(self.n_processes):\n",
    "                \n",
    "                batch_list = self.get_batch_list(i_proc)\n",
    "                \n",
    "                dataloader = self.make_dl(batch_list = batch_list, batch_size = 2, drop_last = False)\n",
    "                self.dataloader = dataloader\n",
    "                \n",
    "                for _, (X, cause_rank) in enumerate(dataloader):\n",
    "\n",
    "                    reg_term = len(self.processes[i_proc])\n",
    "                    loss = self.m_step(i_proc, X, cause_rank) \n",
    "                    dic[i_proc].append(loss)\n",
    "                \n",
    "                if (step + 1) % 5 == 0 or step == 0:\n",
    "                    print(f'Step: {step + 1}, Model: {i_proc}, Loss: {loss}')\n",
    "                    \n",
    "            #self.log_GrangerMatrix.append(self.GrangerMatrix)\n",
    "        \n",
    "        return dic\n",
    "\n",
    "    def m_step(self, i_proc, X, cause_rank):\n",
    "\n",
    "        model = self.models[i_proc]\n",
    "        self.optimizers[i_proc].zero_grad()\n",
    "        self.g_optimizers[i_proc].zero_grad()\n",
    "        \n",
    "        z, loss = model(X)\n",
    "        loss = -1*loss.sum(axis = 1)\n",
    "        loss_rnn = (loss * cause_rank).sum() #+ mpp.GrangerMatrix.norm(p=2)\n",
    "       \n",
    "        \n",
    "        if not (torch.isnan(loss_rnn) | torch.isinf(loss_rnn)):\n",
    "\n",
    "            \n",
    "            loss_rnn.backward(retain_graph = True)\n",
    "            \n",
    "            self.optimizers[i_proc].step()\n",
    "            self.g_optimizers[i_proc].step()\n",
    "\n",
    "            self.log_GrangerMatrix.append(self.GrangerMatrix.clone().detach())\n",
    "            \n",
    "        \n",
    "        else:\n",
    "            print(f'NaN found in epoch: {step}')    \n",
    "\n",
    "        return loss_rnn.item()\n",
    "\n",
    "    def make_sweep_dict(self):\n",
    "        \n",
    "        dic = {}\n",
    "        for i in range(self.n_processes):\n",
    "            target = processes[i]\n",
    "            dic[i] = {}\n",
    "            for j in range(self.n_processes):\n",
    "                cause = self.processes[j]\n",
    "                dic[i][j] = self.sweep(target, cause)\n",
    "        return dic\n",
    "\n",
    "\n",
    "    def sweep(self, pa, pc):\n",
    "        events = []\n",
    "        pa_indices = []  \n",
    "    \n",
    "        \n",
    "        for i, ia in enumerate(pa):\n",
    "            events.append((ia, 'a'))\n",
    "            pa_indices.append(i)  \n",
    "    \n",
    "        for ic in pc:\n",
    "            events.append((ic, 'c'))\n",
    "    \n",
    "        lim = self.memory_dim\n",
    "    \n",
    "        events.sort()\n",
    "        mem = []\n",
    "        ret = []\n",
    "        indices = []  # List to store indices relative to pa\n",
    "    \n",
    "        pa_idx_counter = 0  # Counter to track which index in pa we are at\n",
    "    \n",
    "        for t, e in events:\n",
    "            if e == 'c':\n",
    "                if len(mem) >= lim:\n",
    "                    mem.pop(0)\n",
    "                mem.append(t)\n",
    "    \n",
    "            if e == 'a':\n",
    "                # Memory is not full yet\n",
    "                if len(mem) < lim:\n",
    "                    pa_idx_counter += 1  # Move to the next pa index\n",
    "                    continue\n",
    "                # Retrieve deltas from this time to the cause times\n",
    "                pp = [t - tc for tc in mem]\n",
    "                ret.append(pp)\n",
    "                indices.append(pa_indices[pa_idx_counter])  # Save index relative to pa\n",
    "                pa_idx_counter += 1  # Move to the next pa index\n",
    "    \n",
    "        return torch.tensor(ret, dtype=torch.float), indices\n",
    "\n",
    "    def get_batch_list(self, i_proc):\n",
    "    \n",
    "      batch_list = []\n",
    "      dic = self.sweep_dict\n",
    "      causes = self.causes[i_proc]\n",
    "      \n",
    "      for idx in range(len(causes)):\n",
    "          n_causes = causes[idx]\n",
    "        \n",
    "          for idx_j, cause_rank in enumerate(n_causes):\n",
    "            \n",
    "            if idx < dic[i_proc][idx_j][1][0]: ## cannot cause target process\n",
    "                new_causes = n_causes.detach().clone()\n",
    "                new_causes[idx_j] = 0.0\n",
    "                new_causes[i_proc] = 1.0\n",
    "                self.causes[i_proc][idx] = new_causes\n",
    "                try:\n",
    "                    where_in_tensor = dic[i_proc][i_proc][1].index(idx)\n",
    "                    app = (dic[i_proc][i_proc][0][where_in_tensor], cause_rank.clone())\n",
    "                    batch_list.append(app)\n",
    "                except:\n",
    "                    pass\n",
    "          \n",
    "            else:\n",
    "              where_in_tensor = dic[i_proc][idx_j][1].index(idx)\n",
    "              app = (dic[i_proc][idx_j][0][where_in_tensor], cause_rank.clone())\n",
    "              batch_list.append(app)\n",
    "    \n",
    "    \n",
    "      return batch_list\n",
    "    \n",
    "    def make_dl(self, batch_list : list, batch_size : int, drop_last : bool):\n",
    "    \n",
    "      dataloader = DataLoader(batch_list, batch_size = batch_size, drop_last = drop_last, shuffle = False)\n",
    "    \n",
    "      return dataloader"
   ]
  },
  {
   "cell_type": "code",
   "execution_count": 17,
   "id": "d8352769-ccac-4f6f-b833-bcd4d8756f58",
   "metadata": {
    "scrolled": true
   },
   "outputs": [
    {
     "name": "stdout",
     "output_type": "stream",
     "text": [
      "Step: 1, Model: 0, Loss: 10.724634170532227\n",
      "Step: 1, Model: 1, Loss: 2.6284098625183105\n",
      "Step: 1, Model: 2, Loss: 1.781419277191162\n",
      "Step: 5, Model: 0, Loss: 5.545589447021484\n",
      "Step: 5, Model: 1, Loss: 10.6004638671875\n",
      "Step: 5, Model: 2, Loss: 13.025121688842773\n",
      "Step: 10, Model: 0, Loss: 14.874557495117188\n",
      "Step: 10, Model: 1, Loss: 12.36635971069336\n",
      "Step: 10, Model: 2, Loss: 11.960409164428711\n",
      "Step: 15, Model: 0, Loss: 10.254169464111328\n",
      "Step: 15, Model: 1, Loss: 16.717300415039062\n",
      "Step: 15, Model: 2, Loss: 3.885261058807373\n",
      "Step: 20, Model: 0, Loss: 1.897474765777588\n",
      "Step: 20, Model: 1, Loss: 6.522699356079102\n",
      "Step: 20, Model: 2, Loss: 6.341768264770508\n",
      "Step: 25, Model: 0, Loss: 15.050588607788086\n",
      "Step: 25, Model: 1, Loss: 4.9004340171813965\n",
      "Step: 25, Model: 2, Loss: 1.444830060005188\n",
      "Step: 30, Model: 0, Loss: 15.092449188232422\n",
      "Step: 30, Model: 1, Loss: 4.832149028778076\n",
      "Step: 30, Model: 2, Loss: 3.0172224044799805\n",
      "Step: 35, Model: 0, Loss: 8.6779203414917\n",
      "Step: 35, Model: 1, Loss: 6.497016429901123\n",
      "Step: 35, Model: 2, Loss: 4.981853008270264\n",
      "Step: 40, Model: 0, Loss: 8.511937141418457\n",
      "Step: 40, Model: 1, Loss: 5.3924360275268555\n",
      "Step: 40, Model: 2, Loss: 4.86467170715332\n",
      "Step: 45, Model: 0, Loss: 3.7186598777770996\n",
      "Step: 45, Model: 1, Loss: 2.335066795349121\n",
      "Step: 45, Model: 2, Loss: 3.170614004135132\n",
      "Step: 50, Model: 0, Loss: 0.09601075202226639\n",
      "Step: 50, Model: 1, Loss: 4.236574649810791\n",
      "Step: 50, Model: 2, Loss: 1.6987659931182861\n",
      "Step: 55, Model: 0, Loss: 9.57361125946045\n",
      "Step: 55, Model: 1, Loss: 1.897051215171814\n",
      "Step: 55, Model: 2, Loss: 0.7960742115974426\n",
      "Step: 60, Model: 0, Loss: 4.075801372528076\n",
      "Step: 60, Model: 1, Loss: 3.0887279510498047\n",
      "Step: 60, Model: 2, Loss: 1.1976609230041504\n",
      "Step: 65, Model: 0, Loss: 5.333840370178223\n",
      "Step: 65, Model: 1, Loss: 0.20673328638076782\n",
      "Step: 65, Model: 2, Loss: 3.967916965484619\n",
      "Step: 70, Model: 0, Loss: 1.526111125946045\n",
      "Step: 70, Model: 1, Loss: 3.0330538749694824\n",
      "Step: 70, Model: 2, Loss: 3.308215856552124\n",
      "Step: 75, Model: 0, Loss: 1.9975061416625977\n",
      "Step: 75, Model: 1, Loss: 2.9284656047821045\n",
      "Step: 75, Model: 2, Loss: 0.5641050338745117\n",
      "Step: 80, Model: 0, Loss: -1.530889630317688\n",
      "Step: 80, Model: 1, Loss: 0.10904943197965622\n",
      "Step: 80, Model: 2, Loss: 0.08507053554058075\n",
      "Step: 85, Model: 0, Loss: 1.7041603326797485\n",
      "Step: 85, Model: 1, Loss: 1.0198103189468384\n",
      "Step: 85, Model: 2, Loss: 0.13088755309581757\n",
      "Step: 90, Model: 0, Loss: 0.4700697660446167\n",
      "Step: 90, Model: 1, Loss: 0.050296783447265625\n",
      "Step: 90, Model: 2, Loss: -0.8883845210075378\n",
      "Step: 95, Model: 0, Loss: 3.4267802238464355\n",
      "Step: 95, Model: 1, Loss: 4.392797946929932\n",
      "Step: 95, Model: 2, Loss: -1.2438379526138306\n",
      "Step: 100, Model: 0, Loss: -0.503408670425415\n",
      "Step: 100, Model: 1, Loss: -0.6847822666168213\n",
      "Step: 100, Model: 2, Loss: -0.6776313781738281\n",
      "Step: 105, Model: 0, Loss: 4.563045978546143\n",
      "Step: 105, Model: 1, Loss: 0.23196262121200562\n",
      "Step: 105, Model: 2, Loss: -1.366021752357483\n",
      "Step: 110, Model: 0, Loss: -0.8749958276748657\n",
      "Step: 110, Model: 1, Loss: 0.04495733976364136\n",
      "Step: 110, Model: 2, Loss: -2.1457550525665283\n",
      "Step: 115, Model: 0, Loss: -0.7623746991157532\n",
      "Step: 115, Model: 1, Loss: 0.07968664169311523\n",
      "Step: 115, Model: 2, Loss: -0.2807147204875946\n",
      "Step: 120, Model: 0, Loss: 0.18335872888565063\n",
      "Step: 120, Model: 1, Loss: -1.1187591552734375\n",
      "Step: 120, Model: 2, Loss: -1.9162520170211792\n",
      "Step: 125, Model: 0, Loss: -1.6186373233795166\n",
      "Step: 125, Model: 1, Loss: -0.5173941254615784\n",
      "Step: 125, Model: 2, Loss: -0.16185607016086578\n",
      "Step: 130, Model: 0, Loss: -0.9460180997848511\n",
      "Step: 130, Model: 1, Loss: -1.644785761833191\n",
      "Step: 130, Model: 2, Loss: -0.6530881524085999\n",
      "Step: 135, Model: 0, Loss: -1.4653359651565552\n",
      "Step: 135, Model: 1, Loss: -1.1761306524276733\n",
      "Step: 135, Model: 2, Loss: -2.315117120742798\n",
      "Step: 140, Model: 0, Loss: -1.9367889165878296\n",
      "Step: 140, Model: 1, Loss: -0.8917891979217529\n",
      "Step: 140, Model: 2, Loss: -2.5716936588287354\n",
      "Step: 145, Model: 0, Loss: -2.299504280090332\n",
      "Step: 145, Model: 1, Loss: -1.9068498611450195\n",
      "Step: 145, Model: 2, Loss: -3.225037097930908\n",
      "Step: 150, Model: 0, Loss: -0.5625253319740295\n",
      "Step: 150, Model: 1, Loss: -1.402482271194458\n",
      "Step: 150, Model: 2, Loss: -3.3541719913482666\n",
      "Step: 155, Model: 0, Loss: -1.676807165145874\n",
      "Step: 155, Model: 1, Loss: -1.3497391939163208\n",
      "Step: 155, Model: 2, Loss: -2.289400339126587\n",
      "Step: 160, Model: 0, Loss: -2.9735352993011475\n",
      "Step: 160, Model: 1, Loss: -1.0603721141815186\n",
      "Step: 160, Model: 2, Loss: -2.6655356884002686\n",
      "Step: 165, Model: 0, Loss: -2.3243820667266846\n",
      "Step: 165, Model: 1, Loss: -3.4106099605560303\n",
      "Step: 165, Model: 2, Loss: -1.6208271980285645\n",
      "Step: 170, Model: 0, Loss: -2.731254816055298\n",
      "Step: 170, Model: 1, Loss: -3.2376105785369873\n",
      "Step: 170, Model: 2, Loss: -0.5145499110221863\n",
      "Step: 175, Model: 0, Loss: -3.70170259475708\n",
      "Step: 175, Model: 1, Loss: -1.1560109853744507\n",
      "Step: 175, Model: 2, Loss: -1.4296149015426636\n",
      "Step: 180, Model: 0, Loss: -5.452582836151123\n",
      "Step: 180, Model: 1, Loss: -4.6008687019348145\n",
      "Step: 180, Model: 2, Loss: -2.8886847496032715\n",
      "Step: 185, Model: 0, Loss: -3.109959125518799\n",
      "Step: 185, Model: 1, Loss: -1.7761335372924805\n",
      "Step: 185, Model: 2, Loss: -5.863476276397705\n",
      "Step: 190, Model: 0, Loss: -3.9740374088287354\n",
      "Step: 190, Model: 1, Loss: -4.874341011047363\n",
      "Step: 190, Model: 2, Loss: -5.160961151123047\n",
      "Step: 195, Model: 0, Loss: -3.443948268890381\n",
      "Step: 195, Model: 1, Loss: -4.244017124176025\n",
      "Step: 195, Model: 2, Loss: -3.981485366821289\n",
      "Step: 200, Model: 0, Loss: -3.9591517448425293\n",
      "Step: 200, Model: 1, Loss: -3.7467360496520996\n",
      "Step: 200, Model: 2, Loss: -5.282311916351318\n"
     ]
    }
   ],
   "source": [
    "mpp = GrangerMPP(processes, memory_dim = 4)\n",
    "l = mpp.em_step(n_steps = 200)"
   ]
  },
  {
   "cell_type": "code",
   "execution_count": 9,
   "id": "3a2577d8-6d7a-4625-b5f6-34df18fb833d",
   "metadata": {},
   "outputs": [
    {
     "data": {
      "text/plain": [
       "(tensor(0.0409, grad_fn=<MeanBackward0>),\n",
       " tensor(0.2929, grad_fn=<StdBackward0>))"
      ]
     },
     "execution_count": 9,
     "metadata": {},
     "output_type": "execute_result"
    }
   ],
   "source": [
    "mpp.models[0].linear[0].weight.mean(), mpp.models[0].linear[0].weight.std()"
   ]
  },
  {
   "cell_type": "code",
   "execution_count": 10,
   "id": "10cab3d5-7be1-45f3-9aae-f2138a837959",
   "metadata": {},
   "outputs": [
    {
     "data": {
      "text/plain": [
       "(tensor(0.0024, grad_fn=<MeanBackward0>),\n",
       " tensor(0.2929, grad_fn=<StdBackward0>))"
      ]
     },
     "execution_count": 10,
     "metadata": {},
     "output_type": "execute_result"
    }
   ],
   "source": [
    "mpp.models[0].linear_mu[0].weight.mean(), mpp.models[0].linear[0].weight.std()"
   ]
  },
  {
   "cell_type": "code",
   "execution_count": 30,
   "id": "9c6c7b14",
   "metadata": {},
   "outputs": [],
   "source": [
    "# (mpp.causes[0])"
   ]
  },
  {
   "cell_type": "code",
   "execution_count": 11,
   "id": "81fac5a7-8fec-42c7-92ab-6fb283f6e40f",
   "metadata": {},
   "outputs": [
    {
     "data": {
      "text/plain": [
       "(tensor(0.0008, grad_fn=<MeanBackward0>),\n",
       " tensor(0.2929, grad_fn=<StdBackward0>))"
      ]
     },
     "execution_count": 11,
     "metadata": {},
     "output_type": "execute_result"
    }
   ],
   "source": [
    "mpp.models[0].linear_std[0].weight.mean(), mpp.models[0].linear[0].weight.std()"
   ]
  },
  {
   "cell_type": "code",
   "execution_count": 20,
   "id": "0ee71128-22ab-4f8e-aeff-9a58829d207a",
   "metadata": {},
   "outputs": [
    {
     "data": {
      "text/plain": [
       "tensor([[0.2378, 0.2467, 0.5154],\n",
       "        [0.5283, 0.1945, 0.2772],\n",
       "        [0.2221, 0.4378, 0.3402]], grad_fn=<SoftmaxBackward0>)"
      ]
     },
     "execution_count": 20,
     "metadata": {},
     "output_type": "execute_result"
    }
   ],
   "source": [
    "mpp.GrangerMatrix.softmax(dim=1)"
   ]
  },
  {
   "cell_type": "code",
   "execution_count": 36,
   "id": "d399934a",
   "metadata": {},
   "outputs": [
    {
     "data": {
      "text/plain": [
       "list"
      ]
     },
     "execution_count": 36,
     "metadata": {},
     "output_type": "execute_result"
    }
   ],
   "source": [
    "type(mpp.causes[0])"
   ]
  },
  {
   "cell_type": "code",
   "execution_count": 37,
   "id": "e2763af4-facb-4060-8dd6-03250041449e",
   "metadata": {},
   "outputs": [
    {
     "ename": "ValueError",
     "evalue": "only one element tensors can be converted to Python scalars",
     "output_type": "error",
     "traceback": [
      "\u001b[0;31m---------------------------------------------------------------------------\u001b[0m",
      "\u001b[0;31mValueError\u001b[0m                                Traceback (most recent call last)",
      "Cell \u001b[0;32mIn[37], line 1\u001b[0m\n\u001b[0;32m----> 1\u001b[0m \u001b[43mtorch\u001b[49m\u001b[38;5;241;43m.\u001b[39;49m\u001b[43mTensor\u001b[49m\u001b[43m(\u001b[49m\u001b[43mmpp\u001b[49m\u001b[38;5;241;43m.\u001b[39;49m\u001b[43mcauses\u001b[49m\u001b[43m[\u001b[49m\u001b[38;5;241;43m0\u001b[39;49m\u001b[43m]\u001b[49m\u001b[43m)\u001b[49m\n",
      "\u001b[0;31mValueError\u001b[0m: only one element tensors can be converted to Python scalars"
     ]
    }
   ],
   "source": [
    "torch.Tensor(mpp.causes[0])"
   ]
  },
  {
   "cell_type": "code",
   "execution_count": 38,
   "id": "0c27daef-95e3-4359-ac3e-fde179c9ad0e",
   "metadata": {},
   "outputs": [
    {
     "name": "stdout",
     "output_type": "stream",
     "text": [
      "Len of losses: [20800, 19600, 19400]\n"
     ]
    },
    {
     "data": {
      "image/png": "[encoded data removed]",
      "text/plain": [
       "<Figure size 640x480 with 1 Axes>"
      ]
     },
     "metadata": {},
     "output_type": "display_data"
    }
   ],
   "source": [
    "colors = ['red', 'green', 'blue']\n",
    "for i in range(3):\n",
    "    plt.plot(l[i], color = colors[i])\n",
    "\n",
    "t = [len(l[i]) for i in range(3)]\n",
    "\n",
    "print(f'Len of losses: {t}')"
   ]
  },
  {
   "cell_type": "code",
   "execution_count": 39,
   "id": "a849d14a-fb46-4791-9b5d-74bb6a86bbfd",
   "metadata": {},
   "outputs": [
    {
     "data": {
      "image/png": "[encoded data removed]",
      "text/plain": [
       "<Figure size 640x480 with 1 Axes>"
      ]
     },
     "metadata": {},
     "output_type": "display_data"
    }
   ],
   "source": [
    "final = []\n",
    "for proc in range(3):\n",
    "    proc_size = len(processes[proc])\n",
    "    loss_size = len(l[proc])\n",
    "    temp = [ sum(l[proc][i:i + proc_size])/proc_size for i in range(0, loss_size - proc_size, proc_size)]\n",
    "    final.append(temp)\n",
    "\n",
    "colors = ['red', 'green', 'blue']\n",
    "for i in range(3):\n",
    "    plt.plot(final[i], color = colors[i])"
   ]
  },
  {
   "cell_type": "code",
   "execution_count": 40,
   "id": "c22ac9ab-25c3-42e3-a4cd-cc2df119f63c",
   "metadata": {},
   "outputs": [],
   "source": [
    "colors = ['red', 'green', 'blue']\n",
    "for i in range(3):\n",
    "    plt.plot(final[i], color = colors[i])\n",
    " "
   ]
  },
  {
   "cell_type": "code",
   "execution_count": 357,
   "id": "c39f0a98-3532-49ca-968a-5a6ce9606519",
   "metadata": {},
   "outputs": [
    {
     "name": "stdout",
     "output_type": "stream",
     "text": [
      "# conda environments:\n",
      "#\n",
      "jpt                   *  /apps/conda/joao.pires/.envs/jpt\n",
      "base                     /opt/anaconda3\n",
      "\n"
     ]
    }
   ],
   "source": [
    "!conda env list"
   ]
  },
  {
   "cell_type": "code",
   "execution_count": null,
   "id": "da2cb083-c673-4a7b-9405-f096b67a5604",
   "metadata": {},
   "outputs": [],
   "source": []
  },
  {
   "cell_type": "code",
   "execution_count": 279,
   "id": "c7e33ef6-ceb9-4439-ba04-d858d9f777ea",
   "metadata": {},
   "outputs": [
    {
     "data": {
      "image/png": "[encoded data removed]",
      "text/plain": [
       "<Figure size 640x480 with 3 Axes>"
      ]
     },
     "metadata": {},
     "output_type": "display_data"
    }
   ],
   "source": [
    "fig, ax = plt.subplots(nrows = 3, sharex = True)\n",
    "\n",
    "_plot_tick_bars(X1, ax[0], color = 'red')\n",
    "_plot_tick_bars(X2, ax[1], color = 'green')\n",
    "_plot_tick_bars(X3, ax[2], color = 'blue')"
   ]
  },
  {
   "cell_type": "code",
   "execution_count": 282,
   "id": "e17d12db-0a20-4278-b974-41d1dd70549b",
   "metadata": {},
   "outputs": [
    {
     "data": {
      "image/png": "[encoded data removed]",
      "text/plain": [
       "<Figure size 640x480 with 2 Axes>"
      ]
     },
     "metadata": {},
     "output_type": "display_data"
    }
   ],
   "source": [
    "fig, ax = plt.subplots(nrows=2, sharex = True)\n",
    "colors = ['red', 'green', 'blue']\n",
    "idx = 0\n",
    "proc_to_plot = processes[idx].detach().cpu().numpy()\n",
    "_plot_tick_bars(proc_to_plot, ax[0], color = colors[idx])\n",
    "_plot_tick_bars_causes(proc_to_plot, ax[1], cause = mpp.causes[idx])\n"
   ]
  },
  {
   "cell_type": "code",
   "execution_count": 95,
   "id": "2de6ed49-bef9-49bf-a906-1f60f7f46568",
   "metadata": {},
   "outputs": [],
   "source": [
    "# mpp.log_GrangerMatrix"
   ]
  },
  {
   "cell_type": "code",
   "execution_count": 96,
   "id": "851c5047-be73-4842-baef-130eddc2aed0",
   "metadata": {},
   "outputs": [
    {
     "data": {
      "text/plain": [
       "array([[0.5750364 , 0.21173039, 0.21323325],\n",
       "       [0.3331062 , 0.33452973, 0.33236405],\n",
       "       [0.3543213 , 0.23545204, 0.41022664]], dtype=float32)"
      ]
     },
     "execution_count": 96,
     "metadata": {},
     "output_type": "execute_result"
    }
   ],
   "source": [
    "mpp.GrangerMatrix.softmax(dim = 1).detach().cpu().numpy()"
   ]
  },
  {
   "cell_type": "code",
   "execution_count": 284,
   "id": "64d22837-16b6-484b-a8c2-3eb70491f04e",
   "metadata": {},
   "outputs": [
    {
     "data": {
      "text/plain": [
       "<matplotlib.colorbar.Colorbar at 0x7f14efb85330>"
      ]
     },
     "execution_count": 284,
     "metadata": {},
     "output_type": "execute_result"
    },
    {
     "data": {
      "image/png": "[encoded data removed]",
      "text/plain": [
       "<Figure size 640x480 with 2 Axes>"
      ]
     },
     "metadata": {},
     "output_type": "display_data"
    }
   ],
   "source": [
    "X = mpp.GrangerMatrix.detach().cpu().numpy()\n",
    "X = (X.T/X.sum(axis = 1)).T\n",
    "plt.imshow(X)\n",
    "plt.axis('off')\n",
    "plt.colorbar()"
   ]
  },
  {
   "cell_type": "code",
   "execution_count": 93,
   "id": "3561311a-3428-4d2d-a973-5f03dac5b563",
   "metadata": {},
   "outputs": [
    {
     "data": {
      "text/plain": [
       "array([[ 0.996765  , -0.00235457,  0.00471825],\n",
       "       [ 0.33289954,  0.33716395,  0.3306691 ],\n",
       "       [ 0.42307693,  0.01438018,  0.56958264]], dtype=float32)"
      ]
     },
     "execution_count": 93,
     "metadata": {},
     "output_type": "execute_result"
    }
   ],
   "source": [
    "mpp.GrangerMatrix.detach().cpu().numpy()"
   ]
  },
  {
   "cell_type": "code",
   "execution_count": 173,
   "id": "e620d8a4-1bc5-433a-8489-0465de8464d5",
   "metadata": {},
   "outputs": [
    {
     "data": {
      "text/plain": [
       "<matplotlib.colorbar.Colorbar at 0x7f1593ad58d0>"
      ]
     },
     "execution_count": 173,
     "metadata": {},
     "output_type": "execute_result"
    },
    {
     "data": {
      "image/png": "[encoded data removed]",
      "text/plain": [
       "<Figure size 640x480 with 2 Axes>"
      ]
     },
     "metadata": {},
     "output_type": "display_data"
    }
   ],
   "source": [
    "s = mpp.GrangerMatrix.softmax(dim = 1).detach().cpu().numpy()\n",
    "\n",
    "plt.imshow(s)\n",
    "plt.axis('off')\n",
    "plt.colorbar()"
   ]
  },
  {
   "cell_type": "code",
   "execution_count": 134,
   "id": "0641acdd-e0a4-4bf9-9144-5c4bdac6af87",
   "metadata": {},
   "outputs": [
    {
     "data": {
      "text/plain": [
       "(tensor([0, 1, 2]), tensor([50, 52, 51]))"
      ]
     },
     "execution_count": 134,
     "metadata": {},
     "output_type": "execute_result"
    }
   ],
   "source": [
    "torch.unique(torch.tensor(mpp.causes[idx]), return_counts = True)"
   ]
  },
  {
   "cell_type": "code",
   "execution_count": null,
   "id": "d0cba29f-d967-4871-86af-5d71ff155d57",
   "metadata": {},
   "outputs": [],
   "source": []
  }
 ],
 "metadata": {
  "kernelspec": {
   "display_name": "jpt",
   "language": "python",
   "name": "jpt"
  },
  "language_info": {
   "codemirror_mode": {
    "name": "ipython",
    "version": 3
   },
   "file_extension": ".py",
   "mimetype": "text/x-python",
   "name": "python",
   "nbconvert_exporter": "python",
   "pygments_lexer": "ipython3",
   "version": "3.10.14"
  }
 },
 "nbformat": 4,
 "nbformat_minor": 5
}
