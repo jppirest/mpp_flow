{
 "cells": [
  {
   "cell_type": "code",
   "execution_count": 1,
   "metadata": {},
   "outputs": [],
   "source": [
    "import numpy as np\n",
    "import matplotlib.pyplot as plt\n",
    "\n",
    "\n",
    "np.random.seed(42)\n",
    "\n",
    "n_points = 600\n",
    "time = np.arange(n_points)\n",
    "\n",
    "\n",
    "X1 = np.random.binomial(1, 0.6, n_points)\n",
    "X2 = np.zeros(n_points)\n",
    "X3 = np.zeros(n_points)\n",
    "\n",
    "\n",
    "for t in range(1, n_points):\n",
    "    # X2 is more likely to happen if X1 happened in the previous step\n",
    "    X2[t] = np.random.binomial(1, 0.5 * X1[t-1])\n",
    "    # X3 is more likely to happen if X2 happened in the previous step\n",
    "    X3[t] = np.random.binomial(1, 0.7 * X2[t-1] )\n",
    "\n",
    "\n",
    "\n",
    "X1 = [time[i] for i in range(len(X1)) if X1[i] > 0]\n",
    "X2 = [time[i] + 0.1 for i in range(len(X2)) if X2[i] > 0]\n",
    "X3 = [time[i] + 0.2 for i in range(len(X3)) if X3[i] > 0]"
   ]
  },
  {
   "cell_type": "code",
   "execution_count": 2,
   "metadata": {},
   "outputs": [
    {
     "data": {
      "image/png": "[encoded data removed]",
      "text/plain": [
       "<Figure size 640x480 with 3 Axes>"
      ]
     },
     "metadata": {},
     "output_type": "display_data"
    }
   ],
   "source": [
    "def _plot_tick_bars(timestamps_i, ax, color):\n",
    "    for t in timestamps_i:\n",
    "        ax.axvline(x=t, color = color)\n",
    "    # ax.set_title(label, fontsize=20)\n",
    "    ax.get_yaxis().set_visible(False)\n",
    "def _plot_tick_bars_causes(timestamps_i, ax, cause):\n",
    "    colors = ['red', 'green', 'blue']\n",
    "    for idx, t in enumerate(timestamps_i):\n",
    "        cause_ = torch.argmax(cause[idx]).item()\n",
    "        ax.axvline(x=t, color = colors[cause_])\n",
    "    ax.get_yaxis().set_visible(False)\n",
    "\n",
    "fig, ax = plt.subplots(nrows = 3, sharex = True)\n",
    "\n",
    "_plot_tick_bars(X1, ax[0], color = 'red')\n",
    "_plot_tick_bars(X2, ax[1], color = 'green')\n",
    "_plot_tick_bars(X3, ax[2], color = 'blue')"
   ]
  },
  {
   "cell_type": "code",
   "execution_count": 3,
   "metadata": {},
   "outputs": [],
   "source": [
    "import torch\n",
    "import torch.nn as nn\n",
    "import torch.nn.functional as F\n",
    "# from torch.nn.utils.rnn import pad_sequence\n",
    "from torch.utils.data import DataLoader\n",
    "\n",
    "if torch.cuda.is_available():\n",
    "    torch.set_default_tensor_type(\"torch.cuda.FloatTensor\")\n",
    "    device = \"cuda\"\n",
    "else:\n",
    "    torch.set_default_tensor_type(\"torch.FloatTensor\")\n",
    "    device = \"cpu\"\n"
   ]
  },
  {
   "cell_type": "code",
   "execution_count": 467,
   "metadata": {},
   "outputs": [],
   "source": [
    "class CustomNetRNN(nn.Module):\n",
    "    \n",
    "    def __init__(self, num_features, hidden_dim, memory_dim : int = -1):\n",
    "        super().__init__()\n",
    "        \n",
    "\n",
    "        self.embd = nn.Sequential(\n",
    "        nn.Linear(memory_dim, hidden_dim),\n",
    "        nn.Tanh())\n",
    "\n",
    "        self.rnn = nn.LSTM(input_size = hidden_dim, hidden_size = 2*hidden_dim, num_layers = 2, batch_first = True)\n",
    "        self.output = nn.Linear(2*hidden_dim, 2*memory_dim)\n",
    "        # self.final = nn.Linear(hidden_dim, 2*num_features)\n",
    "        \n",
    "    def forward(self, x):\n",
    "        \n",
    "        x = x.permute(0,2,1) # B, F, L (10, 4, 1) -> (10, 1, 4)\n",
    "        x = self.embd(x)\n",
    "        # x = x.permute(0,2,1) # B, L , F\n",
    "        \n",
    "        x, _ = self.rnn(x) # (10, 1, 128)\n",
    "        \n",
    "        x = self.output(x)\n",
    "        \n",
    "        x = x.permute(0, 2, 1)\n",
    "        \n",
    "        return x"
   ]
  },
  {
   "cell_type": "code",
   "execution_count": 468,
   "metadata": {},
   "outputs": [
    {
     "data": {
      "text/plain": [
       "torch.Size([15, 8, 1])"
      ]
     },
     "execution_count": 468,
     "metadata": {},
     "output_type": "execute_result"
    }
   ],
   "source": [
    "X = torch.rand(size = (15,4,1))\n",
    "model = CustomNetRNN(num_features=1, hidden_dim=64, memory_dim=4)\n",
    "\n",
    "model(X).shape"
   ]
  },
  {
   "cell_type": "code",
   "execution_count": 469,
   "metadata": {},
   "outputs": [],
   "source": [
    "from torch.distributions import Normal \n",
    "\n",
    "\n",
    "class AffineCouplingLayer(nn.Module):\n",
    "    def __init__(self, num_features, hidden_dim, memory_dim = 4):\n",
    "        super(AffineCouplingLayer, self).__init__()\n",
    "        \n",
    "        self.memory_dim = memory_dim\n",
    "        self.net = CustomNetRNN(num_features, hidden_dim, memory_dim)\n",
    "        \n",
    "    def forward(self, x):\n",
    "        mask = torch.zeros(size = (1, self.memory_dim, 1))\n",
    "        mask[:, :self.memory_dim//2, :] = 1\n",
    "        x1 = x*mask\n",
    "        # x2 = x*(1-mask)\n",
    "        params = self.net(x1)\n",
    "        shift, log_scale = params.chunk(2, dim=1)\n",
    "        shift = shift*(1-mask)\n",
    "        log_scale = log_scale*(1-mask)\n",
    "        # z2 = (x2 - shift) * torch.exp(-log_scale)\n",
    "        z = (x + shift)*torch.exp(log_scale) #x1 + z2    #torch.cat([x1, z2], dim=1)\n",
    "        log_det_jacobian = log_scale.sum(dim=(1,))\n",
    "        \n",
    "        return z, log_det_jacobian\n",
    "\n",
    "    def inverse(self, z):\n",
    "        z1, z2 = z.chunk(2, dim=1)\n",
    "        params = self.net(z1)\n",
    "        shift, log_scale = params.chunk(2, dim=-1)\n",
    "        x2 = z2 * torch.exp(log_scale) + shift\n",
    "        x = torch.cat([z1, x2], dim=-1)\n",
    "        \n",
    "        return x\n",
    "\n",
    "\n",
    "\n",
    "class InvConv1D(nn.Module):\n",
    "    def __init__(self, num_features):\n",
    "        super().__init__()\n",
    "        # Initialize an orthogonal matrix for 1x1 convolution in 1D\n",
    "        w_init, _ = torch.linalg.qr(torch.randn(num_features, num_features))\n",
    "        #w_init = torch.tensor(w_init)\n",
    "\n",
    "        self.register_buffer('w', w_init)\n",
    "        self.w_inverse = None\n",
    "\n",
    "    def forward(self, x):\n",
    "        # x is of shape (batch_size, num_features)\n",
    "        # Apply the learned 1x1 convolution (linear transformation)\n",
    "        z = self.w @ x   # Matrix multiplication for 1D\n",
    "\n",
    "        # Compute log determinant of the Jacobian for the flow\n",
    "        log_det_jacobian = torch.slogdet(self.w)[1] * x.size(1)\n",
    "        \n",
    "        return z, log_det_jacobian\n",
    "\n",
    "    def inverse(self, z):\n",
    "        if self.w_inverse is None:\n",
    "            self.w_inverse = torch.inverse(self.w)\n",
    "        x = self.w_inverse @ z\n",
    "        \n",
    "        return x\n",
    "\n",
    "\n",
    "\n",
    "class NFBlock(nn.Module):\n",
    "    def __init__(self, num_features, hidden_dim, memory_dim):\n",
    "        super().__init__()\n",
    "        self.invertible_conv = InvConv1D(memory_dim)\n",
    "        self.affine_coupling = AffineCouplingLayer(num_features = num_features, hidden_dim = hidden_dim, memory_dim = memory_dim)\n",
    "\n",
    "    def forward(self, x):\n",
    "        z, log_det_jacobian_conv = self.invertible_conv(x)\n",
    "        \n",
    "        z, log_det_jacobian_affine = self.affine_coupling(z)\n",
    "        \n",
    "        # print(log_det_jacobian_conv, log_det_jacobian_affine)\n",
    "        \n",
    "        log_det_jacobian = log_det_jacobian_conv + log_det_jacobian_affine\n",
    "        \n",
    "        return z,log_det_jacobian\n",
    "\n",
    "    def inverse(self, z):\n",
    "        x = self.affine_coupling.inverse(z)\n",
    "        x = self.invertible_conv.inverse(x)\n",
    "        \n",
    "        return x\n",
    "\n",
    "\n",
    "\n",
    "class NormalizingFlow(nn.Module):\n",
    "    def __init__(self, input_dim, hidden_dim, num_layers, memory_dim):\n",
    "        super(NormalizingFlow, self).__init__()\n",
    "        self.input_dim = input_dim\n",
    "        self.hidden_dim = hidden_dim\n",
    "        self.num_layers = num_layers\n",
    "        self.base_dist = Normal(0, 1)\n",
    "        self.blocks = nn.ModuleList(\n",
    "            [NFBlock(num_features = input_dim, hidden_dim = hidden_dim, memory_dim = memory_dim) for _ in range(num_layers)]\n",
    "        )\n",
    "        \n",
    "    \n",
    "    def forward(self, x):\n",
    "        log_det_jacobian = 0\n",
    "        \n",
    "        for layer in self.blocks:\n",
    "            x, ldj = layer(x)\n",
    "            log_det_jacobian += ldj\n",
    "        \n",
    "        return x, log_det_jacobian\n",
    "\n",
    "    def inverse(self, z):\n",
    "        for layer in reversed(self.blocks):\n",
    "            z = layer.inverse(z)\n",
    "        return z\n",
    "\n",
    "\n",
    "    def log_prob(self, x):\n",
    "        z, ldj = self.forward(x)\n",
    "        log_pz = self.base_dist.log_prob(z).sum(dim = (1,))\n",
    "        log_px = log_pz + ldj\n",
    "\n",
    "        return z, log_px\n",
    "\n"
   ]
  },
  {
   "cell_type": "code",
   "execution_count": 470,
   "metadata": {},
   "outputs": [
    {
     "data": {
      "text/plain": [
       "236192"
      ]
     },
     "execution_count": 470,
     "metadata": {},
     "output_type": "execute_result"
    }
   ],
   "source": [
    "m = NormalizingFlow(input_dim=1, memory_dim = 4, hidden_dim = 32, num_layers = 4)\n",
    "sum(p.numel() for p in m.parameters())"
   ]
  },
  {
   "cell_type": "code",
   "execution_count": 473,
   "metadata": {},
   "outputs": [],
   "source": [
    "class GrangerMPP(nn.Module):\n",
    "\n",
    "    def __init__(self, processes, memory_dim : int = 10):\n",
    "\n",
    "        super().__init__()\n",
    "\n",
    "        self.processes = processes\n",
    "        self.memory_dim = memory_dim\n",
    "        self.n_processes = len(self.processes)\n",
    "        self.GrangerMatrix = nn.Parameter((torch.empty(self.n_processes, self.n_processes)))\n",
    "        nn.init.normal_(self.GrangerMatrix, mean = 1, std = 0.1)\n",
    "\n",
    "\n",
    "        self.models = nn.ModuleList([NormalizingFlow(input_dim=1, memory_dim = self.memory_dim, hidden_dim = 32, num_layers = 4) for i in range(self.n_processes)])\n",
    "        self.sweep_dict = self.make_sweep_dict()\n",
    "        self.time_of_start = self.get_time_of_start()\n",
    "        self.optimizers = [torch.optim.Adam(list(self.models[i].parameters()), lr=1e-4, weight_decay = 1e-5) for i in range(self.n_processes)]\n",
    "        self.g_optimizer = torch.optim.Adam([self.GrangerMatrix], lr = 1e-3, weight_decay=1e-5)\n",
    "        self.log_GrangerMatrix = []\n",
    "\n",
    "\n",
    "    def em_step(self, n_steps):\n",
    "        dic = {}\n",
    "        self.causes = [[], [], []]\n",
    "        for i in range(self.n_processes):\n",
    "            dic[i] = []\n",
    "\n",
    "\n",
    "        taus = torch.linspace(1, 0.3, steps = n_steps)#\n",
    "        \n",
    "        for self.step in range(n_steps):\n",
    "          for i_proc in range(self.n_processes):\n",
    "              self.causes[i_proc] = []\n",
    "              curr = processes[i_proc]\n",
    "              len_curr = len(curr)\n",
    "              idx_start = 0\n",
    "              while idx_start < len_curr:\n",
    "                self.num_events = 5\n",
    "                events = self.get_events(self.num_events, idx_start, i_proc, 1.0) \n",
    "                if events:\n",
    "                  DL = DataLoader(events, batch_size = len(events))\n",
    "                  self.DL = DL\n",
    "\n",
    "                  for X, cause_rank in DL:\n",
    "\n",
    "                    loss = self.m_step(i_proc, X, cause_rank)\n",
    "                    dic[i_proc].append(loss)\n",
    "\n",
    "                idx_start += self.num_events\n",
    "\n",
    "              if (self.step + 1) % 5 == 0 or self.step == 0:\n",
    "                  print(f'Step: {self.step + 1}, Model: {i_proc}, Loss: {loss}, Num of Events: {len(self.causes[i_proc])*self.num_events}')\n",
    "\n",
    "\n",
    "        return dic\n",
    "\n",
    "    def m_step(self, i_proc, X, cause_rank):\n",
    "\n",
    "        model = self.models[i_proc]\n",
    "        self.optimizers[i_proc].zero_grad()\n",
    "        self.g_optimizer.zero_grad()\n",
    "        X = X.unsqueeze(-1)\n",
    "        \n",
    "        z, logp = model.log_prob(X)\n",
    "        loss = -1*logp\n",
    "\n",
    "        loss_rnn = (loss * cause_rank).sum()/self.num_events  + -1*(torch.log(cause_rank + 1e-7)).sum()/self.num_events + 0.001*self.GrangerMatrix[i_proc].norm(p=1)\n",
    "\n",
    "\n",
    "        if not (torch.isnan(loss_rnn) | torch.isinf(loss_rnn)):\n",
    "\n",
    "\n",
    "            loss_rnn.backward(retain_graph = True)\n",
    "\n",
    "            self.optimizers[i_proc].step()\n",
    "            self.g_optimizer.step()\n",
    "            self.log_GrangerMatrix.append(self.GrangerMatrix.clone().detach())\n",
    "\n",
    "\n",
    "        else:\n",
    "            print(f'NaN found in epoch: {self.step}')\n",
    "\n",
    "        return loss_rnn.item()\n",
    "\n",
    "    def make_sweep_dict(self):\n",
    "\n",
    "        dic = {}\n",
    "        for i in range(self.n_processes):\n",
    "            target = self.processes[i]\n",
    "            dic[i] = {}\n",
    "            for j in range(self.n_processes):\n",
    "                cause = self.processes[j]\n",
    "                dic[i][j] = self.sweep(target, cause)\n",
    "\n",
    "        return dic\n",
    "\n",
    "\n",
    "    def sweep(self, pa, pc):\n",
    "        events = []\n",
    "        pa_indices = []\n",
    "\n",
    "\n",
    "        for i, ia in enumerate(pa):\n",
    "            events.append((ia, 'a'))\n",
    "            pa_indices.append(i)\n",
    "\n",
    "        for ic in pc:\n",
    "            events.append((ic, 'c'))\n",
    "\n",
    "        lim = self.memory_dim\n",
    "\n",
    "        events.sort()\n",
    "        mem = []\n",
    "        ret = []\n",
    "        index_start = False\n",
    "\n",
    "        pa_idx_counter = 0  # Counter to track which index in pa we are at\n",
    "\n",
    "        for t, e in events:\n",
    "            if e == 'c':\n",
    "                if len(mem) >= lim:\n",
    "                    mem.pop(0)\n",
    "                mem.append(t)\n",
    "\n",
    "            if e == 'a':\n",
    "                # Memory is not full yet\n",
    "                if len(mem) < lim:\n",
    "                    pa_idx_counter += 1  # Move to the next pa index\n",
    "                    continue\n",
    "                # Retrieve deltas from this time to the cause times\n",
    "                pp = [t - tc for tc in mem]\n",
    "                ret.append(pp)\n",
    "                if not index_start:\n",
    "                  index_start = pa_indices[pa_idx_counter] # Save index relative to pa\n",
    "                pa_idx_counter += 1  # Move to the next pa index\n",
    "        if not index_start:\n",
    "          index_start = -1\n",
    "        return torch.tensor(ret, dtype=torch.float), index_start\n",
    "\n",
    "    def get_time_of_start(self):\n",
    "\n",
    "      indexs = []\n",
    "      dic = self.sweep_dict\n",
    "\n",
    "      for i in dic:\n",
    "        curr = []\n",
    "        for j in dic[i]:\n",
    "          curr.append(dic[i][j][1])\n",
    "        indexs.append(curr)\n",
    "\n",
    "      return indexs\n",
    "\n",
    "\n",
    "    def new_e_step(self, num_events, i_proc, tau):\n",
    "\n",
    "      in_ = self.GrangerMatrix[i_proc]\n",
    "      rv = []\n",
    "      for i in range(num_events):\n",
    "        cause = F.gumbel_softmax(\n",
    "            in_,\n",
    "            tau = tau,\n",
    "            hard = False\n",
    "        )\n",
    "        rv.append(cause)\n",
    "\n",
    "      self.causes[i_proc].append(rv)\n",
    "\n",
    "      return rv\n",
    "\n",
    "\n",
    "    def get_events(self, num_events, idx_start, i_proc, tau):\n",
    "\n",
    "      begin_of_influences = self.time_of_start[i_proc]\n",
    "      n_causes = self.new_e_step(num_events, i_proc, tau)\n",
    "\n",
    "      event_cause = []\n",
    "\n",
    "      for time in range(num_events):\n",
    "        causes = n_causes[time]\n",
    "\n",
    "        for idx_cause, cause in enumerate(causes):\n",
    "          inf_begin = begin_of_influences[idx_cause]\n",
    "\n",
    "          if inf_begin == -1: \n",
    "            continue\n",
    "\n",
    "          else:\n",
    "            if time + idx_start >= inf_begin and len(self.sweep_dict[i_proc][idx_cause][0]) > time + idx_start + inf_begin:\n",
    "            \n",
    "              where = time + idx_start - inf_begin\n",
    "              app = (self.sweep_dict[i_proc][idx_cause][0][where], cause)\n",
    "              event_cause.append(app)\n",
    "\n",
    "      return event_cause\n",
    "\n"
   ]
  },
  {
   "cell_type": "code",
   "execution_count": 474,
   "metadata": {},
   "outputs": [],
   "source": [
    "X1_ = torch.tensor(X1.copy(), dtype = torch.float32)\n",
    "X2_ = torch.tensor(X2.copy(), dtype = torch.float32)\n",
    "X3_ = torch.tensor(X3.copy(), dtype = torch.float32)\n",
    "processes = [X1_, X2_, X3_]"
   ]
  },
  {
   "cell_type": "code",
   "execution_count": 475,
   "metadata": {},
   "outputs": [
    {
     "name": "stdout",
     "output_type": "stream",
     "text": [
      "Step: 1, Model: 0, Loss: 1.1802595853805542, Num of Events: 350\n",
      "Step: 1, Model: 1, Loss: 1.0243608951568604, Num of Events: 170\n",
      "Step: 1, Model: 2, Loss: 5.770841121673584, Num of Events: 115\n",
      "Step: 5, Model: 0, Loss: 0.8267202377319336, Num of Events: 350\n",
      "Step: 5, Model: 1, Loss: 0.8834978938102722, Num of Events: 170\n",
      "Step: 5, Model: 2, Loss: 4.848280906677246, Num of Events: 115\n",
      "Step: 10, Model: 0, Loss: 0.9319642186164856, Num of Events: 350\n",
      "Step: 10, Model: 1, Loss: 0.6303678750991821, Num of Events: 170\n",
      "Step: 10, Model: 2, Loss: 2.685283660888672, Num of Events: 115\n",
      "Step: 15, Model: 0, Loss: 0.670593798160553, Num of Events: 350\n",
      "Step: 15, Model: 1, Loss: 0.6466401815414429, Num of Events: 170\n",
      "Step: 15, Model: 2, Loss: 1.62196683883667, Num of Events: 115\n",
      "Step: 20, Model: 0, Loss: 1.9353665113449097, Num of Events: 350\n",
      "Step: 20, Model: 1, Loss: 0.6203820109367371, Num of Events: 170\n",
      "Step: 20, Model: 2, Loss: 2.762843132019043, Num of Events: 115\n",
      "Step: 25, Model: 0, Loss: 0.668647825717926, Num of Events: 350\n",
      "Step: 25, Model: 1, Loss: 0.6794331669807434, Num of Events: 170\n",
      "Step: 25, Model: 2, Loss: 2.5605995655059814, Num of Events: 115\n",
      "Step: 30, Model: 0, Loss: 0.9640811681747437, Num of Events: 350\n",
      "Step: 30, Model: 1, Loss: 0.9100591540336609, Num of Events: 170\n",
      "Step: 30, Model: 2, Loss: 1.9518828392028809, Num of Events: 115\n",
      "Step: 35, Model: 0, Loss: 0.7183384895324707, Num of Events: 350\n",
      "Step: 35, Model: 1, Loss: 0.9437941908836365, Num of Events: 170\n",
      "Step: 35, Model: 2, Loss: 2.989473581314087, Num of Events: 115\n",
      "Step: 40, Model: 0, Loss: 1.8585758209228516, Num of Events: 350\n",
      "Step: 40, Model: 1, Loss: 0.7050312757492065, Num of Events: 170\n",
      "Step: 40, Model: 2, Loss: 1.6672344207763672, Num of Events: 115\n",
      "Step: 45, Model: 0, Loss: 0.881511390209198, Num of Events: 350\n",
      "Step: 45, Model: 1, Loss: 0.6473211050033569, Num of Events: 170\n",
      "Step: 45, Model: 2, Loss: 3.3766140937805176, Num of Events: 115\n",
      "Step: 50, Model: 0, Loss: 0.6689870357513428, Num of Events: 350\n",
      "Step: 50, Model: 1, Loss: 0.6237329244613647, Num of Events: 170\n",
      "Step: 50, Model: 2, Loss: 2.941005229949951, Num of Events: 115\n",
      "Step: 55, Model: 0, Loss: 1.2663397789001465, Num of Events: 350\n",
      "Step: 55, Model: 1, Loss: 0.6992854475975037, Num of Events: 170\n",
      "Step: 55, Model: 2, Loss: 2.921774387359619, Num of Events: 115\n",
      "Step: 60, Model: 0, Loss: 0.6765450239181519, Num of Events: 350\n",
      "Step: 60, Model: 1, Loss: 0.8022105097770691, Num of Events: 170\n",
      "Step: 60, Model: 2, Loss: 1.6762080192565918, Num of Events: 115\n",
      "Step: 65, Model: 0, Loss: 0.817909300327301, Num of Events: 350\n",
      "Step: 65, Model: 1, Loss: 0.5915266275405884, Num of Events: 170\n",
      "Step: 65, Model: 2, Loss: 1.9769384860992432, Num of Events: 115\n",
      "Step: 70, Model: 0, Loss: 0.6527755856513977, Num of Events: 350\n",
      "Step: 70, Model: 1, Loss: 0.6279478669166565, Num of Events: 170\n",
      "Step: 70, Model: 2, Loss: 2.615705966949463, Num of Events: 115\n",
      "Step: 75, Model: 0, Loss: 0.6169670820236206, Num of Events: 350\n",
      "Step: 75, Model: 1, Loss: 0.7530987858772278, Num of Events: 170\n",
      "Step: 75, Model: 2, Loss: 1.9402775764465332, Num of Events: 115\n",
      "Step: 80, Model: 0, Loss: 0.6304934620857239, Num of Events: 350\n",
      "Step: 80, Model: 1, Loss: 0.5819766521453857, Num of Events: 170\n",
      "Step: 80, Model: 2, Loss: 3.7673890590667725, Num of Events: 115\n",
      "Step: 85, Model: 0, Loss: 0.5876709222793579, Num of Events: 350\n",
      "Step: 85, Model: 1, Loss: 0.8416868448257446, Num of Events: 170\n",
      "Step: 85, Model: 2, Loss: 2.7132070064544678, Num of Events: 115\n",
      "Step: 90, Model: 0, Loss: 0.6330265998840332, Num of Events: 350\n",
      "Step: 90, Model: 1, Loss: 0.6554524302482605, Num of Events: 170\n",
      "Step: 90, Model: 2, Loss: 3.856290578842163, Num of Events: 115\n",
      "Step: 95, Model: 0, Loss: 0.6420308947563171, Num of Events: 350\n",
      "Step: 95, Model: 1, Loss: 0.6170647740364075, Num of Events: 170\n",
      "Step: 95, Model: 2, Loss: 1.6890002489089966, Num of Events: 115\n",
      "Step: 100, Model: 0, Loss: 0.5626807808876038, Num of Events: 350\n",
      "Step: 100, Model: 1, Loss: 1.0569956302642822, Num of Events: 170\n",
      "Step: 100, Model: 2, Loss: 1.670755386352539, Num of Events: 115\n",
      "Step: 105, Model: 0, Loss: 0.7013527750968933, Num of Events: 350\n",
      "Step: 105, Model: 1, Loss: 0.6064891815185547, Num of Events: 170\n",
      "Step: 105, Model: 2, Loss: 3.7531321048736572, Num of Events: 115\n",
      "Step: 110, Model: 0, Loss: 0.5429375767707825, Num of Events: 350\n",
      "Step: 110, Model: 1, Loss: 0.6318599581718445, Num of Events: 170\n",
      "Step: 110, Model: 2, Loss: 3.3062422275543213, Num of Events: 115\n",
      "Step: 115, Model: 0, Loss: 0.5369845032691956, Num of Events: 350\n",
      "Step: 115, Model: 1, Loss: 0.6904807090759277, Num of Events: 170\n",
      "Step: 115, Model: 2, Loss: 1.7981946468353271, Num of Events: 115\n",
      "Step: 120, Model: 0, Loss: 0.7070813775062561, Num of Events: 350\n",
      "Step: 120, Model: 1, Loss: 1.0124030113220215, Num of Events: 170\n",
      "Step: 120, Model: 2, Loss: 1.6153538227081299, Num of Events: 115\n",
      "Step: 125, Model: 0, Loss: 0.500576913356781, Num of Events: 350\n",
      "Step: 125, Model: 1, Loss: 0.5633733868598938, Num of Events: 170\n",
      "Step: 125, Model: 2, Loss: 2.4484832286834717, Num of Events: 115\n",
      "Step: 130, Model: 0, Loss: 0.5155991315841675, Num of Events: 350\n",
      "Step: 130, Model: 1, Loss: 0.6872420310974121, Num of Events: 170\n",
      "Step: 130, Model: 2, Loss: 1.6198132038116455, Num of Events: 115\n",
      "Step: 135, Model: 0, Loss: 0.5927420854568481, Num of Events: 350\n",
      "Step: 135, Model: 1, Loss: 0.5604256391525269, Num of Events: 170\n",
      "Step: 135, Model: 2, Loss: 1.5115679502487183, Num of Events: 115\n",
      "Step: 140, Model: 0, Loss: 0.7394713759422302, Num of Events: 350\n",
      "Step: 140, Model: 1, Loss: 0.660193920135498, Num of Events: 170\n",
      "Step: 140, Model: 2, Loss: 3.0439398288726807, Num of Events: 115\n",
      "Step: 145, Model: 0, Loss: 1.0600051879882812, Num of Events: 350\n",
      "Step: 145, Model: 1, Loss: 0.568219780921936, Num of Events: 170\n",
      "Step: 145, Model: 2, Loss: 1.9909212589263916, Num of Events: 115\n",
      "Step: 150, Model: 0, Loss: 0.49387213587760925, Num of Events: 350\n",
      "Step: 150, Model: 1, Loss: 0.7230095863342285, Num of Events: 170\n",
      "Step: 150, Model: 2, Loss: 2.0436854362487793, Num of Events: 115\n",
      "Step: 155, Model: 0, Loss: 0.855908989906311, Num of Events: 350\n",
      "Step: 155, Model: 1, Loss: 0.7016412019729614, Num of Events: 170\n",
      "Step: 155, Model: 2, Loss: 1.4623245000839233, Num of Events: 115\n"
     ]
    }
   ],
   "source": [
    "mpp = GrangerMPP(processes, memory_dim = 4)\n",
    "l = mpp.em_step(n_steps = 200)"
   ]
  },
  {
   "cell_type": "code",
   "execution_count": 476,
   "metadata": {},
   "outputs": [
    {
     "name": "stdout",
     "output_type": "stream",
     "text": [
      "Len of losses: [13800, 6800, 4600]\n"
     ]
    },
    {
     "data": {
      "image/png": "[encoded data removed]",
      "text/plain": [
       "<Figure size 640x480 with 1 Axes>"
      ]
     },
     "metadata": {},
     "output_type": "display_data"
    }
   ],
   "source": [
    "colors = ['red', 'green', 'blue']\n",
    "for i in range(3):\n",
    "    plt.plot(l[i], color = colors[i])\n",
    "\n",
    "t = [len(l[i]) for i in range(3)]\n",
    "\n",
    "print(f'Len of losses: {t}')"
   ]
  },
  {
   "cell_type": "code",
   "execution_count": 477,
   "metadata": {},
   "outputs": [
    {
     "data": {
      "text/plain": [
       "Parameter containing:\n",
       "tensor([[-0.0298,  0.2685,  1.8051],\n",
       "        [-0.0430,  0.2274,  1.8864],\n",
       "        [ 0.0596,  0.0439,  2.2156]], requires_grad=True)"
      ]
     },
     "execution_count": 477,
     "metadata": {},
     "output_type": "execute_result"
    }
   ],
   "source": [
    "mpp.GrangerMatrix"
   ]
  },
  {
   "cell_type": "code",
   "execution_count": 478,
   "metadata": {},
   "outputs": [
    {
     "data": {
      "text/plain": [
       "<matplotlib.colorbar.Colorbar at 0x7faed01fa110>"
      ]
     },
     "execution_count": 478,
     "metadata": {},
     "output_type": "execute_result"
    },
    {
     "data": {
      "image/png": "[encoded data removed]",
      "text/plain": [
       "<Figure size 640x480 with 2 Axes>"
      ]
     },
     "metadata": {},
     "output_type": "display_data"
    }
   ],
   "source": [
    "matrix = mpp.GrangerMatrix.softmax(dim = 1).detach().cpu().numpy()\n",
    "\n",
    "plt.imshow(matrix)\n",
    "plt.axis('off')\n",
    "plt.colorbar()"
   ]
  },
  {
   "cell_type": "code",
   "execution_count": 316,
   "metadata": {},
   "outputs": [
    {
     "data": {
      "text/plain": [
       "array([[-0.38742697,  0.02590688,  1.2703289 ],\n",
       "       [-0.23840265, -0.08001001,  1.2057862 ],\n",
       "       [-0.21638663, -0.25102186,  1.207805  ]], dtype=float32)"
      ]
     },
     "execution_count": 316,
     "metadata": {},
     "output_type": "execute_result"
    }
   ],
   "source": [
    "mpp.GrangerMatrix.detach().cpu().numpy()"
   ]
  },
  {
   "cell_type": "code",
   "execution_count": 354,
   "metadata": {},
   "outputs": [
    {
     "data": {
      "image/png": "[encoded data removed]",
      "text/plain": [
       "<Figure size 640x480 with 1 Axes>"
      ]
     },
     "metadata": {},
     "output_type": "display_data"
    }
   ],
   "source": [
    "final = []\n",
    "for proc in range(3):\n",
    "    proc_size = len(processes[proc])\n",
    "    loss_size = len(l[proc])\n",
    "    temp = [ sum(l[proc][i:i + proc_size])/proc_size for i in range(0, loss_size - proc_size, proc_size)]\n",
    "    final.append(temp)\n",
    "\n",
    "colors = ['red', 'green', 'blue']\n",
    "for i in range(3):\n",
    "    plt.plot(final[i], color = colors[i])"
   ]
  },
  {
   "cell_type": "code",
   "execution_count": 158,
   "metadata": {},
   "outputs": [
    {
     "data": {
      "text/plain": [
       "[905.976876769747, 824.3470450299127, 720.2255801473345]"
      ]
     },
     "execution_count": 158,
     "metadata": {},
     "output_type": "execute_result"
    }
   ],
   "source": [
    "temp"
   ]
  },
  {
   "cell_type": "code",
   "execution_count": 74,
   "metadata": {},
   "outputs": [
    {
     "ename": "AttributeError",
     "evalue": "'list' object has no attribute 'argmax'",
     "output_type": "error",
     "traceback": [
      "\u001b[0;31m---------------------------------------------------------------------------\u001b[0m",
      "\u001b[0;31mAttributeError\u001b[0m                            Traceback (most recent call last)",
      "Cell \u001b[0;32mIn[74], line 1\u001b[0m\n\u001b[0;32m----> 1\u001b[0m s \u001b[38;5;241m=\u001b[39m [i\u001b[38;5;241m.\u001b[39margmax()\u001b[38;5;241m.\u001b[39mitem() \u001b[38;5;28;01mfor\u001b[39;00m i \u001b[38;5;129;01min\u001b[39;00m mpp\u001b[38;5;241m.\u001b[39mcauses[\u001b[38;5;241m0\u001b[39m]]\n\u001b[1;32m      2\u001b[0m s \u001b[38;5;241m=\u001b[39m torch\u001b[38;5;241m.\u001b[39mtensor(s)\n\u001b[1;32m      3\u001b[0m s\u001b[38;5;241m.\u001b[39munique(return_counts \u001b[38;5;241m=\u001b[39m \u001b[38;5;28;01mTrue\u001b[39;00m)\n",
      "Cell \u001b[0;32mIn[74], line 1\u001b[0m, in \u001b[0;36m<listcomp>\u001b[0;34m(.0)\u001b[0m\n\u001b[0;32m----> 1\u001b[0m s \u001b[38;5;241m=\u001b[39m [\u001b[43mi\u001b[49m\u001b[38;5;241;43m.\u001b[39;49m\u001b[43margmax\u001b[49m()\u001b[38;5;241m.\u001b[39mitem() \u001b[38;5;28;01mfor\u001b[39;00m i \u001b[38;5;129;01min\u001b[39;00m mpp\u001b[38;5;241m.\u001b[39mcauses[\u001b[38;5;241m0\u001b[39m]]\n\u001b[1;32m      2\u001b[0m s \u001b[38;5;241m=\u001b[39m torch\u001b[38;5;241m.\u001b[39mtensor(s)\n\u001b[1;32m      3\u001b[0m s\u001b[38;5;241m.\u001b[39munique(return_counts \u001b[38;5;241m=\u001b[39m \u001b[38;5;28;01mTrue\u001b[39;00m)\n",
      "\u001b[0;31mAttributeError\u001b[0m: 'list' object has no attribute 'argmax'"
     ]
    }
   ],
   "source": [
    "s = [i.argmax().item() for i in mpp.causes[0]]\n",
    "s = torch.tensor(s)\n",
    "s.unique(return_counts = True)"
   ]
  },
  {
   "cell_type": "code",
   "execution_count": 79,
   "metadata": {},
   "outputs": [
    {
     "data": {
      "text/plain": [
       "(tensor([0, 1, 2]), tensor([112, 125, 112]))"
      ]
     },
     "execution_count": 79,
     "metadata": {},
     "output_type": "execute_result"
    }
   ],
   "source": [
    "causes = []\n",
    "for i in mpp.causes[0]:\n",
    "    for j in i:\n",
    "        causes.append(j.argmax().item())\n",
    "causes = torch.tensor(causes)\n",
    "causes.unique(return_counts = True)"
   ]
  },
  {
   "cell_type": "code",
   "execution_count": null,
   "metadata": {},
   "outputs": [],
   "source": []
  }
 ],
 "metadata": {
  "kernelspec": {
   "display_name": "Python 3 (ipykernel)",
   "language": "python",
   "name": "python3"
  },
  "language_info": {
   "codemirror_mode": {
    "name": "ipython",
    "version": 3
   },
   "file_extension": ".py",
   "mimetype": "text/x-python",
   "name": "python",
   "nbconvert_exporter": "python",
   "pygments_lexer": "ipython3",
   "version": "3.10.14"
  }
 },
 "nbformat": 4,
 "nbformat_minor": 2
}
