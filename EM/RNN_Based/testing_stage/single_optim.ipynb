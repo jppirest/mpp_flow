{
 "cells": [
  {
   "cell_type": "code",
   "execution_count": 2,
   "id": "7fdd17df-a6aa-4fd2-8f3e-c3cde319dc3e",
   "metadata": {},
   "outputs": [],
   "source": [
    "def _plot_tick_bars(timestamps_i, ax, color):\n",
    "    for t in timestamps_i:\n",
    "        ax.axvline(x=t, color = color)\n",
    "    # ax.set_title(label, fontsize=20)\n",
    "    ax.get_yaxis().set_visible(False)"
   ]
  },
  {
   "cell_type": "code",
   "execution_count": 3,
   "id": "88fa258d-c31e-4cff-a543-fae428fe4b93",
   "metadata": {},
   "outputs": [
    {
     "name": "stdout",
     "output_type": "stream",
     "text": [
      "[1 0 0 1 1 1 1 0 0 0 1 0 0 1 1 1 1 1 1 1 0 1 1 1 1 0 1 1 1 1 0 1 1 0 0 0 1\n",
      " 1 0 1 1 1 1 0 1 0 1 1 1 1 0 0 0 0 1 0 1 1 1 1 1 1 0 1 1 1 1 0 1 0 0 1 1 0\n",
      " 0 0 0 1 1 1 0 0 1 1 1 1 0 0 0 1 1 0 0 1 0 1 1 1 1 1 1 0 1 1 0 1 1 0 1 1 1\n",
      " 1 0 0 0 0 0 1 0 1 0 0 1 1 1 1 0 0 1 1 1 1 1 1 0 1 1 0 1 0 0 1 1 1 1 1 0 1\n",
      " 1 1 0 1 1 1 0 1 0 0 1 0 1 0 0 1 1 0 1 1 1 1 0 1 1 1 0 1 0 1 0 1 1 1 0 0 1\n",
      " 0 0 1 1 1 1 0 0 0 1 1 0 0 0 0 0 1 1 0 0 1 1 0 1 1 1 0 0 1 0 1 1 0 0 0 0 1\n",
      " 1 1 1 1 0 1 0 0 0 1 1 1 1 0 1 1 0 1 0 0 0 1 1 0 1 0 0 0]\n"
     ]
    }
   ],
   "source": [
    "import numpy as np\n",
    "import matplotlib.pyplot as plt\n",
    "\n",
    "# Set random seed for reproducibility\n",
    "np.random.seed(42)\n",
    "\n",
    "# Parameters\n",
    "n_points = 250 # Number of time points\n",
    "time = np.arange(n_points)\n",
    "\n",
    "# Generate base binary time series using Bernoulli distribution\n",
    "X1 = np.random.binomial(1, 0.6, n_points)\n",
    "X2 = np.zeros(n_points)\n",
    "X3 = np.zeros(n_points)\n",
    "\n",
    "# Introduce causal relationships\n",
    "for t in range(1, n_points):\n",
    "    # X2 is more likely to happen if X1 happened in the previous step\n",
    "    X2[t] = np.random.binomial(1, 0.7 * X1[t-1] + 0.1)\n",
    "    # X3 is more likely to happen if X2 happened in the previous step\n",
    "    X3[t] = np.random.binomial(1, 0.8 * X2[t-1] + 0.2)\n",
    "\n",
    "\n",
    "print(X1)\n",
    "\n",
    "X1 = [time[i] for i in range(len(X1)) if X1[i] > 0]\n",
    "X2 = [time[i] + 0.1 for i in range(len(X2)) if X2[i] > 0]\n",
    "X3 = [time[i] + 0.3 for i in range(len(X3)) if X3[i] > 0]"
   ]
  },
  {
   "cell_type": "code",
   "execution_count": 4,
   "id": "85c66ed5-4c64-415d-b060-5bdf06d5e68d",
   "metadata": {},
   "outputs": [
    {
     "data": {
      "image/png": "[encoded data removed]",
      "text/plain": [
       "<Figure size 640x480 with 3 Axes>"
      ]
     },
     "metadata": {},
     "output_type": "display_data"
    }
   ],
   "source": [
    "fig, ax = plt.subplots(nrows = 3, sharex = True)\n",
    "\n",
    "_plot_tick_bars(X1, ax[0], color = 'red')\n",
    "_plot_tick_bars(X2, ax[1], color = 'green')\n",
    "_plot_tick_bars(X3, ax[2], color = 'blue')"
   ]
  },
  {
   "cell_type": "code",
   "execution_count": 5,
   "id": "b1a6a48f-ac51-4f35-b834-d83ca5145426",
   "metadata": {},
   "outputs": [],
   "source": [
    "import torch\n",
    "import torch.nn as nn\n",
    "import torch.nn.functional as F\n",
    "from torch.nn.utils.rnn import pad_sequence\n",
    "\n",
    "if torch.cuda.is_available():\n",
    "    torch.set_default_tensor_type(\"torch.cuda.FloatTensor\")\n",
    "    device = \"cuda\"\n",
    "else:\n",
    "    torch.set_default_tensor_type(\"torch.FloatTensor\")\n",
    "    device = \"cpu\"\n",
    "    "
   ]
  },
  {
   "cell_type": "code",
   "execution_count": 6,
   "id": "7749ccfc-6d6b-4376-9003-14aa3a73b1e8",
   "metadata": {},
   "outputs": [],
   "source": [
    "import torch \n",
    "\n",
    "class ProbRNN(nn.Module):\n",
    "    def __init__(self, memory_size):\n",
    "        super().__init__()\n",
    "\n",
    "        self.memory_size = memory_size\n",
    "        self.linear = nn.Sequential(nn.Linear(self.memory_size, 64), nn.Tanh())\n",
    "        self.lstm = nn.LSTM(input_size = 64, hidden_size = 128, num_layers = 2, batch_first = True)\n",
    "        self.linear_mu = nn.Sequential(nn.Linear(128, self.memory_size))\n",
    "        self.linear_std = nn.Sequential(nn.Linear(128, self.memory_size))\n",
    "        self.gmm_weights = nn.Parameter(nn.Softmax(dim=1)((torch.rand(size = (1, self.memory_size)))))\n",
    "\n",
    "\n",
    "    def forward(self, x):\n",
    "\n",
    "      x = self.linear(x)\n",
    "      x, _ = self.lstm(x)\n",
    "      mu = self.linear_mu(x)\n",
    "      std = self.linear_std(x)\n",
    "      std = torch.abs(std)\n",
    "\n",
    "\n",
    "      new_X = self.sample(mu, std)\n",
    "      mix_dist = self.build_distrib(mu, std)\n",
    "      log_prob = mix_dist.log_prob(new_X)\n",
    "\n",
    "      return new_X, log_prob\n",
    "\n",
    "\n",
    "    def build_distrib(self, mus, stds):\n",
    "      \n",
    "        ### This should not work if batch_size != 1. Yet to decide how to deal with this behaviour.\n",
    "\n",
    "      component_dist = torch.distributions.Normal(mus, stds)\n",
    "      mix_weight = torch.distributions.Categorical(torch.abs(self.gmm_weights))\n",
    "      mix_dist = torch.distributions.MixtureSameFamily(mix_weight, component_dist)\n",
    "      self.mix_dist = mix_dist\n",
    "\n",
    "      return mix_dist\n",
    "\n",
    "    def sample(self, mu, std):\n",
    "\n",
    "      X =  mu + torch.randn_like(std)*std\n",
    "\n",
    "      return X\n"
   ]
  },
  {
   "cell_type": "code",
   "execution_count": 7,
   "id": "f855226f-8779-40d8-b405-186b172cf57b",
   "metadata": {},
   "outputs": [],
   "source": [
    "def get_inter_times(t : torch.Tensor, t_end : int):\n",
    "    # t.sort()\n",
    "\n",
    "    t = t.cpu().numpy()\n",
    "    tau = np.diff(t, prepend = 0, append=t_end)\n",
    "    \n",
    "    return torch.tensor(tau, dtype=torch.float32, device=device)"
   ]
  },
  {
   "cell_type": "code",
   "execution_count": 8,
   "id": "8ed764e6-a3a4-409a-988c-d9d8dae769b4",
   "metadata": {},
   "outputs": [],
   "source": [
    "X1_ = torch.tensor(X1.copy(), dtype = torch.float32)\n",
    "X2_ = torch.tensor(X2.copy(), dtype = torch.float32)\n",
    "X3_ = torch.tensor(X3.copy(), dtype = torch.float32)\n",
    "processes = [X1_, X2_, X3_]\n",
    "\n",
    "seq_lengths = [len(t) for t in processes]\n",
    "\n",
    "t_end_scalar = 30\n",
    "t_end = [t_end_scalar]*len(processes)\n",
    "\n",
    "taus = list(map(lambda p: get_inter_times(*p), zip(processes, t_end)))\n",
    "taus = [taus[i] for i in range(3)]\n",
    "\n",
    "padded_taus = pad_sequence(taus, batch_first=True)  # (B, L)\n",
    "# padded_taus[-1].cumsum(dim = 0)"
   ]
  },
  {
   "cell_type": "code",
   "execution_count": 9,
   "id": "7b598d71-6331-4512-8a1b-24f433b46be9",
   "metadata": {},
   "outputs": [],
   "source": [
    "class GrangerMPP(nn.Module):\n",
    "\n",
    "    def __init__(self, processes, memory_dim : int = 10):\n",
    "        \n",
    "        super().__init__()\n",
    "        \n",
    "        self.processes = processes\n",
    "        self.memory_dim = memory_dim\n",
    "        self.n_processes = len(self.processes)\n",
    "        self.GrangerMatrix = nn.Parameter(torch.Tensor(self.n_processes, self.n_processes)) # nn.Parameter(nn.Parameter(torch.Tensor(self.n_processes, self.n_processes)))\n",
    "        self.models = nn.ModuleList([ProbRNN(self.memory_dim) for i in range(self.n_processes)])\n",
    "        self.sweep_dict = self.make_sweep_dict()\n",
    "        self.optimizer = torch.optim.Adam(self.parameters(), lr=1e-4) \n",
    "\n",
    "    def e_step(self, in_weights: torch.Tensor, points_current_pp):\n",
    "        \n",
    "        \"\"\"\n",
    "        Return the causes for each event of the current_p\n",
    "        \n",
    "        \"\"\"\n",
    "        \n",
    "        n = len(points_current_pp)\n",
    "        rv = []\n",
    "    \n",
    "        for i in range(n):\n",
    "            cause = F.gumbel_softmax(\n",
    "                in_weights,\n",
    "                hard = True\n",
    "            )\n",
    "            cause = torch.argmax(cause, dim = 0)\n",
    "            rv.append(cause)\n",
    "    \n",
    "        \n",
    "        \n",
    "        return rv\n",
    "\n",
    "    def em_step(self, n_steps):\n",
    "        dic = {}\n",
    "        \n",
    "        for i in range(self.n_processes):\n",
    "            dic[i] = []\n",
    "        \n",
    "        for step in range(n_steps):\n",
    "            self.causes = []\n",
    "            for i_proc in range(self.n_processes):\n",
    "                rv = self.e_step(\n",
    "                    self.GrangerMatrix[i_proc],\n",
    "                    self.processes[i_proc]\n",
    "                )\n",
    "                self.causes.append(rv)\n",
    "            \n",
    "            \n",
    "            for i_proc in range(self.n_processes):\n",
    "                \n",
    "                causes_to_ith = self.causes[i_proc] ## causes of ith_proc\n",
    "                \n",
    "                for j, cause_to_ith in enumerate(causes_to_ith):\n",
    "                    \n",
    "                    cause_to_ith = cause_to_ith.item()\n",
    "                    effect_j_on_i = self.sweep_dict[i_proc][cause_to_ith]\n",
    "                    \n",
    "                    if (cause_to_ith == i_proc) and j>=self.memory_dim:\n",
    "                        X_to_pass = processes[i_proc][j - self.memory_dim : j]\n",
    "                        X_to_pass = X_to_pass.flip(dims = (0,)) - X_to_pass[0]\n",
    "                        #self.X_to_pass = X_to_pass\n",
    "                        #print(X_to_pass.shape)\n",
    "                        loss = self.m_step(i_proc, X_to_pass.unsqueeze(0)) \n",
    "                        dic[i_proc].append(loss)\n",
    "                    \n",
    "                    elif len(effect_j_on_i) > j:\n",
    "                        X_to_pass = effect_j_on_i[j]\n",
    "                        #print(X_to_pass.shape)\n",
    "                        #self.X_to_pass = X_to_pass\n",
    "                        loss = self.m_step(i_proc, X_to_pass.unsqueeze(0))\n",
    "                        dic[i_proc].append(loss)\n",
    "                \n",
    "                if (step + 1) % 25 == 0 or step == 0:\n",
    "                                print(f'Step: {step + 1}, Model: {i_proc}, Loss: {loss}')\n",
    "                    \n",
    "    \n",
    "        return dic\n",
    "\n",
    "    def m_step(self, i_proc, X):\n",
    "        model = self.models[i_proc]\n",
    "        \n",
    "        self.optimizer.zero_grad()\n",
    "        z, loss = model(X)\n",
    "        loss = -1*loss\n",
    "        loss = loss.sum()\n",
    "        \n",
    "        if not (torch.isnan(loss) | torch.isinf(loss)):\n",
    "            loss.backward()\n",
    "            self.optimizer.step()\n",
    "        else:\n",
    "            print(f'NaN found in epoch: {step}')    \n",
    "\n",
    "        return loss.item()\n",
    "\n",
    "    def make_sweep_dict(self):\n",
    "        \n",
    "        dic = {}\n",
    "        for i in range(self.n_processes):\n",
    "            target = processes[i]\n",
    "            dic[i] = {}\n",
    "            for j in range(self.n_processes):\n",
    "                cause = self.processes[j]\n",
    "                dic[i][j] = self.sweep(target, cause)\n",
    "        return dic\n",
    "\n",
    "\n",
    "    def sweep(self, pa, pc):\n",
    "      events = []\n",
    "      for ia in pa:\n",
    "        events.append((ia, 'a'))\n",
    "      for ic in pc:\n",
    "        events.append((ic, 'c'))\n",
    "    \n",
    "      lim = self.memory_dim\n",
    "    \n",
    "      events.sort()\n",
    "      mem = []\n",
    "      ret = []\n",
    "      for [t, e] in events:\n",
    "    \n",
    "        if e == 'c':\n",
    "          if len(mem) >= lim:\n",
    "            mem.pop(0)\n",
    "          mem.append(t)\n",
    "    \n",
    "        if e == 'a':\n",
    "          ## memoria ainda nao esta cheia:\n",
    "          if len(mem) < lim:\n",
    "            continue\n",
    "          ## recupere os deltas desse tempo para o tempo causa\n",
    "          pp = []\n",
    "          for tc in mem:\n",
    "            pp.append(t - tc)\n",
    "          ret.append(pp)\n",
    "    \n",
    "      return torch.tensor(ret, dtype = torch.float)"
   ]
  },
  {
   "cell_type": "code",
   "execution_count": 10,
   "id": "d8352769-ccac-4f6f-b833-bcd4d8756f58",
   "metadata": {
    "scrolled": true
   },
   "outputs": [
    {
     "ename": "RuntimeError",
     "evalue": "CUDA error: CUBLAS_STATUS_ALLOC_FAILED when calling `cublasCreate(handle)`",
     "output_type": "error",
     "traceback": [
      "\u001b[0;31m---------------------------------------------------------------------------\u001b[0m",
      "\u001b[0;31mRuntimeError\u001b[0m                              Traceback (most recent call last)",
      "Cell \u001b[0;32mIn[10], line 2\u001b[0m\n\u001b[1;32m      1\u001b[0m mpp \u001b[38;5;241m=\u001b[39m GrangerMPP(processes)\n\u001b[0;32m----> 2\u001b[0m l \u001b[38;5;241m=\u001b[39m \u001b[43mmpp\u001b[49m\u001b[38;5;241;43m.\u001b[39;49m\u001b[43mem_step\u001b[49m\u001b[43m(\u001b[49m\u001b[43mn_steps\u001b[49m\u001b[43m \u001b[49m\u001b[38;5;241;43m=\u001b[39;49m\u001b[43m \u001b[49m\u001b[38;5;241;43m150\u001b[39;49m\u001b[43m)\u001b[49m\n",
      "Cell \u001b[0;32mIn[9], line 74\u001b[0m, in \u001b[0;36mGrangerMPP.em_step\u001b[0;34m(self, n_steps)\u001b[0m\n\u001b[1;32m     71\u001b[0m         X_to_pass \u001b[38;5;241m=\u001b[39m effect_j_on_i[j]\n\u001b[1;32m     72\u001b[0m         \u001b[38;5;66;03m#print(X_to_pass.shape)\u001b[39;00m\n\u001b[1;32m     73\u001b[0m         \u001b[38;5;66;03m#self.X_to_pass = X_to_pass\u001b[39;00m\n\u001b[0;32m---> 74\u001b[0m         loss \u001b[38;5;241m=\u001b[39m \u001b[38;5;28;43mself\u001b[39;49m\u001b[38;5;241;43m.\u001b[39;49m\u001b[43mm_step\u001b[49m\u001b[43m(\u001b[49m\u001b[43mi_proc\u001b[49m\u001b[43m,\u001b[49m\u001b[43m \u001b[49m\u001b[43mX_to_pass\u001b[49m\u001b[38;5;241;43m.\u001b[39;49m\u001b[43munsqueeze\u001b[49m\u001b[43m(\u001b[49m\u001b[38;5;241;43m0\u001b[39;49m\u001b[43m)\u001b[49m\u001b[43m)\u001b[49m\n\u001b[1;32m     75\u001b[0m         dic[i_proc]\u001b[38;5;241m.\u001b[39mappend(loss)\n\u001b[1;32m     77\u001b[0m \u001b[38;5;28;01mif\u001b[39;00m (step \u001b[38;5;241m+\u001b[39m \u001b[38;5;241m1\u001b[39m) \u001b[38;5;241m%\u001b[39m \u001b[38;5;241m25\u001b[39m \u001b[38;5;241m==\u001b[39m \u001b[38;5;241m0\u001b[39m \u001b[38;5;129;01mor\u001b[39;00m step \u001b[38;5;241m==\u001b[39m \u001b[38;5;241m0\u001b[39m:\n",
      "Cell \u001b[0;32mIn[9], line 87\u001b[0m, in \u001b[0;36mGrangerMPP.m_step\u001b[0;34m(self, i_proc, X)\u001b[0m\n\u001b[1;32m     84\u001b[0m model \u001b[38;5;241m=\u001b[39m \u001b[38;5;28mself\u001b[39m\u001b[38;5;241m.\u001b[39mmodels[i_proc]\n\u001b[1;32m     86\u001b[0m \u001b[38;5;28mself\u001b[39m\u001b[38;5;241m.\u001b[39moptimizer\u001b[38;5;241m.\u001b[39mzero_grad()\n\u001b[0;32m---> 87\u001b[0m z, loss \u001b[38;5;241m=\u001b[39m \u001b[43mmodel\u001b[49m\u001b[43m(\u001b[49m\u001b[43mX\u001b[49m\u001b[43m)\u001b[49m\n\u001b[1;32m     88\u001b[0m loss \u001b[38;5;241m=\u001b[39m \u001b[38;5;241m-\u001b[39m\u001b[38;5;241m1\u001b[39m\u001b[38;5;241m*\u001b[39mloss\n\u001b[1;32m     89\u001b[0m loss \u001b[38;5;241m=\u001b[39m loss\u001b[38;5;241m.\u001b[39msum()\n",
      "File \u001b[0;32m/apps/conda/joao.pires/.envs/jpt/lib/python3.10/site-packages/torch/nn/modules/module.py:1130\u001b[0m, in \u001b[0;36mModule._call_impl\u001b[0;34m(self, *input, **kwargs)\u001b[0m\n\u001b[1;32m   1126\u001b[0m \u001b[38;5;66;03m# If we don't have any hooks, we want to skip the rest of the logic in\u001b[39;00m\n\u001b[1;32m   1127\u001b[0m \u001b[38;5;66;03m# this function, and just call forward.\u001b[39;00m\n\u001b[1;32m   1128\u001b[0m \u001b[38;5;28;01mif\u001b[39;00m \u001b[38;5;129;01mnot\u001b[39;00m (\u001b[38;5;28mself\u001b[39m\u001b[38;5;241m.\u001b[39m_backward_hooks \u001b[38;5;129;01mor\u001b[39;00m \u001b[38;5;28mself\u001b[39m\u001b[38;5;241m.\u001b[39m_forward_hooks \u001b[38;5;129;01mor\u001b[39;00m \u001b[38;5;28mself\u001b[39m\u001b[38;5;241m.\u001b[39m_forward_pre_hooks \u001b[38;5;129;01mor\u001b[39;00m _global_backward_hooks\n\u001b[1;32m   1129\u001b[0m         \u001b[38;5;129;01mor\u001b[39;00m _global_forward_hooks \u001b[38;5;129;01mor\u001b[39;00m _global_forward_pre_hooks):\n\u001b[0;32m-> 1130\u001b[0m     \u001b[38;5;28;01mreturn\u001b[39;00m \u001b[43mforward_call\u001b[49m\u001b[43m(\u001b[49m\u001b[38;5;241;43m*\u001b[39;49m\u001b[38;5;28;43minput\u001b[39;49m\u001b[43m,\u001b[49m\u001b[43m \u001b[49m\u001b[38;5;241;43m*\u001b[39;49m\u001b[38;5;241;43m*\u001b[39;49m\u001b[43mkwargs\u001b[49m\u001b[43m)\u001b[49m\n\u001b[1;32m   1131\u001b[0m \u001b[38;5;66;03m# Do not call functions when jit is used\u001b[39;00m\n\u001b[1;32m   1132\u001b[0m full_backward_hooks, non_full_backward_hooks \u001b[38;5;241m=\u001b[39m [], []\n",
      "Cell \u001b[0;32mIn[6], line 17\u001b[0m, in \u001b[0;36mProbRNN.forward\u001b[0;34m(self, x)\u001b[0m\n\u001b[1;32m     15\u001b[0m \u001b[38;5;28;01mdef\u001b[39;00m \u001b[38;5;21mforward\u001b[39m(\u001b[38;5;28mself\u001b[39m, x):\n\u001b[0;32m---> 17\u001b[0m   x \u001b[38;5;241m=\u001b[39m \u001b[38;5;28;43mself\u001b[39;49m\u001b[38;5;241;43m.\u001b[39;49m\u001b[43mlinear\u001b[49m\u001b[43m(\u001b[49m\u001b[43mx\u001b[49m\u001b[43m)\u001b[49m\n\u001b[1;32m     18\u001b[0m   x, _ \u001b[38;5;241m=\u001b[39m \u001b[38;5;28mself\u001b[39m\u001b[38;5;241m.\u001b[39mlstm(x)\n\u001b[1;32m     19\u001b[0m   mu \u001b[38;5;241m=\u001b[39m \u001b[38;5;28mself\u001b[39m\u001b[38;5;241m.\u001b[39mlinear_mu(x)\n",
      "File \u001b[0;32m/apps/conda/joao.pires/.envs/jpt/lib/python3.10/site-packages/torch/nn/modules/module.py:1130\u001b[0m, in \u001b[0;36mModule._call_impl\u001b[0;34m(self, *input, **kwargs)\u001b[0m\n\u001b[1;32m   1126\u001b[0m \u001b[38;5;66;03m# If we don't have any hooks, we want to skip the rest of the logic in\u001b[39;00m\n\u001b[1;32m   1127\u001b[0m \u001b[38;5;66;03m# this function, and just call forward.\u001b[39;00m\n\u001b[1;32m   1128\u001b[0m \u001b[38;5;28;01mif\u001b[39;00m \u001b[38;5;129;01mnot\u001b[39;00m (\u001b[38;5;28mself\u001b[39m\u001b[38;5;241m.\u001b[39m_backward_hooks \u001b[38;5;129;01mor\u001b[39;00m \u001b[38;5;28mself\u001b[39m\u001b[38;5;241m.\u001b[39m_forward_hooks \u001b[38;5;129;01mor\u001b[39;00m \u001b[38;5;28mself\u001b[39m\u001b[38;5;241m.\u001b[39m_forward_pre_hooks \u001b[38;5;129;01mor\u001b[39;00m _global_backward_hooks\n\u001b[1;32m   1129\u001b[0m         \u001b[38;5;129;01mor\u001b[39;00m _global_forward_hooks \u001b[38;5;129;01mor\u001b[39;00m _global_forward_pre_hooks):\n\u001b[0;32m-> 1130\u001b[0m     \u001b[38;5;28;01mreturn\u001b[39;00m \u001b[43mforward_call\u001b[49m\u001b[43m(\u001b[49m\u001b[38;5;241;43m*\u001b[39;49m\u001b[38;5;28;43minput\u001b[39;49m\u001b[43m,\u001b[49m\u001b[43m \u001b[49m\u001b[38;5;241;43m*\u001b[39;49m\u001b[38;5;241;43m*\u001b[39;49m\u001b[43mkwargs\u001b[49m\u001b[43m)\u001b[49m\n\u001b[1;32m   1131\u001b[0m \u001b[38;5;66;03m# Do not call functions when jit is used\u001b[39;00m\n\u001b[1;32m   1132\u001b[0m full_backward_hooks, non_full_backward_hooks \u001b[38;5;241m=\u001b[39m [], []\n",
      "File \u001b[0;32m/apps/conda/joao.pires/.envs/jpt/lib/python3.10/site-packages/torch/nn/modules/container.py:139\u001b[0m, in \u001b[0;36mSequential.forward\u001b[0;34m(self, input)\u001b[0m\n\u001b[1;32m    137\u001b[0m \u001b[38;5;28;01mdef\u001b[39;00m \u001b[38;5;21mforward\u001b[39m(\u001b[38;5;28mself\u001b[39m, \u001b[38;5;28minput\u001b[39m):\n\u001b[1;32m    138\u001b[0m     \u001b[38;5;28;01mfor\u001b[39;00m module \u001b[38;5;129;01min\u001b[39;00m \u001b[38;5;28mself\u001b[39m:\n\u001b[0;32m--> 139\u001b[0m         \u001b[38;5;28minput\u001b[39m \u001b[38;5;241m=\u001b[39m \u001b[43mmodule\u001b[49m\u001b[43m(\u001b[49m\u001b[38;5;28;43minput\u001b[39;49m\u001b[43m)\u001b[49m\n\u001b[1;32m    140\u001b[0m     \u001b[38;5;28;01mreturn\u001b[39;00m \u001b[38;5;28minput\u001b[39m\n",
      "File \u001b[0;32m/apps/conda/joao.pires/.envs/jpt/lib/python3.10/site-packages/torch/nn/modules/module.py:1130\u001b[0m, in \u001b[0;36mModule._call_impl\u001b[0;34m(self, *input, **kwargs)\u001b[0m\n\u001b[1;32m   1126\u001b[0m \u001b[38;5;66;03m# If we don't have any hooks, we want to skip the rest of the logic in\u001b[39;00m\n\u001b[1;32m   1127\u001b[0m \u001b[38;5;66;03m# this function, and just call forward.\u001b[39;00m\n\u001b[1;32m   1128\u001b[0m \u001b[38;5;28;01mif\u001b[39;00m \u001b[38;5;129;01mnot\u001b[39;00m (\u001b[38;5;28mself\u001b[39m\u001b[38;5;241m.\u001b[39m_backward_hooks \u001b[38;5;129;01mor\u001b[39;00m \u001b[38;5;28mself\u001b[39m\u001b[38;5;241m.\u001b[39m_forward_hooks \u001b[38;5;129;01mor\u001b[39;00m \u001b[38;5;28mself\u001b[39m\u001b[38;5;241m.\u001b[39m_forward_pre_hooks \u001b[38;5;129;01mor\u001b[39;00m _global_backward_hooks\n\u001b[1;32m   1129\u001b[0m         \u001b[38;5;129;01mor\u001b[39;00m _global_forward_hooks \u001b[38;5;129;01mor\u001b[39;00m _global_forward_pre_hooks):\n\u001b[0;32m-> 1130\u001b[0m     \u001b[38;5;28;01mreturn\u001b[39;00m \u001b[43mforward_call\u001b[49m\u001b[43m(\u001b[49m\u001b[38;5;241;43m*\u001b[39;49m\u001b[38;5;28;43minput\u001b[39;49m\u001b[43m,\u001b[49m\u001b[43m \u001b[49m\u001b[38;5;241;43m*\u001b[39;49m\u001b[38;5;241;43m*\u001b[39;49m\u001b[43mkwargs\u001b[49m\u001b[43m)\u001b[49m\n\u001b[1;32m   1131\u001b[0m \u001b[38;5;66;03m# Do not call functions when jit is used\u001b[39;00m\n\u001b[1;32m   1132\u001b[0m full_backward_hooks, non_full_backward_hooks \u001b[38;5;241m=\u001b[39m [], []\n",
      "File \u001b[0;32m/apps/conda/joao.pires/.envs/jpt/lib/python3.10/site-packages/torch/nn/modules/linear.py:114\u001b[0m, in \u001b[0;36mLinear.forward\u001b[0;34m(self, input)\u001b[0m\n\u001b[1;32m    113\u001b[0m \u001b[38;5;28;01mdef\u001b[39;00m \u001b[38;5;21mforward\u001b[39m(\u001b[38;5;28mself\u001b[39m, \u001b[38;5;28minput\u001b[39m: Tensor) \u001b[38;5;241m-\u001b[39m\u001b[38;5;241m>\u001b[39m Tensor:\n\u001b[0;32m--> 114\u001b[0m     \u001b[38;5;28;01mreturn\u001b[39;00m \u001b[43mF\u001b[49m\u001b[38;5;241;43m.\u001b[39;49m\u001b[43mlinear\u001b[49m\u001b[43m(\u001b[49m\u001b[38;5;28;43minput\u001b[39;49m\u001b[43m,\u001b[49m\u001b[43m \u001b[49m\u001b[38;5;28;43mself\u001b[39;49m\u001b[38;5;241;43m.\u001b[39;49m\u001b[43mweight\u001b[49m\u001b[43m,\u001b[49m\u001b[43m \u001b[49m\u001b[38;5;28;43mself\u001b[39;49m\u001b[38;5;241;43m.\u001b[39;49m\u001b[43mbias\u001b[49m\u001b[43m)\u001b[49m\n",
      "\u001b[0;31mRuntimeError\u001b[0m: CUDA error: CUBLAS_STATUS_ALLOC_FAILED when calling `cublasCreate(handle)`"
     ]
    }
   ],
   "source": [
    "mpp = GrangerMPP(processes)\n",
    "l = mpp.em_step(n_steps = 150)"
   ]
  },
  {
   "cell_type": "code",
   "execution_count": null,
   "id": "0c27daef-95e3-4359-ac3e-fde179c9ad0e",
   "metadata": {},
   "outputs": [],
   "source": [
    "colors = ['red', 'green', 'blue']\n",
    "for i in range(3):\n",
    "    plt.plot(l[i], color = colors[i])\n",
    "\n",
    "t = [len(l[i]) for i in range(3)]\n",
    "\n",
    "print(f'Len of losses: {t}')"
   ]
  },
  {
   "cell_type": "code",
   "execution_count": null,
   "id": "c7a37c47-259c-490d-8738-8590890d2e36",
   "metadata": {},
   "outputs": [],
   "source": [
    "final = []\n",
    "for proc in range(3):\n",
    "    proc_size = len(processes[proc])\n",
    "    loss_size = len(l[proc])\n",
    "    temp = [ sum(l[proc][i:i + proc_size])/proc_size for i in range(0, loss_size - proc_size, proc_size)]\n",
    "    final.append(temp)\n",
    "\n",
    "colors = ['red', 'green', 'blue']\n",
    "for i in range(3):\n",
    "    plt.plot(final[i], color = colors[i])"
   ]
  },
  {
   "cell_type": "code",
   "execution_count": null,
   "id": "c7e33ef6-ceb9-4439-ba04-d858d9f777ea",
   "metadata": {},
   "outputs": [],
   "source": [
    "fig, ax = plt.subplots(nrows = 3, sharex = True)\n",
    "\n",
    "_plot_tick_bars(X1, ax[0], color = 'red')\n",
    "_plot_tick_bars(X2, ax[1], color = 'green')\n",
    "_plot_tick_bars(X3, ax[2], color = 'blue')"
   ]
  },
  {
   "cell_type": "code",
   "execution_count": null,
   "id": "f6977aa3-6962-46d8-b141-10322bf1d5c0",
   "metadata": {},
   "outputs": [],
   "source": [
    "def _plot_tick_bars_causes(timestamps_i, ax, cause):\n",
    "    colors = ['red', 'green', 'blue']\n",
    "    for idx, t in enumerate(timestamps_i):\n",
    "        ax.axvline(x=t, color = colors[cause[idx]])\n",
    "    ax.get_yaxis().set_visible(False)"
   ]
  },
  {
   "cell_type": "code",
   "execution_count": null,
   "id": "e17d12db-0a20-4278-b974-41d1dd70549b",
   "metadata": {},
   "outputs": [],
   "source": [
    "fig, ax = plt.subplots(nrows=2, sharex = True)\n",
    "\n",
    "idx = 2\n",
    "proc_to_plot = processes[idx].detach().cpu().numpy()\n",
    "_plot_tick_bars(proc_to_plot, ax[0], color = colors[idx])\n",
    "_plot_tick_bars_causes(proc_to_plot, ax[1], cause = mpp.causes[idx])\n"
   ]
  },
  {
   "cell_type": "code",
   "execution_count": null,
   "id": "961e8f07-6f2f-4204-a1df-ef53c4dddce4",
   "metadata": {},
   "outputs": [],
   "source": [
    "X = mpp.GrangerMatrix.detach().cpu().numpy()\n",
    "plt.imshow(X)\n",
    "plt.axis('off')\n",
    "plt.colorbar()"
   ]
  },
  {
   "cell_type": "code",
   "execution_count": null,
   "id": "8eb8e983-3b32-4fff-897d-46c64cffc9a6",
   "metadata": {},
   "outputs": [],
   "source": [
    "mpp.GrangerMatrix"
   ]
  },
  {
   "cell_type": "code",
   "execution_count": null,
   "id": "64d22837-16b6-484b-a8c2-3eb70491f04e",
   "metadata": {},
   "outputs": [],
   "source": [
    "X = mpp.GrangerMatrix.detach().cpu().numpy()\n",
    "X = (X.T/X.sum(axis = 1)).T\n",
    "plt.imshow(X)\n",
    "plt.axis('off')\n",
    "plt.colorbar()"
   ]
  },
  {
   "cell_type": "code",
   "execution_count": null,
   "id": "e620d8a4-1bc5-433a-8489-0465de8464d5",
   "metadata": {},
   "outputs": [],
   "source": [
    "X"
   ]
  },
  {
   "cell_type": "code",
   "execution_count": null,
   "id": "0641acdd-e0a4-4bf9-9144-5c4bdac6af87",
   "metadata": {},
   "outputs": [],
   "source": []
  }
 ],
 "metadata": {
  "kernelspec": {
   "display_name": "jpt",
   "language": "python",
   "name": "jpt"
  },
  "language_info": {
   "codemirror_mode": {
    "name": "ipython",
    "version": 3
   },
   "file_extension": ".py",
   "mimetype": "text/x-python",
   "name": "python",
   "nbconvert_exporter": "python",
   "pygments_lexer": "ipython3",
   "version": "3.10.14"
  }
 },
 "nbformat": 4,
 "nbformat_minor": 5
}
