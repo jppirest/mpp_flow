{
 "cells": [
  {
   "cell_type": "code",
   "execution_count": 25,
   "id": "7fdd17df-a6aa-4fd2-8f3e-c3cde319dc3e",
   "metadata": {},
   "outputs": [],
   "source": [
    "def _plot_tick_bars(timestamps_i, ax, color):\n",
    "    for t in timestamps_i:\n",
    "        ax.axvline(x=t, color = color)\n",
    "    # ax.set_title(label, fontsize=20)\n",
    "    ax.get_yaxis().set_visible(False)\n",
    "from MAF_All_in_One import maf_dsf"
   ]
  },
  {
   "cell_type": "code",
   "execution_count": 26,
   "id": "88fa258d-c31e-4cff-a543-fae428fe4b93",
   "metadata": {},
   "outputs": [
    {
     "name": "stdout",
     "output_type": "stream",
     "text": [
      "[1 0 0 1 1 1 1 0 0 0 1 0 0 1 1 1 1 1 1 1 0 1 1 1 1 0 1 1 1 1]\n"
     ]
    }
   ],
   "source": [
    "import numpy as np\n",
    "import matplotlib.pyplot as plt\n",
    "\n",
    "# Set random seed for reproducibility\n",
    "np.random.seed(42)\n",
    "\n",
    "# Parameters\n",
    "n_points = 30 # Number of time points\n",
    "time = np.arange(n_points)\n",
    "\n",
    "# Generate base binary time series using Bernoulli distribution\n",
    "X1 = np.random.binomial(1, 0.6, n_points)\n",
    "X2 = np.zeros(n_points)\n",
    "X3 = np.zeros(n_points)\n",
    "\n",
    "# Introduce causal relationships\n",
    "for t in range(1, n_points):\n",
    "    # X2 is more likely to happen if X1 happened in the previous step\n",
    "    X2[t] = np.random.binomial(1, 0.7 * X1[t-1] + 0.1)\n",
    "    # X3 is more likely to happen if X2 happened in the previous step\n",
    "    X3[t] = np.random.binomial(1, 0.8 * X2[t-1] + 0.1)\n",
    "\n",
    "\n",
    "print(X1)\n",
    "\n",
    "X1 = [time[i] for i in range(len(X1)) if X1[i] > 0]\n",
    "X2 = [time[i] + 0.1 for i in range(len(X2)) if X2[i] > 0]\n",
    "X3 = [time[i] + 0.3 for i in range(len(X3)) if X3[i] > 0]"
   ]
  },
  {
   "cell_type": "code",
   "execution_count": 27,
   "id": "85c66ed5-4c64-415d-b060-5bdf06d5e68d",
   "metadata": {},
   "outputs": [
    {
     "data": {
      "image/png": "[encoded data removed]",
      "text/plain": [
       "<Figure size 640x480 with 3 Axes>"
      ]
     },
     "metadata": {},
     "output_type": "display_data"
    }
   ],
   "source": [
    "fig, ax = plt.subplots(nrows = 3, sharex = True)\n",
    "\n",
    "_plot_tick_bars(X1, ax[0], color = 'red')\n",
    "_plot_tick_bars(X2, ax[1], color = 'green')\n",
    "_plot_tick_bars(X3, ax[2], color = 'blue')"
   ]
  },
  {
   "cell_type": "code",
   "execution_count": 28,
   "id": "b1a6a48f-ac51-4f35-b834-d83ca5145426",
   "metadata": {},
   "outputs": [],
   "source": [
    "import torch\n",
    "import torch.nn as nn\n",
    "import torch.nn.functional as F\n",
    "from torch.nn.utils.rnn import pad_sequence\n",
    "\n",
    "if torch.cuda.is_available():\n",
    "    torch.set_default_tensor_type(\"torch.cuda.FloatTensor\")\n",
    "    device = \"cuda\"\n",
    "else:\n",
    "    torch.set_default_tensor_type(\"torch.FloatTensor\")\n",
    "    device = \"cpu\"\n",
    "    "
   ]
  },
  {
   "cell_type": "code",
   "execution_count": 29,
   "id": "f855226f-8779-40d8-b405-186b172cf57b",
   "metadata": {},
   "outputs": [],
   "source": [
    "def get_inter_times(t : torch.Tensor, t_end : int):\n",
    "    # t.sort()\n",
    "\n",
    "    t = t.cpu().numpy()\n",
    "    tau = np.diff(t, prepend = 0, append=t_end)\n",
    "    \n",
    "    return torch.tensor(tau, dtype=torch.float32, device=device)"
   ]
  },
  {
   "cell_type": "code",
   "execution_count": 30,
   "id": "8ed764e6-a3a4-409a-988c-d9d8dae769b4",
   "metadata": {},
   "outputs": [
    {
     "data": {
      "text/plain": [
       "tensor([ 4.3000,  5.3000,  6.3000,  8.3000, 15.3000, 16.3000, 17.3000, 19.3000,\n",
       "        21.3000, 23.3000, 24.3000, 25.3000, 26.3000, 28.3000, 29.3000, 30.0000,\n",
       "        30.0000, 30.0000, 30.0000, 30.0000, 30.0000, 30.0000])"
      ]
     },
     "execution_count": 30,
     "metadata": {},
     "output_type": "execute_result"
    }
   ],
   "source": [
    "X1_ = torch.tensor(X1.copy(), dtype = torch.float32)\n",
    "X2_ = torch.tensor(X2.copy(), dtype = torch.float32)\n",
    "X3_ = torch.tensor(X3.copy(), dtype = torch.float32)\n",
    "processes = [X1_, X2_, X3_]\n",
    "\n",
    "seq_lengths = [len(t) for t in processes]\n",
    "\n",
    "t_end_scalar = 30\n",
    "t_end = [t_end_scalar]*len(processes)\n",
    "\n",
    "taus = list(map(lambda p: get_inter_times(*p), zip(processes, t_end)))\n",
    "taus = [taus[i] for i in range(3)]\n",
    "\n",
    "padded_taus = pad_sequence(taus, batch_first=True)  # (B, L)\n",
    "padded_taus[-1].cumsum(dim = 0)"
   ]
  },
  {
   "cell_type": "code",
   "execution_count": 31,
   "id": "2a217a11-8914-45d3-b9bb-de8349baa560",
   "metadata": {},
   "outputs": [],
   "source": [
    "from MAF_All_in_One import maf_dsf"
   ]
  },
  {
   "cell_type": "code",
   "execution_count": 32,
   "id": "3b7d145d-fec8-46d4-a287-796aa8deaf65",
   "metadata": {},
   "outputs": [],
   "source": [
    "# F.gumbel_softmax?"
   ]
  },
  {
   "cell_type": "code",
   "execution_count": 33,
   "id": "d0e38496-7c2e-4e32-b8c5-fdf43065bd6b",
   "metadata": {},
   "outputs": [],
   "source": [
    "# from torch import vmap"
   ]
  },
  {
   "cell_type": "code",
   "execution_count": 34,
   "id": "479742ad-7042-482b-872b-6d9b42b52ace",
   "metadata": {},
   "outputs": [],
   "source": [
    "## processo A causou tempo 3, 7 e 9\n",
    "## pega o tempo 3, 7 e 9\n",
    "## computa a derivada do flow do processo A considerando apenas 3, 7 e 9"
   ]
  },
  {
   "cell_type": "code",
   "execution_count": 35,
   "id": "1701fd19-3ecb-42fb-a230-b0db039ad006",
   "metadata": {},
   "outputs": [],
   "source": [
    "A = [1, 2, 3, 5]\n",
    "B = [0.5, 3, 4, 10]\n",
    "C = []"
   ]
  },
  {
   "cell_type": "code",
   "execution_count": 36,
   "id": "e7dafc36-0f01-4eb9-83f1-25e6ce764950",
   "metadata": {},
   "outputs": [],
   "source": [
    "### focando no processo A, vamos supor que o pA tenha tempos [1, 9, 14]\n",
    "### [1, 14] causado por B, e [9] por C"
   ]
  },
  {
   "cell_type": "code",
   "execution_count": 37,
   "id": "643d5b71-c6e9-4b38-8078-008428d7dc36",
   "metadata": {},
   "outputs": [],
   "source": [
    "def sweep(pa, pc):\n",
    "  events = []\n",
    "  for ia in pa:\n",
    "    events.append((ia, 'a'))\n",
    "  for ic in pc:\n",
    "    events.append((ic, 'c'))\n",
    "\n",
    "  lim = 4\n",
    "\n",
    "  events.sort()\n",
    "  #print(events)\n",
    "  mem = []\n",
    "  ret = []\n",
    "  for [t, e] in events:\n",
    "\n",
    "    if e == 'c':\n",
    "      if len(mem) >= lim:\n",
    "        mem.pop(0)\n",
    "      mem.append(t)\n",
    "\n",
    "    if e == 'a':\n",
    "      ## memoria ainda nao esta cheia:\n",
    "      if len(mem) < lim:\n",
    "        continue\n",
    "      ## recupere os deltas desse tempo para o tempo causa\n",
    "      pp = []\n",
    "      for tc in mem:\n",
    "        pp.append(t - tc)\n",
    "      ret.append(pp)\n",
    "\n",
    "  return ret\n",
    "\n",
    "\n",
    "# s3 = sweep(p2, p3)\n",
    "# s4 = sweep(p2, p4)\n",
    "\n",
    "# for j, t in cur:\n",
    "#   causa = causes[cur][j]\n",
    "#   f = s[causa][j]\n",
    "\n",
    "# p1  = [1, 2.7, 4.8, 20]\n",
    "# p2  = [0.5, 3, 8, 10] # 40 - 20 + 40 - 4.8 = 20 + 35.2 = 55.2\n",
    "s = sweep(processes[1], processes[0])\n",
    "# s"
   ]
  },
  {
   "cell_type": "code",
   "execution_count": 38,
   "id": "70dbd8f7-857f-4977-bba4-247404267833",
   "metadata": {},
   "outputs": [],
   "source": [
    "def make_sweep_tensor(processes):\n",
    "\n",
    "    num_proc = len(processes)\n",
    "    dic = {}\n",
    "    for i in range(num_proc):\n",
    "        target = processes[i]\n",
    "        dic[i] = {}\n",
    "        for j in range(num_proc):\n",
    "            cause = processes[j]\n",
    "            dic[i][j] = sweep(target, cause)\n",
    "    return dic\n",
    "    "
   ]
  },
  {
   "cell_type": "code",
   "execution_count": 39,
   "id": "a872c900-0e30-493c-95c0-e94e3f00c896",
   "metadata": {},
   "outputs": [],
   "source": [
    "sweep_tensor = make_sweep_tensor(processes)"
   ]
  },
  {
   "cell_type": "code",
   "execution_count": 40,
   "id": "e753601c-848d-4ed8-8e8a-202bb1633e56",
   "metadata": {},
   "outputs": [],
   "source": [
    "# sweep_tensor"
   ]
  },
  {
   "cell_type": "code",
   "execution_count": 41,
   "id": "67ce047e-28f1-4e33-8b0f-8e415fbafc84",
   "metadata": {},
   "outputs": [],
   "source": [
    "# sweep(processes[0], processes[0])"
   ]
  },
  {
   "cell_type": "code",
   "execution_count": 42,
   "id": "f244e4f1-9e13-48ad-9804-d246a997eb99",
   "metadata": {},
   "outputs": [],
   "source": [
    "# s = F.gumbel_softmax(hard = True)"
   ]
  },
  {
   "cell_type": "code",
   "execution_count": 43,
   "id": "dfbe9b53-dd3f-4b2c-bf31-6f13eea352cc",
   "metadata": {},
   "outputs": [],
   "source": [
    "# def e_step(\n",
    "#     in_weights: torch.Tensor,\n",
    "#     points_current_pp: list[float]\n",
    "# ):\n",
    "    \n",
    "#     \"\"\"\n",
    "#     Return the causes for each event of the current_p\n",
    "    \n",
    "#     \"\"\"\n",
    "    \n",
    "#     n = len(points_current_pp)\n",
    "#     rv = []\n",
    "\n",
    "#     for i in range(n):\n",
    "#         cause = F.gumbel_softmax(\n",
    "#             in_weights,\n",
    "#             hard = True\n",
    "#         )\n",
    "#         cause = torch.argmax(cause, dim = 0)\n",
    "#         rv.append(cause)\n",
    "\n",
    "    \n",
    "    \n",
    "#     return rv\n",
    "\n",
    "# def em_step(\n",
    "    \n",
    "#     models: None, #nn.ModuleList,\n",
    "#     Granger: torch.Tensor,\n",
    "#     processes: list[list[float]]\n",
    "# ):\n",
    "#     n_proc = 3 \n",
    "#     causes = []\n",
    "\n",
    "#     for i_proc in range(n_proc):\n",
    "#         rv = e_step(\n",
    "#             Granger[i_proc],\n",
    "#             processes[i_proc]\n",
    "#         )\n",
    "#         causes.append(rv)\n",
    "    \n",
    "    \n",
    "#     for i_proc in range(n_proc):\n",
    "        \n",
    "#         causes_to_ith = causes[i_proc] ## causes of ith_proc\n",
    "#         model = models[i_proc]\n",
    "        \n",
    "#         for j, cause_to_ith in enumerate(causes_to_ith):\n",
    "#             effect_j_on_i = sweep_tensor[i_proc][cause_to_ith]\n",
    "#             if len(effect_j_on_i) < j:\n",
    "#                 X_to_pass = effect_j_on_i[j]\n",
    "#             else:\n",
    "#                 continue\n",
    "            \n",
    "\n",
    "#     return "
   ]
  },
  {
   "cell_type": "code",
   "execution_count": 44,
   "id": "87de5d75-bc2f-47c9-995f-a2b2857402c2",
   "metadata": {},
   "outputs": [],
   "source": [
    "g = torch.rand(size = (3,))\n",
    "\n",
    "def e_step(in_weights: torch.Tensor, points_current_pp):\n",
    "        \n",
    "        \"\"\"\n",
    "        Return the causes for each event of the current_p\n",
    "        \n",
    "        \"\"\"\n",
    "        \n",
    "        n = len(points_current_pp)\n",
    "        rv = []\n",
    "    \n",
    "        for i in range(n):\n",
    "            cause = F.gumbel_softmax(\n",
    "                in_weights,\n",
    "                hard = False\n",
    "            )\n",
    "            #cause = torch.argmax(cause, dim = 0)\n",
    "            rv.append(cause)\n",
    "    \n",
    "        \n",
    "        \n",
    "        return rv"
   ]
  },
  {
   "cell_type": "code",
   "execution_count": 45,
   "id": "58bb768e-8947-4df3-b6b8-7cfda69a40a5",
   "metadata": {},
   "outputs": [
    {
     "data": {
      "text/plain": [
       "[tensor([0.7184, 0.0603, 0.2213]),\n",
       " tensor([0.3113, 0.3383, 0.3504]),\n",
       " tensor([0.5024, 0.3349, 0.1627]),\n",
       " tensor([0.7497, 0.1283, 0.1220]),\n",
       " tensor([0.0375, 0.9564, 0.0061]),\n",
       " tensor([0.6208, 0.1119, 0.2674]),\n",
       " tensor([0.9131, 0.0100, 0.0770]),\n",
       " tensor([0.9830, 0.0097, 0.0072]),\n",
       " tensor([0.7338, 0.1913, 0.0750]),\n",
       " tensor([0.8841, 0.0841, 0.0318]),\n",
       " tensor([0.0230, 0.5641, 0.4129]),\n",
       " tensor([0.2843, 0.4878, 0.2278]),\n",
       " tensor([0.1280, 0.4304, 0.4415]),\n",
       " tensor([0.8842, 0.0094, 0.1065]),\n",
       " tensor([0.4301, 0.2458, 0.3241]),\n",
       " tensor([0.2742, 0.4079, 0.3179]),\n",
       " tensor([0.4763, 0.3662, 0.1576]),\n",
       " tensor([0.3614, 0.5046, 0.1340]),\n",
       " tensor([0.0720, 0.9091, 0.0189]),\n",
       " tensor([0.6323, 0.1609, 0.2068]),\n",
       " tensor([0.3141, 0.5760, 0.1099])]"
      ]
     },
     "execution_count": 45,
     "metadata": {},
     "output_type": "execute_result"
    }
   ],
   "source": [
    "teste = e_step(g, processes[0])\n",
    "teste"
   ]
  },
  {
   "cell_type": "code",
   "execution_count": 46,
   "id": "40ca4424-f4f5-46ab-afdc-5ef349f64e29",
   "metadata": {
    "scrolled": true
   },
   "outputs": [],
   "source": [
    "causes = []\n",
    "for i_proc in range(3):\n",
    "    rv = e_step(\n",
    "        g,\n",
    "        processes[i_proc]\n",
    "    )\n",
    "    causes.append(rv)"
   ]
  },
  {
   "cell_type": "code",
   "execution_count": 47,
   "id": "1decfb6c-0a57-46fb-ab06-3e241e280652",
   "metadata": {},
   "outputs": [
    {
     "data": {
      "text/plain": [
       "15"
      ]
     },
     "execution_count": 47,
     "metadata": {},
     "output_type": "execute_result"
    }
   ],
   "source": [
    "len(causes[2])"
   ]
  },
  {
   "cell_type": "code",
   "execution_count": 187,
   "id": "7b598d71-6331-4512-8a1b-24f433b46be9",
   "metadata": {},
   "outputs": [],
   "source": [
    "class GrangerMPP(nn.Module):\n",
    "\n",
    "    def __init__(self, processes, memory_dim : int = 4):\n",
    "        \n",
    "        super().__init__()\n",
    "        \n",
    "        self.processes = processes\n",
    "        self.memory_dim = memory_dim\n",
    "        self.n_processes = len(self.processes)\n",
    "        self.GrangerMatrix = nn.Parameter(nn.Softmax(dim = 1)(nn.Parameter(torch.Tensor(self.n_processes, self.n_processes))))\n",
    "        self.models = nn.ModuleList([maf_dsf.MAF(p = memory_dim, flowtype = 'ddsf') for i in range(self.n_processes)])\n",
    "        self.sweep_dict = self.make_sweep_dict()\n",
    "\n",
    "        self.optimizers = [torch.optim.Adam(list(self.models[i].parameters()) + [self.GrangerMatrix], lr=1e-4) for i in range(self.n_processes)]\n",
    "\n",
    "\n",
    "    def e_step(self, in_weights: torch.Tensor, points_current_pp):\n",
    "        \n",
    "        \"\"\"\n",
    "        Return the causes for each event of the current_p\n",
    "        \n",
    "        \"\"\"\n",
    "        \n",
    "        n = len(points_current_pp)\n",
    "        rv = []\n",
    "    \n",
    "        for i in range(n):\n",
    "            cause = F.gumbel_softmax(\n",
    "                in_weights,\n",
    "                hard = False\n",
    "            )\n",
    "            #cause = torch.argmax(cause, dim = 0)\n",
    "            rv.append(cause)\n",
    "    \n",
    "        \n",
    "        \n",
    "        return rv\n",
    "\n",
    "    def em_step(self, n_steps):\n",
    "        dic = {}\n",
    "        \n",
    "        for i in range(self.n_processes):\n",
    "            dic[i] = []\n",
    "        \n",
    "        for step in range(n_steps):\n",
    "            self.causes = []\n",
    "            \n",
    "            for i_proc in range(self.n_processes):\n",
    "                rv = self.e_step(\n",
    "                    self.GrangerMatrix[i_proc],\n",
    "                    self.processes[i_proc]\n",
    "                )\n",
    "                self.causes.append(rv)\n",
    "            \n",
    "            \n",
    "            for i_proc in range(self.n_processes):\n",
    "                \n",
    "                causes_to_ith = self.causes[i_proc].copy() ## causes of ith_proc                \n",
    "                for j, cause_to_ith in enumerate(causes_to_ith):\n",
    "                    \n",
    "                    for proc_cause, cause_rank in enumerate(cause_to_ith):\n",
    "                        \n",
    "                        effect_j_on_i = self.sweep_dict[i_proc][proc_cause]                        \n",
    "                        \n",
    "                        if (proc_cause == i_proc) and j>=4:\n",
    "                            X_to_pass = processes[i_proc][j - 4 : j]\n",
    "                            X_to_pass = X_to_pass.flip(dims = (0,)) - X_to_pass[0]\n",
    "                            \n",
    "                            loss = self.m_step(i_proc, X_to_pass.unsqueeze(0), cause_rank)\n",
    "                            dic[i_proc].append(loss)\n",
    "                            \n",
    "                        elif len(effect_j_on_i) > j:\n",
    "                            X_to_pass = effect_j_on_i[j]\n",
    "                            \n",
    "                            loss = self.m_step(i_proc,  X_to_pass.unsqueeze(0), cause_rank)\n",
    "                            #print(f'Loss: {loss}')\n",
    "                            dic[i_proc].append(loss)\n",
    "                    \n",
    "                \n",
    "                if (step + 1) % 25 == 0 or step == 0:\n",
    "                                print(f'Step: {step + 1}, Model: {i_proc}, Loss: {loss}')\n",
    "                    \n",
    "    \n",
    "        return dic\n",
    "\n",
    "    def m_step(self, i_proc, X, cause_rank):\n",
    "\n",
    "        model = self.models[i_proc]\n",
    "        \n",
    "        optimizer = self.optimizers[i_proc]\n",
    "        optimizer.zero_grad()\n",
    "        \n",
    "        z, l = model.density(X)\n",
    "        loss = l*cause_rank\n",
    "        \n",
    "        if not (torch.isnan(loss) | torch.isinf(loss)):\n",
    "            loss.backward(retain_graph = True)\n",
    "            optimizer.step()\n",
    "        \n",
    "        else:\n",
    "            print(f'NaN found in epoch: {step}')    \n",
    "\n",
    "        return loss.item()\n",
    "\n",
    "    # def get_loss(self, model, X):\n",
    "\n",
    "    #     z, loss = model.density(X)\n",
    "        \n",
    "    #     if not (torch.isnan(loss) | torch.isinf(loss)):\n",
    "    #         return loss\n",
    "        \n",
    "    #     return torch.Tensor(0)\n",
    "            \n",
    "\n",
    "    def make_sweep_dict(self):\n",
    "        \n",
    "        dic = {}\n",
    "        for i in range(self.n_processes):\n",
    "            target = processes[i]\n",
    "            dic[i] = {}\n",
    "            for j in range(self.n_processes):\n",
    "                cause = self.processes[j]\n",
    "                dic[i][j] = self.sweep(target, cause)\n",
    "        return dic\n",
    "\n",
    "\n",
    "    def sweep(self, pa, pc):\n",
    "      events = []\n",
    "      for ia in pa:\n",
    "        events.append((ia, 'a'))\n",
    "      for ic in pc:\n",
    "        events.append((ic, 'c'))\n",
    "    \n",
    "      lim = 4\n",
    "    \n",
    "      events.sort()\n",
    "      mem = []\n",
    "      ret = []\n",
    "      for [t, e] in events:\n",
    "    \n",
    "        if e == 'c':\n",
    "          if len(mem) >= lim:\n",
    "            mem.pop(0)\n",
    "          mem.append(t)\n",
    "    \n",
    "        if e == 'a':\n",
    "          ## memoria ainda nao esta cheia:\n",
    "          if len(mem) < lim:\n",
    "            continue\n",
    "          ## recupere os deltas desse tempo para o tempo causa\n",
    "          pp = []\n",
    "          for tc in mem:\n",
    "            pp.append(t - tc)\n",
    "          ret.append(pp)\n",
    "    \n",
    "      return torch.tensor(ret, dtype = torch.float)"
   ]
  },
  {
   "cell_type": "code",
   "execution_count": 188,
   "id": "d8352769-ccac-4f6f-b833-bcd4d8756f58",
   "metadata": {
    "scrolled": true
   },
   "outputs": [
    {
     "name": "stdout",
     "output_type": "stream",
     "text": [
      "Step: 1, Model: 0, Loss: 6.064395904541016\n",
      "Step: 1, Model: 1, Loss: 5.022706031799316\n",
      "Step: 1, Model: 2, Loss: 5.6060895919799805\n",
      "Step: 25, Model: 0, Loss: 2.0064473152160645\n",
      "Step: 25, Model: 1, Loss: 4.504408359527588\n",
      "Step: 25, Model: 2, Loss: 2.7982637882232666\n",
      "Step: 50, Model: 0, Loss: 3.8640880584716797\n",
      "Step: 50, Model: 1, Loss: 1.0561493635177612\n",
      "Step: 50, Model: 2, Loss: 1.1401634216308594\n"
     ]
    }
   ],
   "source": [
    "s = GrangerMPP(processes)\n",
    "l = s.em_step(n_steps = 50)"
   ]
  },
  {
   "cell_type": "code",
   "execution_count": 186,
   "id": "e838c2b7-eae4-4865-881b-6d6ac492bfcd",
   "metadata": {},
   "outputs": [
    {
     "data": {
      "text/plain": [
       "tensor([[6., 3., 2., 1.],\n",
       "        [7., 6., 5., 4.],\n",
       "        [9., 8., 7., 3.],\n",
       "        [9., 8., 4., 1.],\n",
       "        [9., 5., 2., 1.],\n",
       "        [6., 3., 2., 1.],\n",
       "        [4., 3., 2., 1.],\n",
       "        [4., 3., 2., 1.],\n",
       "        [4., 3., 2., 1.],\n",
       "        [5., 4., 3., 2.],\n",
       "        [5., 4., 3., 1.],\n",
       "        [5., 4., 2., 1.],\n",
       "        [5., 3., 2., 1.],\n",
       "        [5., 4., 3., 2.],\n",
       "        [5., 4., 3., 1.],\n",
       "        [5., 4., 2., 1.],\n",
       "        [5., 3., 2., 1.]])"
      ]
     },
     "execution_count": 186,
     "metadata": {},
     "output_type": "execute_result"
    }
   ],
   "source": [
    "s.sweep_dict[0][0]"
   ]
  },
  {
   "cell_type": "code",
   "execution_count": 184,
   "id": "0a021efe-fd0b-4c75-9241-aa75d615139f",
   "metadata": {},
   "outputs": [
    {
     "data": {
      "text/plain": [
       "21"
      ]
     },
     "execution_count": 184,
     "metadata": {},
     "output_type": "execute_result"
    }
   ],
   "source": [
    "len(processes[0])"
   ]
  },
  {
   "cell_type": "code",
   "execution_count": 189,
   "id": "c7e33ef6-ceb9-4439-ba04-d858d9f777ea",
   "metadata": {},
   "outputs": [
    {
     "data": {
      "image/png": "[encoded data removed]",
      "text/plain": [
       "<Figure size 640x480 with 3 Axes>"
      ]
     },
     "metadata": {},
     "output_type": "display_data"
    }
   ],
   "source": [
    "fig, ax = plt.subplots(nrows = 3, sharex = True)\n",
    "\n",
    "from matplotlib.gridspec import GridSpec\n",
    "\n",
    "_plot_tick_bars(X1, ax[0], color = 'red')\n",
    "_plot_tick_bars(X2, ax[1], color = 'green')\n",
    "_plot_tick_bars(X3, ax[2], color = 'blue')"
   ]
  },
  {
   "cell_type": "code",
   "execution_count": 190,
   "id": "96bc151e-02f9-43a8-8030-340c6d32676d",
   "metadata": {},
   "outputs": [
    {
     "data": {
      "image/png": "[encoded data removed]",
      "text/plain": [
       "<Figure size 640x480 with 1 Axes>"
      ]
     },
     "metadata": {},
     "output_type": "display_data"
    }
   ],
   "source": [
    "colors = ['red', 'green', 'blue']\n",
    "for i in range(3):\n",
    "    plt.plot(l[i], color = colors[i])"
   ]
  },
  {
   "cell_type": "code",
   "execution_count": null,
   "id": "60825020-2029-4916-8295-827f6dccbfdc",
   "metadata": {},
   "outputs": [],
   "source": []
  },
  {
   "cell_type": "code",
   "execution_count": 192,
   "id": "f6977aa3-6962-46d8-b141-10322bf1d5c0",
   "metadata": {},
   "outputs": [
    {
     "data": {
      "text/plain": [
       "Parameter containing:\n",
       "tensor([[0.9268, 0.0651, 0.0126],\n",
       "        [0.0215, 0.7228, 0.2608],\n",
       "        [0.0379, 0.0307, 0.9455]], requires_grad=True)"
      ]
     },
     "execution_count": 192,
     "metadata": {},
     "output_type": "execute_result"
    }
   ],
   "source": [
    "s.GrangerMatrix"
   ]
  },
  {
   "cell_type": "code",
   "execution_count": 86,
   "id": "3a70ea3c-9556-4262-986a-b7a0fb541c75",
   "metadata": {},
   "outputs": [],
   "source": [
    "# "
   ]
  },
  {
   "cell_type": "code",
   "execution_count": 123,
   "id": "e17d12db-0a20-4278-b974-41d1dd70549b",
   "metadata": {},
   "outputs": [
    {
     "data": {
      "text/plain": [
       "[tensor(2),\n",
       " tensor(2),\n",
       " tensor(1),\n",
       " tensor(2),\n",
       " tensor(0),\n",
       " tensor(0),\n",
       " tensor(1),\n",
       " tensor(0),\n",
       " tensor(1),\n",
       " tensor(1),\n",
       " tensor(2),\n",
       " tensor(2),\n",
       " tensor(1),\n",
       " tensor(0),\n",
       " tensor(0),\n",
       " tensor(1),\n",
       " tensor(1),\n",
       " tensor(0),\n",
       " tensor(2),\n",
       " tensor(0),\n",
       " tensor(0)]"
      ]
     },
     "execution_count": 123,
     "metadata": {},
     "output_type": "execute_result"
    }
   ],
   "source": [
    "s.causes[0]"
   ]
  },
  {
   "cell_type": "code",
   "execution_count": 106,
   "id": "64d22837-16b6-484b-a8c2-3eb70491f04e",
   "metadata": {},
   "outputs": [
    {
     "data": {
      "text/plain": [
       "<matplotlib.colorbar.Colorbar at 0x7f50f6266b00>"
      ]
     },
     "execution_count": 106,
     "metadata": {},
     "output_type": "execute_result"
    },
    {
     "data": {
      "image/png": "[encoded data removed]",
      "text/plain": [
       "<Figure size 640x480 with 2 Axes>"
      ]
     },
     "metadata": {},
     "output_type": "display_data"
    }
   ],
   "source": [
    "plt.imshow(s.GrangerMatrix.detach().cpu().numpy())\n",
    "plt.axis('off')\n",
    "plt.colorbar()"
   ]
  },
  {
   "cell_type": "code",
   "execution_count": 34,
   "id": "e620d8a4-1bc5-433a-8489-0465de8464d5",
   "metadata": {},
   "outputs": [
    {
     "data": {
      "text/plain": [
       "torch.float32"
      ]
     },
     "execution_count": 34,
     "metadata": {},
     "output_type": "execute_result"
    }
   ],
   "source": [
    "processes[0].dtype"
   ]
  }
 ],
 "metadata": {
  "kernelspec": {
   "display_name": "jpt",
   "language": "python",
   "name": "jpt"
  },
  "language_info": {
   "codemirror_mode": {
    "name": "ipython",
    "version": 3
   },
   "file_extension": ".py",
   "mimetype": "text/x-python",
   "name": "python",
   "nbconvert_exporter": "python",
   "pygments_lexer": "ipython3",
   "version": "3.10.14"
  }
 },
 "nbformat": 4,
 "nbformat_minor": 5
}
