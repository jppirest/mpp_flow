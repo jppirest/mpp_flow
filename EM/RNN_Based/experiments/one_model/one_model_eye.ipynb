{
 "cells": [
  {
   "cell_type": "code",
   "execution_count": 1,
   "id": "88fa258d-c31e-4cff-a543-fae428fe4b93",
   "metadata": {},
   "outputs": [],
   "source": [
    "import numpy as np\n",
    "import matplotlib.pyplot as plt\n",
    "\n",
    "# Set random seed for reproducibility\n",
    "np.random.seed(42)\n",
    "\n",
    "# Parameters\n",
    "n_points = 800 # Number of time points\n",
    "time = np.arange(n_points)\n",
    "\n",
    "# Generate base binary time series using Bernoulli distribution\n",
    "X1 = np.random.binomial(1, 0.6, n_points)\n",
    "X2 = np.zeros(n_points)\n",
    "X3 = np.zeros(n_points)\n",
    "\n",
    "# Introduce causal relationships\n",
    "for t in range(1, n_points):\n",
    "    # X2 is more likely to happen if X1 happened in the previous step\n",
    "    X2[t] = np.random.binomial(1, 0.8 * X1[t-1])\n",
    "    # X3 is more likely to happen if X2 happened in the previous step\n",
    "    X3[t] = np.random.binomial(1, 0.7 * X2[t-1] )\n",
    "\n",
    "\n",
    "#print(X1)\n",
    "\n",
    "X1 = [time[i] for i in range(len(X1)) if X1[i] > 0]\n",
    "X2 = [time[i] + 0.1 for i in range(len(X2)) if X2[i] > 0]\n",
    "X3 = [time[i] + 0.2 for i in range(len(X3)) if X3[i] > 0]"
   ]
  },
  {
   "cell_type": "code",
   "execution_count": 2,
   "id": "85c66ed5-4c64-415d-b060-5bdf06d5e68d",
   "metadata": {},
   "outputs": [
    {
     "data": {
      "image/png": "[encoded data removed]",
      "text/plain": [
       "<Figure size 640x480 with 3 Axes>"
      ]
     },
     "metadata": {},
     "output_type": "display_data"
    }
   ],
   "source": [
    "def _plot_tick_bars(timestamps_i, ax, color):\n",
    "    for t in timestamps_i:\n",
    "        ax.axvline(x=t, color = color)\n",
    "    # ax.set_title(label, fontsize=20)\n",
    "    ax.get_yaxis().set_visible(False)\n",
    "def _plot_tick_bars_causes(timestamps_i, ax, cause):\n",
    "    colors = ['red', 'green', 'blue']\n",
    "    for idx, t in enumerate(timestamps_i):\n",
    "        cause_ = torch.argmax(cause[idx]).item()\n",
    "        ax.axvline(x=t, color = colors[cause_])\n",
    "    ax.get_yaxis().set_visible(False)\n",
    "\n",
    "fig, ax = plt.subplots(nrows = 3, sharex = True)\n",
    "\n",
    "_plot_tick_bars(X1, ax[0], color = 'red')\n",
    "_plot_tick_bars(X2, ax[1], color = 'green')\n",
    "_plot_tick_bars(X3, ax[2], color = 'blue')"
   ]
  },
  {
   "cell_type": "code",
   "execution_count": 3,
   "id": "b1a6a48f-ac51-4f35-b834-d83ca5145426",
   "metadata": {},
   "outputs": [],
   "source": [
    "import torch\n",
    "import torch.nn as nn\n",
    "import torch.nn.functional as F\n",
    "from torch.nn.utils.rnn import pad_sequence\n",
    "from torch.utils.data import DataLoader\n",
    "\n",
    "if torch.cuda.is_available():\n",
    "    torch.set_default_tensor_type(\"torch.cuda.FloatTensor\")\n",
    "    device = \"cuda\"\n",
    "else:\n",
    "    torch.set_default_tensor_type(\"torch.FloatTensor\")\n",
    "    device = \"cpu\"\n",
    "    "
   ]
  },
  {
   "cell_type": "code",
   "execution_count": 4,
   "id": "7749ccfc-6d6b-4376-9003-14aa3a73b1e8",
   "metadata": {},
   "outputs": [],
   "source": [
    "import torch \n",
    "\n",
    "class ProbRNN(nn.Module):\n",
    "    def __init__(self, memory_size, gmm_size : int = 20):\n",
    "        super().__init__()\n",
    "\n",
    "        self.gmm_size = memory_size\n",
    "        self.memory_size = memory_size\n",
    "        self.linear = nn.Sequential(nn.Linear(self.memory_size, 64), nn.LayerNorm(64), nn.Tanh())\n",
    "        self.lstm = nn.GRU(input_size = 64, hidden_size = 128, num_layers = 2, batch_first = True)\n",
    "        self.lstm_norm = nn.LayerNorm(128)\n",
    "        self.linear_mu = nn.Sequential(nn.Linear(128, self.gmm_size), nn.LayerNorm(self.gmm_size))\n",
    "        self.linear_std = nn.Sequential(nn.Linear(128, self.gmm_size), nn.LayerNorm(self.gmm_size))\n",
    "        self.linear_gmm_weights = nn.Sequential(nn.Linear(128, self.gmm_size), nn.LayerNorm(self.gmm_size), nn.Softmax(dim = 1))\n",
    "        \n",
    "\n",
    "    def forward(self, x):\n",
    "      debug_x = x.clone()\n",
    "      x = self.linear(x)\n",
    "      x, _ = self.lstm(x)\n",
    "      x = self.lstm_norm(x)\n",
    "      mu = self.linear_mu(x)\n",
    "      # print(mu)\n",
    "      std = self.linear_std(x)\n",
    "      std = torch.exp(std)\n",
    "      gmm_weights = self.linear_gmm_weights(x)\n",
    "      if torch.isnan(mu).any() or torch.isnan(std).any():\n",
    "          print(mu, std, debug_x)\n",
    "\n",
    "\n",
    "      mix_dist = self.build_distrib(mu, std, gmm_weights)\n",
    "\n",
    "      new_X = self.sample(mu, std)\n",
    "      log_prob = mix_dist.log_prob(new_X)\n",
    "\n",
    "    \n",
    "      return new_X, log_prob\n",
    "\n",
    "\n",
    "    def build_distrib(self, mus, stds, gmm_weights):\n",
    "      \n",
    "      \n",
    "      \n",
    "      component_dist = torch.distributions.Normal(mus.T, stds.T)\n",
    "      mix_weight = torch.distributions.Categorical(gmm_weights.T)\n",
    "      mix_dist = torch.distributions.MixtureSameFamily(mix_weight, component_dist)\n",
    "      self.mix_dist = mix_dist\n",
    "      \n",
    "\n",
    "      return mix_dist\n",
    "\n",
    "    def sample(self, mu, std):\n",
    "      size = (std.size(0),)\n",
    "\n",
    "      X =  mu + self.mix_dist.sample(size)*std\n",
    "\n",
    "      return X\n"
   ]
  },
  {
   "cell_type": "code",
   "execution_count": 5,
   "id": "f67fd288-e6e7-4a1c-8144-bd7aae098751",
   "metadata": {},
   "outputs": [],
   "source": [
    "rede = ProbRNN(memory_size=10)\n",
    "# sum(p.numel() for p in rede.parameters())"
   ]
  },
  {
   "cell_type": "code",
   "execution_count": 6,
   "id": "96fbc7f8",
   "metadata": {},
   "outputs": [],
   "source": [
    "x_ = torch.rand(size = (20,10))\n",
    "\n",
    "a, b = rede(x_)"
   ]
  },
  {
   "cell_type": "code",
   "execution_count": 7,
   "id": "a0706fac",
   "metadata": {},
   "outputs": [
    {
     "data": {
      "text/plain": [
       "torch.Size([20])"
      ]
     },
     "execution_count": 7,
     "metadata": {},
     "output_type": "execute_result"
    }
   ],
   "source": [
    "b.sum(axis = 1).shape"
   ]
  },
  {
   "cell_type": "code",
   "execution_count": 8,
   "id": "8ed764e6-a3a4-409a-988c-d9d8dae769b4",
   "metadata": {},
   "outputs": [],
   "source": [
    "X1_ = torch.tensor(X1.copy(), dtype = torch.float32)\n",
    "X2_ = torch.tensor(X2.copy(), dtype = torch.float32)\n",
    "X3_ = torch.tensor(X3.copy(), dtype = torch.float32)\n",
    "processes = [X1_, X2_, X3_]"
   ]
  },
  {
   "cell_type": "code",
   "execution_count": 11,
   "id": "7b598d71-6331-4512-8a1b-24f433b46be9",
   "metadata": {},
   "outputs": [],
   "source": [
    "class GrangerMPP(nn.Module):\n",
    "\n",
    "    def __init__(self, processes, memory_dim : int = 10):\n",
    "        \n",
    "        super().__init__()\n",
    "        \n",
    "        self.processes = processes\n",
    "        self.memory_dim = memory_dim\n",
    "        self.n_processes = len(self.processes)\n",
    "        #initial_matrix = torch.empty(self.n_processes, self.n_processes)\n",
    "        #nn.init.normal_(initial_matrix, mean=0.0, std=0.1)\n",
    "\n",
    "        # Apply softmax along dim=1 to ensure each row sums to 1\n",
    "        #self.GrangerMatrix = nn.Parameter(initial_matrix)\n",
    "        self.GrangerMatrix = nn.Parameter((torch.eye(self.n_processes)))\n",
    "        # nn.init.normal_(self.GrangerMatrix, mean=0.0, std=0.5)\n",
    "        # nn.init.ones_(self.GrangerMatrix)\n",
    "        \n",
    "        self.model = ProbRNN(self.memory_dim) \n",
    "        self.sweep_dict = self.make_sweep_dict()\n",
    "        self.optimizer = torch.optim.Adam(list(self.model.parameters()) + [self.GrangerMatrix], lr=1e-4, weight_decay = 1e-5) \n",
    "        # self.g_optimizer = torch.optim.Adam([self.GrangerMatrix], lr=1e-4, weight_decay=1e-5)\n",
    "        self.log_GrangerMatrix = []\n",
    "        \n",
    "    def e_step(self, i_proc, points_current_pp):\n",
    "        \n",
    "        \"\"\"\n",
    "        Return the causes for each event of the current_p\n",
    "        \n",
    "        \"\"\"\n",
    "        \n",
    "        n = len(points_current_pp)\n",
    "        rv = []\n",
    "        in_weights = nn.Softmax(dim = 0)(self.GrangerMatrix[i_proc])\n",
    "        #self.GrangerMatrix[i_proc] = in_weights\n",
    "        \n",
    "        in_ = in_weights\n",
    "        \n",
    "        for i in range(n):\n",
    "            # in_ = in_weights#nn.Tanh()(in_weights)\n",
    "            cause = F.gumbel_softmax(\n",
    "                in_,\n",
    "                tau = 1,\n",
    "                hard = False\n",
    "            )\n",
    "            rv.append(cause)\n",
    "        \n",
    "        return rv\n",
    "\n",
    "    def em_step(self, n_steps):\n",
    "        dic = {}\n",
    "        \n",
    "        for i in range(self.n_processes):\n",
    "            dic[i] = []\n",
    "        \n",
    "        for step in range(n_steps):\n",
    "            self.causes = []\n",
    "            for i_proc in range(self.n_processes):\n",
    "                rv = self.e_step(\n",
    "                    i_proc,\n",
    "                    self.processes[i_proc]\n",
    "                )\n",
    "                self.causes.append(rv)\n",
    "            \n",
    "            \n",
    "            for i_proc in range(self.n_processes):\n",
    "                \n",
    "                batch_list = self.get_batch_list(i_proc)\n",
    "                self.batch_size = 30\n",
    "                dataloader = self.make_dl(batch_list = batch_list, batch_size = self.batch_size, drop_last = False)\n",
    "                self.dataloader = dataloader\n",
    "                \n",
    "                for _, (X, cause_rank) in enumerate(dataloader):\n",
    "\n",
    "                    reg_term = len(self.processes[i_proc])\n",
    "                    loss = self.m_step(i_proc, X, cause_rank) \n",
    "                    dic[i_proc].append(loss)\n",
    "                \n",
    "                if (step + 1) % 5 == 0 or step == 0:\n",
    "                    print(f'Step: {step + 1}, Model: {i_proc}, Loss: {loss}')\n",
    "                    \n",
    "            #self.log_GrangerMatrix.append(self.GrangerMatrix)\n",
    "        \n",
    "        return dic\n",
    "\n",
    "    def m_step(self, i_proc, X, cause_rank):\n",
    "\n",
    "        model = self.model\n",
    "        self.optimizer.zero_grad()\n",
    "        \n",
    "        z, loss = model(X)\n",
    "        loss = -1*loss.sum(axis = 1)\n",
    "        loss_rnn = (loss * cause_rank).sum()/self.batch_size #+ mpp.GrangerMatrix.norm(p=2)\n",
    "       \n",
    "        \n",
    "        if not (torch.isnan(loss_rnn) | torch.isinf(loss_rnn)):\n",
    "\n",
    "            \n",
    "            loss_rnn.backward(retain_graph = True)\n",
    "            \n",
    "            self.optimizer.step()\n",
    "            #self.g_optimizers[i_proc].step()\n",
    "\n",
    "            self.log_GrangerMatrix.append(self.GrangerMatrix.clone().detach())\n",
    "            \n",
    "        \n",
    "        else:\n",
    "            print(f'NaN found in epoch: {step}')    \n",
    "\n",
    "        return loss_rnn.item()\n",
    "\n",
    "    def make_sweep_dict(self):\n",
    "        \n",
    "        dic = {}\n",
    "        for i in range(self.n_processes):\n",
    "            target = processes[i]\n",
    "            dic[i] = {}\n",
    "            for j in range(self.n_processes):\n",
    "                cause = self.processes[j]\n",
    "                dic[i][j] = self.sweep(target, cause)\n",
    "        return dic\n",
    "\n",
    "\n",
    "    def sweep(self, pa, pc):\n",
    "        events = []\n",
    "        pa_indices = []  \n",
    "    \n",
    "        \n",
    "        for i, ia in enumerate(pa):\n",
    "            events.append((ia, 'a'))\n",
    "            pa_indices.append(i)  \n",
    "    \n",
    "        for ic in pc:\n",
    "            events.append((ic, 'c'))\n",
    "    \n",
    "        lim = self.memory_dim\n",
    "    \n",
    "        events.sort()\n",
    "        mem = []\n",
    "        ret = []\n",
    "        indices = []  # List to store indices relative to pa\n",
    "    \n",
    "        pa_idx_counter = 0  # Counter to track which index in pa we are at\n",
    "    \n",
    "        for t, e in events:\n",
    "            if e == 'c':\n",
    "                if len(mem) >= lim:\n",
    "                    mem.pop(0)\n",
    "                mem.append(t)\n",
    "    \n",
    "            if e == 'a':\n",
    "                # Memory is not full yet\n",
    "                if len(mem) < lim:\n",
    "                    pa_idx_counter += 1  # Move to the next pa index\n",
    "                    continue\n",
    "                # Retrieve deltas from this time to the cause times\n",
    "                pp = [t - tc for tc in mem]\n",
    "                ret.append(pp)\n",
    "                indices.append(pa_indices[pa_idx_counter])  # Save index relative to pa\n",
    "                pa_idx_counter += 1  # Move to the next pa index\n",
    "    \n",
    "        return torch.tensor(ret, dtype=torch.float), indices\n",
    "\n",
    "    def get_batch_list(self, i_proc):\n",
    "    \n",
    "      batch_list = []\n",
    "      dic = self.sweep_dict\n",
    "      causes = self.causes[i_proc]\n",
    "      \n",
    "      for idx in range(len(causes)):\n",
    "          full = True\n",
    "          n_causes = causes[idx] \n",
    "          cur = []\n",
    "        \n",
    "          for idx_j, cause_rank in enumerate(n_causes):\n",
    "            \n",
    "            if idx < dic[i_proc][idx_j][1][0]: ## cannot cause target process\n",
    "                full =  False\n",
    "                new_causes = n_causes.detach().clone()\n",
    "                new_causes[idx_j] = 0.0\n",
    "                new_causes[i_proc] = 1.0\n",
    "                self.causes[i_proc][idx] = new_causes\n",
    "                # try:\n",
    "                #     where_in_tensor = dic[i_proc][i_proc][1].index(idx)\n",
    "                #     app = (dic[i_proc][i_proc][0][where_in_tensor], cause_rank.clone())\n",
    "                #     batch_list.append(app)\n",
    "                # except:\n",
    "                #     pass\n",
    "          \n",
    "            else:\n",
    "              where_in_tensor = dic[i_proc][idx_j][1].index(idx)\n",
    "              app = (dic[i_proc][idx_j][0][where_in_tensor], cause_rank.clone())\n",
    "              cur.append(app)\n",
    "          \n",
    "          # Add current timestamp to batch_list only if all other processes are already alive\n",
    "          if full:\n",
    "            batch_list.extend(cur)\n",
    "        \n",
    "      #print('IDX', foo)\n",
    "      #return Exception()\n",
    "      return batch_list\n",
    "    \n",
    "    def make_dl(self, batch_list : list, batch_size : int, drop_last : bool):\n",
    "    \n",
    "      dataloader = DataLoader(batch_list, batch_size = batch_size, drop_last = drop_last, shuffle = False)\n",
    "    \n",
    "      return dataloader"
   ]
  },
  {
   "cell_type": "code",
   "execution_count": 20,
   "id": "d8352769-ccac-4f6f-b833-bcd4d8756f58",
   "metadata": {
    "scrolled": true
   },
   "outputs": [
    {
     "name": "stdout",
     "output_type": "stream",
     "text": [
      "Step: 1, Model: 0, Loss: 1.7784391641616821\n",
      "Step: 1, Model: 1, Loss: 1.8317326307296753\n",
      "Step: 1, Model: 2, Loss: 3.7583179473876953\n",
      "Step: 5, Model: 0, Loss: 1.9947091341018677\n",
      "Step: 5, Model: 1, Loss: 0.8573932647705078\n",
      "Step: 5, Model: 2, Loss: 5.016520977020264\n",
      "Step: 10, Model: 0, Loss: 2.2909886837005615\n",
      "Step: 10, Model: 1, Loss: 1.125849962234497\n",
      "Step: 10, Model: 2, Loss: 3.046564817428589\n",
      "Step: 15, Model: 0, Loss: 2.5466387271881104\n",
      "Step: 15, Model: 1, Loss: 2.4932456016540527\n",
      "Step: 15, Model: 2, Loss: 3.786787509918213\n",
      "Step: 20, Model: 0, Loss: 2.7923941612243652\n",
      "Step: 20, Model: 1, Loss: 1.734178900718689\n",
      "Step: 20, Model: 2, Loss: 3.326133966445923\n",
      "Step: 25, Model: 0, Loss: 2.145451068878174\n",
      "Step: 25, Model: 1, Loss: 3.1513240337371826\n",
      "Step: 25, Model: 2, Loss: 5.131302833557129\n",
      "Step: 30, Model: 0, Loss: 1.4474519491195679\n",
      "Step: 30, Model: 1, Loss: 1.0486798286437988\n",
      "Step: 30, Model: 2, Loss: 2.31250262260437\n",
      "Step: 35, Model: 0, Loss: 2.428954601287842\n",
      "Step: 35, Model: 1, Loss: 0.47793906927108765\n",
      "Step: 35, Model: 2, Loss: 2.2688534259796143\n",
      "Step: 40, Model: 0, Loss: 1.3005698919296265\n",
      "Step: 40, Model: 1, Loss: 0.49571138620376587\n",
      "Step: 40, Model: 2, Loss: 2.8350720405578613\n",
      "Step: 45, Model: 0, Loss: 1.0178608894348145\n",
      "Step: 45, Model: 1, Loss: 0.42729660868644714\n",
      "Step: 45, Model: 2, Loss: 1.4373174905776978\n",
      "Step: 50, Model: 0, Loss: 0.6663839817047119\n",
      "Step: 50, Model: 1, Loss: 0.42616990208625793\n",
      "Step: 50, Model: 2, Loss: 0.9661514759063721\n",
      "Step: 55, Model: 0, Loss: 0.7634918689727783\n",
      "Step: 55, Model: 1, Loss: 0.27455851435661316\n",
      "Step: 55, Model: 2, Loss: 0.9291548132896423\n",
      "Step: 60, Model: 0, Loss: 0.3635149300098419\n",
      "Step: 60, Model: 1, Loss: 0.6282117366790771\n",
      "Step: 60, Model: 2, Loss: 0.10479255020618439\n",
      "Step: 65, Model: 0, Loss: 0.11518242955207825\n",
      "Step: 65, Model: 1, Loss: 0.2610083818435669\n",
      "Step: 65, Model: 2, Loss: -0.031361136585474014\n",
      "Step: 70, Model: 0, Loss: 0.15669506788253784\n",
      "Step: 70, Model: 1, Loss: 0.13264769315719604\n",
      "Step: 70, Model: 2, Loss: -0.2062048763036728\n",
      "Step: 75, Model: 0, Loss: 0.10032264143228531\n",
      "Step: 75, Model: 1, Loss: 0.10274188220500946\n",
      "Step: 75, Model: 2, Loss: -0.550434947013855\n",
      "Step: 80, Model: 0, Loss: 0.06600489467382431\n",
      "Step: 80, Model: 1, Loss: 0.03349686414003372\n",
      "Step: 80, Model: 2, Loss: -0.7219626903533936\n",
      "Step: 85, Model: 0, Loss: -0.08302676677703857\n",
      "Step: 85, Model: 1, Loss: 0.05969732627272606\n",
      "Step: 85, Model: 2, Loss: -0.6806880831718445\n",
      "Step: 90, Model: 0, Loss: -0.05240399390459061\n",
      "Step: 90, Model: 1, Loss: 0.08885318785905838\n",
      "Step: 90, Model: 2, Loss: -0.7130165100097656\n",
      "Step: 95, Model: 0, Loss: -0.0983155146241188\n",
      "Step: 95, Model: 1, Loss: 0.048757072538137436\n",
      "Step: 95, Model: 2, Loss: -0.9516664743423462\n",
      "Step: 100, Model: 0, Loss: -0.09395504742860794\n",
      "Step: 100, Model: 1, Loss: 0.003701722715049982\n",
      "Step: 100, Model: 2, Loss: -0.9234577417373657\n",
      "Step: 105, Model: 0, Loss: -0.19191177189350128\n",
      "Step: 105, Model: 1, Loss: -0.0898096114397049\n",
      "Step: 105, Model: 2, Loss: -1.124677300453186\n",
      "Step: 110, Model: 0, Loss: -0.25462591648101807\n",
      "Step: 110, Model: 1, Loss: -0.08960668742656708\n",
      "Step: 110, Model: 2, Loss: -1.6013641357421875\n",
      "Step: 115, Model: 0, Loss: -0.30510345101356506\n",
      "Step: 115, Model: 1, Loss: -0.08542245626449585\n",
      "Step: 115, Model: 2, Loss: -1.7169498205184937\n",
      "Step: 120, Model: 0, Loss: -0.36389607191085815\n",
      "Step: 120, Model: 1, Loss: -0.1203194111585617\n",
      "Step: 120, Model: 2, Loss: -2.142895221710205\n",
      "Step: 125, Model: 0, Loss: -0.44943708181381226\n",
      "Step: 125, Model: 1, Loss: -0.152699276804924\n",
      "Step: 125, Model: 2, Loss: -2.3224599361419678\n",
      "Step: 130, Model: 0, Loss: -0.46224647760391235\n",
      "Step: 130, Model: 1, Loss: -0.16904619336128235\n",
      "Step: 130, Model: 2, Loss: -1.906661868095398\n",
      "Step: 135, Model: 0, Loss: -0.2963383197784424\n",
      "Step: 135, Model: 1, Loss: -0.16706223785877228\n",
      "Step: 135, Model: 2, Loss: -2.353822708129883\n",
      "Step: 140, Model: 0, Loss: -0.529161810874939\n",
      "Step: 140, Model: 1, Loss: -0.18492920696735382\n",
      "Step: 140, Model: 2, Loss: -2.6133129596710205\n",
      "Step: 145, Model: 0, Loss: -0.43061333894729614\n",
      "Step: 145, Model: 1, Loss: -0.2400660663843155\n",
      "Step: 145, Model: 2, Loss: -2.7580389976501465\n",
      "Step: 150, Model: 0, Loss: -0.6581636667251587\n",
      "Step: 150, Model: 1, Loss: -0.2503504753112793\n",
      "Step: 150, Model: 2, Loss: -2.8008227348327637\n",
      "Step: 155, Model: 0, Loss: -0.7872433066368103\n",
      "Step: 155, Model: 1, Loss: -0.23799718916416168\n",
      "Step: 155, Model: 2, Loss: -3.019426107406616\n",
      "Step: 160, Model: 0, Loss: -0.6054818630218506\n",
      "Step: 160, Model: 1, Loss: -0.32640761137008667\n",
      "Step: 160, Model: 2, Loss: -2.8789732456207275\n",
      "Step: 165, Model: 0, Loss: -0.7047872543334961\n",
      "Step: 165, Model: 1, Loss: -0.3346245288848877\n",
      "Step: 165, Model: 2, Loss: -2.9599051475524902\n",
      "Step: 170, Model: 0, Loss: -0.7787203788757324\n",
      "Step: 170, Model: 1, Loss: -0.3693358898162842\n",
      "Step: 170, Model: 2, Loss: -2.370150566101074\n",
      "Step: 175, Model: 0, Loss: -0.9221406579017639\n",
      "Step: 175, Model: 1, Loss: -0.3501356840133667\n",
      "Step: 175, Model: 2, Loss: -3.3694708347320557\n",
      "Step: 180, Model: 0, Loss: -0.9481579661369324\n",
      "Step: 180, Model: 1, Loss: -0.37760478258132935\n",
      "Step: 180, Model: 2, Loss: -3.257049322128296\n",
      "Step: 185, Model: 0, Loss: -1.0248030424118042\n",
      "Step: 185, Model: 1, Loss: -0.4105636179447174\n",
      "Step: 185, Model: 2, Loss: -3.547546863555908\n",
      "Step: 190, Model: 0, Loss: -1.0727829933166504\n",
      "Step: 190, Model: 1, Loss: -0.4024212658405304\n",
      "Step: 190, Model: 2, Loss: -3.4012296199798584\n",
      "Step: 195, Model: 0, Loss: -1.0197598934173584\n",
      "Step: 195, Model: 1, Loss: -0.4484311640262604\n",
      "Step: 195, Model: 2, Loss: -3.0414867401123047\n",
      "Step: 200, Model: 0, Loss: -1.1366465091705322\n",
      "Step: 200, Model: 1, Loss: -0.4536416530609131\n",
      "Step: 200, Model: 2, Loss: -3.257075071334839\n"
     ]
    }
   ],
   "source": [
    "mpp = GrangerMPP(processes, memory_dim = 10)\n",
    "l = mpp.em_step(n_steps = 200)"
   ]
  },
  {
   "cell_type": "code",
   "execution_count": 86,
   "id": "d399934a",
   "metadata": {},
   "outputs": [],
   "source": [
    "# for _, (x,y) in enumerate(mpp.dataloader):\n",
    "#     print(x)\n",
    "#     print(y)\n",
    "#     if _ > 5:\n",
    "#         break"
   ]
  },
  {
   "cell_type": "code",
   "execution_count": 21,
   "id": "0c27daef-95e3-4359-ac3e-fde179c9ad0e",
   "metadata": {},
   "outputs": [
    {
     "name": "stdout",
     "output_type": "stream",
     "text": [
      "Len of losses: [9400, 7600, 5400]\n"
     ]
    },
    {
     "data": {
      "image/png": "[encoded data removed]",
      "text/plain": [
       "<Figure size 640x480 with 1 Axes>"
      ]
     },
     "metadata": {},
     "output_type": "display_data"
    }
   ],
   "source": [
    "colors = ['red', 'green', 'blue']\n",
    "for i in range(3):\n",
    "    plt.plot(l[i], color = colors[i])\n",
    "\n",
    "t = [len(l[i]) for i in range(3)]\n",
    "\n",
    "print(f'Len of losses: {t}')"
   ]
  },
  {
   "cell_type": "code",
   "execution_count": 22,
   "id": "a849d14a-fb46-4791-9b5d-74bb6a86bbfd",
   "metadata": {},
   "outputs": [
    {
     "data": {
      "image/png": "[encoded data removed]",
      "text/plain": [
       "<Figure size 640x480 with 1 Axes>"
      ]
     },
     "metadata": {},
     "output_type": "display_data"
    }
   ],
   "source": [
    "final = []\n",
    "for proc in range(3):\n",
    "    proc_size = len(processes[proc])\n",
    "    loss_size = len(l[proc])\n",
    "    temp = [ sum(l[proc][i:i + proc_size])/proc_size for i in range(0, loss_size - proc_size, proc_size)]\n",
    "    final.append(temp)\n",
    "\n",
    "colors = ['red', 'green', 'blue']\n",
    "for i in range(3):\n",
    "    plt.plot(final[i], color = colors[i])"
   ]
  },
  {
   "cell_type": "code",
   "execution_count": 23,
   "id": "c7e33ef6-ceb9-4439-ba04-d858d9f777ea",
   "metadata": {},
   "outputs": [
    {
     "data": {
      "image/png": "[encoded data removed]",
      "text/plain": [
       "<Figure size 640x480 with 3 Axes>"
      ]
     },
     "metadata": {},
     "output_type": "display_data"
    }
   ],
   "source": [
    "fig, ax = plt.subplots(nrows = 3, sharex = True)\n",
    "\n",
    "_plot_tick_bars(X1, ax[0], color = 'red')\n",
    "_plot_tick_bars(X2, ax[1], color = 'green')\n",
    "_plot_tick_bars(X3, ax[2], color = 'blue')"
   ]
  },
  {
   "cell_type": "code",
   "execution_count": 24,
   "id": "e17d12db-0a20-4278-b974-41d1dd70549b",
   "metadata": {},
   "outputs": [
    {
     "data": {
      "image/png": "[encoded data removed]",
      "text/plain": [
       "<Figure size 640x480 with 2 Axes>"
      ]
     },
     "metadata": {},
     "output_type": "display_data"
    }
   ],
   "source": [
    "fig, ax = plt.subplots(nrows=2, sharex = True)\n",
    "colors = ['red', 'green', 'blue']\n",
    "idx = 0\n",
    "proc_to_plot = processes[idx].detach().cpu().numpy()\n",
    "_plot_tick_bars(proc_to_plot, ax[0], color = colors[idx])\n",
    "_plot_tick_bars_causes(proc_to_plot, ax[1], cause = mpp.causes[idx])\n"
   ]
  },
  {
   "cell_type": "code",
   "execution_count": 34,
   "id": "2de6ed49-bef9-49bf-a906-1f60f7f46568",
   "metadata": {},
   "outputs": [],
   "source": [
    "# mpp.GrangerMatrix.detach().cpu().numpy()"
   ]
  },
  {
   "cell_type": "code",
   "execution_count": 25,
   "id": "851c5047-be73-4842-baef-130eddc2aed0",
   "metadata": {},
   "outputs": [
    {
     "data": {
      "text/plain": [
       "array([[0.5098961 , 0.25619146, 0.23391245],\n",
       "       [0.17548068, 0.6215934 , 0.2029259 ],\n",
       "       [0.18788582, 0.226886  , 0.5852282 ]], dtype=float32)"
      ]
     },
     "execution_count": 25,
     "metadata": {},
     "output_type": "execute_result"
    }
   ],
   "source": [
    "mpp.GrangerMatrix.softmax(dim = 1).detach().cpu().numpy()"
   ]
  },
  {
   "cell_type": "code",
   "execution_count": 284,
   "id": "64d22837-16b6-484b-a8c2-3eb70491f04e",
   "metadata": {},
   "outputs": [
    {
     "data": {
      "text/plain": [
       "<matplotlib.colorbar.Colorbar at 0x7f14efb85330>"
      ]
     },
     "execution_count": 284,
     "metadata": {},
     "output_type": "execute_result"
    },
    {
     "data": {
      "image/png": "[encoded data removed]",
      "text/plain": [
       "<Figure size 640x480 with 2 Axes>"
      ]
     },
     "metadata": {},
     "output_type": "display_data"
    }
   ],
   "source": [
    "X = mpp.GrangerMatrix.detach().cpu().numpy()\n",
    "X = (X.T/X.sum(axis = 1)).T\n",
    "plt.imshow(X)\n",
    "plt.axis('off')\n",
    "plt.colorbar()"
   ]
  },
  {
   "cell_type": "code",
   "execution_count": 93,
   "id": "3561311a-3428-4d2d-a973-5f03dac5b563",
   "metadata": {},
   "outputs": [
    {
     "data": {
      "text/plain": [
       "array([[ 0.996765  , -0.00235457,  0.00471825],\n",
       "       [ 0.33289954,  0.33716395,  0.3306691 ],\n",
       "       [ 0.42307693,  0.01438018,  0.56958264]], dtype=float32)"
      ]
     },
     "execution_count": 93,
     "metadata": {},
     "output_type": "execute_result"
    }
   ],
   "source": [
    "mpp.GrangerMatrix.detach().cpu().numpy()"
   ]
  },
  {
   "cell_type": "code",
   "execution_count": 173,
   "id": "e620d8a4-1bc5-433a-8489-0465de8464d5",
   "metadata": {},
   "outputs": [
    {
     "data": {
      "text/plain": [
       "<matplotlib.colorbar.Colorbar at 0x7f1593ad58d0>"
      ]
     },
     "execution_count": 173,
     "metadata": {},
     "output_type": "execute_result"
    },
    {
     "data": {
      "image/png": "[encoded data removed]",
      "text/plain": [
       "<Figure size 640x480 with 2 Axes>"
      ]
     },
     "metadata": {},
     "output_type": "display_data"
    }
   ],
   "source": [
    "s = mpp.GrangerMatrix.softmax(dim = 1).detach().cpu().numpy()\n",
    "\n",
    "plt.imshow(s)\n",
    "plt.axis('off')\n",
    "plt.colorbar()"
   ]
  },
  {
   "cell_type": "code",
   "execution_count": 134,
   "id": "0641acdd-e0a4-4bf9-9144-5c4bdac6af87",
   "metadata": {},
   "outputs": [
    {
     "data": {
      "text/plain": [
       "(tensor([0, 1, 2]), tensor([50, 52, 51]))"
      ]
     },
     "execution_count": 134,
     "metadata": {},
     "output_type": "execute_result"
    }
   ],
   "source": [
    "torch.unique(torch.tensor(mpp.causes[idx]), return_counts = True)"
   ]
  },
  {
   "cell_type": "code",
   "execution_count": null,
   "id": "d0cba29f-d967-4871-86af-5d71ff155d57",
   "metadata": {},
   "outputs": [],
   "source": []
  }
 ],
 "metadata": {
  "kernelspec": {
   "display_name": "jpt",
   "language": "python",
   "name": "jpt"
  },
  "language_info": {
   "codemirror_mode": {
    "name": "ipython",
    "version": 3
   },
   "file_extension": ".py",
   "mimetype": "text/x-python",
   "name": "python",
   "nbconvert_exporter": "python",
   "pygments_lexer": "ipython3",
   "version": "3.10.14"
  }
 },
 "nbformat": 4,
 "nbformat_minor": 5
}
