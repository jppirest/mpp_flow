{
 "cells": [
  {
   "cell_type": "code",
   "execution_count": 1,
   "metadata": {},
   "outputs": [],
   "source": [
    "import numpy as np\n",
    "import matplotlib.pyplot as plt\n",
    "\n",
    "\n",
    "np.random.seed(42)\n",
    "\n",
    "n_points = 600\n",
    "time = np.arange(n_points)\n",
    "\n",
    "\n",
    "X1 = np.random.binomial(1, 0.6, n_points)\n",
    "X2 = np.zeros(n_points)\n",
    "X3 = np.zeros(n_points)\n",
    "\n",
    "\n",
    "for t in range(1, n_points):\n",
    "    # X2 is more likely to happen if X1 happened in the previous step\n",
    "    X2[t] = np.random.binomial(1, 0.5 * X1[t-1] + 0.2)\n",
    "    # X3 is more likely to happen if X2 happened in the previous step\n",
    "    X3[t] = np.random.binomial(1, 0.7 * X2[t-1] + 0.2)\n",
    "\n",
    "\n",
    "\n",
    "X1 = [time[i] for i in range(len(X1)) if X1[i] > 0]\n",
    "X2 = [time[i] + 0.1 for i in range(len(X2)) if X2[i] > 0]\n",
    "X3 = [time[i] + 0.2 for i in range(len(X3)) if X3[i] > 0]"
   ]
  },
  {
   "cell_type": "code",
   "execution_count": 2,
   "metadata": {},
   "outputs": [
    {
     "data": {
      "image/png": "[encoded data removed]",
      "text/plain": [
       "<Figure size 640x480 with 3 Axes>"
      ]
     },
     "metadata": {},
     "output_type": "display_data"
    }
   ],
   "source": [
    "def _plot_tick_bars(timestamps_i, ax, color):\n",
    "    for t in timestamps_i:\n",
    "        ax.axvline(x=t, color = color)\n",
    "    # ax.set_title(label, fontsize=20)\n",
    "    ax.get_yaxis().set_visible(False)\n",
    "def _plot_tick_bars_causes(timestamps_i, ax, cause):\n",
    "    colors = ['red', 'green', 'blue']\n",
    "    for idx, t in enumerate(timestamps_i):\n",
    "        cause_ = torch.argmax(cause[idx]).item()\n",
    "        ax.axvline(x=t, color = colors[cause_])\n",
    "    ax.get_yaxis().set_visible(False)\n",
    "\n",
    "fig, ax = plt.subplots(nrows = 3, sharex = True)\n",
    "\n",
    "_plot_tick_bars(X1, ax[0], color = 'red')\n",
    "_plot_tick_bars(X2, ax[1], color = 'green')\n",
    "_plot_tick_bars(X3, ax[2], color = 'blue')"
   ]
  },
  {
   "cell_type": "code",
   "execution_count": 3,
   "metadata": {},
   "outputs": [],
   "source": [
    "import torch\n",
    "import torch.nn as nn\n",
    "import torch.nn.functional as F\n",
    "# from torch.nn.utils.rnn import pad_sequence\n",
    "from torch.utils.data import DataLoader\n",
    "\n",
    "if torch.cuda.is_available():\n",
    "    torch.set_default_tensor_type(\"torch.cuda.FloatTensor\")\n",
    "    device = \"cuda\"\n",
    "else:\n",
    "    torch.set_default_tensor_type(\"torch.FloatTensor\")\n",
    "    device = \"cpu\"\n"
   ]
  },
  {
   "cell_type": "code",
   "execution_count": 4,
   "metadata": {},
   "outputs": [],
   "source": [
    "# hidden_dim = 16\n",
    "# thiago = nn.GRU(input_size = hidden_dim, hidden_size = int(2*hidden_dim), num_layers = 2, batch_first = True)\n",
    "# sum(p.numel() for p in thiago.parameters())"
   ]
  },
  {
   "cell_type": "code",
   "execution_count": 5,
   "metadata": {},
   "outputs": [],
   "source": [
    "# mlp = nn.Sequential(nn.Linear(hidden_dim, 2*hidden_dim), nn.Linear(2*hidden_dim, 2*hidden_dim))\n",
    "# 7*sum(p.numel() for p in mlp.parameters())"
   ]
  },
  {
   "cell_type": "code",
   "execution_count": 6,
   "metadata": {},
   "outputs": [
    {
     "data": {
      "text/plain": [
       "torch.Size([10, 1, 4])"
      ]
     },
     "execution_count": 6,
     "metadata": {},
     "output_type": "execute_result"
    }
   ],
   "source": [
    "class CustomNet(nn.Module):\n",
    "    def __init__(self, num_features, memory_size, hidden_dim):\n",
    "        super().__init__()\n",
    "        \n",
    "        self.embd = nn.Sequential(\n",
    "            nn.Linear(num_features, hidden_dim),\n",
    "            nn.Tanh())\n",
    "        \n",
    "        self.rnn = nn.GRU(input_size = hidden_dim, hidden_size = int(2*hidden_dim), num_layers = 2, batch_first = True)\n",
    "        \n",
    "        self.conv1d = nn.Sequential(nn.Conv1d(in_channels = memory_size//2, out_channels = 1, kernel_size = 1), nn.Tanh())\n",
    "        self.fc = nn.Linear(2*hidden_dim, memory_size)\n",
    "\n",
    "    def forward(self, x):\n",
    "        \n",
    "        ## in (10, 1, 2) ## change to into (10, 2, 1) and embed (10, 2, 32)\n",
    "        \n",
    "        x = x.permute(0,2,1)\n",
    "        #print(x.shape)\n",
    "        x = self.embd(x)\n",
    "        #print(x.shape)\n",
    "        x, _ = self.rnn(x) # (10, 2, 32) -> (10, 2, 64)\n",
    "        #print(x.shape)\n",
    "        x = self.conv1d(x) # (10, 2, 64) -> (10, 1, 64)\n",
    "        #print(x.shape)\n",
    "        x = self.fc(x) # (10, 1, 64) -> (10, 1, 4)\n",
    "                \n",
    "\n",
    "        return x\n",
    "\n",
    "model = CustomNet(num_features=1, hidden_dim=32, memory_size = 4)\n",
    "\n",
    "x = torch.rand(size = (10, 1, 2))\n",
    "\n",
    "model(x).shape"
   ]
  },
  {
   "cell_type": "code",
   "execution_count": 7,
   "metadata": {},
   "outputs": [],
   "source": [
    "from torch.distributions import Normal \n",
    "\n",
    "\n",
    "# class CustomNet(nn.Module):\n",
    "#     def __init__(self, num_features, memory_dim, hidden_dim):\n",
    "#         super().__init__()\n",
    "        \n",
    "#         self.embd = nn.Sequential(\n",
    "#             nn.Linear(num_features, hidden_dim),\n",
    "#             nn.Tanh())\n",
    "        \n",
    "#         self.rnn = nn.GRU(input_size = memory_dim//2, hidden_size = int(2*hidden_dim), num_layers = 2, batch_first = True)\n",
    "        \n",
    "#         self.conv1d = nn.Sequential(nn.Conv1d(in_channels = 2*hidden_dim, out_channels = 1, kernel_size = 1), nn.Tanh())\n",
    "#         self.fc = nn.Linear(hidden_dim, memory_dim)\n",
    "\n",
    "#     def forward(self, x):\n",
    "        \n",
    "#         ## in (10, 1, 2) ## change to into (10, 2, 1) and embed (10, 2, 32)\n",
    "        \n",
    "#         x = x.permute(0,2,1)\n",
    "        \n",
    "#         x = self.embd(x)\n",
    "#         x, _ = self.rnn(x) # (10, 2, 32) -> (10, 64, 32)\n",
    "#         x = self.conv1d(x) # (10, 64, 32) -> (10, 1, 32)\n",
    "#         x = self.fc(x) # (10, 1, 32) -> (10, 1, 4)\n",
    "                \n",
    "\n",
    "        # return x\n",
    "\n",
    "class AffineCouplingLayer(nn.Module):\n",
    "    def __init__(self, num_features, hidden_dim, memory_size):\n",
    "        super(AffineCouplingLayer, self).__init__()\n",
    "        \n",
    "        self.net = CustomNet(num_features=num_features, hidden_dim=hidden_dim, memory_size=memory_size)\n",
    "        \n",
    "    def forward(self, x):\n",
    "        x1, x2 = x.chunk(2, dim=-1)\n",
    "        params = self.net(x1)\n",
    "        shift, log_scale = params.chunk(2, dim=-1)\n",
    "        z2 = (x2 - shift) * torch.exp(-log_scale)\n",
    "        z = torch.cat([x1, z2], dim=-1)\n",
    "        log_det_jacobian = -log_scale.sum(dim=(1,2))\n",
    "        \n",
    "        return z, log_det_jacobian\n",
    "\n",
    "    def inverse(self, z):\n",
    "        z1, z2 = z.chunk(2, dim=1)\n",
    "        params = self.net(z1)\n",
    "        shift, log_scale = params.chunk(2, dim=1)\n",
    "        x2 = z2 * torch.exp(log_scale) + shift\n",
    "        x = torch.cat([z1, x2], dim=1)\n",
    "        \n",
    "        return x\n",
    "\n",
    "class InvConv1D(nn.Module):\n",
    "    def __init__(self, num_features):\n",
    "        super().__init__()\n",
    "        # Initialize an orthogonal matrix for 1x1 convolution in 1D\n",
    "        w_init, _ = torch.linalg.qr(torch.randn(num_features, num_features))\n",
    "        #w_init = torch.tensor(w_init)\n",
    "\n",
    "        self.register_buffer('w', w_init)\n",
    "        self.w_inverse = None\n",
    "\n",
    "    def forward(self, x):\n",
    "        # x is of shape (batch_size, num_features)\n",
    "        # Apply the learned 1x1 convolution (linear transformation)\n",
    "        z = x @ self.w  # Matrix multiplication for 1D\n",
    "\n",
    "        # Compute log determinant of the Jacobian for the flow\n",
    "        log_det_jacobian = torch.slogdet(self.w)[1]\n",
    "        \n",
    "        return z, log_det_jacobian\n",
    "\n",
    "    def inverse(self, z):\n",
    "        if self.w_inverse is None:\n",
    "            self.w_inverse = torch.inverse(self.w)\n",
    "        x = z @ self.w_inverse\n",
    "        \n",
    "        return x\n",
    "\n",
    "\n",
    "\n",
    "class NFBlock(nn.Module):\n",
    "    def __init__(self, num_features, hidden_dim, memory_size):\n",
    "        super().__init__()\n",
    "        self.invertible_conv = InvConv1D(memory_size)\n",
    "        self.affine_coupling = AffineCouplingLayer(num_features = num_features, hidden_dim = hidden_dim, memory_size = memory_size)\n",
    "\n",
    "    def forward(self, x):\n",
    "        z, log_det_jacobian_conv = self.invertible_conv(x)\n",
    "        \n",
    "        z, log_det_jacobian_affine = self.affine_coupling(z)\n",
    "        \n",
    "        log_det_jacobian = log_det_jacobian_conv + log_det_jacobian_affine\n",
    "        \n",
    "        return z, log_det_jacobian\n",
    "\n",
    "    def inverse(self, z):\n",
    "        x = self.affine_coupling.inverse(z)\n",
    "        x = self.invertible_conv.inverse(x)\n",
    "        \n",
    "        return x\n",
    "\n",
    "\n",
    "\n",
    "class NormalizingFlow(nn.Module):\n",
    "    def __init__(self, num_features, memory_size, hidden_dim, num_layers):\n",
    "        super(NormalizingFlow, self).__init__()\n",
    "        self.num_features = num_features\n",
    "        self.memory_size = memory_size\n",
    "        self.hidden_dim = hidden_dim\n",
    "        self.num_layers = num_layers\n",
    "        self.base_dist = Normal(0, 1)\n",
    "        self.blocks = nn.ModuleList(\n",
    "            [NFBlock(num_features = num_features, memory_size = memory_size, hidden_dim = hidden_dim) for _ in range(num_layers)]\n",
    "        )\n",
    "        \n",
    "    \n",
    "    def forward(self, x):\n",
    "        log_det_jacobian = 0\n",
    "        \n",
    "        for layer in self.blocks:\n",
    "            x, ldj = layer(x)\n",
    "            log_det_jacobian += ldj\n",
    "        \n",
    "        return x, log_det_jacobian\n",
    "\n",
    "    def inverse(self, z):\n",
    "        for layer in reversed(self.blocks):\n",
    "            z = layer.inverse(z)\n",
    "        return z\n",
    "\n",
    "\n",
    "    def log_prob(self, x):\n",
    "        z, ldj = self.forward(x)\n",
    "        log_pz = self.base_dist.log_prob(z).sum(dim = (1,2))\n",
    "        log_px = log_pz + ldj\n",
    "\n",
    "        return z, log_px\n",
    "\n"
   ]
  },
  {
   "cell_type": "code",
   "execution_count": 8,
   "metadata": {},
   "outputs": [],
   "source": [
    "model = NormalizingFlow(memory_size= 4, num_features=1, hidden_dim = 64, num_layers=3)\n",
    "# model = CustomNet(num_features=1, hidden_dim=32, memory_dim = 4)\n",
    "\n",
    "# x = torch.rand(size = (10, 1, 4))\n",
    "\n",
    "# model(x)"
   ]
  },
  {
   "cell_type": "code",
   "execution_count": 9,
   "metadata": {},
   "outputs": [],
   "source": [
    "class GrangerMPP(nn.Module):\n",
    "\n",
    "    def __init__(self, processes, memory_dim : int = 10):\n",
    "\n",
    "        super().__init__()\n",
    "\n",
    "        self.processes = processes\n",
    "        self.memory_dim = memory_dim\n",
    "        self.n_processes = len(self.processes)\n",
    "\n",
    "       ###\n",
    "\n",
    "\n",
    "        self.GrangerMatrix = nn.Parameter((torch.empty(self.n_processes, self.n_processes)))\n",
    "        nn.init.eye_(self.GrangerMatrix)#, mean=0.5, std=0.1) # very important\n",
    "      \n",
    "        self.models = nn.ModuleList([NormalizingFlow(num_features = 1, memory_size = self.memory_dim, hidden_dim = 16, num_layers = 2) for i in range(self.n_processes)])\n",
    "        self.sweep_dict = self.make_sweep_dict()\n",
    "        self.time_of_start = self.get_time_of_start()\n",
    "        self.optimizers = [torch.optim.Adam(list(self.models[i].parameters()), lr=1e-4, weight_decay = 1e-5) for i in range(self.n_processes)]\n",
    "        self.g_optimizer = torch.optim.Adam([self.GrangerMatrix], lr = 1e-3, weight_decay=1e-5)\n",
    "        self.log_GrangerMatrix = []\n",
    "\n",
    "\n",
    "    def em_step(self, n_steps):\n",
    "        dic = {}\n",
    "        self.causes = [[], [], []]\n",
    "        for i in range(self.n_processes):\n",
    "            dic[i] = []\n",
    "\n",
    "\n",
    "        taus = torch.linspace(1, 0.3, steps = n_steps)#\n",
    "        \n",
    "        for self.step in range(n_steps):\n",
    "          for i_proc in range(self.n_processes):\n",
    "              self.causes[i_proc] = []\n",
    "              curr = processes[i_proc]\n",
    "              len_curr = len(curr)\n",
    "              idx_start = 0\n",
    "              while idx_start < len_curr:\n",
    "                self.num_events = 5\n",
    "                events = self.get_events(self.num_events, idx_start, i_proc, 1.0) ## the get_events does the e_step!\n",
    "                if events:\n",
    "                  DL = DataLoader(events, batch_size = len(events))\n",
    "\n",
    "                  for X, cause_rank in DL:\n",
    "                    X = X.unsqueeze(1)\n",
    "                    loss = self.m_step(i_proc, X, cause_rank)\n",
    "                    dic[i_proc].append(loss)\n",
    "\n",
    "                idx_start += self.num_events\n",
    "\n",
    "              if (self.step + 1) % 5 == 0 or self.step == 0:\n",
    "                  print(f'Step: {self.step + 1}, Model: {i_proc}, Loss: {loss}')\n",
    "\n",
    "\n",
    "        return dic\n",
    "\n",
    "    def m_step(self, i_proc, X, cause_rank):\n",
    "\n",
    "        model = self.models[i_proc]\n",
    "        self.optimizers[i_proc].zero_grad()\n",
    "        self.g_optimizer.zero_grad()\n",
    "        z, logp = model.log_prob(X)\n",
    "        loss = -1*logp\n",
    "\n",
    "        loss_rnn = (loss * cause_rank).sum()  + -1*(torch.log(cause_rank + 1e-7)).sum() + 0.001*self.GrangerMatrix[i_proc].norm(p=1)\n",
    "\n",
    "\n",
    "        if not (torch.isnan(loss_rnn) | torch.isinf(loss_rnn)):\n",
    "\n",
    "\n",
    "            loss_rnn.backward(retain_graph = True)\n",
    "\n",
    "            self.optimizers[i_proc].step()\n",
    "            self.g_optimizer.step()\n",
    "            self.log_GrangerMatrix.append(self.GrangerMatrix.clone().detach())\n",
    "\n",
    "\n",
    "        else:\n",
    "            print(f'NaN found in epoch: {self.step}')\n",
    "\n",
    "        return loss_rnn.item()\n",
    "\n",
    "    def make_sweep_dict(self):\n",
    "\n",
    "        dic = {}\n",
    "        for i in range(self.n_processes):\n",
    "            target = self.processes[i]\n",
    "            dic[i] = {}\n",
    "            for j in range(self.n_processes):\n",
    "                cause = self.processes[j]\n",
    "                dic[i][j] = self.sweep(target, cause)\n",
    "\n",
    "        return dic\n",
    "\n",
    "\n",
    "    def sweep(self, pa, pc):\n",
    "        events = []\n",
    "        pa_indices = []\n",
    "\n",
    "\n",
    "        for i, ia in enumerate(pa):\n",
    "            events.append((ia, 'a'))\n",
    "            pa_indices.append(i)\n",
    "\n",
    "        for ic in pc:\n",
    "            events.append((ic, 'c'))\n",
    "\n",
    "        lim = self.memory_dim\n",
    "\n",
    "        events.sort()\n",
    "        mem = []\n",
    "        ret = []\n",
    "        index_start = False\n",
    "\n",
    "        pa_idx_counter = 0  # Counter to track which index in pa we are at\n",
    "\n",
    "        for t, e in events:\n",
    "            if e == 'c':\n",
    "                if len(mem) >= lim:\n",
    "                    mem.pop(0)\n",
    "                mem.append(t)\n",
    "\n",
    "            if e == 'a':\n",
    "                # Memory is not full yet\n",
    "                if len(mem) < lim:\n",
    "                    pa_idx_counter += 1  # Move to the next pa index\n",
    "                    continue\n",
    "                # Retrieve deltas from this time to the cause times\n",
    "                pp = [t - tc for tc in mem]\n",
    "                ret.append(pp)\n",
    "                if not index_start:\n",
    "                  index_start = pa_indices[pa_idx_counter] # Save index relative to pa\n",
    "                pa_idx_counter += 1  # Move to the next pa index\n",
    "        if not index_start:\n",
    "          index_start = -1\n",
    "        return torch.tensor(ret, dtype=torch.float), index_start\n",
    "\n",
    "    def get_time_of_start(self):\n",
    "\n",
    "      indexs = []\n",
    "      dic = self.sweep_dict\n",
    "\n",
    "      for i in dic:\n",
    "        curr = []\n",
    "        for j in dic[i]:\n",
    "          curr.append(dic[i][j][1])\n",
    "        indexs.append(curr)\n",
    "\n",
    "      return indexs\n",
    "\n",
    "\n",
    "    def new_e_step(self, num_events, i_proc, tau):\n",
    "\n",
    "      in_ = self.GrangerMatrix[i_proc]#.softmax(dim = 0)\n",
    "      rv = []\n",
    "      for i in range(num_events):\n",
    "        cause = F.gumbel_softmax(\n",
    "            in_,\n",
    "            tau = tau,\n",
    "            hard = False\n",
    "        )\n",
    "        rv.append(cause)\n",
    "\n",
    "      self.causes[i_proc].append(rv)\n",
    "\n",
    "      return rv\n",
    "\n",
    "\n",
    "    def get_events(self, num_events, idx_start, i_proc, tau):\n",
    "\n",
    "      begin_of_influences = self.time_of_start[i_proc]\n",
    "      n_causes = self.new_e_step(num_events, i_proc, tau)\n",
    "\n",
    "      event_cause = []\n",
    "\n",
    "      for time in range(num_events):\n",
    "        causes = n_causes[time]\n",
    "\n",
    "        for idx_cause, cause in enumerate(causes):\n",
    "          inf_begin = begin_of_influences[idx_cause]\n",
    "\n",
    "          if inf_begin == -1: ## this process cannot be caused by this other process (it started after the current process ended)\n",
    "            continue\n",
    "\n",
    "          else:\n",
    "            if time + idx_start >= inf_begin and len(self.sweep_dict[i_proc][idx_cause][0]) > time + idx_start + inf_begin: ## checking if the current_timestamp could be cause by the process and if there's events pass this time\n",
    "              app = (self.sweep_dict[i_proc][idx_cause][0][time + idx_start - inf_begin], cause)\n",
    "              event_cause.append(app)\n",
    "\n",
    "      return event_cause\n",
    "\n"
   ]
  },
  {
   "cell_type": "code",
   "execution_count": 10,
   "metadata": {},
   "outputs": [],
   "source": [
    "X1_ = torch.tensor(X1.copy(), dtype = torch.float32)\n",
    "X2_ = torch.tensor(X2.copy(), dtype = torch.float32)\n",
    "X3_ = torch.tensor(X3.copy(), dtype = torch.float32)\n",
    "processes = [X1_, X2_, X3_]"
   ]
  },
  {
   "cell_type": "code",
   "execution_count": 11,
   "metadata": {},
   "outputs": [
    {
     "name": "stdout",
     "output_type": "stream",
     "text": [
      "Step: 1, Model: 0, Loss: 9.335578918457031\n",
      "Step: 1, Model: 1, Loss: 15.157958030700684\n",
      "Step: 1, Model: 2, Loss: 9.09420394897461\n",
      "Step: 5, Model: 0, Loss: 4.897763729095459\n",
      "Step: 5, Model: 1, Loss: 9.646202087402344\n",
      "Step: 5, Model: 2, Loss: 4.3463873863220215\n",
      "Step: 10, Model: 0, Loss: 3.0754969120025635\n",
      "Step: 10, Model: 1, Loss: 8.841719627380371\n",
      "Step: 10, Model: 2, Loss: 11.338951110839844\n",
      "Step: 15, Model: 0, Loss: 6.094818592071533\n",
      "Step: 15, Model: 1, Loss: 12.453450202941895\n",
      "Step: 15, Model: 2, Loss: 8.012482643127441\n",
      "Step: 20, Model: 0, Loss: 3.198195695877075\n",
      "Step: 20, Model: 1, Loss: 7.925316333770752\n",
      "Step: 20, Model: 2, Loss: 3.7793776988983154\n",
      "Step: 25, Model: 0, Loss: 3.008380651473999\n",
      "Step: 25, Model: 1, Loss: 6.457526683807373\n",
      "Step: 25, Model: 2, Loss: 9.168630599975586\n",
      "Step: 30, Model: 0, Loss: 3.608031749725342\n",
      "Step: 30, Model: 1, Loss: 9.06864070892334\n",
      "Step: 30, Model: 2, Loss: 8.936955451965332\n",
      "Step: 35, Model: 0, Loss: 2.978626251220703\n",
      "Step: 35, Model: 1, Loss: 13.86375617980957\n",
      "Step: 35, Model: 2, Loss: 5.839127540588379\n",
      "Step: 40, Model: 0, Loss: 6.215119361877441\n",
      "Step: 40, Model: 1, Loss: 10.448482513427734\n",
      "Step: 40, Model: 2, Loss: 3.7154183387756348\n",
      "Step: 45, Model: 0, Loss: 4.639382362365723\n",
      "Step: 45, Model: 1, Loss: 16.069290161132812\n",
      "Step: 45, Model: 2, Loss: 7.3448662757873535\n",
      "Step: 50, Model: 0, Loss: 2.7760884761810303\n",
      "Step: 50, Model: 1, Loss: 13.053092956542969\n",
      "Step: 50, Model: 2, Loss: 8.60350227355957\n",
      "Step: 55, Model: 0, Loss: 3.3626821041107178\n",
      "Step: 55, Model: 1, Loss: 11.876605033874512\n",
      "Step: 55, Model: 2, Loss: 3.663752317428589\n",
      "Step: 60, Model: 0, Loss: 2.758619785308838\n",
      "Step: 60, Model: 1, Loss: 9.19707202911377\n",
      "Step: 60, Model: 2, Loss: 3.089005470275879\n",
      "Step: 65, Model: 0, Loss: 3.5474274158477783\n",
      "Step: 65, Model: 1, Loss: 9.932095527648926\n",
      "Step: 65, Model: 2, Loss: 4.625380039215088\n",
      "Step: 70, Model: 0, Loss: 2.6027393341064453\n",
      "Step: 70, Model: 1, Loss: 6.503659725189209\n",
      "Step: 70, Model: 2, Loss: 3.1296308040618896\n",
      "Step: 75, Model: 0, Loss: 2.7262985706329346\n",
      "Step: 75, Model: 1, Loss: 9.244806289672852\n",
      "Step: 75, Model: 2, Loss: 4.864536762237549\n",
      "Step: 80, Model: 0, Loss: 2.395634651184082\n",
      "Step: 80, Model: 1, Loss: 9.005139350891113\n",
      "Step: 80, Model: 2, Loss: 4.553771495819092\n",
      "Step: 85, Model: 0, Loss: 2.9343597888946533\n",
      "Step: 85, Model: 1, Loss: 8.17986011505127\n",
      "Step: 85, Model: 2, Loss: 4.030640602111816\n",
      "Step: 90, Model: 0, Loss: 2.946657180786133\n",
      "Step: 90, Model: 1, Loss: 6.8980712890625\n",
      "Step: 90, Model: 2, Loss: 3.997915744781494\n",
      "Step: 95, Model: 0, Loss: 2.5279862880706787\n",
      "Step: 95, Model: 1, Loss: 6.339570999145508\n",
      "Step: 95, Model: 2, Loss: 3.0630199909210205\n",
      "Step: 100, Model: 0, Loss: 2.9077746868133545\n",
      "Step: 100, Model: 1, Loss: 6.291038513183594\n",
      "Step: 100, Model: 2, Loss: 5.59657621383667\n",
      "Step: 105, Model: 0, Loss: 2.7814013957977295\n",
      "Step: 105, Model: 1, Loss: 5.050229072570801\n",
      "Step: 105, Model: 2, Loss: 3.250763177871704\n",
      "Step: 110, Model: 0, Loss: 2.0718042850494385\n",
      "Step: 110, Model: 1, Loss: 3.564657688140869\n",
      "Step: 110, Model: 2, Loss: 5.655143737792969\n",
      "Step: 115, Model: 0, Loss: 2.2045516967773438\n",
      "Step: 115, Model: 1, Loss: 2.899179220199585\n",
      "Step: 115, Model: 2, Loss: 4.912944793701172\n",
      "Step: 120, Model: 0, Loss: 1.8896287679672241\n",
      "Step: 120, Model: 1, Loss: 3.2354235649108887\n",
      "Step: 120, Model: 2, Loss: 3.0655710697174072\n",
      "Step: 125, Model: 0, Loss: 2.4059436321258545\n",
      "Step: 125, Model: 1, Loss: 2.3428478240966797\n",
      "Step: 125, Model: 2, Loss: 3.409543991088867\n",
      "Step: 130, Model: 0, Loss: 2.1576309204101562\n",
      "Step: 130, Model: 1, Loss: 2.032698392868042\n",
      "Step: 130, Model: 2, Loss: 3.325794219970703\n",
      "Step: 135, Model: 0, Loss: 1.4703524112701416\n",
      "Step: 135, Model: 1, Loss: 2.128056287765503\n",
      "Step: 135, Model: 2, Loss: 3.1492202281951904\n",
      "Step: 140, Model: 0, Loss: 3.823721170425415\n",
      "Step: 140, Model: 1, Loss: 2.0177464485168457\n",
      "Step: 140, Model: 2, Loss: 6.26320743560791\n",
      "Step: 145, Model: 0, Loss: 1.3438242673873901\n",
      "Step: 145, Model: 1, Loss: 1.0066431760787964\n",
      "Step: 145, Model: 2, Loss: 2.9751086235046387\n",
      "Step: 150, Model: 0, Loss: 1.7354211807250977\n",
      "Step: 150, Model: 1, Loss: 1.317354679107666\n",
      "Step: 150, Model: 2, Loss: 5.643396377563477\n",
      "Step: 155, Model: 0, Loss: 1.4851579666137695\n",
      "Step: 155, Model: 1, Loss: 1.425618290901184\n",
      "Step: 155, Model: 2, Loss: 5.397210597991943\n",
      "Step: 160, Model: 0, Loss: 2.6366219520568848\n",
      "Step: 160, Model: 1, Loss: 1.4427038431167603\n",
      "Step: 160, Model: 2, Loss: 4.759724140167236\n",
      "Step: 165, Model: 0, Loss: 1.2031190395355225\n",
      "Step: 165, Model: 1, Loss: 2.610502004623413\n",
      "Step: 165, Model: 2, Loss: 3.066581964492798\n",
      "Step: 170, Model: 0, Loss: 2.3460195064544678\n",
      "Step: 170, Model: 1, Loss: 1.515392780303955\n",
      "Step: 170, Model: 2, Loss: 2.9467597007751465\n",
      "Step: 175, Model: 0, Loss: 2.6211414337158203\n",
      "Step: 175, Model: 1, Loss: 1.017364501953125\n",
      "Step: 175, Model: 2, Loss: 3.003237247467041\n",
      "Step: 180, Model: 0, Loss: 1.2298388481140137\n",
      "Step: 180, Model: 1, Loss: 2.3373615741729736\n",
      "Step: 180, Model: 2, Loss: 3.865921974182129\n",
      "Step: 185, Model: 0, Loss: 1.048608422279358\n",
      "Step: 185, Model: 1, Loss: 0.7335123419761658\n",
      "Step: 185, Model: 2, Loss: 4.414549827575684\n",
      "Step: 190, Model: 0, Loss: 0.8387699127197266\n",
      "Step: 190, Model: 1, Loss: 1.2220109701156616\n",
      "Step: 190, Model: 2, Loss: 6.45664644241333\n",
      "Step: 195, Model: 0, Loss: 1.9481502771377563\n",
      "Step: 195, Model: 1, Loss: 0.4200989603996277\n",
      "Step: 195, Model: 2, Loss: 4.724538803100586\n",
      "Step: 200, Model: 0, Loss: 3.1651570796966553\n",
      "Step: 200, Model: 1, Loss: 0.35473498702049255\n",
      "Step: 200, Model: 2, Loss: 2.987299919128418\n"
     ]
    }
   ],
   "source": [
    "mpp = GrangerMPP(processes, memory_dim = 4)\n",
    "l = mpp.em_step(n_steps = 200)"
   ]
  },
  {
   "cell_type": "code",
   "execution_count": 12,
   "metadata": {},
   "outputs": [
    {
     "name": "stdout",
     "output_type": "stream",
     "text": [
      "Len of losses: [13800, 12000, 13200]\n"
     ]
    },
    {
     "data": {
      "image/png": "[encoded data removed]",
      "text/plain": [
       "<Figure size 640x480 with 1 Axes>"
      ]
     },
     "metadata": {},
     "output_type": "display_data"
    }
   ],
   "source": [
    "colors = ['red', 'green', 'blue']\n",
    "for i in range(3):\n",
    "    plt.plot(l[i], color = colors[i])\n",
    "\n",
    "t = [len(l[i]) for i in range(3)]\n",
    "\n",
    "print(f'Len of losses: {t}')"
   ]
  },
  {
   "cell_type": "code",
   "execution_count": 99,
   "metadata": {},
   "outputs": [],
   "source": [
    "# mpp.models"
   ]
  },
  {
   "cell_type": "code",
   "execution_count": 13,
   "metadata": {},
   "outputs": [
    {
     "data": {
      "text/plain": [
       "<matplotlib.colorbar.Colorbar at 0x7f3bd570f520>"
      ]
     },
     "execution_count": 13,
     "metadata": {},
     "output_type": "execute_result"
    },
    {
     "data": {
      "image/png": "[encoded data removed]",
      "text/plain": [
       "<Figure size 640x480 with 2 Axes>"
      ]
     },
     "metadata": {},
     "output_type": "display_data"
    }
   ],
   "source": [
    "matrix = mpp.GrangerMatrix.softmax(dim = 1).detach().cpu().numpy()\n",
    "\n",
    "plt.imshow(matrix)\n",
    "plt.axis('off')\n",
    "plt.colorbar()"
   ]
  },
  {
   "cell_type": "code",
   "execution_count": 14,
   "metadata": {},
   "outputs": [
    {
     "data": {
      "text/plain": [
       "array([[0.37472162, 0.26361305, 0.36166534],\n",
       "       [0.88877136, 0.03879353, 0.07243512],\n",
       "       [0.58702266, 0.20269848, 0.21027882]], dtype=float32)"
      ]
     },
     "execution_count": 14,
     "metadata": {},
     "output_type": "execute_result"
    }
   ],
   "source": [
    "mpp.GrangerMatrix.softmax(dim = 1).detach().cpu().numpy()"
   ]
  },
  {
   "cell_type": "code",
   "execution_count": 180,
   "metadata": {},
   "outputs": [
    {
     "data": {
      "text/plain": [
       "167"
      ]
     },
     "execution_count": 180,
     "metadata": {},
     "output_type": "execute_result"
    }
   ],
   "source": [
    "len(processes[1])"
   ]
  },
  {
   "cell_type": "code",
   "execution_count": 101,
   "metadata": {},
   "outputs": [
    {
     "data": {
      "text/plain": [
       "array([[ 0.6786759 , -0.05376524,  0.89782923],\n",
       "       [ 0.8750847 ,  0.10535194,  0.42755637],\n",
       "       [ 0.83915406,  0.14972755,  0.23933211]], dtype=float32)"
      ]
     },
     "execution_count": 101,
     "metadata": {},
     "output_type": "execute_result"
    }
   ],
   "source": [
    "mpp.GrangerMatrix.detach().cpu().numpy()"
   ]
  },
  {
   "cell_type": "code",
   "execution_count": 108,
   "metadata": {},
   "outputs": [
    {
     "data": {
      "image/png": "[encoded data removed]",
      "text/plain": [
       "<Figure size 640x480 with 1 Axes>"
      ]
     },
     "metadata": {},
     "output_type": "display_data"
    }
   ],
   "source": [
    "final = []\n",
    "for proc in range(3):\n",
    "    proc_size = len(processes[proc])\n",
    "    loss_size = len(l[proc])\n",
    "    temp = [ sum(l[proc][i:i + proc_size])/proc_size for i in range(0, loss_size - proc_size, proc_size)]\n",
    "    final.append(temp)\n",
    "\n",
    "colors = ['red', 'green', 'blue']\n",
    "for i in range(3):\n",
    "    plt.plot(final[i], color = colors[i])"
   ]
  },
  {
   "cell_type": "code",
   "execution_count": 158,
   "metadata": {},
   "outputs": [
    {
     "data": {
      "text/plain": [
       "[905.976876769747, 824.3470450299127, 720.2255801473345]"
      ]
     },
     "execution_count": 158,
     "metadata": {},
     "output_type": "execute_result"
    }
   ],
   "source": [
    "temp"
   ]
  },
  {
   "cell_type": "code",
   "execution_count": 74,
   "metadata": {},
   "outputs": [
    {
     "ename": "AttributeError",
     "evalue": "'list' object has no attribute 'argmax'",
     "output_type": "error",
     "traceback": [
      "\u001b[0;31m---------------------------------------------------------------------------\u001b[0m",
      "\u001b[0;31mAttributeError\u001b[0m                            Traceback (most recent call last)",
      "Cell \u001b[0;32mIn[74], line 1\u001b[0m\n\u001b[0;32m----> 1\u001b[0m s \u001b[38;5;241m=\u001b[39m [i\u001b[38;5;241m.\u001b[39margmax()\u001b[38;5;241m.\u001b[39mitem() \u001b[38;5;28;01mfor\u001b[39;00m i \u001b[38;5;129;01min\u001b[39;00m mpp\u001b[38;5;241m.\u001b[39mcauses[\u001b[38;5;241m0\u001b[39m]]\n\u001b[1;32m      2\u001b[0m s \u001b[38;5;241m=\u001b[39m torch\u001b[38;5;241m.\u001b[39mtensor(s)\n\u001b[1;32m      3\u001b[0m s\u001b[38;5;241m.\u001b[39munique(return_counts \u001b[38;5;241m=\u001b[39m \u001b[38;5;28;01mTrue\u001b[39;00m)\n",
      "Cell \u001b[0;32mIn[74], line 1\u001b[0m, in \u001b[0;36m<listcomp>\u001b[0;34m(.0)\u001b[0m\n\u001b[0;32m----> 1\u001b[0m s \u001b[38;5;241m=\u001b[39m [\u001b[43mi\u001b[49m\u001b[38;5;241;43m.\u001b[39;49m\u001b[43margmax\u001b[49m()\u001b[38;5;241m.\u001b[39mitem() \u001b[38;5;28;01mfor\u001b[39;00m i \u001b[38;5;129;01min\u001b[39;00m mpp\u001b[38;5;241m.\u001b[39mcauses[\u001b[38;5;241m0\u001b[39m]]\n\u001b[1;32m      2\u001b[0m s \u001b[38;5;241m=\u001b[39m torch\u001b[38;5;241m.\u001b[39mtensor(s)\n\u001b[1;32m      3\u001b[0m s\u001b[38;5;241m.\u001b[39munique(return_counts \u001b[38;5;241m=\u001b[39m \u001b[38;5;28;01mTrue\u001b[39;00m)\n",
      "\u001b[0;31mAttributeError\u001b[0m: 'list' object has no attribute 'argmax'"
     ]
    }
   ],
   "source": [
    "s = [i.argmax().item() for i in mpp.causes[0]]\n",
    "s = torch.tensor(s)\n",
    "s.unique(return_counts = True)"
   ]
  },
  {
   "cell_type": "code",
   "execution_count": 79,
   "metadata": {},
   "outputs": [
    {
     "data": {
      "text/plain": [
       "(tensor([0, 1, 2]), tensor([112, 125, 112]))"
      ]
     },
     "execution_count": 79,
     "metadata": {},
     "output_type": "execute_result"
    }
   ],
   "source": [
    "causes = []\n",
    "for i in mpp.causes[0]:\n",
    "    for j in i:\n",
    "        causes.append(j.argmax().item())\n",
    "causes = torch.tensor(causes)\n",
    "causes.unique(return_counts = True)"
   ]
  },
  {
   "cell_type": "code",
   "execution_count": null,
   "metadata": {},
   "outputs": [],
   "source": []
  }
 ],
 "metadata": {
  "kernelspec": {
   "display_name": "Python 3 (ipykernel)",
   "language": "python",
   "name": "python3"
  },
  "language_info": {
   "codemirror_mode": {
    "name": "ipython",
    "version": 3
   },
   "file_extension": ".py",
   "mimetype": "text/x-python",
   "name": "python",
   "nbconvert_exporter": "python",
   "pygments_lexer": "ipython3",
   "version": "3.10.14"
  }
 },
 "nbformat": 4,
 "nbformat_minor": 2
}
