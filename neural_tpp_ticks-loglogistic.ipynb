{
 "cells": [
  {
   "cell_type": "markdown",
   "metadata": {},
   "source": [
    "# Imports"
   ]
  },
  {
   "cell_type": "code",
   "execution_count": 20,
   "metadata": {
    "id": "Zk0vK_o0aYw_"
   },
   "outputs": [],
   "source": [
    "import matplotlib.pyplot as plt\n",
    "import numpy as np\n",
    "import seaborn as sns\n",
    "import torch\n",
    "import torch.nn as nn\n",
    "import torch.nn.functional as F\n",
    "from torch.nn.utils.rnn import pad_sequence\n",
    "import pandas as pd\n",
    "import os.path\n",
    "\n",
    "if torch.cuda.is_available():\n",
    "    torch.set_default_tensor_type(\"torch.cuda.FloatTensor\")\n",
    "    device = \"cuda\"\n",
    "else:\n",
    "    torch.set_default_tensor_type(\"torch.FloatTensor\")\n",
    "    device = \"cpu\"\n",
    "\n",
    "sns.set_style('whitegrid')"
   ]
  },
  {
   "cell_type": "code",
   "execution_count": 21,
   "metadata": {},
   "outputs": [
    {
     "data": {
      "text/plain": [
       "True"
      ]
     },
     "execution_count": 21,
     "metadata": {},
     "output_type": "execute_result"
    }
   ],
   "source": [
    "torch.cuda.is_available()"
   ]
  },
  {
   "cell_type": "markdown",
   "metadata": {
    "id": "wxvSqjd6aYxB"
   },
   "source": [
    "# Load and pre process data"
   ]
  },
  {
   "cell_type": "code",
   "execution_count": 23,
   "metadata": {},
   "outputs": [
    {
     "data": {
      "text/html": [
       "<div>\n",
       "<style scoped>\n",
       "    .dataframe tbody tr th:only-of-type {\n",
       "        vertical-align: middle;\n",
       "    }\n",
       "\n",
       "    .dataframe tbody tr th {\n",
       "        vertical-align: top;\n",
       "    }\n",
       "\n",
       "    .dataframe thead th {\n",
       "        text-align: right;\n",
       "    }\n",
       "</style>\n",
       "<table border=\"1\" class=\"dataframe\">\n",
       "  <thead>\n",
       "    <tr style=\"text-align: right;\">\n",
       "      <th></th>\n",
       "      <th>Date</th>\n",
       "      <th>Hyperlink</th>\n",
       "      <th>Blog</th>\n",
       "      <th>PostNb</th>\n",
       "      <th>WeightOfLink</th>\n",
       "    </tr>\n",
       "  </thead>\n",
       "  <tbody>\n",
       "    <tr>\n",
       "      <th>0</th>\n",
       "      <td>2009-01-01 00:04:10</td>\n",
       "      <td>http://ameblo.jp</td>\n",
       "      <td>http://ameblo.jp</td>\n",
       "      <td>149</td>\n",
       "      <td>0.5</td>\n",
       "    </tr>\n",
       "    <tr>\n",
       "      <th>1</th>\n",
       "      <td>2009-01-01 00:04:15</td>\n",
       "      <td>http://reddit.com</td>\n",
       "      <td>http://reddit.com</td>\n",
       "      <td>158</td>\n",
       "      <td>1.0</td>\n",
       "    </tr>\n",
       "    <tr>\n",
       "      <th>2</th>\n",
       "      <td>2009-01-01 00:04:33</td>\n",
       "      <td>http://pr-inside.com</td>\n",
       "      <td>http://pr-inside.com</td>\n",
       "      <td>213</td>\n",
       "      <td>1.0</td>\n",
       "    </tr>\n",
       "    <tr>\n",
       "      <th>3</th>\n",
       "      <td>2009-01-01 00:04:33</td>\n",
       "      <td>http://pr-inside.com</td>\n",
       "      <td>http://pr-inside.com</td>\n",
       "      <td>214</td>\n",
       "      <td>1.0</td>\n",
       "    </tr>\n",
       "    <tr>\n",
       "      <th>4</th>\n",
       "      <td>2009-01-01 00:05:00</td>\n",
       "      <td>http://de.answers.yahoo.com</td>\n",
       "      <td>http://de.answers.yahoo.com</td>\n",
       "      <td>268</td>\n",
       "      <td>1.0</td>\n",
       "    </tr>\n",
       "  </tbody>\n",
       "</table>\n",
       "</div>"
      ],
      "text/plain": [
       "                  Date                    Hyperlink  \\\n",
       "0  2009-01-01 00:04:10             http://ameblo.jp   \n",
       "1  2009-01-01 00:04:15            http://reddit.com   \n",
       "2  2009-01-01 00:04:33         http://pr-inside.com   \n",
       "3  2009-01-01 00:04:33         http://pr-inside.com   \n",
       "4  2009-01-01 00:05:00  http://de.answers.yahoo.com   \n",
       "\n",
       "                          Blog  PostNb  WeightOfLink  \n",
       "0             http://ameblo.jp     149           0.5  \n",
       "1            http://reddit.com     158           1.0  \n",
       "2         http://pr-inside.com     213           1.0  \n",
       "3         http://pr-inside.com     214           1.0  \n",
       "4  http://de.answers.yahoo.com     268           1.0  "
      ]
     },
     "execution_count": 23,
     "metadata": {},
     "output_type": "execute_result"
    }
   ],
   "source": [
    "data = pd.read_csv('ticks.csv')\n",
    "data.head()"
   ]
  },
  {
   "cell_type": "markdown",
   "metadata": {},
   "source": [
    "Normalization and grouping timestamps by `Hyperlink`"
   ]
  },
  {
   "cell_type": "code",
   "execution_count": 24,
   "metadata": {
    "id": "3MiUUfO2aYxF"
   },
   "outputs": [],
   "source": [
    "if not os.path.isfile('grouped.pkl'):\n",
    "    data['Date'] = data[\"Date\"].apply(pd.to_datetime)\n",
    "    data['Time'] = data['Date'].apply(pd.Timestamp)\n",
    "    data['Time'] = data['Time'].apply(lambda x: x.timestamp())\n",
    "    t_begin = data['Time'].min()\n",
    "    data['Time'] = data['Time'].apply(lambda x : x - t_begin) # Normalization\n",
    "    grouped = data.groupby(['Hyperlink'])['Time'].apply(np.array).reset_index(name='Times')\n",
    "    grouped['Length'] = grouped['Times'].apply(len)\n",
    "    grouped['Times'] = grouped['Times'].apply(np.sort)\n",
    "    grouped.to_pickle('grouped.pkl')\n",
    "else:\n",
    "    grouped = pd.read_pickle('grouped.pkl')"
   ]
  },
  {
   "cell_type": "code",
   "execution_count": 25,
   "metadata": {},
   "outputs": [
    {
     "data": {
      "text/html": [
       "<div>\n",
       "<style scoped>\n",
       "    .dataframe tbody tr th:only-of-type {\n",
       "        vertical-align: middle;\n",
       "    }\n",
       "\n",
       "    .dataframe tbody tr th {\n",
       "        vertical-align: top;\n",
       "    }\n",
       "\n",
       "    .dataframe thead th {\n",
       "        text-align: right;\n",
       "    }\n",
       "</style>\n",
       "<table border=\"1\" class=\"dataframe\">\n",
       "  <thead>\n",
       "    <tr style=\"text-align: right;\">\n",
       "      <th></th>\n",
       "      <th>Hyperlink</th>\n",
       "      <th>Times</th>\n",
       "      <th>Length</th>\n",
       "    </tr>\n",
       "  </thead>\n",
       "  <tbody>\n",
       "    <tr>\n",
       "      <th>0</th>\n",
       "      <td>http://1.bp.blogspot.com</td>\n",
       "      <td>[180906.0, 182723.0, 182969.0, 184891.0, 18535...</td>\n",
       "      <td>50</td>\n",
       "    </tr>\n",
       "    <tr>\n",
       "      <th>1</th>\n",
       "      <td>http://2.bp.blogspot.com</td>\n",
       "      <td>[182871.0, 182969.0, 184223.0, 186002.0, 75989...</td>\n",
       "      <td>48</td>\n",
       "    </tr>\n",
       "    <tr>\n",
       "      <th>2</th>\n",
       "      <td>http://3.bp.blogspot.com</td>\n",
       "      <td>[172889.0, 182969.0, 184356.0, 185688.0, 23699...</td>\n",
       "      <td>56</td>\n",
       "    </tr>\n",
       "    <tr>\n",
       "      <th>3</th>\n",
       "      <td>http://4.bp.blogspot.com</td>\n",
       "      <td>[47463.0, 170628.0, 182969.0, 184674.0, 185625...</td>\n",
       "      <td>56</td>\n",
       "    </tr>\n",
       "    <tr>\n",
       "      <th>4</th>\n",
       "      <td>http://4travel.jp</td>\n",
       "      <td>[1026.0, 1027.0, 1027.0, 1027.0, 1027.0, 2797....</td>\n",
       "      <td>8874</td>\n",
       "    </tr>\n",
       "  </tbody>\n",
       "</table>\n",
       "</div>"
      ],
      "text/plain": [
       "                  Hyperlink  \\\n",
       "0  http://1.bp.blogspot.com   \n",
       "1  http://2.bp.blogspot.com   \n",
       "2  http://3.bp.blogspot.com   \n",
       "3  http://4.bp.blogspot.com   \n",
       "4         http://4travel.jp   \n",
       "\n",
       "                                               Times  Length  \n",
       "0  [180906.0, 182723.0, 182969.0, 184891.0, 18535...      50  \n",
       "1  [182871.0, 182969.0, 184223.0, 186002.0, 75989...      48  \n",
       "2  [172889.0, 182969.0, 184356.0, 185688.0, 23699...      56  \n",
       "3  [47463.0, 170628.0, 182969.0, 184674.0, 185625...      56  \n",
       "4  [1026.0, 1027.0, 1027.0, 1027.0, 1027.0, 2797....    8874  "
      ]
     },
     "execution_count": 25,
     "metadata": {},
     "output_type": "execute_result"
    }
   ],
   "source": [
    "grouped.head()"
   ]
  },
  {
   "cell_type": "code",
   "execution_count": 26,
   "metadata": {},
   "outputs": [
    {
     "data": {
      "text/plain": [
       "(array([3.27666635e-07, 4.08816503e-07, 4.26684364e-07, 3.95756834e-07,\n",
       "        4.12399381e-07, 3.72266491e-07, 3.69854640e-07, 3.13257570e-07,\n",
       "        3.66554824e-07, 3.40726304e-07]),\n",
       " array([      0. ,  267810.5,  535621. ,  803431.5, 1071242. , 1339052.5,\n",
       "        1606863. , 1874673.5, 2142484. , 2410294.5, 2678105. ]),\n",
       " <BarContainer object of 10 artists>)"
      ]
     },
     "execution_count": 26,
     "metadata": {},
     "output_type": "execute_result"
    },
    {
     "data": {
      "image/png": "[encoded data removed]",
      "text/plain": [
       "<Figure size 640x480 with 1 Axes>"
      ]
     },
     "metadata": {},
     "output_type": "display_data"
    }
   ],
   "source": [
    "plt.hist(data['Time'], density=True)"
   ]
  },
  {
   "cell_type": "code",
   "execution_count": 28,
   "metadata": {},
   "outputs": [
    {
     "data": {
      "text/plain": [
       "<matplotlib.lines.Line2D at 0x7f8a929dafb0>"
      ]
     },
     "execution_count": 28,
     "metadata": {},
     "output_type": "execute_result"
    },
    {
     "data": {
      "image/png": "[encoded data removed]",
      "text/plain": [
       "<Figure size 640x480 with 1 Axes>"
      ]
     },
     "metadata": {},
     "output_type": "display_data"
    }
   ],
   "source": [
    "plt.ecdf(data['Time'])"
   ]
  },
  {
   "cell_type": "code",
   "execution_count": 27,
   "metadata": {},
   "outputs": [
    {
     "data": {
      "text/plain": [
       "(array([8.20300100e-05, 3.62458184e-05, 1.14460479e-05, 1.14460479e-05,\n",
       "        1.14460479e-05, 3.81534930e-06, 0.00000000e+00, 0.00000000e+00,\n",
       "        7.63069861e-06, 3.81534930e-06]),\n",
       " array([1.00000e+00, 5.95780e+03, 1.19146e+04, 1.78714e+04, 2.38282e+04,\n",
       "        2.97850e+04, 3.57418e+04, 4.16986e+04, 4.76554e+04, 5.36122e+04,\n",
       "        5.95690e+04]),\n",
       " <BarContainer object of 10 artists>)"
      ]
     },
     "execution_count": 27,
     "metadata": {},
     "output_type": "execute_result"
    },
    {
     "data": {
      "image/png": "[encoded data removed]",
      "text/plain": [
       "<Figure size 640x480 with 1 Axes>"
      ]
     },
     "metadata": {},
     "output_type": "display_data"
    }
   ],
   "source": [
    "plt.hist(grouped['Length'], density=True)"
   ]
  },
  {
   "cell_type": "code",
   "execution_count": 9,
   "metadata": {},
   "outputs": [
    {
     "data": {
      "text/plain": [
       "<matplotlib.lines.Line2D at 0x7f8cc51b9a50>"
      ]
     },
     "execution_count": 9,
     "metadata": {},
     "output_type": "execute_result"
    },
    {
     "data": {
      "image/png": "[encoded data removed]",
      "text/plain": [
       "<Figure size 640x480 with 1 Axes>"
      ]
     },
     "metadata": {},
     "output_type": "display_data"
    }
   ],
   "source": [
    "plt.ecdf(grouped['Length'])"
   ]
  },
  {
   "cell_type": "code",
   "execution_count": 10,
   "metadata": {},
   "outputs": [
    {
     "data": {
      "text/plain": [
       "2678105.0"
      ]
     },
     "execution_count": 10,
     "metadata": {},
     "output_type": "execute_result"
    }
   ],
   "source": [
    "t_end = grouped['Times'].apply(np.max).max()\n",
    "t_end"
   ]
  },
  {
   "cell_type": "code",
   "execution_count": 11,
   "metadata": {},
   "outputs": [],
   "source": [
    "def get_inter_times(t, t_end):\n",
    "    tau = np.diff(t, prepend=0.0, append=t_end)\n",
    "    return torch.tensor(tau, dtype=torch.float32, device=device)\n",
    "\n",
    "inter_times_list = [get_inter_times(t, t_end) for t in grouped['Times'].values]\n",
    "inter_times = pad_sequence(inter_times_list, batch_first=True)\n",
    "seq_lengths = torch.tensor(grouped['Length'])"
   ]
  },
  {
   "cell_type": "markdown",
   "metadata": {
    "id": "_Os2rmqgaYxH"
   },
   "source": [
    "# Choose a parametric distribution"
   ]
  },
  {
   "cell_type": "markdown",
   "metadata": {},
   "source": [
    "The parametric distribution choosen was the Log-logistic distribution. The formulas were taken from [Wikipedia](https://en.wikipedia.org/wiki/Log-logistic_distribution)."
   ]
  },
  {
   "cell_type": "markdown",
   "metadata": {},
   "source": [
    "Its PDF, $f(x)$, is given as:\n",
    "$$f(x) = \\frac{(\\beta/\\alpha) \\cdot (x/\\alpha)^{\\beta -1}}{(1 + (x/\\alpha)^\\beta)^2}$$"
   ]
  },
  {
   "cell_type": "markdown",
   "metadata": {},
   "source": [
    "Calculating $ln(f(x))$:"
   ]
  },
  {
   "cell_type": "markdown",
   "metadata": {},
   "source": [
    "\\begin{align*}\n",
    "\\ln(f(x)) &= \\ln( \\frac{(\\beta/\\alpha) \\cdot (x/\\alpha)^{\\beta -1}}{(1 + (x/\\alpha)^\\beta)^2}) \\\\\n",
    "&= \\ln((\\beta / \\alpha) \\cdot (x /\\alpha)^{\\beta - 1}) - \\ln(1 + (x / \\alpha)^\\beta)^2 \\\\\n",
    "&= \\ln(\\beta / \\alpha) + \\ln((x/\\alpha)^{\\beta - 1}) - 2\\cdot \\ln(1 + (x / \\alpha)^\\beta) \\\\\n",
    "&= \\ln(\\beta) - \\ln(\\alpha) + (\\beta - 1)\\cdot(\\ln(x) - \\ln(\\alpha)) - 2\\cdot \\ln(1 + (x/ \\alpha)^\\beta)\n",
    "\\end{align*}"
   ]
  },
  {
   "cell_type": "markdown",
   "metadata": {},
   "source": [
    "Its survival function, $S(x)$, is given as \n",
    "\n",
    "$$S(x) = \\frac{1}{1 + (x / \\alpha)^{\\beta}}$$\n",
    "\n",
    "Calculating $\\ln(S(x))$:\n",
    "\n",
    "\\begin{align*}\n",
    "\\ln(S(x)) &= \\ln(\\frac{1}{1 + (x / \\alpha)^{\\beta}} \\\\\n",
    "&= \\ln(1) - \\ln(1 + (x / \\alpha)^{\\beta}) \\\\\n",
    "&= - \\ln(1 + (x / \\alpha)^{\\beta})\n",
    "\\end{align*}"
   ]
  },
  {
   "cell_type": "markdown",
   "metadata": {},
   "source": [
    "Finally, to sample we use the quantile\n",
    "$$F^{-1}(p; \\alpha, \\beta) = \\alpha(\\frac{p}{1 - p})^{1 / \\beta}$$"
   ]
  },
  {
   "cell_type": "code",
   "execution_count": 12,
   "metadata": {
    "id": "bhWhF25gaYxH"
   },
   "outputs": [],
   "source": [
    "class LogLogistic:\n",
    "    \"\"\"Log-logistic distribution.\n",
    "\n",
    "    Args:\n",
    "        a: scale parameter a (strictly positive)\n",
    "        b: shape parameter b (strictly positive)\n",
    "        eps: Minimum value of x, used for numerical stability.\n",
    "    \"\"\"\n",
    "    def __init__(self, a, b, eps=1e-8):\n",
    "        self.a = a\n",
    "        self.b = b\n",
    "        self.eps = eps\n",
    "\n",
    "    def log_prob(self, x):\n",
    "        \"\"\"Logarithm of the probability density function log(f(x)).\"\"\"\n",
    "        # x must have the same shape as self.b and self.k\n",
    "        x = x.clamp_min(self.eps)  # pow is unstable for inputs close to 0\n",
    "        return (self.b.log() - self.a.log() + (self.b - 1)*(x.log() - self.a.log()) \n",
    "               -2*torch.log(1 + (x/self.a).pow(self.b)))\n",
    "\n",
    "    \n",
    "    def log_survival(self, x):\n",
    "        \"\"\"Logarithm of the survival function log(S(x)).\"\"\"\n",
    "        x = x.clamp_min(self.eps)\n",
    "        return -(torch.log(1 + (x/self.a).pow(self.b)))\n",
    "\n",
    "        \n",
    "    def sample(self, sample_shape=torch.Size()):\n",
    "        \"\"\"Generate a sample from the distribution.\"\"\"\n",
    "        # We do sampling using the inverse transform method\n",
    "        shape = torch.Size(sample_shape) + self.b.shape\n",
    "        z = torch.empty(shape).uniform_(0, 1)\n",
    "        return self.a * (z / (1 - z)).pow(self.b.reciprocal())"
   ]
  },
  {
   "cell_type": "markdown",
   "metadata": {
    "id": "xuBur_XWaYxI"
   },
   "source": [
    "# Define the model"
   ]
  },
  {
   "cell_type": "code",
   "execution_count": 13,
   "metadata": {
    "id": "Ml0ML_QVaYxJ"
   },
   "outputs": [],
   "source": [
    "class NeuralTPP(nn.Module):\n",
    "    \"\"\"A simple neural TPP model with an RNN encoder.\n",
    "\n",
    "    Args:\n",
    "        context_size: Size of the RNN hidden state.\n",
    "    \"\"\"\n",
    "    def __init__(self, context_size=32):\n",
    "        super().__init__()\n",
    "        self.context_size = context_size\n",
    "        # Used to embed the event history into a context vector\n",
    "        self.rnn = nn.GRU(\n",
    "            input_size=2,\n",
    "            hidden_size=context_size,\n",
    "            batch_first=True,\n",
    "        )\n",
    "        # Used to obtain model parameters from the context vector\n",
    "        self.hypernet = nn.Linear(\n",
    "            in_features=context_size,\n",
    "            out_features=2,\n",
    "        )\n",
    "\n",
    "    def get_context(self, inter_times):\n",
    "        \"\"\"Get context embedding for each event in each sequence.\n",
    "\n",
    "        Args:\n",
    "            inter_times: Padded inter-event times, shape (B, L)\n",
    "\n",
    "        Returns:\n",
    "            context: Context vectors, shape (B, L, C)\n",
    "        \"\"\"\n",
    "        tau = inter_times.unsqueeze(-1)\n",
    "        # Clamp tau to avoid computing log(0) for padding and getting NaNs\n",
    "        log_tau = inter_times.clamp_min(1e-8).log().unsqueeze(-1)  # (B, L, 1)\n",
    "        rnn_input = torch.cat([tau, log_tau], dim=-1)\n",
    "        # The intial state is automatically set to zeros\n",
    "        rnn_output = self.rnn(rnn_input)[0]  # (B, L, C)\n",
    "        # Shift by one such that context[:, i] will be used\n",
    "        # to parametrize the distribution of inter_times[:, i]\n",
    "        context = F.pad(rnn_output[:, :-1, :], (0, 0, 1, 0))  # (B, L, C)\n",
    "        return context\n",
    "\n",
    "    def get_inter_time_distribution(self, context):\n",
    "        \"\"\"Get context embedding for each event in each sequence.\n",
    "\n",
    "        Args:\n",
    "            context: Context vectors, shape (B, L, C)\n",
    "\n",
    "        Returns:\n",
    "            dist: Conditional distribution over the inter-event times\n",
    "        \"\"\"\n",
    "        raw_params = self.hypernet(context)  # (B, L, 2)\n",
    "        b = F.softplus(raw_params[..., 0])  # (B, L)\n",
    "        k = F.softplus(raw_params[..., 1])  # (B, L)\n",
    "        return LogLogistic(a=b, b=k)\n",
    "\n",
    "    def nll_loss(self, inter_times, seq_lengths):\n",
    "        \"\"\"Compute negative log-likelihood for a batch of sequences.\n",
    "\n",
    "        Args:\n",
    "            inter_times: Padded inter_event times, shape (B, L)\n",
    "            seq_lengths: Number of events in each sequence, shape (B,)\n",
    "\n",
    "        Returns:\n",
    "            log_p: Log-likelihood for each sequence, shape (B,)\n",
    "        \"\"\"\n",
    "        context = self.get_context(inter_times)  # (B, L, C)\n",
    "        inter_time_dist = self.get_inter_time_distribution(context)\n",
    "\n",
    "        log_pdf = inter_time_dist.log_prob(inter_times)  # (B, L)\n",
    "        # Construct a boolean mask that selects observed events\n",
    "        arange = torch.arange(inter_times.shape[1], device=seq_lengths.device)\n",
    "        mask = (arange[None, :] < seq_lengths[:, None]).float()  # (B, L)\n",
    "        log_like = (log_pdf * mask).sum(-1)  # (B,)\n",
    "\n",
    "        log_surv = inter_time_dist.log_survival(inter_times)  # (B, L)\n",
    "        end_idx = seq_lengths.unsqueeze(-1)  # (B, 1)\n",
    "        log_surv_last = torch.gather(log_surv, dim=-1, index=end_idx)  # (B, 1)\n",
    "        log_like += log_surv_last.squeeze(-1)  # (B,)\n",
    "        return -log_like\n",
    "\n",
    "    def sample(self, batch_size, t_end):\n",
    "        \"\"\"Generate an event sequence from the TPP.\n",
    "\n",
    "        Args:\n",
    "            batch_size: Number of samples to generate in parallel.\n",
    "            t_end: Time until which the TPP is simulated.\n",
    "\n",
    "        Returns:\n",
    "            inter_times: Padded inter-event times, shape (B, L)\n",
    "            seq_lengths: Number of events in each sequence, shape (B,)\n",
    "        \"\"\"\n",
    "        inter_times = torch.empty([batch_size, 0])\n",
    "        next_context = torch.zeros(batch_size, 1, self.context_size)\n",
    "        generated = False\n",
    "        cnt = 0\n",
    "        while not generated:\n",
    "            cnt+=1\n",
    "            if cnt % 10000 == 0:\n",
    "                print(\"iteration: \", cnt)\n",
    "            # if cnt > 70000:\n",
    "            #     break\n",
    "            inter_time_dist = self.get_inter_time_distribution(next_context)\n",
    "            next_inter_times = inter_time_dist.sample()  # (B, 1)\n",
    "            inter_times = torch.cat([inter_times, next_inter_times], dim=1)  # (B, L)\n",
    "\n",
    "            # Obtain the next context vector\n",
    "            tau = next_inter_times.unsqueeze(-1)  # (B, 1, 1)\n",
    "            log_tau = next_inter_times.clamp_min(1e-8).log().unsqueeze(-1)  # (B, 1, 1)\n",
    "            rnn_input = torch.cat([tau, log_tau], dim=-1)  # (B, 1, 2)\n",
    "            next_context = self.rnn(rnn_input, next_context.transpose(0, 1))[0]  # (B, 1, C)\n",
    "\n",
    "            # Check if the end of the interval has been reached\n",
    "            generated = inter_times.sum(-1).min() >= t_end\n",
    "        # Convert the sample to the same format as our input data\n",
    "        arrival_times = inter_times.cumsum(-1)\n",
    "        seq_lengths = (arrival_times < t_end).sum(-1).long()\n",
    "        inter_times = arrival_times - F.pad(arrival_times, (1, 0))[..., :-1]\n",
    "        return inter_times, seq_lengths"
   ]
  },
  {
   "cell_type": "markdown",
   "metadata": {
    "id": "GZfyr_o8aYxK"
   },
   "source": [
    "# Train the model"
   ]
  },
  {
   "cell_type": "code",
   "execution_count": 14,
   "metadata": {},
   "outputs": [
    {
     "data": {
      "text/plain": [
       "device(type='cuda', index=0)"
      ]
     },
     "execution_count": 14,
     "metadata": {},
     "output_type": "execute_result"
    }
   ],
   "source": [
    "inter_times.device"
   ]
  },
  {
   "cell_type": "code",
   "execution_count": 15,
   "metadata": {
    "id": "Qb8f1GdlaYxL",
    "outputId": "abc3ba9e-0363-49d6-cead-b0fd8e4e1fcd"
   },
   "outputs": [
    {
     "name": "stdout",
     "output_type": "stream",
     "text": [
      "Epoch 0: loss = 0.000\n",
      "Epoch 50: loss = -0.031\n",
      "Epoch 100: loss = -0.032\n",
      "Epoch 150: loss = -0.033\n",
      "Epoch 200: loss = -0.034\n",
      "Epoch 250: loss = -0.034\n",
      "Epoch 300: loss = -0.034\n",
      "Epoch 350: loss = -0.034\n",
      "Epoch 400: loss = -0.034\n",
      "Epoch 450: loss = -0.034\n",
      "Epoch 500: loss = -0.034\n"
     ]
    },
    {
     "ename": "KeyboardInterrupt",
     "evalue": "",
     "output_type": "error",
     "traceback": [
      "\u001b[0;31m---------------------------------------------------------------------------\u001b[0m",
      "\u001b[0;31mKeyboardInterrupt\u001b[0m                         Traceback (most recent call last)",
      "Cell \u001b[0;32mIn[15], line 7\u001b[0m\n\u001b[1;32m      5\u001b[0m \u001b[38;5;28;01mfor\u001b[39;00m epoch \u001b[38;5;129;01min\u001b[39;00m \u001b[38;5;28mrange\u001b[39m(max_epochs \u001b[38;5;241m+\u001b[39m \u001b[38;5;241m1\u001b[39m):\n\u001b[1;32m      6\u001b[0m     opt\u001b[38;5;241m.\u001b[39mzero_grad()\n\u001b[0;32m----> 7\u001b[0m     loss \u001b[38;5;241m=\u001b[39m \u001b[43mmodel\u001b[49m\u001b[38;5;241;43m.\u001b[39;49m\u001b[43mnll_loss\u001b[49m\u001b[43m(\u001b[49m\u001b[43minter_times\u001b[49m\u001b[43m,\u001b[49m\u001b[43m \u001b[49m\u001b[43mseq_lengths\u001b[49m\u001b[43m)\u001b[49m\u001b[38;5;241m.\u001b[39mmean() \u001b[38;5;241m/\u001b[39m t_end\n\u001b[1;32m      8\u001b[0m     loss\u001b[38;5;241m.\u001b[39mbackward()\n\u001b[1;32m      9\u001b[0m     opt\u001b[38;5;241m.\u001b[39mstep()\n",
      "Cell \u001b[0;32mIn[13], line 66\u001b[0m, in \u001b[0;36mNeuralTPP.nll_loss\u001b[0;34m(self, inter_times, seq_lengths)\u001b[0m\n\u001b[1;32m     56\u001b[0m \u001b[38;5;28;01mdef\u001b[39;00m \u001b[38;5;21mnll_loss\u001b[39m(\u001b[38;5;28mself\u001b[39m, inter_times, seq_lengths):\n\u001b[1;32m     57\u001b[0m \u001b[38;5;250m    \u001b[39m\u001b[38;5;124;03m\"\"\"Compute negative log-likelihood for a batch of sequences.\u001b[39;00m\n\u001b[1;32m     58\u001b[0m \n\u001b[1;32m     59\u001b[0m \u001b[38;5;124;03m    Args:\u001b[39;00m\n\u001b[0;32m   (...)\u001b[0m\n\u001b[1;32m     64\u001b[0m \u001b[38;5;124;03m        log_p: Log-likelihood for each sequence, shape (B,)\u001b[39;00m\n\u001b[1;32m     65\u001b[0m \u001b[38;5;124;03m    \"\"\"\u001b[39;00m\n\u001b[0;32m---> 66\u001b[0m     context \u001b[38;5;241m=\u001b[39m \u001b[38;5;28;43mself\u001b[39;49m\u001b[38;5;241;43m.\u001b[39;49m\u001b[43mget_context\u001b[49m\u001b[43m(\u001b[49m\u001b[43minter_times\u001b[49m\u001b[43m)\u001b[49m  \u001b[38;5;66;03m# (B, L, C)\u001b[39;00m\n\u001b[1;32m     67\u001b[0m     inter_time_dist \u001b[38;5;241m=\u001b[39m \u001b[38;5;28mself\u001b[39m\u001b[38;5;241m.\u001b[39mget_inter_time_distribution(context)\n\u001b[1;32m     69\u001b[0m     log_pdf \u001b[38;5;241m=\u001b[39m inter_time_dist\u001b[38;5;241m.\u001b[39mlog_prob(inter_times)  \u001b[38;5;66;03m# (B, L)\u001b[39;00m\n",
      "Cell \u001b[0;32mIn[13], line 36\u001b[0m, in \u001b[0;36mNeuralTPP.get_context\u001b[0;34m(self, inter_times)\u001b[0m\n\u001b[1;32m     34\u001b[0m rnn_input \u001b[38;5;241m=\u001b[39m torch\u001b[38;5;241m.\u001b[39mcat([tau, log_tau], dim\u001b[38;5;241m=\u001b[39m\u001b[38;5;241m-\u001b[39m\u001b[38;5;241m1\u001b[39m)\n\u001b[1;32m     35\u001b[0m \u001b[38;5;66;03m# The intial state is automatically set to zeros\u001b[39;00m\n\u001b[0;32m---> 36\u001b[0m rnn_output \u001b[38;5;241m=\u001b[39m \u001b[38;5;28;43mself\u001b[39;49m\u001b[38;5;241;43m.\u001b[39;49m\u001b[43mrnn\u001b[49m\u001b[43m(\u001b[49m\u001b[43mrnn_input\u001b[49m\u001b[43m)\u001b[49m[\u001b[38;5;241m0\u001b[39m]  \u001b[38;5;66;03m# (B, L, C)\u001b[39;00m\n\u001b[1;32m     37\u001b[0m \u001b[38;5;66;03m# Shift by one such that context[:, i] will be used\u001b[39;00m\n\u001b[1;32m     38\u001b[0m \u001b[38;5;66;03m# to parametrize the distribution of inter_times[:, i]\u001b[39;00m\n\u001b[1;32m     39\u001b[0m context \u001b[38;5;241m=\u001b[39m F\u001b[38;5;241m.\u001b[39mpad(rnn_output[:, :\u001b[38;5;241m-\u001b[39m\u001b[38;5;241m1\u001b[39m, :], (\u001b[38;5;241m0\u001b[39m, \u001b[38;5;241m0\u001b[39m, \u001b[38;5;241m1\u001b[39m, \u001b[38;5;241m0\u001b[39m))  \u001b[38;5;66;03m# (B, L, C)\u001b[39;00m\n",
      "File \u001b[0;32m/apps/conda/luis.higino/.envs/neuraltpp/lib/python3.10/site-packages/torch/nn/modules/module.py:1130\u001b[0m, in \u001b[0;36mModule._call_impl\u001b[0;34m(self, *input, **kwargs)\u001b[0m\n\u001b[1;32m   1126\u001b[0m \u001b[38;5;66;03m# If we don't have any hooks, we want to skip the rest of the logic in\u001b[39;00m\n\u001b[1;32m   1127\u001b[0m \u001b[38;5;66;03m# this function, and just call forward.\u001b[39;00m\n\u001b[1;32m   1128\u001b[0m \u001b[38;5;28;01mif\u001b[39;00m \u001b[38;5;129;01mnot\u001b[39;00m (\u001b[38;5;28mself\u001b[39m\u001b[38;5;241m.\u001b[39m_backward_hooks \u001b[38;5;129;01mor\u001b[39;00m \u001b[38;5;28mself\u001b[39m\u001b[38;5;241m.\u001b[39m_forward_hooks \u001b[38;5;129;01mor\u001b[39;00m \u001b[38;5;28mself\u001b[39m\u001b[38;5;241m.\u001b[39m_forward_pre_hooks \u001b[38;5;129;01mor\u001b[39;00m _global_backward_hooks\n\u001b[1;32m   1129\u001b[0m         \u001b[38;5;129;01mor\u001b[39;00m _global_forward_hooks \u001b[38;5;129;01mor\u001b[39;00m _global_forward_pre_hooks):\n\u001b[0;32m-> 1130\u001b[0m     \u001b[38;5;28;01mreturn\u001b[39;00m \u001b[43mforward_call\u001b[49m\u001b[43m(\u001b[49m\u001b[38;5;241;43m*\u001b[39;49m\u001b[38;5;28;43minput\u001b[39;49m\u001b[43m,\u001b[49m\u001b[43m \u001b[49m\u001b[38;5;241;43m*\u001b[39;49m\u001b[38;5;241;43m*\u001b[39;49m\u001b[43mkwargs\u001b[49m\u001b[43m)\u001b[49m\n\u001b[1;32m   1131\u001b[0m \u001b[38;5;66;03m# Do not call functions when jit is used\u001b[39;00m\n\u001b[1;32m   1132\u001b[0m full_backward_hooks, non_full_backward_hooks \u001b[38;5;241m=\u001b[39m [], []\n",
      "File \u001b[0;32m/apps/conda/luis.higino/.envs/neuraltpp/lib/python3.10/site-packages/torch/nn/modules/rnn.py:950\u001b[0m, in \u001b[0;36mGRU.forward\u001b[0;34m(self, input, hx)\u001b[0m\n\u001b[1;32m    948\u001b[0m \u001b[38;5;28mself\u001b[39m\u001b[38;5;241m.\u001b[39mcheck_forward_args(\u001b[38;5;28minput\u001b[39m, hx, batch_sizes)\n\u001b[1;32m    949\u001b[0m \u001b[38;5;28;01mif\u001b[39;00m batch_sizes \u001b[38;5;129;01mis\u001b[39;00m \u001b[38;5;28;01mNone\u001b[39;00m:\n\u001b[0;32m--> 950\u001b[0m     result \u001b[38;5;241m=\u001b[39m \u001b[43m_VF\u001b[49m\u001b[38;5;241;43m.\u001b[39;49m\u001b[43mgru\u001b[49m\u001b[43m(\u001b[49m\u001b[38;5;28;43minput\u001b[39;49m\u001b[43m,\u001b[49m\u001b[43m \u001b[49m\u001b[43mhx\u001b[49m\u001b[43m,\u001b[49m\u001b[43m \u001b[49m\u001b[38;5;28;43mself\u001b[39;49m\u001b[38;5;241;43m.\u001b[39;49m\u001b[43m_flat_weights\u001b[49m\u001b[43m,\u001b[49m\u001b[43m \u001b[49m\u001b[38;5;28;43mself\u001b[39;49m\u001b[38;5;241;43m.\u001b[39;49m\u001b[43mbias\u001b[49m\u001b[43m,\u001b[49m\u001b[43m \u001b[49m\u001b[38;5;28;43mself\u001b[39;49m\u001b[38;5;241;43m.\u001b[39;49m\u001b[43mnum_layers\u001b[49m\u001b[43m,\u001b[49m\n\u001b[1;32m    951\u001b[0m \u001b[43m                     \u001b[49m\u001b[38;5;28;43mself\u001b[39;49m\u001b[38;5;241;43m.\u001b[39;49m\u001b[43mdropout\u001b[49m\u001b[43m,\u001b[49m\u001b[43m \u001b[49m\u001b[38;5;28;43mself\u001b[39;49m\u001b[38;5;241;43m.\u001b[39;49m\u001b[43mtraining\u001b[49m\u001b[43m,\u001b[49m\u001b[43m \u001b[49m\u001b[38;5;28;43mself\u001b[39;49m\u001b[38;5;241;43m.\u001b[39;49m\u001b[43mbidirectional\u001b[49m\u001b[43m,\u001b[49m\u001b[43m \u001b[49m\u001b[38;5;28;43mself\u001b[39;49m\u001b[38;5;241;43m.\u001b[39;49m\u001b[43mbatch_first\u001b[49m\u001b[43m)\u001b[49m\n\u001b[1;32m    952\u001b[0m \u001b[38;5;28;01melse\u001b[39;00m:\n\u001b[1;32m    953\u001b[0m     result \u001b[38;5;241m=\u001b[39m _VF\u001b[38;5;241m.\u001b[39mgru(\u001b[38;5;28minput\u001b[39m, batch_sizes, hx, \u001b[38;5;28mself\u001b[39m\u001b[38;5;241m.\u001b[39m_flat_weights, \u001b[38;5;28mself\u001b[39m\u001b[38;5;241m.\u001b[39mbias,\n\u001b[1;32m    954\u001b[0m                      \u001b[38;5;28mself\u001b[39m\u001b[38;5;241m.\u001b[39mnum_layers, \u001b[38;5;28mself\u001b[39m\u001b[38;5;241m.\u001b[39mdropout, \u001b[38;5;28mself\u001b[39m\u001b[38;5;241m.\u001b[39mtraining, \u001b[38;5;28mself\u001b[39m\u001b[38;5;241m.\u001b[39mbidirectional)\n",
      "\u001b[0;31mKeyboardInterrupt\u001b[0m: "
     ]
    }
   ],
   "source": [
    "model = NeuralTPP()\n",
    "opt = torch.optim.Adam(model.parameters(), lr=5e-3)\n",
    "\n",
    "max_epochs = 10000\n",
    "for epoch in range(max_epochs + 1):\n",
    "    opt.zero_grad()\n",
    "    loss = model.nll_loss(inter_times, seq_lengths).mean() / t_end\n",
    "    loss.backward()\n",
    "    opt.step()\n",
    "    if epoch % 50 == 0:\n",
    "        print(f\"Epoch {epoch}: loss = {loss.item():.3f}\")"
   ]
  },
  {
   "cell_type": "markdown",
   "metadata": {
    "id": "DPQJvlRgaYxL"
   },
   "source": [
    "# Sample event sequences from the model"
   ]
  },
  {
   "cell_type": "code",
   "execution_count": 16,
   "metadata": {},
   "outputs": [],
   "source": [
    "arrival_times_list = grouped['Times'].values"
   ]
  },
  {
   "cell_type": "code",
   "execution_count": 17,
   "metadata": {
    "id": "ntAUBEOfaYxM"
   },
   "outputs": [
    {
     "name": "stdout",
     "output_type": "stream",
     "text": [
      "iteration:  10000\n",
      "iteration:  20000\n",
      "iteration:  30000\n",
      "iteration:  40000\n",
      "iteration:  50000\n",
      "iteration:  60000\n",
      "iteration:  70000\n",
      "iteration:  80000\n",
      "iteration:  90000\n",
      "iteration:  100000\n"
     ]
    },
    {
     "ename": "KeyboardInterrupt",
     "evalue": "",
     "output_type": "error",
     "traceback": [
      "\u001b[0;31m---------------------------------------------------------------------------\u001b[0m",
      "\u001b[0;31mKeyboardInterrupt\u001b[0m                         Traceback (most recent call last)",
      "Cell \u001b[0;32mIn[17], line 2\u001b[0m\n\u001b[1;32m      1\u001b[0m \u001b[38;5;28;01mwith\u001b[39;00m torch\u001b[38;5;241m.\u001b[39mno_grad():\n\u001b[0;32m----> 2\u001b[0m     gen_inter_times, gen_seq_lengths \u001b[38;5;241m=\u001b[39m \u001b[43mmodel\u001b[49m\u001b[38;5;241;43m.\u001b[39;49m\u001b[43msample\u001b[49m\u001b[43m(\u001b[49m\u001b[38;5;241;43m1000\u001b[39;49m\u001b[43m,\u001b[49m\u001b[43m \u001b[49m\u001b[43mt_end\u001b[49m\u001b[43m)\u001b[49m\n\u001b[1;32m      3\u001b[0m gen_arrival_times \u001b[38;5;241m=\u001b[39m gen_inter_times\u001b[38;5;241m.\u001b[39mcumsum(\u001b[38;5;241m-\u001b[39m\u001b[38;5;241m1\u001b[39m)\n\u001b[1;32m      4\u001b[0m generated_sequences \u001b[38;5;241m=\u001b[39m []\n",
      "Cell \u001b[0;32mIn[13], line 96\u001b[0m, in \u001b[0;36mNeuralTPP.sample\u001b[0;34m(self, batch_size, t_end)\u001b[0m\n\u001b[1;32m     94\u001b[0m generated \u001b[38;5;241m=\u001b[39m \u001b[38;5;28;01mFalse\u001b[39;00m\n\u001b[1;32m     95\u001b[0m cnt \u001b[38;5;241m=\u001b[39m \u001b[38;5;241m0\u001b[39m\n\u001b[0;32m---> 96\u001b[0m \u001b[38;5;28;01mwhile\u001b[39;00m \u001b[38;5;129;01mnot\u001b[39;00m generated:\n\u001b[1;32m     97\u001b[0m     cnt\u001b[38;5;241m+\u001b[39m\u001b[38;5;241m=\u001b[39m\u001b[38;5;241m1\u001b[39m\n\u001b[1;32m     98\u001b[0m     \u001b[38;5;28;01mif\u001b[39;00m cnt \u001b[38;5;241m%\u001b[39m \u001b[38;5;241m10000\u001b[39m \u001b[38;5;241m==\u001b[39m \u001b[38;5;241m0\u001b[39m:\n",
      "\u001b[0;31mKeyboardInterrupt\u001b[0m: "
     ]
    }
   ],
   "source": [
    "with torch.no_grad():\n",
    "    gen_inter_times, gen_seq_lengths = model.sample(1000, t_end)\n",
    "gen_arrival_times = gen_inter_times.cumsum(-1)\n",
    "generated_sequences = []\n",
    "for i in range(gen_arrival_times.shape[0]):\n",
    "    t = gen_arrival_times[i, :gen_seq_lengths[i]].cpu().numpy()\n",
    "    generated_sequences.append(t)"
   ]
  },
  {
   "cell_type": "code",
   "execution_count": 18,
   "metadata": {
    "id": "NMg_MO4XaYxM"
   },
   "outputs": [
    {
     "ename": "NameError",
     "evalue": "name 'gen_seq_lengths' is not defined",
     "output_type": "error",
     "traceback": [
      "\u001b[0;31m---------------------------------------------------------------------------\u001b[0m",
      "\u001b[0;31mNameError\u001b[0m                                 Traceback (most recent call last)",
      "Cell \u001b[0;32mIn[18], line 2\u001b[0m\n\u001b[1;32m      1\u001b[0m seq_lengths \u001b[38;5;241m=\u001b[39m seq_lengths\u001b[38;5;241m.\u001b[39mcpu()\u001b[38;5;241m.\u001b[39mnumpy()\n\u001b[0;32m----> 2\u001b[0m gen_seq_lengths \u001b[38;5;241m=\u001b[39m \u001b[43mgen_seq_lengths\u001b[49m\u001b[38;5;241m.\u001b[39mcpu()\u001b[38;5;241m.\u001b[39mnumpy()\n",
      "\u001b[0;31mNameError\u001b[0m: name 'gen_seq_lengths' is not defined"
     ]
    }
   ],
   "source": [
    "seq_lengths = seq_lengths.cpu().numpy()\n",
    "gen_seq_lengths = gen_seq_lengths.cpu().numpy()"
   ]
  },
  {
   "cell_type": "code",
   "execution_count": 19,
   "metadata": {
    "id": "Mf0aCawGaYxM",
    "outputId": "708d1acd-72c0-4f38-df1e-d15bdb4d45f6"
   },
   "outputs": [
    {
     "ename": "NameError",
     "evalue": "name 'generated_sequences' is not defined",
     "output_type": "error",
     "traceback": [
      "\u001b[0;31m---------------------------------------------------------------------------\u001b[0m",
      "\u001b[0;31mNameError\u001b[0m                                 Traceback (most recent call last)",
      "Cell \u001b[0;32mIn[19], line 10\u001b[0m\n\u001b[1;32m      6\u001b[0m axes[\u001b[38;5;241m0\u001b[39m, \u001b[38;5;241m0\u001b[39m]\u001b[38;5;241m.\u001b[39mset_yticks(np\u001b[38;5;241m.\u001b[39marange(\u001b[38;5;241m10\u001b[39m));\n\u001b[1;32m      7\u001b[0m axes[\u001b[38;5;241m0\u001b[39m, \u001b[38;5;241m0\u001b[39m]\u001b[38;5;241m.\u001b[39mset_title(\u001b[38;5;124m\"\u001b[39m\u001b[38;5;124mVisualization of arrival times\u001b[39m\u001b[38;5;124m\"\u001b[39m, fontsize\u001b[38;5;241m=\u001b[39m\u001b[38;5;241m9\u001b[39m)\n\u001b[0;32m---> 10\u001b[0m \u001b[38;5;28;01mfor\u001b[39;00m idx, t \u001b[38;5;129;01min\u001b[39;00m \u001b[38;5;28menumerate\u001b[39m(\u001b[43mgenerated_sequences\u001b[49m[:\u001b[38;5;241m10\u001b[39m]):\n\u001b[1;32m     11\u001b[0m     axes[\u001b[38;5;241m1\u001b[39m, \u001b[38;5;241m0\u001b[39m]\u001b[38;5;241m.\u001b[39mscatter(t, np\u001b[38;5;241m.\u001b[39mones_like(t) \u001b[38;5;241m*\u001b[39m idx, alpha\u001b[38;5;241m=\u001b[39m\u001b[38;5;241m0.5\u001b[39m, c\u001b[38;5;241m=\u001b[39m\u001b[38;5;124m'\u001b[39m\u001b[38;5;124mC1\u001b[39m\u001b[38;5;124m'\u001b[39m, marker\u001b[38;5;241m=\u001b[39m\u001b[38;5;124m\"\u001b[39m\u001b[38;5;124m|\u001b[39m\u001b[38;5;124m\"\u001b[39m)\n\u001b[1;32m     12\u001b[0m axes[\u001b[38;5;241m1\u001b[39m, \u001b[38;5;241m0\u001b[39m]\u001b[38;5;241m.\u001b[39mset_xlabel(\u001b[38;5;124m\"\u001b[39m\u001b[38;5;124mTime\u001b[39m\u001b[38;5;124m\"\u001b[39m, fontsize\u001b[38;5;241m=\u001b[39m\u001b[38;5;241m7\u001b[39m)\n",
      "\u001b[0;31mNameError\u001b[0m: name 'generated_sequences' is not defined"
     ]
    },
    {
     "data": {
      "image/png": "[encoded data removed]",
      "text/plain": [
       "<Figure size 1600x900 with 4 Axes>"
      ]
     },
     "metadata": {},
     "output_type": "display_data"
    }
   ],
   "source": [
    "fig, axes = plt.subplots(figsize=[8, 4.5], dpi=200, nrows=2, ncols=2)\n",
    "plt.subplots_adjust(hspace=0.1)\n",
    "for idx, t in enumerate(arrival_times_list[:10]):\n",
    "    axes[0, 0].scatter(t, np.ones_like(t) * idx, alpha=0.5, c='C0', marker=\"|\")\n",
    "axes[0, 0].set_ylabel(\"Real sequence #\", fontsize=7)\n",
    "axes[0, 0].set_yticks(np.arange(10));\n",
    "axes[0, 0].set_title(\"Visualization of arrival times\", fontsize=9)\n",
    "\n",
    "\n",
    "for idx, t in enumerate(generated_sequences[:10]):\n",
    "    axes[1, 0].scatter(t, np.ones_like(t) * idx, alpha=0.5, c='C1', marker=\"|\")\n",
    "axes[1, 0].set_xlabel(\"Time\", fontsize=7)\n",
    "axes[1, 0].set_ylabel(\"Generated sequence #\", fontsize=7)\n",
    "axes[1, 0].set_yticks(np.arange(10))\n",
    "axes[0, 0].set_xticklabels([])\n",
    "\n",
    "for ax in np.ravel(axes):\n",
    "    ax.tick_params(axis='x', labelsize=7)\n",
    "    ax.tick_params(axis='y', labelsize=7)\n",
    "\n",
    "axes[0, 1].set_title(\"Distribution of sequence lengths\", fontsize=9)\n",
    "q_min = min(seq_lengths.min(), gen_seq_lengths.min())\n",
    "q_max = max(seq_lengths.max(), gen_seq_lengths.max())\n",
    "axes[0, 1].hist(seq_lengths, 30, alpha=0.8, color=\"C0\", range=(q_min, q_max), label=\"Real data\");\n",
    "axes[0, 1].set_ylabel(\"Frequency\", fontsize=7)\n",
    "axes[0, 1].set_xticklabels([])\n",
    "\n",
    "axes[1, 1].hist(gen_seq_lengths, 30, alpha=0.8, color=\"C1\", range=(q_min, q_max), label=\"Generated by the model\");\n",
    "axes[1, 1].set_xlabel(r\"Sequence length\", fontsize=7)\n",
    "axes[1, 1].set_ylabel(\"Frequency\", fontsize=7)\n",
    "\n",
    "fig.legend(loc=\"lower center\", ncol=2, fontsize=7)"
   ]
  },
  {
   "cell_type": "code",
   "execution_count": null,
   "metadata": {},
   "outputs": [],
   "source": []
  }
 ],
 "metadata": {
  "colab": {
   "provenance": []
  },
  "kernelspec": {
   "display_name": "neuraltpp",
   "language": "python",
   "name": "neuraltpp"
  },
  "language_info": {
   "codemirror_mode": {
    "name": "ipython",
    "version": 3
   },
   "file_extension": ".py",
   "mimetype": "text/x-python",
   "name": "python",
   "nbconvert_exporter": "python",
   "pygments_lexer": "ipython3",
   "version": "3.10.14"
  }
 },
 "nbformat": 4,
 "nbformat_minor": 4
}
