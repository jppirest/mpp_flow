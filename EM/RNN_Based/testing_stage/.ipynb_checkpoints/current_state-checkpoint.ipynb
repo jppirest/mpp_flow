{
 "cells": [
  {
   "cell_type": "code",
   "execution_count": 2,
   "id": "88fa258d-c31e-4cff-a543-fae428fe4b93",
   "metadata": {},
   "outputs": [],
   "source": [
    "import numpy as np\n",
    "import matplotlib.pyplot as plt\n",
    "\n",
    "# Set random seed for reproducibility\n",
    "np.random.seed(42)\n",
    "\n",
    "# Parameters\n",
    "n_points = 120 # Number of time points\n",
    "time = np.arange(n_points)\n",
    "\n",
    "# Generate base binary time series using Bernoulli distribution\n",
    "X1 = np.random.binomial(1, 0.6, n_points)\n",
    "X2 = np.zeros(n_points)\n",
    "X3 = np.zeros(n_points)\n",
    "\n",
    "# Introduce causal relationships\n",
    "for t in range(1, n_points):\n",
    "    # X2 is more likely to happen if X1 happened in the previous step\n",
    "    X2[t] = np.random.binomial(1, 0.95 * X1[t-1])\n",
    "    # X3 is more likely to happen if X2 happened in the previous step\n",
    "    X3[t] = np.random.binomial(1, 0.95 * X2[t-1] )\n",
    "\n",
    "\n",
    "#print(X1)\n",
    "\n",
    "X1 = [time[i] for i in range(len(X1)) if X1[i] > 0]\n",
    "X2 = [time[i] + 0.1 for i in range(len(X2)) if X2[i] > 0]\n",
    "X3 = [time[i] + 0.2 for i in range(len(X3)) if X3[i] > 0]"
   ]
  },
  {
   "cell_type": "code",
   "execution_count": 3,
   "id": "85c66ed5-4c64-415d-b060-5bdf06d5e68d",
   "metadata": {},
   "outputs": [
    {
     "data": {
      "image/png": "[encoded data removed]",
      "text/plain": [
       "<Figure size 640x480 with 3 Axes>"
      ]
     },
     "metadata": {},
     "output_type": "display_data"
    }
   ],
   "source": [
    "def _plot_tick_bars(timestamps_i, ax, color):\n",
    "    for t in timestamps_i:\n",
    "        ax.axvline(x=t, color = color)\n",
    "    # ax.set_title(label, fontsize=20)\n",
    "    ax.get_yaxis().set_visible(False)\n",
    "def _plot_tick_bars_causes(timestamps_i, ax, cause):\n",
    "    colors = ['red', 'green', 'blue']\n",
    "    for idx, t in enumerate(timestamps_i):\n",
    "        cause_ = torch.argmax(cause[idx]).item()\n",
    "        ax.axvline(x=t, color = colors[cause_])\n",
    "    ax.get_yaxis().set_visible(False)\n",
    "\n",
    "fig, ax = plt.subplots(nrows = 3, sharex = True)\n",
    "\n",
    "_plot_tick_bars(X1, ax[0], color = 'red')\n",
    "_plot_tick_bars(X2, ax[1], color = 'green')\n",
    "_plot_tick_bars(X3, ax[2], color = 'blue')"
   ]
  },
  {
   "cell_type": "code",
   "execution_count": 4,
   "id": "b1a6a48f-ac51-4f35-b834-d83ca5145426",
   "metadata": {},
   "outputs": [],
   "source": [
    "import torch\n",
    "import torch.nn as nn\n",
    "import torch.nn.functional as F\n",
    "from torch.nn.utils.rnn import pad_sequence\n",
    "from torch.utils.data import DataLoader\n",
    "\n",
    "if torch.cuda.is_available():\n",
    "    torch.set_default_tensor_type(\"torch.cuda.FloatTensor\")\n",
    "    device = \"cuda\"\n",
    "else:\n",
    "    torch.set_default_tensor_type(\"torch.FloatTensor\")\n",
    "    device = \"cpu\"\n",
    "    "
   ]
  },
  {
   "cell_type": "code",
   "execution_count": 5,
   "id": "7749ccfc-6d6b-4376-9003-14aa3a73b1e8",
   "metadata": {},
   "outputs": [],
   "source": [
    "import torch \n",
    "\n",
    "class ProbRNN(nn.Module):\n",
    "    def __init__(self, memory_size):\n",
    "        super().__init__()\n",
    "\n",
    "        self.memory_size = memory_size\n",
    "        self.linear = nn.Sequential(nn.Linear(self.memory_size, 64), nn.LayerNorm(64), nn.Tanh())\n",
    "        self.lstm = nn.GRU(input_size = 64, hidden_size = 128, num_layers = 2, batch_first = True)\n",
    "        self.lstm_norm = nn.LayerNorm(128)\n",
    "        self.linear_mu = nn.Sequential(nn.Linear(128, self.memory_size), nn.LayerNorm(self.memory_size))\n",
    "        self.linear_std = nn.Sequential(nn.Linear(128, self.memory_size), nn.LayerNorm(self.memory_size))\n",
    "        self.linear_gmm_weights = nn.Sequential(nn.Linear(128, self.memory_size), nn.LayerNorm(self.memory_size), nn.Softmax(dim = 1))\n",
    "        \n",
    "\n",
    "    def forward(self, x):\n",
    "      debug_x = x.clone()\n",
    "      x = self.linear(x)\n",
    "      x, _ = self.lstm(x)\n",
    "      x = self.lstm_norm(x)\n",
    "      mu = self.linear_mu(x)\n",
    "      # print(mu)\n",
    "      std = self.linear_std(x)\n",
    "      std = torch.exp(std)\n",
    "      gmm_weights = self.linear_gmm_weights(x)\n",
    "      if torch.isnan(mu).any() or torch.isnan(std).any():\n",
    "          print(mu, std, debug_x)\n",
    "\n",
    "\n",
    "      mix_dist = self.build_distrib(mu, std, gmm_weights)\n",
    "\n",
    "      new_X = self.sample(mu, std)\n",
    "      log_prob = mix_dist.log_prob(new_X)\n",
    "\n",
    "    \n",
    "      return new_X, log_prob\n",
    "\n",
    "\n",
    "    def build_distrib(self, mus, stds, gmm_weights):\n",
    "      \n",
    "      \n",
    "      \n",
    "      component_dist = torch.distributions.Normal(mus.T, stds.T)\n",
    "      mix_weight = torch.distributions.Categorical(gmm_weights.T)\n",
    "      mix_dist = torch.distributions.MixtureSameFamily(mix_weight, component_dist)\n",
    "      self.mix_dist = mix_dist\n",
    "      \n",
    "\n",
    "      return mix_dist\n",
    "\n",
    "    def sample(self, mu, std):\n",
    "      size = (std.size(0),)\n",
    "\n",
    "      X =  mu + self.mix_dist.sample(size)*std\n",
    "\n",
    "      return X\n"
   ]
  },
  {
   "cell_type": "code",
   "execution_count": 5,
   "id": "f67fd288-e6e7-4a1c-8144-bd7aae098751",
   "metadata": {},
   "outputs": [
    {
     "data": {
      "text/plain": [
       "178586"
      ]
     },
     "execution_count": 5,
     "metadata": {},
     "output_type": "execute_result"
    }
   ],
   "source": [
    "rede = ProbRNN(memory_size=10)\n",
    "sum(p.numel() for p in rede.parameters())"
   ]
  },
  {
   "cell_type": "code",
   "execution_count": 6,
   "id": "8ed764e6-a3a4-409a-988c-d9d8dae769b4",
   "metadata": {},
   "outputs": [],
   "source": [
    "X1_ = torch.tensor(X1.copy(), dtype = torch.float32)\n",
    "X2_ = torch.tensor(X2.copy(), dtype = torch.float32)\n",
    "X3_ = torch.tensor(X3.copy(), dtype = torch.float32)\n",
    "processes = [X1_, X2_, X3_]"
   ]
  },
  {
   "cell_type": "code",
   "execution_count": 84,
   "id": "7b598d71-6331-4512-8a1b-24f433b46be9",
   "metadata": {},
   "outputs": [],
   "source": [
    "class GrangerMPP(nn.Module):\n",
    "\n",
    "    def __init__(self, processes, memory_dim : int = 10):\n",
    "        \n",
    "        super().__init__()\n",
    "        \n",
    "        self.processes = processes\n",
    "        self.memory_dim = memory_dim\n",
    "        self.n_processes = len(self.processes)\n",
    "        #initial_matrix = torch.empty(self.n_processes, self.n_processes)\n",
    "        #nn.init.normal_(initial_matrix, mean=0.0, std=0.1)\n",
    "\n",
    "        # Apply softmax along dim=1 to ensure each row sums to 1\n",
    "        #self.GrangerMatrix = nn.Parameter(initial_matrix)\n",
    "        self.GrangerMatrix = nn.Parameter((torch.Tensor(self.n_processes, self.n_processes)))\n",
    "        nn.init.normal_(self.GrangerMatrix, mean=0.0, std=0.5)\n",
    "        # nn.init.ones_(self.GrangerMatrix)\n",
    "        \n",
    "        self.models = nn.ModuleList([ProbRNN(self.memory_dim) for i in range(self.n_processes)])\n",
    "        self.sweep_dict = self.make_sweep_dict()\n",
    "        self.optimizers = [torch.optim.Adam(list(self.models[i].parameters()), lr=1e-4, weight_decay = 1e-5) for i in range(self.n_processes)]\n",
    "        self.g_optimizers = [torch.optim.Adam([self.GrangerMatrix], lr=1e-3) for i in range(self.n_processes)]\n",
    "        self.log_GrangerMatrix = []\n",
    "        \n",
    "    def e_step(self, i_proc, points_current_pp):\n",
    "        \n",
    "        \"\"\"\n",
    "        Return the causes for each event of the current_p\n",
    "        \n",
    "        \"\"\"\n",
    "        \n",
    "        n = len(points_current_pp)\n",
    "        rv = []\n",
    "        in_weights = nn.Softmax(dim = 0)(self.GrangerMatrix[i_proc])\n",
    "        #self.GrangerMatrix[i_proc] = in_weights\n",
    "        \n",
    "        in_ = in_weights\n",
    "        \n",
    "        for i in range(n):\n",
    "            # in_ = in_weights#nn.Tanh()(in_weights)\n",
    "            cause = F.gumbel_softmax(\n",
    "                in_,\n",
    "                tau = 1,\n",
    "                hard = False\n",
    "            )\n",
    "            rv.append(cause)\n",
    "        \n",
    "        return rv\n",
    "\n",
    "    def em_step(self, n_steps):\n",
    "        dic = {}\n",
    "        \n",
    "        for i in range(self.n_processes):\n",
    "            dic[i] = []\n",
    "        \n",
    "        for step in range(n_steps):\n",
    "            self.causes = []\n",
    "            for i_proc in range(self.n_processes):\n",
    "                rv = self.e_step(\n",
    "                    i_proc,\n",
    "                    self.processes[i_proc]\n",
    "                )\n",
    "                self.causes.append(rv)\n",
    "            \n",
    "            \n",
    "            for i_proc in range(self.n_processes):\n",
    "                \n",
    "                batch_list = self.get_batch_list(i_proc)\n",
    "                \n",
    "                dataloader = self.make_dl(batch_list = batch_list, batch_size = 6, drop_last = False)\n",
    "                self.dataloader = dataloader\n",
    "                \n",
    "                for _, (X, cause_rank) in enumerate(dataloader):\n",
    "\n",
    "                    reg_term = len(self.processes[i_proc])\n",
    "                    loss = self.m_step(i_proc, X, cause_rank) \n",
    "                    dic[i_proc].append(loss)\n",
    "                \n",
    "                if (step + 1) % 5 == 0 or step == 0:\n",
    "                    print(f'Step: {step + 1}, Model: {i_proc}, Loss: {loss}')\n",
    "                    \n",
    "            #self.log_GrangerMatrix.append(self.GrangerMatrix)\n",
    "        \n",
    "        return dic\n",
    "\n",
    "    def m_step(self, i_proc, X, cause_rank):\n",
    "\n",
    "        model = self.models[i_proc]\n",
    "        self.optimizers[i_proc].zero_grad()\n",
    "        self.g_optimizers[i_proc].zero_grad()\n",
    "        \n",
    "        z, loss = model(X)\n",
    "        loss = -1*loss.sum(axis = 1)\n",
    "        loss_rnn = (loss * cause_rank).sum() #+ mpp.GrangerMatrix.norm(p=2)\n",
    "       \n",
    "        \n",
    "        if not (torch.isnan(loss_rnn) | torch.isinf(loss_rnn)):\n",
    "\n",
    "            \n",
    "            loss_rnn.backward(retain_graph = True)\n",
    "            \n",
    "            self.optimizers[i_proc].step()\n",
    "            self.g_optimizers[i_proc].step()\n",
    "\n",
    "            self.log_GrangerMatrix.append(self.GrangerMatrix.clone().detach())\n",
    "            \n",
    "        \n",
    "        else:\n",
    "            print(f'NaN found in epoch: {step}')    \n",
    "\n",
    "        return loss_rnn.item()\n",
    "\n",
    "    def make_sweep_dict(self):\n",
    "        \n",
    "        dic = {}\n",
    "        for i in range(self.n_processes):\n",
    "            target = processes[i]\n",
    "            dic[i] = {}\n",
    "            for j in range(self.n_processes):\n",
    "                cause = self.processes[j]\n",
    "                dic[i][j] = self.sweep(target, cause)\n",
    "        return dic\n",
    "\n",
    "\n",
    "    def sweep(self, pa, pc):\n",
    "        events = []\n",
    "        pa_indices = []  \n",
    "    \n",
    "        \n",
    "        for i, ia in enumerate(pa):\n",
    "            events.append((ia, 'a'))\n",
    "            pa_indices.append(i)  \n",
    "    \n",
    "        for ic in pc:\n",
    "            events.append((ic, 'c'))\n",
    "    \n",
    "        lim = self.memory_dim\n",
    "    \n",
    "        events.sort()\n",
    "        mem = []\n",
    "        ret = []\n",
    "        indices = []  # List to store indices relative to pa\n",
    "    \n",
    "        pa_idx_counter = 0  # Counter to track which index in pa we are at\n",
    "    \n",
    "        for t, e in events:\n",
    "            if e == 'c':\n",
    "                if len(mem) >= lim:\n",
    "                    mem.pop(0)\n",
    "                mem.append(t)\n",
    "    \n",
    "            if e == 'a':\n",
    "                # Memory is not full yet\n",
    "                if len(mem) < lim:\n",
    "                    pa_idx_counter += 1  # Move to the next pa index\n",
    "                    continue\n",
    "                # Retrieve deltas from this time to the cause times\n",
    "                pp = [t - tc for tc in mem]\n",
    "                ret.append(pp)\n",
    "                indices.append(pa_indices[pa_idx_counter])  # Save index relative to pa\n",
    "                pa_idx_counter += 1  # Move to the next pa index\n",
    "    \n",
    "        return torch.tensor(ret, dtype=torch.float), indices\n",
    "\n",
    "    def get_batch_list(self, i_proc):\n",
    "    \n",
    "      batch_list = []\n",
    "      dic = self.sweep_dict\n",
    "      causes = self.causes[i_proc]\n",
    "      \n",
    "      for idx in range(len(causes)):\n",
    "          full = True\n",
    "          n_causes = causes[idx] # (0.1, 0.8, 0.1)\n",
    "          cur = []\n",
    "        \n",
    "          for idx_j, cause_rank in enumerate(n_causes):\n",
    "            \n",
    "            if idx < dic[i_proc][idx_j][1][0]: ## cannot cause target process\n",
    "                full =  False\n",
    "                new_causes = n_causes.detach().clone()\n",
    "                new_causes[idx_j] = 0.0\n",
    "                new_causes[i_proc] = 1.0\n",
    "                self.causes[i_proc][idx] = new_causes\n",
    "                # try:\n",
    "                #     where_in_tensor = dic[i_proc][i_proc][1].index(idx)\n",
    "                #     app = (dic[i_proc][i_proc][0][where_in_tensor], cause_rank.clone())\n",
    "                #     batch_list.append(app)\n",
    "                # except:\n",
    "                #     pass\n",
    "          \n",
    "            else:\n",
    "              where_in_tensor = dic[i_proc][idx_j][1].index(idx)\n",
    "              app = (dic[i_proc][idx_j][0][where_in_tensor], cause_rank.clone())\n",
    "              cur.append(app)\n",
    "          \n",
    "          # Add current timestamp to batch_list only if all other processes are already alive\n",
    "          if full:\n",
    "            batch_list.extend(cur)\n",
    "        \n",
    "      #print('IDX', foo)\n",
    "      #return Exception()\n",
    "      return batch_list\n",
    "    \n",
    "    def make_dl(self, batch_list : list, batch_size : int, drop_last : bool):\n",
    "    \n",
    "      dataloader = DataLoader(batch_list, batch_size = batch_size, drop_last = drop_last, shuffle = False)\n",
    "    \n",
    "      return dataloader"
   ]
  },
  {
   "cell_type": "code",
   "execution_count": 85,
   "id": "d8352769-ccac-4f6f-b833-bcd4d8756f58",
   "metadata": {
    "scrolled": true
   },
   "outputs": [
    {
     "name": "stdout",
     "output_type": "stream",
     "text": [
      "Step: 1, Model: 0, Loss: 12.479601860046387\n",
      "Step: 1, Model: 1, Loss: 17.97295379638672\n",
      "Step: 1, Model: 2, Loss: 14.018598556518555\n",
      "Step: 5, Model: 0, Loss: 7.145103454589844\n",
      "Step: 5, Model: 1, Loss: 17.61711883544922\n",
      "Step: 5, Model: 2, Loss: 13.596624374389648\n",
      "Step: 10, Model: 0, Loss: 9.712092399597168\n",
      "Step: 10, Model: 1, Loss: 24.46895408630371\n",
      "Step: 10, Model: 2, Loss: 12.484149932861328\n",
      "Step: 15, Model: 0, Loss: 6.973064422607422\n",
      "Step: 15, Model: 1, Loss: 32.42212677001953\n",
      "Step: 15, Model: 2, Loss: 11.773064613342285\n",
      "Step: 20, Model: 0, Loss: 9.245552062988281\n",
      "Step: 20, Model: 1, Loss: 15.836935043334961\n",
      "Step: 20, Model: 2, Loss: 11.419777870178223\n",
      "Step: 25, Model: 0, Loss: 15.440701484680176\n",
      "Step: 25, Model: 1, Loss: 46.39522933959961\n",
      "Step: 25, Model: 2, Loss: 19.461164474487305\n",
      "Step: 30, Model: 0, Loss: 9.39222526550293\n",
      "Step: 30, Model: 1, Loss: 25.5894832611084\n",
      "Step: 30, Model: 2, Loss: 12.854324340820312\n",
      "Step: 35, Model: 0, Loss: 16.860742568969727\n",
      "Step: 35, Model: 1, Loss: 19.148128509521484\n",
      "Step: 35, Model: 2, Loss: 17.730640411376953\n",
      "Step: 40, Model: 0, Loss: 7.782876491546631\n",
      "Step: 40, Model: 1, Loss: 18.770137786865234\n",
      "Step: 40, Model: 2, Loss: 7.379315376281738\n",
      "Step: 45, Model: 0, Loss: 6.745054721832275\n",
      "Step: 45, Model: 1, Loss: 22.88076400756836\n",
      "Step: 45, Model: 2, Loss: 4.6714043617248535\n",
      "Step: 50, Model: 0, Loss: 8.440413475036621\n",
      "Step: 50, Model: 1, Loss: 21.499704360961914\n",
      "Step: 50, Model: 2, Loss: 7.435678482055664\n",
      "Step: 55, Model: 0, Loss: 8.93984603881836\n",
      "Step: 55, Model: 1, Loss: 41.14198684692383\n",
      "Step: 55, Model: 2, Loss: 15.182276725769043\n",
      "Step: 60, Model: 0, Loss: 7.014814376831055\n",
      "Step: 60, Model: 1, Loss: 19.425987243652344\n",
      "Step: 60, Model: 2, Loss: 26.658559799194336\n",
      "Step: 65, Model: 0, Loss: 11.134468078613281\n",
      "Step: 65, Model: 1, Loss: 19.799148559570312\n",
      "Step: 65, Model: 2, Loss: 12.871939659118652\n",
      "Step: 70, Model: 0, Loss: 5.873479843139648\n",
      "Step: 70, Model: 1, Loss: 17.961137771606445\n",
      "Step: 70, Model: 2, Loss: 7.4701738357543945\n",
      "Step: 75, Model: 0, Loss: 20.34808921813965\n",
      "Step: 75, Model: 1, Loss: 19.895893096923828\n",
      "Step: 75, Model: 2, Loss: 5.614162921905518\n",
      "Step: 80, Model: 0, Loss: 7.484435558319092\n",
      "Step: 80, Model: 1, Loss: 17.797527313232422\n",
      "Step: 80, Model: 2, Loss: 13.082737922668457\n",
      "Step: 85, Model: 0, Loss: 8.416831016540527\n",
      "Step: 85, Model: 1, Loss: 15.275882720947266\n",
      "Step: 85, Model: 2, Loss: 5.7824907302856445\n",
      "Step: 90, Model: 0, Loss: 8.580619812011719\n",
      "Step: 90, Model: 1, Loss: 10.75029182434082\n",
      "Step: 90, Model: 2, Loss: 8.954842567443848\n",
      "Step: 95, Model: 0, Loss: 7.042978763580322\n",
      "Step: 95, Model: 1, Loss: 13.1084623336792\n",
      "Step: 95, Model: 2, Loss: 6.012593746185303\n",
      "Step: 100, Model: 0, Loss: 6.74458122253418\n",
      "Step: 100, Model: 1, Loss: 16.241188049316406\n",
      "Step: 100, Model: 2, Loss: 6.0885515213012695\n",
      "Step: 105, Model: 0, Loss: 3.726133108139038\n",
      "Step: 105, Model: 1, Loss: 10.772321701049805\n",
      "Step: 105, Model: 2, Loss: 8.468060493469238\n",
      "Step: 110, Model: 0, Loss: 3.3041200637817383\n",
      "Step: 110, Model: 1, Loss: 9.993812561035156\n",
      "Step: 110, Model: 2, Loss: 7.41738224029541\n",
      "Step: 115, Model: 0, Loss: 2.680830955505371\n",
      "Step: 115, Model: 1, Loss: 11.828113555908203\n",
      "Step: 115, Model: 2, Loss: 8.130738258361816\n",
      "Step: 120, Model: 0, Loss: 3.9917144775390625\n",
      "Step: 120, Model: 1, Loss: 8.860228538513184\n",
      "Step: 120, Model: 2, Loss: 8.925110816955566\n",
      "Step: 125, Model: 0, Loss: 4.298643112182617\n",
      "Step: 125, Model: 1, Loss: 8.909486770629883\n",
      "Step: 125, Model: 2, Loss: 5.9525251388549805\n",
      "Step: 130, Model: 0, Loss: 4.268031120300293\n",
      "Step: 130, Model: 1, Loss: 11.51982593536377\n",
      "Step: 130, Model: 2, Loss: 6.5982160568237305\n",
      "Step: 135, Model: 0, Loss: 3.5968546867370605\n",
      "Step: 135, Model: 1, Loss: 5.4565815925598145\n",
      "Step: 135, Model: 2, Loss: 4.202267646789551\n",
      "Step: 140, Model: 0, Loss: 2.6827688217163086\n",
      "Step: 140, Model: 1, Loss: 5.056183338165283\n",
      "Step: 140, Model: 2, Loss: 3.2086877822875977\n",
      "Step: 145, Model: 0, Loss: 1.8499186038970947\n",
      "Step: 145, Model: 1, Loss: 5.8518218994140625\n",
      "Step: 145, Model: 2, Loss: 5.431181907653809\n",
      "Step: 150, Model: 0, Loss: 2.1927125453948975\n",
      "Step: 150, Model: 1, Loss: 7.099393844604492\n",
      "Step: 150, Model: 2, Loss: 5.000169277191162\n",
      "Step: 155, Model: 0, Loss: 1.4873948097229004\n",
      "Step: 155, Model: 1, Loss: 14.554943084716797\n",
      "Step: 155, Model: 2, Loss: 7.419944763183594\n",
      "Step: 160, Model: 0, Loss: 6.360751152038574\n",
      "Step: 160, Model: 1, Loss: 8.404701232910156\n",
      "Step: 160, Model: 2, Loss: 5.18818998336792\n",
      "Step: 165, Model: 0, Loss: 3.0428643226623535\n",
      "Step: 165, Model: 1, Loss: 6.547411918640137\n",
      "Step: 165, Model: 2, Loss: 3.850044012069702\n",
      "Step: 170, Model: 0, Loss: 2.2589643001556396\n",
      "Step: 170, Model: 1, Loss: 6.306849956512451\n",
      "Step: 170, Model: 2, Loss: 2.4385948181152344\n",
      "Step: 175, Model: 0, Loss: 2.125030279159546\n",
      "Step: 175, Model: 1, Loss: 7.66856575012207\n",
      "Step: 175, Model: 2, Loss: 2.077075242996216\n",
      "Step: 180, Model: 0, Loss: 1.65106201171875\n",
      "Step: 180, Model: 1, Loss: 10.733565330505371\n",
      "Step: 180, Model: 2, Loss: 3.7558987140655518\n",
      "Step: 185, Model: 0, Loss: 0.5573418140411377\n",
      "Step: 185, Model: 1, Loss: 3.182749032974243\n",
      "Step: 185, Model: 2, Loss: 3.3679914474487305\n",
      "Step: 190, Model: 0, Loss: 0.7481315732002258\n",
      "Step: 190, Model: 1, Loss: 4.608875274658203\n",
      "Step: 190, Model: 2, Loss: 2.03617787361145\n",
      "Step: 195, Model: 0, Loss: 0.42547792196273804\n",
      "Step: 195, Model: 1, Loss: 4.95281457901001\n",
      "Step: 195, Model: 2, Loss: 3.3412158489227295\n",
      "Step: 200, Model: 0, Loss: -0.7332161664962769\n",
      "Step: 200, Model: 1, Loss: 4.868260383605957\n",
      "Step: 200, Model: 2, Loss: 2.9424355030059814\n"
     ]
    }
   ],
   "source": [
    "mpp = GrangerMPP(processes, memory_dim = 4)\n",
    "l = mpp.em_step(n_steps = 200)"
   ]
  },
  {
   "cell_type": "code",
   "execution_count": 86,
   "id": "d399934a",
   "metadata": {},
   "outputs": [],
   "source": [
    "# for _, (x,y) in enumerate(mpp.dataloader):\n",
    "#     print(x)\n",
    "#     print(y)\n",
    "#     if _ > 5:\n",
    "#         break"
   ]
  },
  {
   "cell_type": "code",
   "execution_count": 87,
   "id": "0c27daef-95e3-4359-ac3e-fde179c9ad0e",
   "metadata": {},
   "outputs": [
    {
     "name": "stdout",
     "output_type": "stream",
     "text": [
      "Len of losses: [7000, 6400, 6400]\n"
     ]
    },
    {
     "data": {
      "image/png": "[encoded data removed]",
      "text/plain": [
       "<Figure size 640x480 with 1 Axes>"
      ]
     },
     "metadata": {},
     "output_type": "display_data"
    }
   ],
   "source": [
    "colors = ['red', 'green', 'blue']\n",
    "for i in range(3):\n",
    "    plt.plot(l[i], color = colors[i])\n",
    "\n",
    "t = [len(l[i]) for i in range(3)]\n",
    "\n",
    "print(f'Len of losses: {t}')"
   ]
  },
  {
   "cell_type": "code",
   "execution_count": 88,
   "id": "a849d14a-fb46-4791-9b5d-74bb6a86bbfd",
   "metadata": {},
   "outputs": [
    {
     "data": {
      "image/png": "[encoded data removed]",
      "text/plain": [
       "<Figure size 640x480 with 1 Axes>"
      ]
     },
     "metadata": {},
     "output_type": "display_data"
    }
   ],
   "source": [
    "final = []\n",
    "for proc in range(3):\n",
    "    proc_size = len(processes[proc])\n",
    "    loss_size = len(l[proc])\n",
    "    temp = [ sum(l[proc][i:i + proc_size])/proc_size for i in range(0, loss_size - proc_size, proc_size)]\n",
    "    final.append(temp)\n",
    "\n",
    "colors = ['red', 'green', 'blue']\n",
    "for i in range(3):\n",
    "    plt.plot(final[i], color = colors[i])"
   ]
  },
  {
   "cell_type": "code",
   "execution_count": 279,
   "id": "c7e33ef6-ceb9-4439-ba04-d858d9f777ea",
   "metadata": {},
   "outputs": [
    {
     "data": {
      "image/png": "[encoded data removed]",
      "text/plain": [
       "<Figure size 640x480 with 3 Axes>"
      ]
     },
     "metadata": {},
     "output_type": "display_data"
    }
   ],
   "source": [
    "fig, ax = plt.subplots(nrows = 3, sharex = True)\n",
    "\n",
    "_plot_tick_bars(X1, ax[0], color = 'red')\n",
    "_plot_tick_bars(X2, ax[1], color = 'green')\n",
    "_plot_tick_bars(X3, ax[2], color = 'blue')"
   ]
  },
  {
   "cell_type": "code",
   "execution_count": 90,
   "id": "e17d12db-0a20-4278-b974-41d1dd70549b",
   "metadata": {},
   "outputs": [
    {
     "data": {
      "image/png": "[encoded data removed]",
      "text/plain": [
       "<Figure size 640x480 with 2 Axes>"
      ]
     },
     "metadata": {},
     "output_type": "display_data"
    }
   ],
   "source": [
    "fig, ax = plt.subplots(nrows=2, sharex = True)\n",
    "colors = ['red', 'green', 'blue']\n",
    "idx = 0\n",
    "proc_to_plot = processes[idx].detach().cpu().numpy()\n",
    "_plot_tick_bars(proc_to_plot, ax[0], color = colors[idx])\n",
    "_plot_tick_bars_causes(proc_to_plot, ax[1], cause = mpp.causes[idx])\n"
   ]
  },
  {
   "cell_type": "code",
   "execution_count": 95,
   "id": "2de6ed49-bef9-49bf-a906-1f60f7f46568",
   "metadata": {},
   "outputs": [],
   "source": [
    "# mpp.log_GrangerMatrix"
   ]
  },
  {
   "cell_type": "code",
   "execution_count": 91,
   "id": "851c5047-be73-4842-baef-130eddc2aed0",
   "metadata": {},
   "outputs": [
    {
     "data": {
      "text/plain": [
       "array([[0.04817958, 0.8788595 , 0.07296084],\n",
       "       [0.70042074, 0.03861894, 0.2609603 ],\n",
       "       [0.40296313, 0.40356144, 0.1934754 ]], dtype=float32)"
      ]
     },
     "execution_count": 91,
     "metadata": {},
     "output_type": "execute_result"
    }
   ],
   "source": [
    "mpp.GrangerMatrix.softmax(dim = 1).detach().cpu().numpy()"
   ]
  },
  {
   "cell_type": "code",
   "execution_count": 284,
   "id": "64d22837-16b6-484b-a8c2-3eb70491f04e",
   "metadata": {},
   "outputs": [
    {
     "data": {
      "text/plain": [
       "<matplotlib.colorbar.Colorbar at 0x7f14efb85330>"
      ]
     },
     "execution_count": 284,
     "metadata": {},
     "output_type": "execute_result"
    },
    {
     "data": {
      "image/png": "[encoded data removed]",
      "text/plain": [
       "<Figure size 640x480 with 2 Axes>"
      ]
     },
     "metadata": {},
     "output_type": "display_data"
    }
   ],
   "source": [
    "X = mpp.GrangerMatrix.detach().cpu().numpy()\n",
    "X = (X.T/X.sum(axis = 1)).T\n",
    "plt.imshow(X)\n",
    "plt.axis('off')\n",
    "plt.colorbar()"
   ]
  },
  {
   "cell_type": "code",
   "execution_count": 93,
   "id": "3561311a-3428-4d2d-a973-5f03dac5b563",
   "metadata": {},
   "outputs": [
    {
     "data": {
      "text/plain": [
       "array([[ 0.996765  , -0.00235457,  0.00471825],\n",
       "       [ 0.33289954,  0.33716395,  0.3306691 ],\n",
       "       [ 0.42307693,  0.01438018,  0.56958264]], dtype=float32)"
      ]
     },
     "execution_count": 93,
     "metadata": {},
     "output_type": "execute_result"
    }
   ],
   "source": [
    "mpp.GrangerMatrix.detach().cpu().numpy()"
   ]
  },
  {
   "cell_type": "code",
   "execution_count": 173,
   "id": "e620d8a4-1bc5-433a-8489-0465de8464d5",
   "metadata": {},
   "outputs": [
    {
     "data": {
      "text/plain": [
       "<matplotlib.colorbar.Colorbar at 0x7f1593ad58d0>"
      ]
     },
     "execution_count": 173,
     "metadata": {},
     "output_type": "execute_result"
    },
    {
     "data": {
      "image/png": "[encoded data removed]",
      "text/plain": [
       "<Figure size 640x480 with 2 Axes>"
      ]
     },
     "metadata": {},
     "output_type": "display_data"
    }
   ],
   "source": [
    "s = mpp.GrangerMatrix.softmax(dim = 1).detach().cpu().numpy()\n",
    "\n",
    "plt.imshow(s)\n",
    "plt.axis('off')\n",
    "plt.colorbar()"
   ]
  },
  {
   "cell_type": "code",
   "execution_count": 134,
   "id": "0641acdd-e0a4-4bf9-9144-5c4bdac6af87",
   "metadata": {},
   "outputs": [
    {
     "data": {
      "text/plain": [
       "(tensor([0, 1, 2]), tensor([50, 52, 51]))"
      ]
     },
     "execution_count": 134,
     "metadata": {},
     "output_type": "execute_result"
    }
   ],
   "source": [
    "torch.unique(torch.tensor(mpp.causes[idx]), return_counts = True)"
   ]
  },
  {
   "cell_type": "code",
   "execution_count": null,
   "id": "d0cba29f-d967-4871-86af-5d71ff155d57",
   "metadata": {},
   "outputs": [],
   "source": []
  }
 ],
 "metadata": {
  "kernelspec": {
   "display_name": "jpt",
   "language": "python",
   "name": "jpt"
  }
 },
 "nbformat": 4,
 "nbformat_minor": 5
}
