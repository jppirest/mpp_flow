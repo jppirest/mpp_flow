{
 "cells": [
  {
   "cell_type": "code",
   "execution_count": 95,
   "id": "88fa258d-c31e-4cff-a543-fae428fe4b93",
   "metadata": {},
   "outputs": [],
   "source": [
    "import numpy as np\n",
    "import matplotlib.pyplot as plt\n",
    "\n",
    "# Set random seed for reproducibility\n",
    "np.random.seed(42)\n",
    "\n",
    "# Parameters\n",
    "n_points = 800  # Number of time points\n",
    "time = np.arange(n_points)\n",
    "\n",
    "# Split time into two regions\n",
    "split_point = n_points // 4  # Middle of the time series\n",
    "\n",
    "# Generate base binary time series using Bernoulli distribution for each region\n",
    "# Region 1 (early time points)\n",
    "X1 = np.random.binomial(1, 0.6, n_points//2)\n",
    "X2 = np.zeros_like(X1)\n",
    "\n",
    "# Region 2 (later time points)\n",
    "X3 = np.zeros(n_points - split_point)\n",
    "X4 = np.random.binomial(1, 0.7, n_points - split_point)\n",
    "\n",
    "# Introduce causal relationships within each region\n",
    "for t in range(1, len(X1)):\n",
    "    # X2 is more likely to happen if X1 happened in the previous step\n",
    "    X2[t] = np.random.binomial(1, 0.8 * X1[t - 1])\n",
    "\n",
    "for t in range(1, n_points - split_point):\n",
    "    # X3 is more likely to happen if X4 happened in the previous step\n",
    "    X3[t] = np.random.binomial(1, 0.9 * X4[t - 1])\n",
    "\n",
    "# Combine both processes into the same time array for plotting\n",
    "# Shift time indices of X3 and X4 to the later half\n",
    "X1 = [time[i] for i in range(len(X1)) if X1[i] > 0]\n",
    "X2 = [time[i] + 0.1 for i in range(len(X2)) if X2[i] > 0]\n",
    "X3 = [time[i + split_point] + 0.2 for i in range(len(X3)) if X3[i] > 0]\n",
    "X4 = [time[i + split_point] + 0.3 for i in range(len(X4)) if X4[i] > 0]\n"
   ]
  },
  {
   "cell_type": "code",
   "execution_count": 96,
   "id": "85c66ed5-4c64-415d-b060-5bdf06d5e68d",
   "metadata": {},
   "outputs": [
    {
     "data": {
      "image/png": "[encoded data removed]",
      "text/plain": [
       "<Figure size 640x480 with 4 Axes>"
      ]
     },
     "metadata": {},
     "output_type": "display_data"
    }
   ],
   "source": [
    "def _plot_tick_bars(timestamps_i, ax, color):\n",
    "    for t in timestamps_i:\n",
    "        ax.axvline(x=t, color = color)\n",
    "    # ax.set_title(label, fontsize=20)\n",
    "    ax.get_yaxis().set_visible(False)\n",
    "def _plot_tick_bars_causes(timestamps_i, ax, cause):\n",
    "    colors = ['red', 'green', 'blue', 'cyan']\n",
    "    for idx, t in enumerate(timestamps_i):\n",
    "        cause_ = torch.argmax(cause[idx]).item()\n",
    "        ax.axvline(x=t, color = colors[cause_])\n",
    "    ax.get_yaxis().set_visible(False)\n",
    "\n",
    "fig, ax = plt.subplots(nrows = 4, sharex = True)\n",
    "\n",
    "_plot_tick_bars(X1, ax[0], color = 'red')\n",
    "_plot_tick_bars(X2, ax[1], color = 'green')\n",
    "_plot_tick_bars(X3, ax[2], color = 'blue')\n",
    "_plot_tick_bars(X4, ax[3], color = 'cyan')"
   ]
  },
  {
   "cell_type": "code",
   "execution_count": 97,
   "id": "b1a6a48f-ac51-4f35-b834-d83ca5145426",
   "metadata": {},
   "outputs": [],
   "source": [
    "import torch\n",
    "import torch.nn as nn\n",
    "import torch.nn.functional as F\n",
    "from torch.nn.utils.rnn import pad_sequence\n",
    "from torch.utils.data import DataLoader\n",
    "\n",
    "if torch.cuda.is_available():\n",
    "    torch.set_default_tensor_type(\"torch.cuda.FloatTensor\")\n",
    "    device = \"cuda\"\n",
    "else:\n",
    "    torch.set_default_tensor_type(\"torch.FloatTensor\")\n",
    "    device = \"cpu\"\n",
    "    "
   ]
  },
  {
   "cell_type": "code",
   "execution_count": 98,
   "id": "7749ccfc-6d6b-4376-9003-14aa3a73b1e8",
   "metadata": {},
   "outputs": [],
   "source": [
    "import torch \n",
    "\n",
    "class ProbRNN(nn.Module):\n",
    "    def __init__(self, memory_size, gmm_size : int = 20):\n",
    "        super().__init__()\n",
    "\n",
    "        self.gmm_size = memory_size\n",
    "        self.memory_size = memory_size\n",
    "        self.linear = nn.Sequential(nn.Linear(self.memory_size, 64), nn.LayerNorm(64), nn.Tanh())\n",
    "        self.lstm = nn.GRU(input_size = 64, hidden_size = 128, num_layers = 2, batch_first = True)\n",
    "        self.lstm_norm = nn.LayerNorm(128)\n",
    "        self.linear_mu = nn.Sequential(nn.Linear(128, self.gmm_size), nn.LayerNorm(self.gmm_size))\n",
    "        self.linear_std = nn.Sequential(nn.Linear(128, self.gmm_size), nn.LayerNorm(self.gmm_size))\n",
    "        self.linear_gmm_weights = nn.Sequential(nn.Linear(128, self.gmm_size), nn.LayerNorm(self.gmm_size), nn.Softmax(dim = 1))\n",
    "        \n",
    "\n",
    "    def forward(self, x):\n",
    "      debug_x = x.clone()\n",
    "      x = self.linear(x)\n",
    "      x, _ = self.lstm(x)\n",
    "      x = self.lstm_norm(x)\n",
    "      mu = self.linear_mu(x)\n",
    "      # print(mu)\n",
    "      std = self.linear_std(x)\n",
    "      std = torch.exp(std)\n",
    "      gmm_weights = self.linear_gmm_weights(x)\n",
    "      if torch.isnan(mu).any() or torch.isnan(std).any():\n",
    "          print(mu, std, debug_x)\n",
    "\n",
    "\n",
    "      mix_dist = self.build_distrib(mu, std, gmm_weights)\n",
    "\n",
    "      new_X = self.sample(mu, std)\n",
    "      log_prob = mix_dist.log_prob(new_X)\n",
    "\n",
    "    \n",
    "      return new_X, log_prob\n",
    "\n",
    "\n",
    "    def build_distrib(self, mus, stds, gmm_weights):\n",
    "      \n",
    "      \n",
    "      \n",
    "      component_dist = torch.distributions.Normal(mus.T, stds.T)\n",
    "      mix_weight = torch.distributions.Categorical(gmm_weights.T)\n",
    "      mix_dist = torch.distributions.MixtureSameFamily(mix_weight, component_dist)\n",
    "      self.mix_dist = mix_dist\n",
    "      \n",
    "\n",
    "      return mix_dist\n",
    "\n",
    "    def sample(self, mu, std):\n",
    "      size = (std.size(0),)\n",
    "\n",
    "      X =  mu + self.mix_dist.sample(size)*std\n",
    "\n",
    "      return X\n"
   ]
  },
  {
   "cell_type": "code",
   "execution_count": 99,
   "id": "f67fd288-e6e7-4a1c-8144-bd7aae098751",
   "metadata": {},
   "outputs": [],
   "source": [
    "# rede = ProbRNN(memory_size=10)\n",
    "# sum(p.numel() for p in rede.parameters())"
   ]
  },
  {
   "cell_type": "code",
   "execution_count": 183,
   "id": "8ed764e6-a3a4-409a-988c-d9d8dae769b4",
   "metadata": {},
   "outputs": [],
   "source": [
    "X1_ = torch.tensor(X1.copy(), dtype = torch.float32)\n",
    "X2_ = torch.tensor(X2.copy(), dtype = torch.float32)\n",
    "X3_ = torch.tensor(X3.copy(), dtype = torch.float32)\n",
    "X4_ = torch.tensor(X4.copy(), dtype = torch.float32)\n",
    "processes = [X1_, X2_, X3_, X4_]"
   ]
  },
  {
   "cell_type": "code",
   "execution_count": 184,
   "id": "54ad16d9",
   "metadata": {},
   "outputs": [],
   "source": [
    "class SoftmaxParameter(nn.Parameter):\n",
    "    def __new__(cls, *args, **kwargs):\n",
    "        return super(SoftmaxParameter, cls).__new__(cls, *args, **kwargs)\n",
    "\n",
    "    def __init__(self, data=None, requires_grad=True):\n",
    "        super(SoftmaxParameter, self).__init__()\n",
    "        self.data = data\n",
    "        self.requires_grad = requires_grad\n",
    "\n",
    "    def __get__(self, instance, owner):\n",
    "        \n",
    "        return torch.softmax(self.data, dim=1)\n",
    "\n",
    "class GrangerMatrixModule(nn.Module):\n",
    "    def __init__(self, n_processes):\n",
    "        super().__init__()\n",
    "        # Use SoftmaxParameter to ensure rows always sum to 1\n",
    "        self.GrangerMatrix = SoftmaxParameter(torch.empty(n_processes, n_processes), requires_grad=True)\n",
    "        nn.init.normal_(self.GrangerMatrix.data, mean=1, std=0.01)\n"
   ]
  },
  {
   "cell_type": "code",
   "execution_count": 185,
   "id": "7b598d71-6331-4512-8a1b-24f433b46be9",
   "metadata": {},
   "outputs": [],
   "source": [
    "class GrangerMPP(nn.Module):\n",
    "\n",
    "    def __init__(self, processes, memory_dim : int = 10):\n",
    "        \n",
    "        super().__init__()\n",
    "        \n",
    "        self.processes = processes\n",
    "        self.memory_dim = memory_dim\n",
    "        self.n_processes = len(self.processes)\n",
    "        \n",
    "        self.GrangerMatrix = GrangerMatrixModule(n_processes=self.n_processes)\n",
    "\n",
    "        self.model = ProbRNN(self.memory_dim) \n",
    "        self.sweep_dict = self.make_sweep_dict()\n",
    "        self.optimizer = torch.optim.Adam(list(self.model.parameters()) + list(self.GrangerMatrix.parameters()), lr=1e-4, weight_decay = 1e-5) \n",
    "        self.log_GrangerMatrix = []\n",
    "        \n",
    "    def e_step(self, i_proc, points_current_pp):\n",
    "        \n",
    "        \"\"\"\n",
    "        Return the causes for each event of the current_p\n",
    "        \n",
    "        \"\"\"\n",
    "        \n",
    "        n = len(points_current_pp)\n",
    "        rv = []\n",
    "        in_weights = self.GrangerMatrix.GrangerMatrix[i_proc]\n",
    "        in_ = in_weights\n",
    "        \n",
    "        for i in range(n):\n",
    "            cause = F.gumbel_softmax(\n",
    "                in_,\n",
    "                tau = 1,\n",
    "                hard = False\n",
    "            )\n",
    "            rv.append(cause)\n",
    "        \n",
    "        return rv\n",
    "\n",
    "    def em_step(self, n_steps):\n",
    "        dic = {}\n",
    "        \n",
    "        for i in range(self.n_processes):\n",
    "            dic[i] = []\n",
    "        \n",
    "        for step in range(n_steps):\n",
    "            self.causes = []\n",
    "            for i_proc in range(self.n_processes):\n",
    "                rv = self.e_step(\n",
    "                    i_proc,\n",
    "                    self.processes[i_proc]\n",
    "                )\n",
    "                self.causes.append(rv)\n",
    "            \n",
    "            \n",
    "            for i_proc in range(self.n_processes):\n",
    "                \n",
    "                batch_list = self.get_batch_list(i_proc)\n",
    "                self.batch_size = 32\n",
    "                dataloader = self.make_dl(batch_list = batch_list, batch_size = self.batch_size, drop_last = False)\n",
    "                self.dataloader = dataloader\n",
    "                \n",
    "                for _, (X, cause_rank) in enumerate(dataloader):\n",
    "\n",
    "                    reg_term = len(self.processes[i_proc])\n",
    "                    loss = self.m_step(i_proc, X, cause_rank) \n",
    "                    dic[i_proc].append(loss)\n",
    "                \n",
    "                if (step + 1) % 5 == 0 or step == 0:\n",
    "                    print(f'Step: {step + 1}, Model: {i_proc}, Loss: {loss}')\n",
    "        \n",
    "        return dic\n",
    "\n",
    "    def m_step(self, i_proc, X, cause_rank):\n",
    "\n",
    "        model = self.model\n",
    "        self.optimizer.zero_grad()\n",
    "        \n",
    "        z, loss = model(X)\n",
    "        loss = -1*loss.sum(axis = 1)\n",
    "        loss_rnn = (loss * cause_rank).sum()/self.batch_size #+ mpp.GrangerMatrix.norm(p=2)\n",
    "       \n",
    "        \n",
    "        if not (torch.isnan(loss_rnn) | torch.isinf(loss_rnn)):\n",
    "\n",
    "            \n",
    "            loss_rnn.backward(retain_graph = True)\n",
    "            \n",
    "            self.optimizer.step()\n",
    "            self.log_GrangerMatrix.append(self.GrangerMatrix.GrangerMatrix.clone().detach())\n",
    "            \n",
    "        \n",
    "        else:\n",
    "            print(f'NaN found in epoch: {step}')    \n",
    "\n",
    "        return loss_rnn.item()\n",
    "\n",
    "    def make_sweep_dict(self):\n",
    "        \n",
    "        dic = {}\n",
    "        for i in range(self.n_processes):\n",
    "            target = processes[i]\n",
    "            dic[i] = {}\n",
    "            for j in range(self.n_processes):\n",
    "                cause = self.processes[j]\n",
    "                dic[i][j] = self.sweep(target, cause)\n",
    "        return dic\n",
    "\n",
    "\n",
    "    def sweep(self, pa, pc):\n",
    "        events = []\n",
    "        pa_indices = []  \n",
    "    \n",
    "        \n",
    "        for i, ia in enumerate(pa):\n",
    "            events.append((ia, 'a'))\n",
    "            pa_indices.append(i)  \n",
    "    \n",
    "        for ic in pc:\n",
    "            events.append((ic, 'c'))\n",
    "    \n",
    "        lim = self.memory_dim\n",
    "    \n",
    "        events.sort()\n",
    "        mem = []\n",
    "        ret = []\n",
    "        indices = []  # List to store indices relative to pa\n",
    "    \n",
    "        pa_idx_counter = 0  # Counter to track which index in pa we are at\n",
    "    \n",
    "        for t, e in events:\n",
    "            if e == 'c':\n",
    "                if len(mem) >= lim:\n",
    "                    mem.pop(0)\n",
    "                mem.append(t)\n",
    "    \n",
    "            if e == 'a':\n",
    "                # Memory is not full yet\n",
    "                if len(mem) < lim:\n",
    "                    pa_idx_counter += 1  # Move to the next pa index\n",
    "                    continue\n",
    "                # Retrieve deltas from this time to the cause times\n",
    "                pp = [t - tc for tc in mem]\n",
    "                ret.append(pp)\n",
    "                indices.append(pa_indices[pa_idx_counter])  # Save index relative to pa\n",
    "                pa_idx_counter += 1  # Move to the next pa index\n",
    "    \n",
    "        return torch.tensor(ret, dtype=torch.float), indices\n",
    "\n",
    "    def get_batch_list(self, i_proc):\n",
    "    \n",
    "      batch_list = []\n",
    "      dic = self.sweep_dict\n",
    "      causes = self.causes[i_proc]\n",
    "      \n",
    "      for idx in range(len(causes)):\n",
    "          full = True\n",
    "          n_causes = causes[idx] \n",
    "          cur = []\n",
    "        #   print(n_causes)\n",
    "          for idx_j, cause_rank in enumerate(n_causes):\n",
    "            if idx < dic[i_proc][idx_j][1][0]: \n",
    "                full =  False\n",
    "                new_causes = n_causes.detach().clone()\n",
    "                new_causes[idx_j] = 0.0\n",
    "                new_causes[i_proc] = 1.0\n",
    "                self.causes[i_proc][idx] = new_causes\n",
    "            else:\n",
    "                where_in_tensor = dic[i_proc][idx_j][1].index(idx)\n",
    "                app = (dic[i_proc][idx_j][0][where_in_tensor], cause_rank.clone())\n",
    "                cur.append(app)\n",
    "          \n",
    "          # Add current timestamp to batch_list only if all other processes are already alive\n",
    "          if full:\n",
    "            batch_list.extend(cur)\n",
    "        \n",
    "      #print('IDX', foo)\n",
    "      #return Exception()\n",
    "      return batch_list\n",
    "    \n",
    "    def make_dl(self, batch_list : list, batch_size : int, drop_last : bool):\n",
    "    \n",
    "      dataloader = DataLoader(batch_list, batch_size = batch_size, drop_last = drop_last, shuffle = False)\n",
    "    \n",
    "      return dataloader"
   ]
  },
  {
   "cell_type": "code",
   "execution_count": 186,
   "id": "d8352769-ccac-4f6f-b833-bcd4d8756f58",
   "metadata": {
    "scrolled": true
   },
   "outputs": [
    {
     "name": "stdout",
     "output_type": "stream",
     "text": [
      "Step: 1, Model: 0, Loss: 5.646770000457764\n",
      "Step: 1, Model: 1, Loss: 5.755889892578125\n",
      "Step: 1, Model: 2, Loss: 3.350285530090332\n",
      "Step: 1, Model: 3, Loss: 5.527446746826172\n",
      "Step: 5, Model: 0, Loss: 6.339826583862305\n",
      "Step: 5, Model: 1, Loss: 5.491352081298828\n",
      "Step: 5, Model: 2, Loss: 5.937686920166016\n",
      "Step: 5, Model: 3, Loss: 5.299215316772461\n",
      "Step: 10, Model: 0, Loss: 5.60231876373291\n",
      "Step: 10, Model: 1, Loss: 4.333102226257324\n",
      "Step: 10, Model: 2, Loss: 2.5074806213378906\n",
      "Step: 10, Model: 3, Loss: 5.126222610473633\n",
      "Step: 15, Model: 0, Loss: 5.280147552490234\n",
      "Step: 15, Model: 1, Loss: 4.0121307373046875\n",
      "Step: 15, Model: 2, Loss: 2.5973005294799805\n",
      "Step: 15, Model: 3, Loss: 3.925525188446045\n",
      "Step: 20, Model: 0, Loss: 4.754701137542725\n",
      "Step: 20, Model: 1, Loss: 3.3403618335723877\n",
      "Step: 20, Model: 2, Loss: 2.8119518756866455\n",
      "Step: 20, Model: 3, Loss: 3.5676381587982178\n",
      "Step: 25, Model: 0, Loss: 4.00587272644043\n",
      "Step: 25, Model: 1, Loss: 4.782758712768555\n",
      "Step: 25, Model: 2, Loss: 2.3263158798217773\n",
      "Step: 25, Model: 3, Loss: 3.4045467376708984\n",
      "Step: 30, Model: 0, Loss: 3.64498233795166\n",
      "Step: 30, Model: 1, Loss: 3.3589298725128174\n",
      "Step: 30, Model: 2, Loss: 2.3217785358428955\n",
      "Step: 30, Model: 3, Loss: 2.6349053382873535\n",
      "Step: 35, Model: 0, Loss: 3.1692395210266113\n",
      "Step: 35, Model: 1, Loss: 2.303269147872925\n",
      "Step: 35, Model: 2, Loss: 1.9439054727554321\n",
      "Step: 35, Model: 3, Loss: 1.7768354415893555\n",
      "Step: 40, Model: 0, Loss: 1.7588754892349243\n",
      "Step: 40, Model: 1, Loss: 1.4550678730010986\n",
      "Step: 40, Model: 2, Loss: 2.308371067047119\n",
      "Step: 40, Model: 3, Loss: 1.4770472049713135\n",
      "Step: 45, Model: 0, Loss: 1.034727692604065\n",
      "Step: 45, Model: 1, Loss: 0.92240309715271\n",
      "Step: 45, Model: 2, Loss: 0.6728765368461609\n",
      "Step: 45, Model: 3, Loss: 1.0583014488220215\n",
      "Step: 50, Model: 0, Loss: 0.36841943860054016\n",
      "Step: 50, Model: 1, Loss: 0.9048842191696167\n",
      "Step: 50, Model: 2, Loss: 0.4706494212150574\n",
      "Step: 50, Model: 3, Loss: 0.8986889123916626\n",
      "Step: 55, Model: 0, Loss: 0.22455357015132904\n",
      "Step: 55, Model: 1, Loss: 0.4358481466770172\n",
      "Step: 55, Model: 2, Loss: 0.579927921295166\n",
      "Step: 55, Model: 3, Loss: 0.3941417932510376\n",
      "Step: 60, Model: 0, Loss: -0.2369408905506134\n",
      "Step: 60, Model: 1, Loss: -0.05028732120990753\n",
      "Step: 60, Model: 2, Loss: 0.23110827803611755\n",
      "Step: 60, Model: 3, Loss: 0.12593045830726624\n",
      "Step: 65, Model: 0, Loss: -0.6029982566833496\n",
      "Step: 65, Model: 1, Loss: -0.3042425215244293\n",
      "Step: 65, Model: 2, Loss: -0.01837829500436783\n",
      "Step: 65, Model: 3, Loss: -0.4655310809612274\n",
      "Step: 70, Model: 0, Loss: -1.2478880882263184\n",
      "Step: 70, Model: 1, Loss: -0.7280842065811157\n",
      "Step: 70, Model: 2, Loss: -0.11136738955974579\n",
      "Step: 70, Model: 3, Loss: -0.950423002243042\n",
      "Step: 75, Model: 0, Loss: -1.7661335468292236\n",
      "Step: 75, Model: 1, Loss: -1.3972386121749878\n",
      "Step: 75, Model: 2, Loss: -0.5770972967147827\n",
      "Step: 75, Model: 3, Loss: -0.9343206882476807\n",
      "Step: 80, Model: 0, Loss: -1.7499676942825317\n",
      "Step: 80, Model: 1, Loss: -1.3393537998199463\n",
      "Step: 80, Model: 2, Loss: -0.5139309167861938\n",
      "Step: 80, Model: 3, Loss: -1.270612120628357\n",
      "Step: 85, Model: 0, Loss: -2.1367883682250977\n",
      "Step: 85, Model: 1, Loss: -1.5184751749038696\n",
      "Step: 85, Model: 2, Loss: -0.4649410843849182\n",
      "Step: 85, Model: 3, Loss: -1.5223400592803955\n",
      "Step: 90, Model: 0, Loss: -1.8938850164413452\n",
      "Step: 90, Model: 1, Loss: -1.7612810134887695\n",
      "Step: 90, Model: 2, Loss: -0.6899763345718384\n",
      "Step: 90, Model: 3, Loss: -1.917680263519287\n",
      "Step: 95, Model: 0, Loss: -2.3068857192993164\n",
      "Step: 95, Model: 1, Loss: -2.00486159324646\n",
      "Step: 95, Model: 2, Loss: -0.668506920337677\n",
      "Step: 95, Model: 3, Loss: -1.9356648921966553\n",
      "Step: 100, Model: 0, Loss: -2.2384707927703857\n",
      "Step: 100, Model: 1, Loss: -1.7196524143218994\n",
      "Step: 100, Model: 2, Loss: -0.8281695246696472\n",
      "Step: 100, Model: 3, Loss: -2.088054656982422\n",
      "Step: 105, Model: 0, Loss: -2.0868778228759766\n",
      "Step: 105, Model: 1, Loss: -2.229299545288086\n",
      "Step: 105, Model: 2, Loss: -0.9791688919067383\n",
      "Step: 105, Model: 3, Loss: -2.2602226734161377\n",
      "Step: 110, Model: 0, Loss: -3.1270313262939453\n",
      "Step: 110, Model: 1, Loss: -2.1477041244506836\n",
      "Step: 110, Model: 2, Loss: -0.8411805033683777\n",
      "Step: 110, Model: 3, Loss: -2.1810648441314697\n",
      "Step: 115, Model: 0, Loss: -3.108830451965332\n",
      "Step: 115, Model: 1, Loss: -2.642045497894287\n",
      "Step: 115, Model: 2, Loss: -1.2048914432525635\n",
      "Step: 115, Model: 3, Loss: -2.42319917678833\n",
      "Step: 120, Model: 0, Loss: -3.5836634635925293\n",
      "Step: 120, Model: 1, Loss: -2.4931840896606445\n",
      "Step: 120, Model: 2, Loss: -0.9956597089767456\n",
      "Step: 120, Model: 3, Loss: -2.9200828075408936\n",
      "Step: 125, Model: 0, Loss: -3.448894739151001\n",
      "Step: 125, Model: 1, Loss: -2.794312000274658\n",
      "Step: 125, Model: 2, Loss: -1.3904225826263428\n",
      "Step: 125, Model: 3, Loss: -2.9271373748779297\n",
      "Step: 130, Model: 0, Loss: -3.6569342613220215\n",
      "Step: 130, Model: 1, Loss: -2.9129445552825928\n",
      "Step: 130, Model: 2, Loss: -1.029576301574707\n",
      "Step: 130, Model: 3, Loss: -3.123443126678467\n",
      "Step: 135, Model: 0, Loss: -3.8241848945617676\n",
      "Step: 135, Model: 1, Loss: -2.851149559020996\n",
      "Step: 135, Model: 2, Loss: -1.2781805992126465\n",
      "Step: 135, Model: 3, Loss: -3.062866687774658\n",
      "Step: 140, Model: 0, Loss: -4.141617774963379\n",
      "Step: 140, Model: 1, Loss: -3.1985888481140137\n",
      "Step: 140, Model: 2, Loss: -1.430654764175415\n",
      "Step: 140, Model: 3, Loss: -3.1362571716308594\n",
      "Step: 145, Model: 0, Loss: -3.9054694175720215\n",
      "Step: 145, Model: 1, Loss: -2.996150493621826\n",
      "Step: 145, Model: 2, Loss: -1.2772541046142578\n",
      "Step: 145, Model: 3, Loss: -2.909658193588257\n",
      "Step: 150, Model: 0, Loss: -4.723945140838623\n",
      "Step: 150, Model: 1, Loss: -3.524893045425415\n",
      "Step: 150, Model: 2, Loss: -1.452101707458496\n",
      "Step: 150, Model: 3, Loss: -3.7718679904937744\n",
      "Step: 155, Model: 0, Loss: -4.606135368347168\n",
      "Step: 155, Model: 1, Loss: -3.6757683753967285\n",
      "Step: 155, Model: 2, Loss: -1.730933666229248\n",
      "Step: 155, Model: 3, Loss: -3.924288272857666\n",
      "Step: 160, Model: 0, Loss: -4.710116386413574\n",
      "Step: 160, Model: 1, Loss: -3.4638473987579346\n",
      "Step: 160, Model: 2, Loss: -1.698655366897583\n",
      "Step: 160, Model: 3, Loss: -3.7928333282470703\n",
      "Step: 165, Model: 0, Loss: -4.782550811767578\n",
      "Step: 165, Model: 1, Loss: -4.266201019287109\n",
      "Step: 165, Model: 2, Loss: -1.5748752355575562\n",
      "Step: 165, Model: 3, Loss: -4.095940589904785\n",
      "Step: 170, Model: 0, Loss: -4.738547325134277\n",
      "Step: 170, Model: 1, Loss: -3.772092342376709\n",
      "Step: 170, Model: 2, Loss: -1.6688618659973145\n",
      "Step: 170, Model: 3, Loss: -3.776454448699951\n",
      "Step: 175, Model: 0, Loss: -4.8511834144592285\n",
      "Step: 175, Model: 1, Loss: -3.9473342895507812\n",
      "Step: 175, Model: 2, Loss: -1.8445758819580078\n",
      "Step: 175, Model: 3, Loss: -4.20853853225708\n",
      "Step: 180, Model: 0, Loss: -4.972607612609863\n",
      "Step: 180, Model: 1, Loss: -4.188830375671387\n",
      "Step: 180, Model: 2, Loss: -1.6167361736297607\n",
      "Step: 180, Model: 3, Loss: -4.178006649017334\n",
      "Step: 185, Model: 0, Loss: -4.930670261383057\n",
      "Step: 185, Model: 1, Loss: -4.402971267700195\n",
      "Step: 185, Model: 2, Loss: -2.1243858337402344\n",
      "Step: 185, Model: 3, Loss: -4.573780059814453\n",
      "Step: 190, Model: 0, Loss: -5.564005374908447\n",
      "Step: 190, Model: 1, Loss: -4.137518882751465\n",
      "Step: 190, Model: 2, Loss: -1.8047534227371216\n",
      "Step: 190, Model: 3, Loss: -4.59458065032959\n",
      "Step: 195, Model: 0, Loss: -5.788424015045166\n",
      "Step: 195, Model: 1, Loss: -4.675782203674316\n",
      "Step: 195, Model: 2, Loss: -2.352421283721924\n",
      "Step: 195, Model: 3, Loss: -4.814942359924316\n",
      "Step: 200, Model: 0, Loss: -5.525788307189941\n",
      "Step: 200, Model: 1, Loss: -4.8236165046691895\n",
      "Step: 200, Model: 2, Loss: -2.7722883224487305\n",
      "Step: 200, Model: 3, Loss: -4.673042297363281\n"
     ]
    }
   ],
   "source": [
    "mpp = GrangerMPP(processes, memory_dim = 10)\n",
    "l = mpp.em_step(n_steps = 200)"
   ]
  },
  {
   "cell_type": "code",
   "execution_count": 153,
   "id": "0c27daef-95e3-4359-ac3e-fde179c9ad0e",
   "metadata": {},
   "outputs": [],
   "source": [
    "# colors = ['red', 'green', 'blue', 'cyan']\n",
    "# for i in range(len(colors)):\n",
    "#     plt.plot(l[i], color = colors[i])\n",
    "\n",
    "# t = [len(l[i]) for i in range(len(colors))]\n",
    "\n",
    "# print(f'Len of losses: {t}')"
   ]
  },
  {
   "cell_type": "code",
   "execution_count": 154,
   "id": "a849d14a-fb46-4791-9b5d-74bb6a86bbfd",
   "metadata": {},
   "outputs": [
    {
     "data": {
      "image/png": "[encoded data removed]",
      "text/plain": [
       "<Figure size 640x480 with 1 Axes>"
      ]
     },
     "metadata": {},
     "output_type": "display_data"
    }
   ],
   "source": [
    "colors = ['red', 'green', 'blue', 'cyan']\n",
    "final = []\n",
    "for proc in range(len(colors)):\n",
    "    proc_size = len(processes[proc])\n",
    "    loss_size = len(l[proc])\n",
    "    temp = [ sum(l[proc][i:i + proc_size])/proc_size for i in range(0, loss_size - proc_size, proc_size)]\n",
    "    final.append(temp)\n",
    "\n",
    "for i in range(len(colors)):\n",
    "    plt.plot(final[i], color = colors[i])"
   ]
  },
  {
   "cell_type": "code",
   "execution_count": 140,
   "id": "c7e33ef6-ceb9-4439-ba04-d858d9f777ea",
   "metadata": {},
   "outputs": [
    {
     "data": {
      "image/png": "[encoded data removed]",
      "text/plain": [
       "<Figure size 640x480 with 3 Axes>"
      ]
     },
     "metadata": {},
     "output_type": "display_data"
    }
   ],
   "source": [
    "fig, ax = plt.subplots(nrows = 3, sharex = True)\n",
    "\n",
    "_plot_tick_bars(X1, ax[0], color = 'red')\n",
    "_plot_tick_bars(X2, ax[1], color = 'green')\n",
    "_plot_tick_bars(X3, ax[2], color = 'blue')"
   ]
  },
  {
   "cell_type": "code",
   "execution_count": 144,
   "id": "e17d12db-0a20-4278-b974-41d1dd70549b",
   "metadata": {},
   "outputs": [
    {
     "data": {
      "image/png": "[encoded data removed]",
      "text/plain": [
       "<Figure size 640x480 with 2 Axes>"
      ]
     },
     "metadata": {},
     "output_type": "display_data"
    }
   ],
   "source": [
    "fig, ax = plt.subplots(nrows=2, sharex = True)\n",
    "colors = ['red', 'green', 'blue', 'cyan']\n",
    "idx = 3\n",
    "proc_to_plot = processes[idx].detach().cpu().numpy()\n",
    "_plot_tick_bars(proc_to_plot, ax[0], color = colors[idx])\n",
    "_plot_tick_bars_causes(proc_to_plot, ax[1], cause = mpp.causes[idx])\n"
   ]
  },
  {
   "cell_type": "code",
   "execution_count": 117,
   "id": "2de6ed49-bef9-49bf-a906-1f60f7f46568",
   "metadata": {},
   "outputs": [],
   "source": [
    "# processes = [X2_, X3_, X1_, X4_]"
   ]
  },
  {
   "cell_type": "code",
   "execution_count": 182,
   "id": "9ec2b0c4",
   "metadata": {},
   "outputs": [
    {
     "data": {
      "text/plain": [
       "(tensor([0, 1, 2, 3]), tensor([156,  25,  32,  22]))"
      ]
     },
     "execution_count": 182,
     "metadata": {},
     "output_type": "execute_result"
    }
   ],
   "source": [
    "s = [i.argmax().item() for i in mpp.causes[0]]\n",
    "s = torch.tensor(s)\n",
    "s.unique(return_counts = True)"
   ]
  },
  {
   "cell_type": "code",
   "execution_count": 177,
   "id": "851c5047-be73-4842-baef-130eddc2aed0",
   "metadata": {},
   "outputs": [
    {
     "data": {
      "text/plain": [
       "array([[0.6796363 , 1.4165868 , 1.2694896 , 0.6464442 ],\n",
       "       [0.69710714, 1.3437483 , 1.2433563 , 0.7119026 ],\n",
       "       [0.37579626, 1.7816559 , 1.5037713 , 0.29113004],\n",
       "       [0.3201722 , 1.8713473 , 1.4703506 , 0.26225817]], dtype=float32)"
      ]
     },
     "execution_count": 177,
     "metadata": {},
     "output_type": "execute_result"
    }
   ],
   "source": [
    "mpp.GrangerMatrix.GrangerMatrix.detach().cpu().numpy()"
   ]
  },
  {
   "cell_type": "code",
   "execution_count": 160,
   "id": "3f6853a2",
   "metadata": {},
   "outputs": [
    {
     "data": {
      "text/plain": [
       "tensor([21.2000, 20.2000, 17.2000, 14.2000, 13.2000, 12.2000, 11.2000,  7.2000,\n",
       "         6.2000,  0.2000])"
      ]
     },
     "execution_count": 160,
     "metadata": {},
     "output_type": "execute_result"
    }
   ],
   "source": [
    "mpp.sweep_dict[2][0][0][0]"
   ]
  },
  {
   "cell_type": "code",
   "execution_count": 284,
   "id": "64d22837-16b6-484b-a8c2-3eb70491f04e",
   "metadata": {},
   "outputs": [
    {
     "data": {
      "text/plain": [
       "<matplotlib.colorbar.Colorbar at 0x7f14efb85330>"
      ]
     },
     "execution_count": 284,
     "metadata": {},
     "output_type": "execute_result"
    },
    {
     "data": {
      "image/png": "[encoded data removed]",
      "text/plain": [
       "<Figure size 640x480 with 2 Axes>"
      ]
     },
     "metadata": {},
     "output_type": "display_data"
    }
   ],
   "source": [
    "X = mpp.GrangerMatrix.detach().cpu().numpy()\n",
    "X = (X.T/X.sum(axis = 1)).T\n",
    "plt.imshow(X)\n",
    "plt.axis('off')\n",
    "plt.colorbar()"
   ]
  },
  {
   "cell_type": "code",
   "execution_count": 93,
   "id": "3561311a-3428-4d2d-a973-5f03dac5b563",
   "metadata": {},
   "outputs": [
    {
     "data": {
      "text/plain": [
       "array([[ 0.996765  , -0.00235457,  0.00471825],\n",
       "       [ 0.33289954,  0.33716395,  0.3306691 ],\n",
       "       [ 0.42307693,  0.01438018,  0.56958264]], dtype=float32)"
      ]
     },
     "execution_count": 93,
     "metadata": {},
     "output_type": "execute_result"
    }
   ],
   "source": [
    "mpp.GrangerMatrix.detach().cpu().numpy()"
   ]
  },
  {
   "cell_type": "code",
   "execution_count": 38,
   "id": "e620d8a4-1bc5-433a-8489-0465de8464d5",
   "metadata": {},
   "outputs": [
    {
     "data": {
      "text/plain": [
       "<matplotlib.colorbar.Colorbar at 0x7f33f13f1810>"
      ]
     },
     "execution_count": 38,
     "metadata": {},
     "output_type": "execute_result"
    },
    {
     "data": {
      "image/png": "[encoded data removed]",
      "text/plain": [
       "<Figure size 640x480 with 2 Axes>"
      ]
     },
     "metadata": {},
     "output_type": "display_data"
    }
   ],
   "source": [
    "s = mpp.GrangerMatrix.softmax(dim = 1).detach().cpu().numpy()\n",
    "\n",
    "plt.imshow(s)\n",
    "plt.axis('off')\n",
    "plt.colorbar()"
   ]
  }
 ],
 "metadata": {
  "kernelspec": {
   "display_name": "jpt",
   "language": "python",
   "name": "jpt"
  }
 },
 "nbformat": 4,
 "nbformat_minor": 5
}
