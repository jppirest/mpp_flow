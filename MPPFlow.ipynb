{
  "nbformat": 4,
  "nbformat_minor": 0,
  "metadata": {
    "colab": {
      "provenance": []
    },
    "kernelspec": {
      "name": "python3",
      "display_name": "Python 3"
    },
    "language_info": {
      "name": "python"
    }
  },
  "cells": [
    {
      "cell_type": "code",
      "execution_count": null,
      "metadata": {
        "id": "K03Yh5ijaxQN"
      },
      "outputs": [],
      "source": [
        "import torch\n",
        "import numpy as np\n",
        "import matplotlib.pyplot as plt\n",
        "import torch.nn as nn"
      ]
    },
    {
      "cell_type": "code",
      "source": [
        "!wget https://github.com/shchur/shchur.github.io/raw/gh-pages/assets/notebooks/tpp2/toy_dataset.pkl"
      ],
      "metadata": {
        "colab": {
          "base_uri": "https://localhost:8080/"
        },
        "id": "DSNN_CdNhzZ2",
        "outputId": "c2829d1f-4f2e-4553-e38a-ce46e25e7d7c"
      },
      "execution_count": null,
      "outputs": [
        {
          "output_type": "stream",
          "name": "stdout",
          "text": [
            "--2024-05-09 18:06:14--  https://github.com/shchur/shchur.github.io/raw/gh-pages/assets/notebooks/tpp2/toy_dataset.pkl\n",
            "Resolving github.com (github.com)... 140.82.116.4\n",
            "Connecting to github.com (github.com)|140.82.116.4|:443... connected.\n",
            "HTTP request sent, awaiting response... 302 Found\n",
            "Location: https://raw.githubusercontent.com/shchur/shchur.github.io/gh-pages/assets/notebooks/tpp2/toy_dataset.pkl [following]\n",
            "--2024-05-09 18:06:15--  https://raw.githubusercontent.com/shchur/shchur.github.io/gh-pages/assets/notebooks/tpp2/toy_dataset.pkl\n",
            "Resolving raw.githubusercontent.com (raw.githubusercontent.com)... 185.199.111.133, 185.199.109.133, 185.199.110.133, ...\n",
            "Connecting to raw.githubusercontent.com (raw.githubusercontent.com)|185.199.111.133|:443... connected.\n",
            "HTTP request sent, awaiting response... 200 OK\n",
            "Length: 622639 (608K) [application/octet-stream]\n",
            "Saving to: ‘toy_dataset.pkl’\n",
            "\n",
            "toy_dataset.pkl     100%[===================>] 608.05K  --.-KB/s    in 0.03s   \n",
            "\n",
            "2024-05-09 18:06:15 (20.8 MB/s) - ‘toy_dataset.pkl’ saved [622639/622639]\n",
            "\n"
          ]
        }
      ]
    },
    {
      "cell_type": "code",
      "source": [
        "data = torch.load(\"toy_dataset.pkl\")\n",
        "# arrival_times_list is a list of variable-length lists\n",
        "# arrival_times_list[j] is the list of arrival times of sequence j\n",
        "arrival_times_list = data[\"arrival_times\"][:5]\n",
        "# t_end = length of the observerd time interval [0, t_end]\n",
        "t_end = data[\"t_end\"]\n",
        "seq_lengths = torch.tensor([len(t) for t in arrival_times_list], dtype=torch.long)\n",
        "\n",
        "def get_inter_times(t, t_end):\n",
        "    tau = np.diff(t, prepend=0.0, append=t_end)\n",
        "    return torch.tensor(tau, dtype=torch.float32)\n",
        "\n",
        "from torch.nn.utils.rnn import pad_sequence\n",
        "inter_times_list = [get_inter_times(t, t_end) for t in arrival_times_list]\n",
        "inter_times = pad_sequence(inter_times_list, batch_first=True)\n",
        "\n",
        "\n",
        "#Loop to correct the t_end\n",
        "\n",
        "max_end = 0\n",
        "for l in arrival_times_list:\n",
        "  m = max(l)\n",
        "  if m > max_end:\n",
        "    max_end = m\n",
        "\n",
        "t_end = max_end if t_end != max_end else t_end"
      ],
      "metadata": {
        "id": "hC_WILz9h799"
      },
      "execution_count": null,
      "outputs": []
    },
    {
      "cell_type": "code",
      "source": [
        "\n",
        "fig, axes = plt.subplots(figsize = (6,2), dpi=200, nrows=1, ncols=2)\n",
        "plt.subplots_adjust(hspace=0.1)\n",
        "for idx, t in enumerate(arrival_times_list[:10]):\n",
        "    axes[0].scatter(t, np.ones_like(t) * idx, alpha=0.5, c='C0', marker=\"|\")\n",
        "axes[0].set_ylabel(\"Real sequence #\", fontsize=7)\n",
        "axes[0].set_yticks(np.arange(10));\n",
        "axes[0].set_title(\"Visualization of arrival times\", fontsize=9)\n",
        "\n",
        "\n",
        "# for idx, t in enumerate(generated_sequences[:10]):\n",
        "#     axes[1, 0].scatter(t, np.ones_like(t) * idx, alpha=0.5, c='C1', marker=\"|\")\n",
        "# axes[1, 0].set_xlabel(\"Time\", fontsize=7)\n",
        "# axes[1, 0].set_ylabel(\"Generated sequence #\", fontsize=7)\n",
        "# axes[1, 0].set_yticks(np.arange(10))\n",
        "axes[0].set_xticklabels([])\n",
        "\n",
        "for ax in np.ravel(axes):\n",
        "    ax.tick_params(axis='x', labelsize=7)\n",
        "    ax.tick_params(axis='y', labelsize=7)\n",
        "\n",
        "axes[1].set_title(\"Distribution of sequence lengths\", fontsize=9)\n",
        "# q_min = min(seq_lengths.min(), gen_seq_lengths.min())\n",
        "# q_max = max(seq_lengths.max(), gen_seq_lengths.max())\n",
        "axes[1].hist(seq_lengths, 30, alpha=0.8, color=\"C0\", label=\"Real data\");\n",
        "axes[1].set_ylabel(\"Frequency\", fontsize=7)\n",
        "# axes[1].set_xticklabels([])\n",
        "\n",
        "# axes[1, 1].hist(gen_seq_lengths, 30, alpha=0.8, color=\"C1\", range=(q_min, q_max), label=\"Generated by the model\");\n",
        "# axes[1, 1].set_xlabel(r\"Sequence length\", fontsize=7)\n",
        "# axes[1, 1].set_ylabel(\"Frequency\", fontsize=7)\n",
        "\n",
        "# fig.legend(loc=\"lower center\", ncol=2, fontsize=7)\n",
        ";"
      ],
      "metadata": {
        "colab": {
          "base_uri": "https://localhost:8080/",
          "height": 457
        },
        "id": "oj6RRukR3M6Z",
        "outputId": "5dd1aae8-11a9-464c-8c73-d4180c055400"
      },
      "execution_count": null,
      "outputs": [
        {
          "output_type": "execute_result",
          "data": {
            "text/plain": [
              "''"
            ],
            "application/vnd.google.colaboratory.intrinsic+json": {
              "type": "string"
            }
          },
          "metadata": {},
          "execution_count": 4
        },
        {
          "output_type": "display_data",
          "data": {
            "text/plain": [
              "<Figure size 1200x400 with 2 Axes>"
            ],
            "image/png": "[encoded data removed]"
          },
          "metadata": {}
        }
      ]
    },
    {
      "cell_type": "code",
      "source": [
        "from torch.utils.data import Dataset, DataLoader\n",
        "\n",
        "class ToyDataset(Dataset):\n",
        "\n",
        "  def __init__(self, inter_times, seq_lengths = None):\n",
        "\n",
        "    self.inter_times = inter_times\n",
        "    self.seq_lengths = seq_lengths\n",
        "\n",
        "  def __getitem__(self, idx, operation = None):\n",
        "\n",
        "    if operation is None:\n",
        "      operation = self.option2\n",
        "\n",
        "    data = self.inter_times[idx]\n",
        "    data = operation(data, self.inter_times)\n",
        "    data[idx] = self.inter_times[idx]\n",
        "    data = data[..., np.newaxis]\n",
        "    logdata = np.log(self.inter_times.clamp_min(1e-8))\n",
        "    logdata = operation(logdata[idx], logdata)\n",
        "    logdata[idx] = np.log(self.inter_times[idx].clamp_min(1e-8))\n",
        "    logdata = logdata[..., np.newaxis]\n",
        "\n",
        "    data = np.concatenate((data,logdata), axis = -1)\n",
        "\n",
        "    return data\n",
        "\n",
        "  def __len__(self):\n",
        "    return len(self.inter_times)\n",
        "\n",
        "\n",
        "  def option1(self, A, B):\n",
        "    diff = np.where(A > B, A - B, -1)\n",
        "    return diff\n",
        "\n",
        "  def option2(self, A, B):\n",
        "    diff = np.where(A > B, B, -1)\n",
        "    return diff\n",
        "\n"
      ],
      "metadata": {
        "id": "3OGfm6TwkuZ1"
      },
      "execution_count": null,
      "outputs": []
    },
    {
      "cell_type": "code",
      "source": [
        "def option2(A, B):\n",
        "    diff = np.where(A > B, B, -1)\n",
        "    return diff"
      ],
      "metadata": {
        "id": "OsMCSm1ljJK4"
      },
      "execution_count": null,
      "outputs": []
    },
    {
      "cell_type": "code",
      "source": [
        "def option1(self, A, B):\n",
        "  diff = np.where(A > B, A - B, -1)\n",
        "  return diff"
      ],
      "metadata": {
        "id": "7-h22c0LjmLh"
      },
      "execution_count": null,
      "outputs": []
    },
    {
      "cell_type": "code",
      "source": [
        "idx = np.searchsorted(A, B)\n",
        "A[:idx[2]]"
      ],
      "metadata": {
        "colab": {
          "base_uri": "https://localhost:8080/"
        },
        "id": "3JIHaxmNjpYV",
        "outputId": "fbdb017b-6717-4478-e7a8-ecb222dc2df8"
      },
      "execution_count": null,
      "outputs": [
        {
          "output_type": "execute_result",
          "data": {
            "text/plain": [
              "[1, 2, 3]"
            ]
          },
          "metadata": {},
          "execution_count": 38
        }
      ]
    },
    {
      "cell_type": "code",
      "source": [
        "idx"
      ],
      "metadata": {
        "colab": {
          "base_uri": "https://localhost:8080/"
        },
        "id": "buzV5u4BkcX-",
        "outputId": "d2336af0-499b-4ed5-ccea-a2e5e27cf9c9"
      },
      "execution_count": null,
      "outputs": [
        {
          "output_type": "execute_result",
          "data": {
            "text/plain": [
              "array([0, 0, 3])"
            ]
          },
          "metadata": {},
          "execution_count": 39
        }
      ]
    },
    {
      "cell_type": "code",
      "source": [
        "A = [1, 2, 3]\n",
        "B = [0.1, 1, 4]"
      ],
      "metadata": {
        "id": "GUsJzfcajKVf"
      },
      "execution_count": null,
      "outputs": []
    },
    {
      "cell_type": "code",
      "source": [
        "print(option2(A,B))"
      ],
      "metadata": {
        "colab": {
          "base_uri": "https://localhost:8080/"
        },
        "id": "Aqf101BCjQtx",
        "outputId": "a576f211-5c97-4899-ce25-02d8843d6f54"
      },
      "execution_count": null,
      "outputs": [
        {
          "output_type": "stream",
          "name": "stdout",
          "text": [
            "[0.1 1.  4. ]\n"
          ]
        }
      ]
    },
    {
      "cell_type": "code",
      "source": [
        "dataset = ToyDataset(inter_times)"
      ],
      "metadata": {
        "id": "Wucn8fb72A9q"
      },
      "execution_count": null,
      "outputs": []
    },
    {
      "cell_type": "code",
      "source": [
        "dataset[0].shape"
      ],
      "metadata": {
        "colab": {
          "base_uri": "https://localhost:8080/"
        },
        "id": "XxpN-jTU5KIf",
        "outputId": "1a4c4c64-e20b-4473-ac01-4dbc2fed1cc1"
      },
      "execution_count": null,
      "outputs": [
        {
          "output_type": "execute_result",
          "data": {
            "text/plain": [
              "(5, 118, 2)"
            ]
          },
          "metadata": {},
          "execution_count": 7
        }
      ]
    },
    {
      "cell_type": "code",
      "source": [
        "dataset[0][:, :, 0]"
      ],
      "metadata": {
        "colab": {
          "base_uri": "https://localhost:8080/"
        },
        "id": "D1ICdnn2rade",
        "outputId": "41c9cfff-bd12-4994-9593-c42632ddd638"
      },
      "execution_count": null,
      "outputs": [
        {
          "output_type": "execute_result",
          "data": {
            "text/plain": [
              "array([[ 1.44208176e-02,  4.27717149e-01,  1.52472615e-01,\n",
              "         5.78801990e-01,  7.02908397e-01,  7.25462079e-01,\n",
              "         3.43802929e-01,  1.60127997e+00,  5.94259739e-01,\n",
              "         1.24701691e+00,  6.17733479e-01,  5.45273304e-01,\n",
              "         6.71486855e-01,  2.51991081e+00,  1.18450069e+00,\n",
              "         1.19730377e+00,  6.72862053e-01,  5.32954216e-01,\n",
              "         6.35132790e-01,  1.52523994e-01,  7.26883888e-01,\n",
              "         2.39674568e-01,  9.38558578e-01,  1.32156563e+00,\n",
              "         3.36189270e-02,  2.11894989e-01,  1.34263229e+00,\n",
              "         1.36394501e-02,  5.75258255e-01,  1.43075180e+00,\n",
              "         3.63166809e-01,  7.52037048e-01,  4.48976517e-01,\n",
              "         1.58872604e-01,  1.07460022e-02,  8.20541382e-02,\n",
              "         1.76616669e-01,  1.21767044e+00,  1.53942108e-01,\n",
              "         9.51061249e-02,  9.21695709e-01,  4.70464706e-01,\n",
              "         1.93401337e-01,  2.36190796e-01,  8.53645325e-01,\n",
              "         1.57526016e-01,  5.45310974e-03,  1.18449402e+00,\n",
              "         2.38073349e-01,  1.39271545e+00,  1.49578094e-01,\n",
              "         8.24790955e-01,  1.35356903e-01,  2.53452301e-01,\n",
              "         8.89488220e-01,  4.30301666e-01,  4.60750580e-01,\n",
              "         2.02171326e-01,  3.38035583e-01,  2.42882156e+00,\n",
              "         2.28534698e-01,  1.06407928e+00,  3.69285583e-01,\n",
              "         5.08880615e-03,  8.51409912e-01,  6.02226257e-02,\n",
              "         4.92591858e-02,  2.43213654e-01,  7.68295288e-01,\n",
              "         2.97851562e-01,  1.61472321e-01,  4.31022644e-01,\n",
              "         8.70716095e-01,  6.83914185e-01,  4.76169586e-01,\n",
              "         1.48431778e+00,  3.08582306e-01,  1.38820648e-01,\n",
              "         3.77861023e-01,  5.70617676e-01,  2.56767273e-01,\n",
              "         3.73107910e-01,  2.19608307e+00,  2.33890533e-01,\n",
              "         3.49769592e-01,  6.07414246e-01,  7.33722687e-01,\n",
              "         1.09162140e+00,  3.76328659e+00,  1.85859680e-01,\n",
              "         1.44884872e+00,  2.62038307e+01,  1.26320648e+00,\n",
              "         5.97347260e+00,  2.61917877e+00,  2.30829620e+00,\n",
              "         1.65214539e-01,  3.60779572e+00,  0.00000000e+00,\n",
              "         0.00000000e+00,  0.00000000e+00,  0.00000000e+00,\n",
              "         0.00000000e+00,  0.00000000e+00,  0.00000000e+00,\n",
              "         0.00000000e+00,  0.00000000e+00,  0.00000000e+00,\n",
              "         0.00000000e+00,  0.00000000e+00,  0.00000000e+00,\n",
              "         0.00000000e+00,  0.00000000e+00,  0.00000000e+00,\n",
              "         0.00000000e+00,  0.00000000e+00,  0.00000000e+00,\n",
              "         0.00000000e+00],\n",
              "       [-1.00000000e+00, -1.00000000e+00, -1.00000000e+00,\n",
              "         2.34292746e-02,  3.41891170e-01,  5.46775341e-01,\n",
              "        -1.00000000e+00,  9.45413113e-02, -1.00000000e+00,\n",
              "         5.64892769e-01, -1.00000000e+00, -1.00000000e+00,\n",
              "         4.15934086e-01,  5.07391930e-01,  4.06904221e-02,\n",
              "        -1.00000000e+00,  6.23380661e-01, -1.00000000e+00,\n",
              "         2.95162201e-03, -1.00000000e+00,  9.31062698e-02,\n",
              "         2.37770081e-02,  1.78832054e-01,  1.10533714e-01,\n",
              "        -1.00000000e+00, -1.00000000e+00,  2.10374832e-01,\n",
              "        -1.00000000e+00,  1.00114822e-01,  1.10804558e-01,\n",
              "        -1.00000000e+00,  4.66373444e-01, -1.00000000e+00,\n",
              "        -1.00000000e+00, -1.00000000e+00, -1.00000000e+00,\n",
              "         1.73971176e-01,  4.55900192e-01, -1.00000000e+00,\n",
              "        -1.00000000e+00,  7.42830276e-01,  2.94422150e-01,\n",
              "         5.23796082e-02,  1.81116104e-01,  7.14359283e-01,\n",
              "         7.44228363e-02, -1.00000000e+00,  1.75415039e-01,\n",
              "         1.75300598e-01,  2.74126053e-01, -1.00000000e+00,\n",
              "         1.52688980e-01,  4.36782837e-04,  6.10542297e-02,\n",
              "         2.06138611e-01,  1.01596832e-01, -1.00000000e+00,\n",
              "        -1.00000000e+00, -1.00000000e+00,  6.38256073e-02,\n",
              "         1.72552109e-01,  1.01686478e-01, -1.00000000e+00,\n",
              "        -1.00000000e+00,  2.88854599e-01, -1.00000000e+00,\n",
              "        -1.00000000e+00, -1.00000000e+00,  1.86717987e-01,\n",
              "         2.06363678e-01, -1.00000000e+00,  2.10235596e-01,\n",
              "         4.15805817e-01,  4.64172363e-01,  1.26365662e-01,\n",
              "         3.48243713e-02,  2.65941620e-01, -1.00000000e+00,\n",
              "         1.61037445e-01,  1.85623169e-02, -1.00000000e+00,\n",
              "         1.15726471e-01,  1.22166061e+00, -1.00000000e+00,\n",
              "        -1.00000000e+00,  4.21966553e-01,  1.33331299e-01,\n",
              "         7.11025238e-01,  1.04534912e+00, -1.00000000e+00,\n",
              "         4.96009827e-01,  4.52178955e-01,  6.91635132e-01,\n",
              "         2.27312851e+00,  8.12644958e-02,  6.23680115e-01,\n",
              "        -1.00000000e+00,  3.52976608e+00, -1.00000000e+00,\n",
              "        -1.00000000e+00, -1.00000000e+00, -1.00000000e+00,\n",
              "        -1.00000000e+00, -1.00000000e+00, -1.00000000e+00,\n",
              "        -1.00000000e+00, -1.00000000e+00, -1.00000000e+00,\n",
              "        -1.00000000e+00, -1.00000000e+00, -1.00000000e+00,\n",
              "        -1.00000000e+00, -1.00000000e+00, -1.00000000e+00,\n",
              "        -1.00000000e+00, -1.00000000e+00, -1.00000000e+00,\n",
              "        -1.00000000e+00],\n",
              "       [-1.00000000e+00,  2.34829664e-01, -1.00000000e+00,\n",
              "        -1.00000000e+00, -1.00000000e+00, -1.00000000e+00,\n",
              "        -1.00000000e+00,  3.12209129e-01, -1.00000000e+00,\n",
              "         3.44425201e-01,  1.07908249e-02,  2.77659416e-01,\n",
              "         3.30889702e-01,  1.14629936e+00,  3.76633644e-01,\n",
              "         6.74302101e-01,  4.94932175e-01, -1.00000000e+00,\n",
              "         3.25347900e-01,  7.89299011e-02, -1.00000000e+00,\n",
              "        -1.00000000e+00,  4.88906860e-01,  2.03016281e-01,\n",
              "        -1.00000000e+00, -1.00000000e+00,  4.39935684e-01,\n",
              "        -1.00000000e+00, -1.00000000e+00,  4.80983734e-01,\n",
              "        -1.00000000e+00,  1.34412766e-01,  3.91027451e-01,\n",
              "        -1.00000000e+00, -1.00000000e+00, -1.00000000e+00,\n",
              "        -1.00000000e+00,  8.97132874e-01, -1.00000000e+00,\n",
              "        -1.00000000e+00,  9.01590347e-01, -1.00000000e+00,\n",
              "         4.44679260e-02, -1.00000000e+00, -1.00000000e+00,\n",
              "        -1.00000000e+00, -1.00000000e+00,  8.30459595e-02,\n",
              "        -1.00000000e+00,  2.38189697e-01,  9.83047485e-03,\n",
              "        -1.00000000e+00, -1.00000000e+00, -1.00000000e+00,\n",
              "         2.07538605e-01, -1.00000000e+00, -1.00000000e+00,\n",
              "        -1.00000000e+00, -1.00000000e+00,  2.78846741e-01,\n",
              "        -1.00000000e+00, -1.00000000e+00, -1.00000000e+00,\n",
              "        -1.00000000e+00,  1.59152985e-01, -1.00000000e+00,\n",
              "        -1.00000000e+00, -1.00000000e+00, -1.00000000e+00,\n",
              "        -1.00000000e+00, -1.00000000e+00,  2.83584595e-01,\n",
              "         3.02566528e-01,  3.06022644e-01, -1.00000000e+00,\n",
              "         9.06455994e-01, -1.00000000e+00, -1.00000000e+00,\n",
              "         1.54647827e-02, -1.00000000e+00,  2.18101501e-01,\n",
              "        -1.00000000e+00,  7.41371155e-01,  0.00000000e+00,\n",
              "         0.00000000e+00,  0.00000000e+00,  0.00000000e+00,\n",
              "         0.00000000e+00,  0.00000000e+00,  0.00000000e+00,\n",
              "         0.00000000e+00,  0.00000000e+00,  0.00000000e+00,\n",
              "         0.00000000e+00,  0.00000000e+00,  0.00000000e+00,\n",
              "         0.00000000e+00,  0.00000000e+00, -1.00000000e+00,\n",
              "        -1.00000000e+00, -1.00000000e+00, -1.00000000e+00,\n",
              "        -1.00000000e+00, -1.00000000e+00, -1.00000000e+00,\n",
              "        -1.00000000e+00, -1.00000000e+00, -1.00000000e+00,\n",
              "        -1.00000000e+00, -1.00000000e+00, -1.00000000e+00,\n",
              "        -1.00000000e+00, -1.00000000e+00, -1.00000000e+00,\n",
              "        -1.00000000e+00, -1.00000000e+00, -1.00000000e+00,\n",
              "        -1.00000000e+00],\n",
              "       [-1.00000000e+00,  3.43511105e-01, -1.00000000e+00,\n",
              "        -1.00000000e+00,  5.23743391e-01,  2.51109600e-01,\n",
              "        -1.00000000e+00,  1.18404579e+00,  4.82951641e-01,\n",
              "         1.41134262e-01,  4.09925461e-01,  1.43460751e-01,\n",
              "         1.64136410e-01,  8.07190895e-01,  8.48351955e-01,\n",
              "         3.32765579e-02,  3.44486237e-02,  2.75128365e-01,\n",
              "        -1.00000000e+00, -1.00000000e+00,  5.67709923e-01,\n",
              "         5.24368286e-02,  2.42525101e-01,  3.50160599e-02,\n",
              "        -1.00000000e+00, -1.00000000e+00, -1.00000000e+00,\n",
              "        -1.00000000e+00,  3.59472275e-01,  5.12809753e-01,\n",
              "        -1.00000000e+00, -1.00000000e+00, -1.00000000e+00,\n",
              "        -1.00000000e+00, -1.00000000e+00, -1.00000000e+00,\n",
              "        -1.00000000e+00,  1.54979706e-01, -1.00000000e+00,\n",
              "        -1.00000000e+00,  4.24205780e-01, -1.00000000e+00,\n",
              "        -1.00000000e+00, -1.00000000e+00,  1.44041061e-01,\n",
              "        -1.00000000e+00, -1.00000000e+00, -1.00000000e+00,\n",
              "        -1.00000000e+00,  7.71284103e-01, -1.00000000e+00,\n",
              "         1.57073975e-01,  2.01492310e-02,  1.42745972e-02,\n",
              "        -1.00000000e+00,  1.20273590e-01, -1.00000000e+00,\n",
              "        -1.00000000e+00,  2.13890076e-02,  1.24302673e+00,\n",
              "        -1.00000000e+00,  1.40933990e-01, -1.00000000e+00,\n",
              "        -1.00000000e+00,  4.65644836e-01,  2.23808289e-02,\n",
              "        -1.00000000e+00,  7.54165649e-02, -1.00000000e+00,\n",
              "        -1.00000000e+00,  1.51988983e-01, -1.00000000e+00,\n",
              "         2.60841370e-01, -1.00000000e+00,  1.58157349e-02,\n",
              "         3.50837708e-01,  6.77757263e-02, -1.00000000e+00,\n",
              "        -1.00000000e+00,  2.70683289e-01,  2.13012695e-02,\n",
              "        -1.00000000e+00,  6.68029785e-01, -1.00000000e+00,\n",
              "         7.89642334e-02,  2.18280792e-01,  2.22255707e-01,\n",
              "         3.40126038e-01,  2.15351105e-01, -1.00000000e+00,\n",
              "         1.21745300e+00,  2.81047821e-01,  5.78163147e-01,\n",
              "         4.70706940e-01,  1.44280243e+00,  1.01308060e+00,\n",
              "        -1.00000000e+00,  2.22671509e-01, -1.00000000e+00,\n",
              "        -1.00000000e+00, -1.00000000e+00, -1.00000000e+00,\n",
              "        -1.00000000e+00, -1.00000000e+00, -1.00000000e+00,\n",
              "        -1.00000000e+00, -1.00000000e+00, -1.00000000e+00,\n",
              "        -1.00000000e+00, -1.00000000e+00, -1.00000000e+00,\n",
              "        -1.00000000e+00, -1.00000000e+00, -1.00000000e+00,\n",
              "        -1.00000000e+00, -1.00000000e+00, -1.00000000e+00,\n",
              "        -1.00000000e+00],\n",
              "       [-1.00000000e+00,  2.86556125e-01, -1.00000000e+00,\n",
              "        -1.00000000e+00, -1.00000000e+00, -1.00000000e+00,\n",
              "        -1.00000000e+00,  1.58339310e+00,  1.67981148e-01,\n",
              "         2.85515785e-01,  2.85139084e-01, -1.00000000e+00,\n",
              "         4.95931625e-01,  1.07252026e+00,  8.19873810e-03,\n",
              "         2.51433372e-01,  1.60886765e-01, -1.00000000e+00,\n",
              "         9.33380127e-02, -1.00000000e+00,  1.40757561e-01,\n",
              "        -1.00000000e+00,  1.86985970e-01,  2.43594170e-01,\n",
              "        -1.00000000e+00, -1.00000000e+00,  1.03852654e+00,\n",
              "        -1.00000000e+00,  2.11254120e-01,  8.20137024e-01,\n",
              "         4.09584045e-02, -1.00000000e+00,  4.29813385e-01,\n",
              "         1.39551163e-01, -1.00000000e+00, -1.00000000e+00,\n",
              "        -1.00000000e+00,  1.91261292e-01, -1.00000000e+00,\n",
              "        -1.00000000e+00,  6.81209564e-02, -1.00000000e+00,\n",
              "         1.28465652e-01, -1.00000000e+00,  1.62773132e-01,\n",
              "        -1.00000000e+00, -1.00000000e+00,  1.13336372e+00,\n",
              "        -1.00000000e+00,  6.82485580e-01, -1.00000000e+00,\n",
              "         2.01110840e-01, -1.00000000e+00, -1.00000000e+00,\n",
              "         3.04756165e-01, -1.00000000e+00,  1.32648468e-01,\n",
              "        -1.00000000e+00,  8.73565674e-02,  9.57794189e-02,\n",
              "         3.24401855e-02,  4.71050262e-01,  3.52748871e-01,\n",
              "        -1.00000000e+00,  3.11176300e-01, -1.00000000e+00,\n",
              "        -1.00000000e+00, -1.00000000e+00, -1.00000000e+00,\n",
              "        -1.00000000e+00,  4.37965393e-02, -1.00000000e+00,\n",
              "         3.56418610e-01,  3.16253662e-01,  6.37550354e-02,\n",
              "         5.55408478e-01, -1.00000000e+00, -1.00000000e+00,\n",
              "        -1.00000000e+00, -1.00000000e+00, -1.00000000e+00,\n",
              "         6.86645508e-04,  1.93225861e+00, -1.00000000e+00,\n",
              "        -1.00000000e+00, -1.00000000e+00, -1.00000000e+00,\n",
              "        -1.00000000e+00,  2.09253693e+00, -1.00000000e+00,\n",
              "         6.43043518e-01,  1.95431519e+00,  1.02297211e+00,\n",
              "         1.75018311e-01,  1.09345245e+00,  1.21013641e+00,\n",
              "        -1.00000000e+00,  5.81741333e-01, -1.00000000e+00,\n",
              "        -1.00000000e+00, -1.00000000e+00, -1.00000000e+00,\n",
              "        -1.00000000e+00, -1.00000000e+00, -1.00000000e+00,\n",
              "        -1.00000000e+00, -1.00000000e+00, -1.00000000e+00,\n",
              "        -1.00000000e+00, -1.00000000e+00, -1.00000000e+00,\n",
              "        -1.00000000e+00, -1.00000000e+00, -1.00000000e+00,\n",
              "        -1.00000000e+00, -1.00000000e+00, -1.00000000e+00,\n",
              "        -1.00000000e+00]], dtype=float32)"
            ]
          },
          "metadata": {},
          "execution_count": 41
        }
      ]
    },
    {
      "cell_type": "code",
      "source": [
        "s = torch.rand(size = (20,2))"
      ],
      "metadata": {
        "id": "vEcTB_Y1AZhP"
      },
      "execution_count": null,
      "outputs": []
    },
    {
      "cell_type": "code",
      "source": [
        "s = nn.Parameter(torch.rand(size = (7,7)))\n",
        "s"
      ],
      "metadata": {
        "colab": {
          "base_uri": "https://localhost:8080/"
        },
        "id": "CrAxwQoXAbbI",
        "outputId": "260c5957-a794-4796-bad4-95d3dbdb8268"
      },
      "execution_count": null,
      "outputs": [
        {
          "output_type": "execute_result",
          "data": {
            "text/plain": [
              "Parameter containing:\n",
              "tensor([[0.2190, 0.2928, 0.0011, 0.4320, 0.1106, 0.9346, 0.0048],\n",
              "        [0.1392, 0.7697, 0.2311, 0.9370, 0.8183, 0.1073, 0.4084],\n",
              "        [0.0287, 0.2822, 0.3622, 0.1670, 0.1670, 0.7881, 0.3200],\n",
              "        [0.5690, 0.8709, 0.5652, 0.2596, 0.4998, 0.8623, 0.6747],\n",
              "        [0.4661, 0.8011, 0.6367, 0.3776, 0.4680, 0.9831, 0.2253],\n",
              "        [0.8982, 0.3751, 0.9044, 0.3106, 0.7784, 0.6360, 0.9999],\n",
              "        [0.0443, 0.4576, 0.1381, 0.7646, 0.7155, 0.9583, 0.6987]],\n",
              "       requires_grad=True)"
            ]
          },
          "metadata": {},
          "execution_count": 9
        }
      ]
    },
    {
      "cell_type": "code",
      "source": [
        "class MPPFlow(nn.Module):\n",
        "\n",
        "    def __init__(self, flows, num_processes : int = 2):\n",
        "        \"\"\"\n",
        "        Inputs:\n",
        "            flows - A list of flows (each a nn.Module) that should be applied on the images.\n",
        "        \"\"\"\n",
        "        super().__init__()\n",
        "\n",
        "        self.flows = flows\n",
        "        self.prior = torch.distributions.normal.Normal(loc=0.0, scale=1.0)\n",
        "        self.num_processes = num_processes\n",
        "        self.W = nn.Parameter(torch.rand(size = (num_processes, num_processes, 2)))\n",
        "        # torch.nn.init.xavier_uniform_(self.W)\n",
        "        self.gumbel_softmax = torch.nn.functional.gumbel_softmax\n",
        "\n",
        "    # def forward(self, x, idx):\n",
        "    #     # The forward function is only used for visualizing the graph\n",
        "    #     return self._get_likelihood(x, idx)\n",
        "\n",
        "    def encode(self, x, idx):\n",
        "        # Given a batch of images, return the latent representation z and ldj of the transformations\n",
        "        z, ldj = x, torch.zeros(x.shape[0])\n",
        "        for flow in self.flows[idx]:\n",
        "            z, ldj = flow(z, ldj, reverse=False)\n",
        "        return z, ldj\n",
        "\n",
        "    def _get_likelihood(self, x, idx):\n",
        "\n",
        "        z, ldj = self.encode(x, idx)\n",
        "        log_pz = self.prior.log_prob(z).sum(dim=[1]) ## (B, 2)\n",
        "        #print(log_pz.shape, ldj.shape, z.shape)\n",
        "        log_px = ldj.unsqueeze(-1) + log_pz\n",
        "        nll = -log_px\n",
        "        W = self.gumbel_softmax(self.W[idx]) ## (B, 2)\n",
        "        #W = self.W[idx] ## (B, 2)\n",
        "\n",
        "        loss = nll*W ## (B, 2)\n",
        "\n",
        "        return loss\n",
        "\n",
        "\n",
        "    def train(self, dataset, epochs, lr = 1e-2):\n",
        "\n",
        "      assert self.num_processes == len(dataset)\n",
        "\n",
        "      optimizers = [torch.optim.Adam(self.flows[i].parameters(), lr = lr) for i in range(self.num_processes)]\n",
        "\n",
        "      losses = np.zeros(shape = (self.num_processes, epochs))\n",
        "\n",
        "      for epoch in range(epochs):\n",
        "        for idx, process in enumerate(dataset):\n",
        "          optimizer = optimizers[idx]\n",
        "\n",
        "          optimizer.zero_grad()\n",
        "\n",
        "          X = torch.from_numpy(process)\n",
        "\n",
        "          loss = (self._get_likelihood(X, idx).sum(axis = 1)).mean()\n",
        "          loss.backward()\n",
        "\n",
        "          losses[idx, epoch] = loss.item()\n",
        "\n",
        "          optimizer.step()\n",
        "        print(f'Mean MPP {losses[:, epoch].mean()}, Max {losses[:, epoch].max()}, Min {losses[:, epoch].min()}, Std {losses[:, epoch].std()} ' )\n",
        "\n",
        "      return losses\n",
        "\n",
        "\n",
        "\n",
        "\n",
        "\n",
        "\n",
        "\n"
      ],
      "metadata": {
        "id": "OyjnBw0OcDHt"
      },
      "execution_count": null,
      "outputs": []
    },
    {
      "cell_type": "code",
      "source": [
        "### (B, L, 2)"
      ],
      "metadata": {
        "id": "AnijXcKihbRe"
      },
      "execution_count": null,
      "outputs": []
    },
    {
      "cell_type": "markdown",
      "source": [
        "Batchsize should be num_process - 1\n",
        "If batchsize less than num_proccesses, careful when computing the W*nll"
      ],
      "metadata": {
        "id": "UvW2HdZWZ30d"
      }
    },
    {
      "cell_type": "code",
      "source": [
        "def line_mask(seq_len : int, invert : bool = False):\n",
        "  mask = torch.tensor([1 - (i % 2) for i in range(seq_len)], dtype = torch.float)#.to(device)\n",
        "  mask = mask.unsqueeze(0).unsqueeze(2)\n",
        "\n",
        "  if invert:\n",
        "    mask = 1 - mask\n",
        "\n",
        "  return mask\n",
        "\n",
        "def column_mask(seq_len : int, features : int = 2, invert : bool = False):\n",
        "  mask = torch.zeros((seq_len, features))\n",
        "  mask[::2, ::2] = 1\n",
        "  mask[1::2, 1::2] = 1\n",
        "\n",
        "  mask = mask.unsqueeze(0)\n",
        "  if invert:\n",
        "    mask = 1 - mask\n",
        "\n",
        "  return mask"
      ],
      "metadata": {
        "id": "VnZqXyL7c5dM"
      },
      "execution_count": null,
      "outputs": []
    },
    {
      "cell_type": "code",
      "source": [
        "class Network(nn.Module):\n",
        "  def __init__(self, in_features : int = 2, out_features : int = 4, hidden_dim : int = 32):\n",
        "    super().__init__()\n",
        "\n",
        "    self.embedding = nn.Sequential(\n",
        "        nn.Linear(in_features = 2, out_features = hidden_dim),\n",
        "        nn.ReLU(inplace = True)\n",
        "    )\n",
        "\n",
        "    self.gru = nn.GRU(input_size = hidden_dim, hidden_size = hidden_dim, num_layers = 4, batch_first = True)\n",
        "\n",
        "    self.final = nn.Linear(in_features = hidden_dim, out_features = out_features)\n",
        "\n",
        "  def forward(self, x):\n",
        "    x = self.embedding(x)\n",
        "    out, hd = self.gru(x)\n",
        "    out = self.final(out)\n",
        "    return out"
      ],
      "metadata": {
        "id": "YdyJld6uttp6"
      },
      "execution_count": null,
      "outputs": []
    },
    {
      "cell_type": "code",
      "source": [
        "model = Network()"
      ],
      "metadata": {
        "id": "z-YnpVHtEgG4"
      },
      "execution_count": null,
      "outputs": []
    },
    {
      "cell_type": "code",
      "source": [
        "class CouplingLayer(nn.Module):\n",
        "\n",
        "    def __init__(self, network, mask, in_features : int = 2):\n",
        "        \"\"\"\n",
        "        Coupling layer inside a normalizing flow.\n",
        "        Inputs:\n",
        "            network - A PyTorch nn.Module constituting the deep neural network for mu and sigma.\n",
        "                      Output shape should be twice the channel size as the input.\n",
        "            mask - Binary mask (0 or 1) where 0 denotes that the element should be transformed,\n",
        "                   while 1 means the latent will be used as input to the NN.\n",
        "            in_features - Number of input channels\n",
        "        \"\"\"\n",
        "        super().__init__()\n",
        "        self.network = network\n",
        "        self.scaling_factor = nn.Parameter(torch.zeros(in_features))\n",
        "        self.register_buffer('mask', mask)\n",
        "\n",
        "    def forward(self, z, ldj, reverse=False):\n",
        "        \"\"\"\n",
        "        Inputs:\n",
        "            z - Latent input to the flow\n",
        "            ldj - The current ldj of the previous flows.\n",
        "                  The ldj of this layer will be added to this tensor.\n",
        "            reverse - If True, we apply the inverse of the layer.\n",
        "            orig_img (optional) - Only needed in VarDeq. Allows external\n",
        "                                  input to condition the flow on (e.g. original image)\n",
        "        \"\"\"\n",
        "        # Apply network to masked input\n",
        "        z_in = z * self.mask\n",
        "\n",
        "        nn_out = self.network(z_in)\n",
        "\n",
        "        s, t = nn_out.chunk(2, dim=2)\n",
        "\n",
        "        # Stabilize scaling output\n",
        "        s_fac = self.scaling_factor.exp().view(1, 1, -1)\n",
        "        s = torch.tanh(s / s_fac) * s_fac\n",
        "\n",
        "        # Mask outputs (only transform the second part)\n",
        "        s = s * (1 - self.mask)\n",
        "        t = t * (1 - self.mask)\n",
        "\n",
        "        # Affine transformation\n",
        "        if not reverse:\n",
        "            # Whether we first shift and then scale, or the other way round,\n",
        "            # is a design choice, and usually does not have a big impact\n",
        "            z = (z + t) * torch.exp(s)\n",
        "            ldj += s.sum(dim=[1,2])\n",
        "        else:\n",
        "            z = (z * torch.exp(-s)) - t\n",
        "            ldj -= s.sum(dim=[1,2])\n",
        "\n",
        "        return z, ldj"
      ],
      "metadata": {
        "id": "Z0eoudqLFVz0"
      },
      "execution_count": null,
      "outputs": []
    },
    {
      "cell_type": "code",
      "source": [
        "def print_num_params(model):\n",
        "    num_params = sum([np.prod(p.shape) for p in model.parameters()])\n",
        "    print(\"Number of parameters: {:,}\".format(num_params))"
      ],
      "metadata": {
        "id": "o68eaw0NJcOf"
      },
      "execution_count": null,
      "outputs": []
    },
    {
      "cell_type": "code",
      "source": [
        "def create_mpp_flow(num_processes : int = 2):\n",
        "  flow_list = []\n",
        "  for k in range(num_processes):\n",
        "    flow_layers = []\n",
        "    for i in range(4):\n",
        "        flow_layers += [CouplingLayer(network=Network(),\n",
        "                                      mask=column_mask(seq_len = 118, features = 2, invert=(i%2==1)))]\n",
        "\n",
        "    flow_layers = nn.ModuleList(flow_layers)\n",
        "\n",
        "    flow_list.append(flow_layers)\n",
        "\n",
        "  flow_list = nn.ModuleList(flow_list)\n",
        "  flow_model = MPPFlow(flow_list, num_processes = len(flow_list))\n",
        "  return flow_model"
      ],
      "metadata": {
        "id": "-eclYC8vOXLy"
      },
      "execution_count": null,
      "outputs": []
    },
    {
      "cell_type": "code",
      "source": [
        "teste = create_mpp_flow(num_processes = 5)#20)"
      ],
      "metadata": {
        "id": "8BmWzlVWQCIt"
      },
      "execution_count": null,
      "outputs": []
    },
    {
      "cell_type": "code",
      "source": [
        "print_num_params(teste)"
      ],
      "metadata": {
        "colab": {
          "base_uri": "https://localhost:8080/"
        },
        "id": "dPsqUVsLIgUf",
        "outputId": "24e758f2-9862-44db-c9c9-f903b6c97a95"
      },
      "execution_count": null,
      "outputs": [
        {
          "output_type": "stream",
          "name": "stdout",
          "text": [
            "Number of parameters: 511,530\n"
          ]
        }
      ]
    },
    {
      "cell_type": "code",
      "source": [
        "5x118"
      ],
      "metadata": {
        "id": "fq0AcmYslEsJ"
      },
      "execution_count": null,
      "outputs": []
    },
    {
      "cell_type": "code",
      "source": [
        "losses[:, -1]"
      ],
      "metadata": {
        "colab": {
          "base_uri": "https://localhost:8080/"
        },
        "id": "ZhCZhOBJlICe",
        "outputId": "d102f51b-6b46-4126-da57-2fa558e66d3b"
      },
      "execution_count": null,
      "outputs": [
        {
          "output_type": "execute_result",
          "data": {
            "text/plain": [
              "array([ 81.61886597, 108.68391418, -19.46912575, 230.65103149,\n",
              "        36.44798279])"
            ]
          },
          "metadata": {},
          "execution_count": 42
        }
      ]
    },
    {
      "cell_type": "code",
      "source": [
        "losses = teste.train(dataset = dataset, epochs = 50)"
      ],
      "metadata": {
        "colab": {
          "base_uri": "https://localhost:8080/"
        },
        "id": "Xj0IAir3BT83",
        "outputId": "9853101c-aa22-455c-ae75-7b44239d4067"
      },
      "execution_count": null,
      "outputs": [
        {
          "output_type": "stream",
          "name": "stdout",
          "text": [
            "Mean MPP 1594.8690063476563, Max 2786.9169921875, Min 572.0101318359375, Std 835.4956503624082 \n",
            "Mean MPP 363.64793090820314, Max 400.0946960449219, Min 333.4940185546875, Std 25.03245341445995 \n",
            "Mean MPP 362.77301025390625, Max 407.20123291015625, Min 321.63861083984375, Std 35.69326925355047 \n",
            "Mean MPP 333.211083984375, Max 352.99285888671875, Min 301.2433166503906, Std 20.046401280318054 \n",
            "Mean MPP 338.5907958984375, Max 389.27386474609375, Min 283.5782775878906, Std 39.089307104417095 \n",
            "Mean MPP 341.9565734863281, Max 380.5540466308594, Min 319.9336853027344, Std 22.36989335458426 \n",
            "Mean MPP 334.1999877929687, Max 395.1683044433594, Min 266.27972412109375, Std 46.708540459976895 \n",
            "Mean MPP 305.72060546875, Max 344.5853576660156, Min 238.95266723632812, Std 35.30852663526393 \n",
            "Mean MPP 280.4671905517578, Max 366.8910827636719, Min 200.60202026367188, Std 60.19076232594224 \n",
            "Mean MPP 265.9868408203125, Max 309.72564697265625, Min 180.33987426757812, Std 45.512947268155 \n",
            "Mean MPP 250.9028106689453, Max 302.497802734375, Min 177.73446655273438, Std 46.808607155172325 \n",
            "Mean MPP 264.2821838378906, Max 298.0657958984375, Min 182.84934997558594, Std 43.51652943745776 \n",
            "Mean MPP 244.1543701171875, Max 274.8887939453125, Min 196.82406616210938, Std 26.80536181131097 \n",
            "Mean MPP 232.28619384765625, Max 256.6003112792969, Min 179.31915283203125, Std 27.633174645423477 \n",
            "Mean MPP 215.85617370605468, Max 249.41641235351562, Min 143.30484008789062, Std 37.62243075552538 \n",
            "Mean MPP 224.50478820800782, Max 255.2765655517578, Min 153.87684631347656, Std 36.89240363059899 \n",
            "Mean MPP 215.14207458496094, Max 257.65728759765625, Min 157.2054443359375, Std 35.18997668994303 \n",
            "Mean MPP 186.56033935546876, Max 220.8973388671875, Min 129.2333984375, Std 33.83890085207461 \n",
            "Mean MPP 191.47503051757812, Max 217.0243682861328, Min 165.92239379882812, Std 21.011716000847443 \n",
            "Mean MPP 194.16949768066405, Max 213.3685760498047, Min 165.9994354248047, Std 17.08679153287696 \n",
            "Mean MPP 175.54803466796875, Max 204.11859130859375, Min 129.86978149414062, Std 27.361588653518428 \n",
            "Mean MPP 179.94100646972657, Max 216.9884033203125, Min 131.50387573242188, Std 29.47495696870273 \n",
            "Mean MPP 171.50198974609376, Max 212.81967163085938, Min 140.10244750976562, Std 25.632970144889217 \n",
            "Mean MPP 161.6162307739258, Max 193.77511596679688, Min 117.35013580322266, Std 28.60652100833296 \n",
            "Mean MPP 163.7015853881836, Max 194.42739868164062, Min 107.8807601928711, Std 29.628109853181094 \n",
            "Mean MPP 165.573974609375, Max 197.1300506591797, Min 101.18623352050781, Std 35.049177865796864 \n",
            "Mean MPP 164.63385772705078, Max 220.03256225585938, Min 105.67240142822266, Std 37.68238161465722 \n",
            "Mean MPP 154.39631042480468, Max 188.40090942382812, Min 104.49761962890625, Std 30.29135968782847 \n",
            "Mean MPP 150.88528900146486, Max 185.52706909179688, Min 94.32433319091797, Std 33.22980148699805 \n",
            "Mean MPP 150.2095932006836, Max 199.7216796875, Min 105.72810363769531, Std 38.814974043876454 \n",
            "Mean MPP 147.99886474609374, Max 172.7543487548828, Min 96.18415832519531, Std 27.095341804672895 \n",
            "Mean MPP 135.87176208496095, Max 168.255615234375, Min 95.23593139648438, Std 31.930574180321237 \n",
            "Mean MPP 131.84400939941406, Max 163.98570251464844, Min 65.32276916503906, Std 36.26548237921887 \n",
            "Mean MPP 127.1445541381836, Max 162.18667602539062, Min 69.97883605957031, Std 34.359244180439525 \n",
            "Mean MPP 125.88448791503906, Max 167.2692413330078, Min 68.5268783569336, Std 37.96673006110579 \n",
            "Mean MPP 122.64749679565429, Max 171.71200561523438, Min 50.67448043823242, Std 43.727187808752305 \n",
            "Mean MPP 118.75888366699219, Max 158.5493927001953, Min 67.544677734375, Std 36.508547620855545 \n",
            "Mean MPP 124.01168670654297, Max 186.13607788085938, Min 56.785423278808594, Std 42.49383183481552 \n",
            "Mean MPP 110.22578964233398, Max 166.06137084960938, Min 53.1093864440918, Std 41.68178740208032 \n",
            "Mean MPP 121.64518890380859, Max 199.11764526367188, Min 41.016883850097656, Std 54.51380556766315 \n",
            "Mean MPP 111.2771369934082, Max 173.66067504882812, Min 17.682758331298828, Std 58.6135919756538 \n",
            "Mean MPP 118.5450942993164, Max 171.46597290039062, Min 43.29486846923828, Std 48.35677975995642 \n",
            "Mean MPP 116.36939926147461, Max 182.8130645751953, Min 20.410564422607422, Std 59.07234733338677 \n",
            "Mean MPP 105.68176193237305, Max 161.9296417236328, Min 4.118137359619141, Std 56.740331809794846 \n",
            "Mean MPP 101.12277555465698, Max 163.8547821044922, Min 7.584428310394287, Std 59.24485979995778 \n",
            "Mean MPP 101.39867463111878, Max 168.39401245117188, Min 2.273249864578247, Std 56.386256991350564 \n",
            "Mean MPP 94.30907044410705, Max 150.40687561035156, Min 1.6308701038360596, Std 52.12822476908061 \n",
            "Mean MPP 76.61324043273926, Max 124.16935729980469, Min -15.850687026977539, Std 52.94256153384378 \n",
            "Mean MPP 80.15828475952148, Max 141.88949584960938, Min -9.056068420410156, Std 51.78741616741195 \n",
            "Mean MPP 87.58653373718262, Max 230.65103149414062, Min -19.469125747680664, Std 83.69495643074619 \n"
          ]
        }
      ]
    },
    {
      "cell_type": "code",
      "source": [
        "losses[:, -1]"
      ],
      "metadata": {
        "colab": {
          "base_uri": "https://localhost:8080/"
        },
        "id": "qlRm3hqtSc3p",
        "outputId": "a2489b03-7b9f-4871-825c-f8d71aa8d183"
      },
      "execution_count": null,
      "outputs": [
        {
          "output_type": "execute_result",
          "data": {
            "text/plain": [
              "array([ 81.61886597, 108.68391418, -19.46912575, 230.65103149,\n",
              "        36.44798279])"
            ]
          },
          "metadata": {},
          "execution_count": 21
        }
      ]
    },
    {
      "cell_type": "code",
      "source": [
        "W_to_plot = torch.nn.functional.gumbel_softmax(teste.W, dim = 1).detach().cpu().numpy()"
      ],
      "metadata": {
        "id": "5omzrDByBvHI"
      },
      "execution_count": null,
      "outputs": []
    },
    {
      "cell_type": "code",
      "source": [
        "fig = plt.imshow(W_to_plot[:, :, 0])\n",
        "plt.colorbar(fig);"
      ],
      "metadata": {
        "colab": {
          "base_uri": "https://localhost:8080/",
          "height": 447
        },
        "id": "2cKeJ6EtFlxI",
        "outputId": "fe78ad5c-0757-4bc3-eb24-1b80c1790451"
      },
      "execution_count": null,
      "outputs": [
        {
          "output_type": "execute_result",
          "data": {
            "text/plain": [
              "<matplotlib.colorbar.Colorbar at 0x7e5e38872200>"
            ]
          },
          "metadata": {},
          "execution_count": 23
        },
        {
          "output_type": "display_data",
          "data": {
            "text/plain": [
              "<Figure size 640x480 with 2 Axes>"
            ],
            "image/png": "[encoded data removed]"
          },
          "metadata": {}
        }
      ]
    },
    {
      "cell_type": "code",
      "source": [
        "fig = plt.imshow(W_to_plot[:, :, 1])\n",
        "plt.colorbar(fig);"
      ],
      "metadata": {
        "colab": {
          "base_uri": "https://localhost:8080/",
          "height": 447
        },
        "id": "hXzBppsJJ0Ce",
        "outputId": "38bb2758-1793-496f-d7db-f740eaf0a61e"
      },
      "execution_count": null,
      "outputs": [
        {
          "output_type": "execute_result",
          "data": {
            "text/plain": [
              "<matplotlib.colorbar.Colorbar at 0x7e5e3831a230>"
            ]
          },
          "metadata": {},
          "execution_count": 24
        },
        {
          "output_type": "display_data",
          "data": {
            "text/plain": [
              "<Figure size 640x480 with 2 Axes>"
            ],
            "image/png": "[encoded data removed]"
          },
          "metadata": {}
        }
      ]
    },
    {
      "cell_type": "code",
      "source": [
        "W_to_plot = torch.nn.functional.gumbel_softmax(teste.W, dim = 1).detach().cpu().numpy()"
      ],
      "metadata": {
        "id": "uOthT-thFvsM"
      },
      "execution_count": null,
      "outputs": []
    },
    {
      "cell_type": "code",
      "source": [
        "(5,118,2) - (118, 5, 118, 2)"
      ],
      "metadata": {
        "id": "-Y5VFQ6Dte4b"
      },
      "execution_count": null,
      "outputs": []
    },
    {
      "cell_type": "markdown",
      "source": [
        "## Todo\n",
        "\n",
        "Pegar o historico de maneira correta.\n",
        "torch. searchsorted\n",
        "Financial data - ticks\n",
        "Dado simulado.\n",
        "(5,118,2) - (118, 5, 118, 2).\n",
        "EM algorithm - Flavio; numba jit\n",
        "torch.vmap\n",
        "Flow Autogressive\n",
        "\n"
      ],
      "metadata": {
        "id": "Mzly_YJitUnm"
      }
    },
    {
      "cell_type": "code",
      "source": [
        "ss = [arrival_times_list[4], arrival_times_list[2]]\n",
        "fig, axes = plt.subplots(figsize = (6,2), dpi=200, nrows=1, ncols=1)\n",
        "plt.subplots_adjust(hspace=0.1)\n",
        "for idx, t in enumerate(ss):\n",
        "    axes.scatter(t, np.ones_like(t) * idx, alpha=0.5, c='C0', marker=\"|\")\n",
        "\n",
        "axes.set_ylabel(\"Real sequence #\", fontsize=7)\n",
        "axes.set_yticks(np.arange(2));\n",
        "axes.set_title(\"Visualization of arrival times\", fontsize=9)\n",
        "axes.set_xticklabels([]);\n"
      ],
      "metadata": {
        "colab": {
          "base_uri": "https://localhost:8080/",
          "height": 410
        },
        "id": "aZtFQqE7GBX4",
        "outputId": "c0469805-b665-4834-b64d-b48fa1d51c37"
      },
      "execution_count": null,
      "outputs": [
        {
          "output_type": "display_data",
          "data": {
            "text/plain": [
              "<Figure size 1200x400 with 1 Axes>"
            ],
            "image/png": "[encoded data removed]"
          },
          "metadata": {}
        }
      ]
    },
    {
      "cell_type": "code",
      "source": [
        "ss = [arrival_times_list[11], arrival_times_list[5]]\n",
        "fig, axes = plt.subplots(figsize = (6,2), dpi=200, nrows=1, ncols=1)\n",
        "plt.subplots_adjust(hspace=0.1)\n",
        "for idx, t in enumerate(ss):\n",
        "    axes.scatter(t, np.ones_like(t) * idx, alpha=0.5, c='C0', marker=\"|\")\n",
        "\n",
        "axes.set_ylabel(\"Real sequence #\", fontsize=7)\n",
        "axes.set_yticks(np.arange(2));\n",
        "axes.set_title(\"Visualization of arrival times\", fontsize=9)\n",
        "axes.set_xticklabels([]);\n"
      ],
      "metadata": {
        "colab": {
          "base_uri": "https://localhost:8080/",
          "height": 211
        },
        "id": "p-OcLlmWHwT2",
        "outputId": "ccea8e61-0b98-4af8-e658-a9aa84b993c2"
      },
      "execution_count": null,
      "outputs": [
        {
          "output_type": "error",
          "ename": "IndexError",
          "evalue": "list index out of range",
          "traceback": [
            "\u001b[0;31m---------------------------------------------------------------------------\u001b[0m",
            "\u001b[0;31mIndexError\u001b[0m                                Traceback (most recent call last)",
            "\u001b[0;32m<ipython-input-27-6737b080dda8>\u001b[0m in \u001b[0;36m<cell line: 1>\u001b[0;34m()\u001b[0m\n\u001b[0;32m----> 1\u001b[0;31m \u001b[0mss\u001b[0m \u001b[0;34m=\u001b[0m \u001b[0;34m[\u001b[0m\u001b[0marrival_times_list\u001b[0m\u001b[0;34m[\u001b[0m\u001b[0;36m11\u001b[0m\u001b[0;34m]\u001b[0m\u001b[0;34m,\u001b[0m \u001b[0marrival_times_list\u001b[0m\u001b[0;34m[\u001b[0m\u001b[0;36m5\u001b[0m\u001b[0;34m]\u001b[0m\u001b[0;34m]\u001b[0m\u001b[0;34m\u001b[0m\u001b[0;34m\u001b[0m\u001b[0m\n\u001b[0m\u001b[1;32m      2\u001b[0m \u001b[0mfig\u001b[0m\u001b[0;34m,\u001b[0m \u001b[0maxes\u001b[0m \u001b[0;34m=\u001b[0m \u001b[0mplt\u001b[0m\u001b[0;34m.\u001b[0m\u001b[0msubplots\u001b[0m\u001b[0;34m(\u001b[0m\u001b[0mfigsize\u001b[0m \u001b[0;34m=\u001b[0m \u001b[0;34m(\u001b[0m\u001b[0;36m6\u001b[0m\u001b[0;34m,\u001b[0m\u001b[0;36m2\u001b[0m\u001b[0;34m)\u001b[0m\u001b[0;34m,\u001b[0m \u001b[0mdpi\u001b[0m\u001b[0;34m=\u001b[0m\u001b[0;36m200\u001b[0m\u001b[0;34m,\u001b[0m \u001b[0mnrows\u001b[0m\u001b[0;34m=\u001b[0m\u001b[0;36m1\u001b[0m\u001b[0;34m,\u001b[0m \u001b[0mncols\u001b[0m\u001b[0;34m=\u001b[0m\u001b[0;36m1\u001b[0m\u001b[0;34m)\u001b[0m\u001b[0;34m\u001b[0m\u001b[0;34m\u001b[0m\u001b[0m\n\u001b[1;32m      3\u001b[0m \u001b[0mplt\u001b[0m\u001b[0;34m.\u001b[0m\u001b[0msubplots_adjust\u001b[0m\u001b[0;34m(\u001b[0m\u001b[0mhspace\u001b[0m\u001b[0;34m=\u001b[0m\u001b[0;36m0.1\u001b[0m\u001b[0;34m)\u001b[0m\u001b[0;34m\u001b[0m\u001b[0;34m\u001b[0m\u001b[0m\n\u001b[1;32m      4\u001b[0m \u001b[0;32mfor\u001b[0m \u001b[0midx\u001b[0m\u001b[0;34m,\u001b[0m \u001b[0mt\u001b[0m \u001b[0;32min\u001b[0m \u001b[0menumerate\u001b[0m\u001b[0;34m(\u001b[0m\u001b[0mss\u001b[0m\u001b[0;34m)\u001b[0m\u001b[0;34m:\u001b[0m\u001b[0;34m\u001b[0m\u001b[0;34m\u001b[0m\u001b[0m\n\u001b[1;32m      5\u001b[0m     \u001b[0maxes\u001b[0m\u001b[0;34m.\u001b[0m\u001b[0mscatter\u001b[0m\u001b[0;34m(\u001b[0m\u001b[0mt\u001b[0m\u001b[0;34m,\u001b[0m \u001b[0mnp\u001b[0m\u001b[0;34m.\u001b[0m\u001b[0mones_like\u001b[0m\u001b[0;34m(\u001b[0m\u001b[0mt\u001b[0m\u001b[0;34m)\u001b[0m \u001b[0;34m*\u001b[0m \u001b[0midx\u001b[0m\u001b[0;34m,\u001b[0m \u001b[0malpha\u001b[0m\u001b[0;34m=\u001b[0m\u001b[0;36m0.5\u001b[0m\u001b[0;34m,\u001b[0m \u001b[0mc\u001b[0m\u001b[0;34m=\u001b[0m\u001b[0;34m'C0'\u001b[0m\u001b[0;34m,\u001b[0m \u001b[0mmarker\u001b[0m\u001b[0;34m=\u001b[0m\u001b[0;34m\"|\"\u001b[0m\u001b[0;34m)\u001b[0m\u001b[0;34m\u001b[0m\u001b[0;34m\u001b[0m\u001b[0m\n",
            "\u001b[0;31mIndexError\u001b[0m: list index out of range"
          ]
        }
      ]
    }
  ]
}