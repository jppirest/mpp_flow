{
 "cells": [
  {
   "cell_type": "code",
   "execution_count": 1,
   "id": "88fa258d-c31e-4cff-a543-fae428fe4b93",
   "metadata": {},
   "outputs": [],
   "source": [
    "import numpy as np\n",
    "import matplotlib.pyplot as plt\n",
    "\n",
    "# Set random seed for reproducibility\n",
    "np.random.seed(42)\n",
    "\n",
    "# Parameters\n",
    "n_points = 120 # Number of time points\n",
    "time = np.arange(n_points)\n",
    "\n",
    "# Generate base binary time series using Bernoulli distribution\n",
    "X1 = np.random.binomial(1, 0.6, n_points)\n",
    "X2 = np.zeros(n_points)\n",
    "X3 = np.zeros(n_points)\n",
    "\n",
    "# Introduce causal relationships\n",
    "for t in range(1, n_points):\n",
    "    # X2 is more likely to happen if X1 happened in the previous step\n",
    "    X2[t] = np.random.binomial(1, 0.95 * X1[t-1])\n",
    "    # X3 is more likely to happen if X2 happened in the previous step\n",
    "    X3[t] = np.random.binomial(1, 0.95 * X2[t-1] )\n",
    "\n",
    "\n",
    "#print(X1)\n",
    "\n",
    "X1 = [time[i] for i in range(len(X1)) if X1[i] > 0]\n",
    "X2 = [time[i] + 0.1 for i in range(len(X2)) if X2[i] > 0]\n",
    "X3 = [time[i] + 0.2 for i in range(len(X3)) if X3[i] > 0]"
   ]
  },
  {
   "cell_type": "code",
   "execution_count": 2,
   "id": "85c66ed5-4c64-415d-b060-5bdf06d5e68d",
   "metadata": {},
   "outputs": [
    {
     "data": {
      "image/png": "[encoded data removed]",
      "text/plain": [
       "<Figure size 640x480 with 3 Axes>"
      ]
     },
     "metadata": {},
     "output_type": "display_data"
    }
   ],
   "source": [
    "def _plot_tick_bars(timestamps_i, ax, color):\n",
    "    for t in timestamps_i:\n",
    "        ax.axvline(x=t, color = color)\n",
    "    # ax.set_title(label, fontsize=20)\n",
    "    ax.get_yaxis().set_visible(False)\n",
    "def _plot_tick_bars_causes(timestamps_i, ax, cause):\n",
    "    colors = ['red', 'green', 'blue']\n",
    "    for idx, t in enumerate(timestamps_i):\n",
    "        cause_ = torch.argmax(cause[idx]).item()\n",
    "        ax.axvline(x=t, color = colors[cause_])\n",
    "    ax.get_yaxis().set_visible(False)\n",
    "\n",
    "fig, ax = plt.subplots(nrows = 3, sharex = True)\n",
    "\n",
    "_plot_tick_bars(X1, ax[0], color = 'red')\n",
    "_plot_tick_bars(X2, ax[1], color = 'green')\n",
    "_plot_tick_bars(X3, ax[2], color = 'blue')"
   ]
  },
  {
   "cell_type": "code",
   "execution_count": 3,
   "id": "b1a6a48f-ac51-4f35-b834-d83ca5145426",
   "metadata": {},
   "outputs": [],
   "source": [
    "import torch\n",
    "import torch.nn as nn\n",
    "import torch.nn.functional as F\n",
    "from torch.nn.utils.rnn import pad_sequence\n",
    "from torch.utils.data import DataLoader\n",
    "\n",
    "if torch.cuda.is_available():\n",
    "    torch.set_default_tensor_type(\"torch.cuda.FloatTensor\")\n",
    "    device = \"cuda\"\n",
    "else:\n",
    "    torch.set_default_tensor_type(\"torch.FloatTensor\")\n",
    "    device = \"cpu\"\n",
    "    "
   ]
  },
  {
   "cell_type": "code",
   "execution_count": 346,
   "id": "7749ccfc-6d6b-4376-9003-14aa3a73b1e8",
   "metadata": {},
   "outputs": [],
   "source": [
    "import torch \n",
    "\n",
    "class ProbRNN(nn.Module):\n",
    "    def __init__(self, memory_size):\n",
    "        super().__init__()\n",
    "\n",
    "        self.memory_size = memory_size\n",
    "        self.linear = nn.Sequential(nn.Linear(self.memory_size, 64), nn.LayerNorm(64), nn.Tanh())\n",
    "        self.lstm = nn.GRU(input_size = 64, hidden_size = 128, num_layers = 2, batch_first = True)\n",
    "        self.lstm_norm = nn.LayerNorm(128)\n",
    "        self.linear_mu = nn.Sequential(nn.Linear(128, self.memory_size), nn.LayerNorm(self.memory_size))\n",
    "        self.linear_std = nn.Sequential(nn.Linear(128, self.memory_size), nn.LayerNorm(self.memory_size))\n",
    "        self.linear_gmm_weights = nn.Sequential(nn.Linear(128, self.memory_size), nn.LayerNorm(self.memory_size), nn.Softmax(dim = 1))\n",
    "        \n",
    "\n",
    "    def forward(self, x):\n",
    "      debug_x = x.clone()\n",
    "      x = self.linear(x)\n",
    "      x, _ = self.lstm(x)\n",
    "      x = self.lstm_norm(x)\n",
    "      mu = self.linear_mu(x)\n",
    "      # print(mu)\n",
    "      std = self.linear_std(x)\n",
    "      std = torch.exp(std)\n",
    "      gmm_weights = self.linear_gmm_weights(x)\n",
    "      if torch.isnan(mu).any() or torch.isnan(std).any():\n",
    "          print(mu, std, debug_x)\n",
    "\n",
    "\n",
    "      mix_dist = self.build_distrib(mu, std, gmm_weights)\n",
    "\n",
    "      new_X = self.sample(mu, std)\n",
    "      log_prob = mix_dist.log_prob(new_X)\n",
    "\n",
    "    \n",
    "      return new_X, log_prob\n",
    "\n",
    "\n",
    "    def build_distrib(self, mus, stds, gmm_weights):\n",
    "      \n",
    "      \n",
    "      \n",
    "      component_dist = torch.distributions.Normal(mus.T, stds.T)\n",
    "      mix_weight = torch.distributions.Categorical(gmm_weights.T)\n",
    "      mix_dist = torch.distributions.MixtureSameFamily(mix_weight, component_dist)\n",
    "      self.mix_dist = mix_dist\n",
    "      \n",
    "\n",
    "      return mix_dist\n",
    "\n",
    "    def sample(self, mu, std):\n",
    "      size = (std.size(0),)\n",
    "\n",
    "      X =  mu + self.mix_dist.sample(size)*std\n",
    "\n",
    "      return X\n"
   ]
  },
  {
   "cell_type": "code",
   "execution_count": 347,
   "id": "f67fd288-e6e7-4a1c-8144-bd7aae098751",
   "metadata": {},
   "outputs": [
    {
     "data": {
      "text/plain": [
       "178586"
      ]
     },
     "execution_count": 347,
     "metadata": {},
     "output_type": "execute_result"
    }
   ],
   "source": [
    "rede = ProbRNN(memory_size=10)\n",
    "sum(p.numel() for p in rede.parameters())\n",
    "# X = torch.rand(size = (20,10))\n",
    "\n",
    "# new_X, logp = rede(X)"
   ]
  },
  {
   "cell_type": "code",
   "execution_count": 348,
   "id": "8ed764e6-a3a4-409a-988c-d9d8dae769b4",
   "metadata": {},
   "outputs": [],
   "source": [
    "X1_ = torch.tensor(X1.copy(), dtype = torch.float32)\n",
    "X2_ = torch.tensor(X2.copy(), dtype = torch.float32)\n",
    "X3_ = torch.tensor(X3.copy(), dtype = torch.float32)\n",
    "processes = [X1_, X2_, X3_]"
   ]
  },
  {
   "cell_type": "code",
   "execution_count": 349,
   "id": "2b9d846a-cd43-46a8-9585-8cb8341b5608",
   "metadata": {},
   "outputs": [
    {
     "data": {
      "text/plain": [
       "3"
      ]
     },
     "execution_count": 349,
     "metadata": {},
     "output_type": "execute_result"
    }
   ],
   "source": [
    "3"
   ]
  },
  {
   "cell_type": "code",
   "execution_count": 350,
   "id": "7b598d71-6331-4512-8a1b-24f433b46be9",
   "metadata": {},
   "outputs": [],
   "source": [
    "class GrangerMPP(nn.Module):\n",
    "\n",
    "    def __init__(self, processes, memory_dim : int = 10):\n",
    "        \n",
    "        super().__init__()\n",
    "        \n",
    "        self.processes = processes\n",
    "        self.memory_dim = memory_dim\n",
    "        self.n_processes = len(self.processes)\n",
    "        #initial_matrix = torch.empty(self.n_processes, self.n_processes)\n",
    "        #nn.init.normal_(initial_matrix, mean=0.0, std=0.1)\n",
    "\n",
    "        # Apply softmax along dim=1 to ensure each row sums to 1\n",
    "        #self.GrangerMatrix = nn.Parameter(initial_matrix)\n",
    "        self.GrangerMatrix = nn.Parameter((torch.Tensor(self.n_processes, self.n_processes)))\n",
    "        # nn.init.normal_(self.GrangerMatrix, mean=0.0, std=0.5)\n",
    "        nn.init.ones_(self.GrangerMatrix)\n",
    "        \n",
    "        self.models = nn.ModuleList([ProbRNN(self.memory_dim) for i in range(self.n_processes)])\n",
    "        self.sweep_dict = self.make_sweep_dict()\n",
    "        self.optimizers = [torch.optim.Adam(list(self.models[i].parameters()), lr=1e-4, weight_decay = 1e-5) for i in range(self.n_processes)]\n",
    "        self.g_optimizers = [torch.optim.Adam([self.GrangerMatrix], lr=1e-3) for i in range(self.n_processes)]\n",
    "        self.log_GrangerMatrix = []\n",
    "        \n",
    "    def e_step(self, i_proc, points_current_pp):\n",
    "        \n",
    "        \"\"\"\n",
    "        Return the causes for each event of the current_p\n",
    "        \n",
    "        \"\"\"\n",
    "        \n",
    "        n = len(points_current_pp)\n",
    "        rv = []\n",
    "        in_weights = nn.Softmax(dim = 0)(self.GrangerMatrix[i_proc])\n",
    "        #self.GrangerMatrix[i_proc] = in_weights\n",
    "        \n",
    "        in_ = in_weights\n",
    "        \n",
    "        for i in range(n):\n",
    "            # in_ = in_weights#nn.Tanh()(in_weights)\n",
    "            cause = F.gumbel_softmax(\n",
    "                in_,\n",
    "                tau = 1,\n",
    "                hard = False\n",
    "            )\n",
    "            rv.append(cause)\n",
    "        \n",
    "        return rv\n",
    "\n",
    "    def em_step(self, n_steps):\n",
    "        dic = {}\n",
    "        \n",
    "        for i in range(self.n_processes):\n",
    "            dic[i] = []\n",
    "        \n",
    "        for step in range(n_steps):\n",
    "            self.causes = []\n",
    "            for i_proc in range(self.n_processes):\n",
    "                rv = self.e_step(\n",
    "                    i_proc,\n",
    "                    self.processes[i_proc]\n",
    "                )\n",
    "                self.causes.append(rv)\n",
    "            \n",
    "            \n",
    "            for i_proc in range(self.n_processes):\n",
    "                \n",
    "                # causes_to_ith = self.causes[i_proc] ## causes of ith_proc\n",
    "                batch_list = self.get_batch_list(i_proc)\n",
    "                \n",
    "                dataloader = self.make_dl(batch_list = batch_list, batch_size = 2, drop_last = False)\n",
    "                self.dataloader = dataloader\n",
    "                for _, (X, cause_rank) in enumerate(dataloader):\n",
    "\n",
    "                    reg_term = len(self.processes[i_proc])\n",
    "                    loss = self.m_step(i_proc, X, cause_rank) \n",
    "                    dic[i_proc].append(loss)\n",
    "                \n",
    "                if (step + 1) % 5 == 0 or step == 0:\n",
    "                    print(f'Step: {step + 1}, Model: {i_proc}, Loss: {loss}')\n",
    "                    \n",
    "            #self.log_GrangerMatrix.append(self.GrangerMatrix)\n",
    "        \n",
    "        return dic\n",
    "\n",
    "    def m_step(self, i_proc, X, cause_rank):\n",
    "\n",
    "        model = self.models[i_proc]\n",
    "        self.optimizers[i_proc].zero_grad()\n",
    "        self.g_optimizers[i_proc].zero_grad()\n",
    "        \n",
    "        z, loss = model(X)\n",
    "        loss = -1*loss.sum(axis = 1)\n",
    "        loss_rnn = (loss * cause_rank).sum() #+ mpp.GrangerMatrix.norm(p=2)\n",
    "       \n",
    "        \n",
    "        if not (torch.isnan(loss_rnn) | torch.isinf(loss_rnn)):\n",
    "\n",
    "            self.log_GrangerMatrix.append(self.GrangerMatrix.clone().detach())\n",
    "            #print(f'Before bwd: {self.GrangerMatrix.grad}')\n",
    "            \n",
    "            loss_rnn.backward(retain_graph = True)\n",
    "            \n",
    "            self.optimizers[i_proc].step()\n",
    "            self.g_optimizers[i_proc].step()\n",
    "\n",
    "            #print(f'After bwd: {self.GrangerMatrix.grad}')\n",
    "            self.log_GrangerMatrix.append(self.GrangerMatrix.clone().detach())\n",
    "            \n",
    "        \n",
    "        else:\n",
    "            print(f'NaN found in epoch: {step}')    \n",
    "\n",
    "        return loss_rnn.item()\n",
    "\n",
    "    def make_sweep_dict(self):\n",
    "        \n",
    "        dic = {}\n",
    "        for i in range(self.n_processes):\n",
    "            target = processes[i]\n",
    "            dic[i] = {}\n",
    "            for j in range(self.n_processes):\n",
    "                cause = self.processes[j]\n",
    "                dic[i][j] = self.sweep(target, cause)\n",
    "        return dic\n",
    "\n",
    "\n",
    "    def sweep(self, pa, pc):\n",
    "        events = []\n",
    "        pa_indices = []  \n",
    "    \n",
    "        \n",
    "        for i, ia in enumerate(pa):\n",
    "            events.append((ia, 'a'))\n",
    "            pa_indices.append(i)  \n",
    "    \n",
    "        for ic in pc:\n",
    "            events.append((ic, 'c'))\n",
    "    \n",
    "        lim = self.memory_dim\n",
    "    \n",
    "        events.sort()\n",
    "        mem = []\n",
    "        ret = []\n",
    "        indices = []  # List to store indices relative to pa\n",
    "    \n",
    "        pa_idx_counter = 0  # Counter to track which index in pa we are at\n",
    "    \n",
    "        for t, e in events:\n",
    "            if e == 'c':\n",
    "                if len(mem) >= lim:\n",
    "                    mem.pop(0)\n",
    "                mem.append(t)\n",
    "    \n",
    "            if e == 'a':\n",
    "                # Memory is not full yet\n",
    "                if len(mem) < lim:\n",
    "                    pa_idx_counter += 1  # Move to the next pa index\n",
    "                    continue\n",
    "                # Retrieve deltas from this time to the cause times\n",
    "                pp = [t - tc for tc in mem]\n",
    "                ret.append(pp)\n",
    "                indices.append(pa_indices[pa_idx_counter])  # Save index relative to pa\n",
    "                pa_idx_counter += 1  # Move to the next pa index\n",
    "    \n",
    "        return torch.tensor(ret, dtype=torch.float), indices\n",
    "\n",
    "    def get_batch_list(self, i_proc):\n",
    "    \n",
    "      batch_list = []\n",
    "      dic = self.sweep_dict\n",
    "      causes = self.causes[i_proc]\n",
    "      \n",
    "      for idx in range(len(causes)):\n",
    "          n_causes = causes[idx]\n",
    "        \n",
    "          for idx_j, cause_rank in enumerate(n_causes):\n",
    "            \n",
    "            if idx < dic[i_proc][idx_j][1][0]: ## cannot cause target process\n",
    "              # self.causes[i_proc][idx][idx_j] = 0.0\n",
    "              # self.causes[i_proc][idx][i_proc] = 1.0\n",
    "              continue\n",
    "            \n",
    "          \n",
    "            else:\n",
    "              where_in_tensor = dic[i_proc][idx_j][1].index(idx)\n",
    "              app = (dic[i_proc][idx_j][0][where_in_tensor], cause_rank.clone())\n",
    "              batch_list.append(app)\n",
    "    \n",
    "    \n",
    "      return batch_list\n",
    "    \n",
    "    def make_dl(self, batch_list : list, batch_size : int, drop_last : bool):\n",
    "    \n",
    "      dataloader = DataLoader(batch_list, batch_size = batch_size, drop_last = drop_last, shuffle = False)\n",
    "    \n",
    "      return dataloader"
   ]
  },
  {
   "cell_type": "code",
   "execution_count": 351,
   "id": "d8352769-ccac-4f6f-b833-bcd4d8756f58",
   "metadata": {
    "scrolled": true
   },
   "outputs": [
    {
     "name": "stdout",
     "output_type": "stream",
     "text": [
      "Step: 1, Model: 0, Loss: 4.74306058883667\n",
      "Step: 1, Model: 1, Loss: 23.402070999145508\n",
      "Step: 1, Model: 2, Loss: 6.0937418937683105\n",
      "Step: 5, Model: 0, Loss: 4.894512176513672\n",
      "Step: 5, Model: 1, Loss: 4.135678768157959\n",
      "Step: 5, Model: 2, Loss: 8.887889862060547\n",
      "Step: 10, Model: 0, Loss: 32.7274284362793\n",
      "Step: 10, Model: 1, Loss: 7.314109802246094\n",
      "Step: 10, Model: 2, Loss: 4.507997989654541\n",
      "Step: 15, Model: 0, Loss: 6.985549449920654\n",
      "Step: 15, Model: 1, Loss: 4.034485816955566\n",
      "Step: 15, Model: 2, Loss: 14.475381851196289\n",
      "Step: 20, Model: 0, Loss: 3.83487868309021\n",
      "Step: 20, Model: 1, Loss: 7.129219055175781\n",
      "Step: 20, Model: 2, Loss: 3.4945192337036133\n",
      "Step: 25, Model: 0, Loss: 3.6184186935424805\n",
      "Step: 25, Model: 1, Loss: 1.3309742212295532\n",
      "Step: 25, Model: 2, Loss: 1.1153925657272339\n",
      "Step: 30, Model: 0, Loss: 4.331072807312012\n",
      "Step: 30, Model: 1, Loss: 0.6504618525505066\n",
      "Step: 30, Model: 2, Loss: 9.854345321655273\n",
      "Step: 35, Model: 0, Loss: 7.518973350524902\n",
      "Step: 35, Model: 1, Loss: 1.3582295179367065\n",
      "Step: 35, Model: 2, Loss: 9.297399520874023\n",
      "Step: 40, Model: 0, Loss: 4.228713035583496\n",
      "Step: 40, Model: 1, Loss: 5.248371124267578\n",
      "Step: 40, Model: 2, Loss: 6.726484298706055\n",
      "Step: 45, Model: 0, Loss: 2.904670476913452\n",
      "Step: 45, Model: 1, Loss: 6.010049343109131\n",
      "Step: 45, Model: 2, Loss: 1.7160248756408691\n",
      "Step: 50, Model: 0, Loss: 2.260383367538452\n",
      "Step: 50, Model: 1, Loss: 6.623203754425049\n",
      "Step: 50, Model: 2, Loss: 1.7424993515014648\n",
      "Step: 55, Model: 0, Loss: 0.8747790455818176\n",
      "Step: 55, Model: 1, Loss: 2.125856399536133\n",
      "Step: 55, Model: 2, Loss: 12.583442687988281\n",
      "Step: 60, Model: 0, Loss: 3.9549717903137207\n",
      "Step: 60, Model: 1, Loss: 1.7357646226882935\n",
      "Step: 60, Model: 2, Loss: -0.2885328531265259\n",
      "Step: 65, Model: 0, Loss: 4.343198776245117\n",
      "Step: 65, Model: 1, Loss: 2.9686734676361084\n",
      "Step: 65, Model: 2, Loss: 1.2557532787322998\n",
      "Step: 70, Model: 0, Loss: 2.1203768253326416\n",
      "Step: 70, Model: 1, Loss: 4.878804683685303\n",
      "Step: 70, Model: 2, Loss: 0.389761745929718\n",
      "Step: 75, Model: 0, Loss: 2.771605968475342\n",
      "Step: 75, Model: 1, Loss: 2.6575517654418945\n",
      "Step: 75, Model: 2, Loss: 0.1302843987941742\n",
      "Step: 80, Model: 0, Loss: -0.11579450219869614\n",
      "Step: 80, Model: 1, Loss: 0.4812624752521515\n",
      "Step: 80, Model: 2, Loss: 0.2576350271701813\n",
      "Step: 85, Model: 0, Loss: -1.0358752012252808\n",
      "Step: 85, Model: 1, Loss: 1.9607652425765991\n",
      "Step: 85, Model: 2, Loss: -0.10927620530128479\n",
      "Step: 90, Model: 0, Loss: -0.5983861684799194\n",
      "Step: 90, Model: 1, Loss: 0.16761577129364014\n",
      "Step: 90, Model: 2, Loss: 1.4365957975387573\n",
      "Step: 95, Model: 0, Loss: -0.19393378496170044\n",
      "Step: 95, Model: 1, Loss: 0.521601140499115\n",
      "Step: 95, Model: 2, Loss: -0.23121242225170135\n",
      "Step: 100, Model: 0, Loss: 0.14385858178138733\n",
      "Step: 100, Model: 1, Loss: 0.1785702109336853\n",
      "Step: 100, Model: 2, Loss: -0.2329057902097702\n",
      "Step: 105, Model: 0, Loss: -1.024672031402588\n",
      "Step: 105, Model: 1, Loss: 1.4637119770050049\n",
      "Step: 105, Model: 2, Loss: -0.20535756647586823\n",
      "Step: 110, Model: 0, Loss: -0.49638044834136963\n",
      "Step: 110, Model: 1, Loss: 0.7634372711181641\n",
      "Step: 110, Model: 2, Loss: 0.2409517914056778\n",
      "Step: 115, Model: 0, Loss: -1.8909393548965454\n",
      "Step: 115, Model: 1, Loss: -0.26136428117752075\n",
      "Step: 115, Model: 2, Loss: -0.3019760847091675\n",
      "Step: 120, Model: 0, Loss: -2.3915295600891113\n",
      "Step: 120, Model: 1, Loss: -0.7408487796783447\n",
      "Step: 120, Model: 2, Loss: 0.5243826508522034\n",
      "Step: 125, Model: 0, Loss: -1.531152606010437\n",
      "Step: 125, Model: 1, Loss: -1.170486569404602\n",
      "Step: 125, Model: 2, Loss: -0.7089933753013611\n",
      "Step: 130, Model: 0, Loss: -0.019136488437652588\n",
      "Step: 130, Model: 1, Loss: -1.3311554193496704\n",
      "Step: 130, Model: 2, Loss: 0.06670081615447998\n",
      "Step: 135, Model: 0, Loss: -2.158238410949707\n",
      "Step: 135, Model: 1, Loss: -1.2892776727676392\n",
      "Step: 135, Model: 2, Loss: -1.2006196975708008\n",
      "Step: 140, Model: 0, Loss: -0.6535861492156982\n",
      "Step: 140, Model: 1, Loss: -1.0520646572113037\n",
      "Step: 140, Model: 2, Loss: -0.3942372500896454\n",
      "Step: 145, Model: 0, Loss: -2.5066323280334473\n",
      "Step: 145, Model: 1, Loss: -0.9887239336967468\n",
      "Step: 145, Model: 2, Loss: -1.8263392448425293\n",
      "Step: 150, Model: 0, Loss: -3.6667284965515137\n",
      "Step: 150, Model: 1, Loss: -2.4500269889831543\n",
      "Step: 150, Model: 2, Loss: -0.17450135946273804\n",
      "Step: 155, Model: 0, Loss: -3.4753925800323486\n",
      "Step: 155, Model: 1, Loss: -2.1207594871520996\n",
      "Step: 155, Model: 2, Loss: -1.4126076698303223\n",
      "Step: 160, Model: 0, Loss: -2.5981717109680176\n",
      "Step: 160, Model: 1, Loss: -1.9335488080978394\n",
      "Step: 160, Model: 2, Loss: -1.5945606231689453\n",
      "Step: 165, Model: 0, Loss: -2.115790605545044\n",
      "Step: 165, Model: 1, Loss: -3.485565185546875\n",
      "Step: 165, Model: 2, Loss: -0.8687869906425476\n",
      "Step: 170, Model: 0, Loss: -3.842247724533081\n",
      "Step: 170, Model: 1, Loss: -3.789668560028076\n",
      "Step: 170, Model: 2, Loss: -0.7556852102279663\n",
      "Step: 175, Model: 0, Loss: -0.2152608335018158\n",
      "Step: 175, Model: 1, Loss: -4.062874794006348\n",
      "Step: 175, Model: 2, Loss: -2.240175247192383\n",
      "Step: 180, Model: 0, Loss: -0.27443385124206543\n",
      "Step: 180, Model: 1, Loss: -4.294515609741211\n",
      "Step: 180, Model: 2, Loss: -2.1310629844665527\n",
      "Step: 185, Model: 0, Loss: -5.830896377563477\n",
      "Step: 185, Model: 1, Loss: -3.034045696258545\n",
      "Step: 185, Model: 2, Loss: -3.7448482513427734\n",
      "Step: 190, Model: 0, Loss: -4.413018226623535\n",
      "Step: 190, Model: 1, Loss: -3.761880874633789\n",
      "Step: 190, Model: 2, Loss: -3.8409392833709717\n",
      "Step: 195, Model: 0, Loss: -5.897846221923828\n",
      "Step: 195, Model: 1, Loss: -6.120366096496582\n",
      "Step: 195, Model: 2, Loss: -3.930164098739624\n",
      "Step: 200, Model: 0, Loss: -5.576480388641357\n",
      "Step: 200, Model: 1, Loss: -3.7472801208496094\n",
      "Step: 200, Model: 2, Loss: -2.4836599826812744\n"
     ]
    }
   ],
   "source": [
    "mpp = GrangerMPP(processes, memory_dim = 4)\n",
    "l = mpp.em_step(n_steps = 200)"
   ]
  },
  {
   "cell_type": "code",
   "execution_count": 264,
   "id": "3a2577d8-6d7a-4625-b5f6-34df18fb833d",
   "metadata": {},
   "outputs": [
    {
     "data": {
      "text/plain": [
       "(tensor(-0.0255, grad_fn=<MeanBackward0>),\n",
       " tensor(0.4103, grad_fn=<StdBackward0>))"
      ]
     },
     "execution_count": 264,
     "metadata": {},
     "output_type": "execute_result"
    }
   ],
   "source": [
    "mpp.models[0].linear[0].weight.mean(), mpp.models[0].linear[0].weight.std()"
   ]
  },
  {
   "cell_type": "code",
   "execution_count": 265,
   "id": "10cab3d5-7be1-45f3-9aae-f2138a837959",
   "metadata": {},
   "outputs": [
    {
     "data": {
      "text/plain": [
       "(tensor(0.0042, grad_fn=<MeanBackward0>),\n",
       " tensor(0.4103, grad_fn=<StdBackward0>))"
      ]
     },
     "execution_count": 265,
     "metadata": {},
     "output_type": "execute_result"
    }
   ],
   "source": [
    "mpp.models[0].linear_mu[0].weight.mean(), mpp.models[0].linear[0].weight.std()"
   ]
  },
  {
   "cell_type": "code",
   "execution_count": 223,
   "id": "81fac5a7-8fec-42c7-92ab-6fb283f6e40f",
   "metadata": {},
   "outputs": [
    {
     "data": {
      "text/plain": [
       "(tensor(-0.0042, grad_fn=<MeanBackward0>),\n",
       " tensor(0.4025, grad_fn=<StdBackward0>))"
      ]
     },
     "execution_count": 223,
     "metadata": {},
     "output_type": "execute_result"
    }
   ],
   "source": [
    "mpp.models[0].linear_std[0].weight.mean(), mpp.models[0].linear[0].weight.std()"
   ]
  },
  {
   "cell_type": "code",
   "execution_count": 353,
   "id": "0ee71128-22ab-4f8e-aeff-9a58829d207a",
   "metadata": {},
   "outputs": [
    {
     "data": {
      "text/plain": [
       "tensor([[0.3173, 0.3011, 0.3816],\n",
       "        [0.3374, 0.3457, 0.3169],\n",
       "        [0.3379, 0.3425, 0.3196]], grad_fn=<SoftmaxBackward0>)"
      ]
     },
     "execution_count": 353,
     "metadata": {},
     "output_type": "execute_result"
    }
   ],
   "source": [
    "mpp.GrangerMatrix.softmax(dim=1)"
   ]
  },
  {
   "cell_type": "code",
   "execution_count": 352,
   "id": "e2763af4-facb-4060-8dd6-03250041449e",
   "metadata": {},
   "outputs": [
    {
     "data": {
      "text/plain": [
       "67"
      ]
     },
     "execution_count": 352,
     "metadata": {},
     "output_type": "execute_result"
    }
   ],
   "source": [
    "len(mpp.sweep_dict[1][0][0])"
   ]
  },
  {
   "cell_type": "code",
   "execution_count": 354,
   "id": "0c27daef-95e3-4359-ac3e-fde179c9ad0e",
   "metadata": {},
   "outputs": [
    {
     "name": "stdout",
     "output_type": "stream",
     "text": [
      "Len of losses: [20800, 19600, 19400]\n"
     ]
    },
    {
     "data": {
      "image/png": "[encoded data removed]",
      "text/plain": [
       "<Figure size 640x480 with 1 Axes>"
      ]
     },
     "metadata": {},
     "output_type": "display_data"
    }
   ],
   "source": [
    "colors = ['red', 'green', 'blue']\n",
    "for i in range(3):\n",
    "    plt.plot(l[i], color = colors[i])\n",
    "\n",
    "t = [len(l[i]) for i in range(3)]\n",
    "\n",
    "print(f'Len of losses: {t}')"
   ]
  },
  {
   "cell_type": "code",
   "execution_count": 356,
   "id": "a849d14a-fb46-4791-9b5d-74bb6a86bbfd",
   "metadata": {},
   "outputs": [
    {
     "data": {
      "image/png": "[encoded data removed]",
      "text/plain": [
       "<Figure size 640x480 with 1 Axes>"
      ]
     },
     "metadata": {},
     "output_type": "display_data"
    }
   ],
   "source": [
    "final = []\n",
    "for proc in range(3):\n",
    "    proc_size = len(processes[proc])\n",
    "    loss_size = len(l[proc])\n",
    "    temp = [ sum(l[proc][i:i + proc_size])/proc_size for i in range(0, loss_size - proc_size, proc_size)]\n",
    "    final.append(temp)\n",
    "\n",
    "colors = ['red', 'green', 'blue']\n",
    "for i in range(3):\n",
    "    plt.plot(final[i], color = colors[i])"
   ]
  },
  {
   "cell_type": "code",
   "execution_count": 40,
   "id": "c22ac9ab-25c3-42e3-a4cd-cc2df119f63c",
   "metadata": {},
   "outputs": [],
   "source": [
    "# colors = ['red', 'green', 'blue']\n",
    "# for i in range(3):\n",
    "#     plt.plot(final[i], color = colors[i])\n",
    " "
   ]
  },
  {
   "cell_type": "code",
   "execution_count": 279,
   "id": "c7e33ef6-ceb9-4439-ba04-d858d9f777ea",
   "metadata": {},
   "outputs": [
    {
     "data": {
      "image/png": "[encoded data removed]",
      "text/plain": [
       "<Figure size 640x480 with 3 Axes>"
      ]
     },
     "metadata": {},
     "output_type": "display_data"
    }
   ],
   "source": [
    "fig, ax = plt.subplots(nrows = 3, sharex = True)\n",
    "\n",
    "_plot_tick_bars(X1, ax[0], color = 'red')\n",
    "_plot_tick_bars(X2, ax[1], color = 'green')\n",
    "_plot_tick_bars(X3, ax[2], color = 'blue')"
   ]
  },
  {
   "cell_type": "code",
   "execution_count": 282,
   "id": "e17d12db-0a20-4278-b974-41d1dd70549b",
   "metadata": {},
   "outputs": [
    {
     "data": {
      "image/png": "[encoded data removed]",
      "text/plain": [
       "<Figure size 640x480 with 2 Axes>"
      ]
     },
     "metadata": {},
     "output_type": "display_data"
    }
   ],
   "source": [
    "fig, ax = plt.subplots(nrows=2, sharex = True)\n",
    "colors = ['red', 'green', 'blue']\n",
    "idx = 0\n",
    "proc_to_plot = processes[idx].detach().cpu().numpy()\n",
    "_plot_tick_bars(proc_to_plot, ax[0], color = colors[idx])\n",
    "_plot_tick_bars_causes(proc_to_plot, ax[1], cause = mpp.causes[idx])\n"
   ]
  },
  {
   "cell_type": "code",
   "execution_count": 95,
   "id": "2de6ed49-bef9-49bf-a906-1f60f7f46568",
   "metadata": {},
   "outputs": [],
   "source": [
    "# mpp.log_GrangerMatrix"
   ]
  },
  {
   "cell_type": "code",
   "execution_count": 96,
   "id": "851c5047-be73-4842-baef-130eddc2aed0",
   "metadata": {},
   "outputs": [
    {
     "data": {
      "text/plain": [
       "array([[0.5750364 , 0.21173039, 0.21323325],\n",
       "       [0.3331062 , 0.33452973, 0.33236405],\n",
       "       [0.3543213 , 0.23545204, 0.41022664]], dtype=float32)"
      ]
     },
     "execution_count": 96,
     "metadata": {},
     "output_type": "execute_result"
    }
   ],
   "source": [
    "mpp.GrangerMatrix.softmax(dim = 1).detach().cpu().numpy()"
   ]
  },
  {
   "cell_type": "code",
   "execution_count": 284,
   "id": "64d22837-16b6-484b-a8c2-3eb70491f04e",
   "metadata": {},
   "outputs": [
    {
     "data": {
      "text/plain": [
       "<matplotlib.colorbar.Colorbar at 0x7f14efb85330>"
      ]
     },
     "execution_count": 284,
     "metadata": {},
     "output_type": "execute_result"
    },
    {
     "data": {
      "image/png": "[encoded data removed]",
      "text/plain": [
       "<Figure size 640x480 with 2 Axes>"
      ]
     },
     "metadata": {},
     "output_type": "display_data"
    }
   ],
   "source": [
    "X = mpp.GrangerMatrix.detach().cpu().numpy()\n",
    "X = (X.T/X.sum(axis = 1)).T\n",
    "plt.imshow(X)\n",
    "plt.axis('off')\n",
    "plt.colorbar()"
   ]
  },
  {
   "cell_type": "code",
   "execution_count": 93,
   "id": "3561311a-3428-4d2d-a973-5f03dac5b563",
   "metadata": {},
   "outputs": [
    {
     "data": {
      "text/plain": [
       "array([[ 0.996765  , -0.00235457,  0.00471825],\n",
       "       [ 0.33289954,  0.33716395,  0.3306691 ],\n",
       "       [ 0.42307693,  0.01438018,  0.56958264]], dtype=float32)"
      ]
     },
     "execution_count": 93,
     "metadata": {},
     "output_type": "execute_result"
    }
   ],
   "source": [
    "mpp.GrangerMatrix.detach().cpu().numpy()"
   ]
  },
  {
   "cell_type": "code",
   "execution_count": 173,
   "id": "e620d8a4-1bc5-433a-8489-0465de8464d5",
   "metadata": {},
   "outputs": [
    {
     "data": {
      "text/plain": [
       "<matplotlib.colorbar.Colorbar at 0x7f1593ad58d0>"
      ]
     },
     "execution_count": 173,
     "metadata": {},
     "output_type": "execute_result"
    },
    {
     "data": {
      "image/png": "[encoded data removed]",
      "text/plain": [
       "<Figure size 640x480 with 2 Axes>"
      ]
     },
     "metadata": {},
     "output_type": "display_data"
    }
   ],
   "source": [
    "s = mpp.GrangerMatrix.softmax(dim = 1).detach().cpu().numpy()\n",
    "\n",
    "plt.imshow(s)\n",
    "plt.axis('off')\n",
    "plt.colorbar()"
   ]
  },
  {
   "cell_type": "code",
   "execution_count": 134,
   "id": "0641acdd-e0a4-4bf9-9144-5c4bdac6af87",
   "metadata": {},
   "outputs": [
    {
     "data": {
      "text/plain": [
       "(tensor([0, 1, 2]), tensor([50, 52, 51]))"
      ]
     },
     "execution_count": 134,
     "metadata": {},
     "output_type": "execute_result"
    }
   ],
   "source": [
    "torch.unique(torch.tensor(mpp.causes[idx]), return_counts = True)"
   ]
  },
  {
   "cell_type": "code",
   "execution_count": null,
   "id": "d0cba29f-d967-4871-86af-5d71ff155d57",
   "metadata": {},
   "outputs": [],
   "source": []
  }
 ],
 "metadata": {
  "kernelspec": {
   "display_name": "jpt",
   "language": "python",
   "name": "jpt"
  },
  "language_info": {
   "codemirror_mode": {
    "name": "ipython",
    "version": 3
   },
   "file_extension": ".py",
   "mimetype": "text/x-python",
   "name": "python",
   "nbconvert_exporter": "python",
   "pygments_lexer": "ipython3",
   "version": "3.10.14"
  }
 },
 "nbformat": 4,
 "nbformat_minor": 5
}
