{
 "cells": [
  {
   "cell_type": "code",
   "execution_count": 1,
   "metadata": {},
   "outputs": [],
   "source": [
    "class Memory:\n",
    "\n",
    "  def __init__(self, size):\n",
    "    self.size = size\n",
    "    self.stack = []\n",
    "\n",
    "  def push(self, item):\n",
    "    if len(self.stack) >= self.size:\n",
    "      self.stack.pop()\n",
    "    self.stack.append(item)\n",
    "\n",
    "  def pop(self):\n",
    "    if self.stack:\n",
    "      return self.stack.pop()\n",
    "    else:\n",
    "      return None\n",
    "\n",
    "  def __repr__(self):\n",
    "    return repr(self.stack)\n",
    "  \n",
    "  def copy(self):\n",
    "    return self.stack.copy()"
   ]
  },
  {
   "cell_type": "code",
   "execution_count": 2,
   "metadata": {},
   "outputs": [],
   "source": [
    "def wold_seq(processes):\n",
    "\n",
    "  dict  = {} # dict[t] = deltas at times < t (non inclusive by definition)\n",
    "\n",
    "  events = []\n",
    "  for id, process in enumerate(processes):\n",
    "    for t in process:\n",
    "      events.append([t, id])\n",
    "\n",
    "  events.sort()\n",
    "  #print(\"events\", events)\n",
    "\n",
    "  deltas = {}\n",
    "  last = {}\n",
    "\n",
    "  cur = -1\n",
    "\n",
    "  for t, id in events:\n",
    "    dict[t] = {}\n",
    "    deltas[id] = Memory(4)\n",
    "    last[id] = [0, 0]\n",
    "\n",
    "  for t, id in events:\n",
    "\n",
    "    if t != cur:\n",
    "      #print(\"Updating\", t, cur)\n",
    "      #print(deltas)\n",
    "       # updating\n",
    "      cur = t\n",
    "      for _id, _delta in deltas.items():\n",
    "        #print(_id, _delta)\n",
    "        dict[cur][_id] = _delta.copy()\n",
    "\n",
    "    last[id][1] = last[id][0]\n",
    "    last[id][0] = t\n",
    "    if last[id][1] != 0:\n",
    "      deltas[id].push(last[id][0] - last[id][1])\n",
    "     \n",
    "  return dict\n",
    "\n",
    "    \n"
   ]
  },
  {
   "cell_type": "code",
   "execution_count": 3,
   "metadata": {},
   "outputs": [],
   "source": [
    "input = [\n",
    "  [1, 3, 5, 7, 9], # delta fixed to 2\n",
    "  [1, 4, 7, 10, 13], # delta fixed to 3\n",
    "  [4, 5, 6, 7, 8], # delta fixed to 1\n",
    "  ]"
   ]
  },
  {
   "cell_type": "code",
   "execution_count": 4,
   "metadata": {},
   "outputs": [
    {
     "data": {
      "text/plain": [
       "{1: {0: [], 1: [], 2: []},\n",
       " 3: {0: [], 1: [], 2: []},\n",
       " 4: {0: [2], 1: [], 2: []},\n",
       " 5: {0: [2], 1: [3], 2: []},\n",
       " 6: {0: [2, 2], 1: [3], 2: [1]},\n",
       " 7: {0: [2, 2], 1: [3], 2: [1, 1]},\n",
       " 8: {0: [2, 2, 2], 1: [3, 3], 2: [1, 1, 1]},\n",
       " 9: {0: [2, 2, 2], 1: [3, 3], 2: [1, 1, 1, 1]},\n",
       " 10: {0: [2, 2, 2, 2], 1: [3, 3], 2: [1, 1, 1, 1]},\n",
       " 13: {0: [2, 2, 2, 2], 1: [3, 3, 3], 2: [1, 1, 1, 1]}}"
      ]
     },
     "execution_count": 4,
     "metadata": {},
     "output_type": "execute_result"
    }
   ],
   "source": [
    "wold_seq(input)"
   ]
  },
  {
   "cell_type": "code",
   "execution_count": null,
   "metadata": {},
   "outputs": [],
   "source": []
  }
 ],
 "metadata": {
  "kernelspec": {
   "display_name": "neuraltpp",
   "language": "python",
   "name": "neuraltpp"
  }
 },
 "nbformat": 4,
 "nbformat_minor": 2
}
