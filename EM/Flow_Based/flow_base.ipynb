{
 "cells": [
  {
   "cell_type": "code",
   "execution_count": 202,
   "metadata": {},
   "outputs": [],
   "source": [
    "import numpy as np\n",
    "import matplotlib.pyplot as plt\n",
    "\n",
    "\n",
    "np.random.seed(42)\n",
    "\n",
    "n_points = 600\n",
    "time = np.arange(n_points)\n",
    "\n",
    "\n",
    "X1 = np.random.binomial(1, 0.6, n_points)\n",
    "X2 = np.zeros(n_points)\n",
    "X3 = np.zeros(n_points)\n",
    "\n",
    "\n",
    "for t in range(1, n_points):\n",
    "    # X2 is more likely to happen if X1 happened in the previous step\n",
    "    X2[t] = np.random.binomial(1, 0.5 * X1[t-1])\n",
    "    # X3 is more likely to happen if X2 happened in the previous step\n",
    "    X3[t] = np.random.binomial(1, 0.7 * X2[t-1] )\n",
    "\n",
    "\n",
    "\n",
    "X1 = [time[i] for i in range(len(X1)) if X1[i] > 0]\n",
    "X2 = [time[i] + 0.1 for i in range(len(X2)) if X2[i] > 0]\n",
    "X3 = [time[i] + 0.2 for i in range(len(X3)) if X3[i] > 0]"
   ]
  },
  {
   "cell_type": "code",
   "execution_count": 203,
   "metadata": {},
   "outputs": [
    {
     "data": {
      "image/png": "[encoded data removed]",
      "text/plain": [
       "<Figure size 640x480 with 3 Axes>"
      ]
     },
     "metadata": {},
     "output_type": "display_data"
    }
   ],
   "source": [
    "def _plot_tick_bars(timestamps_i, ax, color):\n",
    "    for t in timestamps_i:\n",
    "        ax.axvline(x=t, color = color)\n",
    "    # ax.set_title(label, fontsize=20)\n",
    "    ax.get_yaxis().set_visible(False)\n",
    "def _plot_tick_bars_causes(timestamps_i, ax, cause):\n",
    "    colors = ['red', 'green', 'blue']\n",
    "    for idx, t in enumerate(timestamps_i):\n",
    "        cause_ = torch.argmax(cause[idx]).item()\n",
    "        ax.axvline(x=t, color = colors[cause_])\n",
    "    ax.get_yaxis().set_visible(False)\n",
    "\n",
    "fig, ax = plt.subplots(nrows = 3, sharex = True)\n",
    "\n",
    "_plot_tick_bars(X1, ax[0], color = 'red')\n",
    "_plot_tick_bars(X2, ax[1], color = 'green')\n",
    "_plot_tick_bars(X3, ax[2], color = 'blue')"
   ]
  },
  {
   "cell_type": "code",
   "execution_count": 162,
   "metadata": {},
   "outputs": [],
   "source": [
    "import torch\n",
    "import torch.nn as nn\n",
    "import torch.nn.functional as F\n",
    "# from torch.nn.utils.rnn import pad_sequence\n",
    "from torch.utils.data import DataLoader\n",
    "\n",
    "if torch.cuda.is_available():\n",
    "    torch.set_default_tensor_type(\"torch.cuda.FloatTensor\")\n",
    "    device = \"cuda\"\n",
    "else:\n",
    "    torch.set_default_tensor_type(\"torch.FloatTensor\")\n",
    "    device = \"cpu\"\n"
   ]
  },
  {
   "cell_type": "code",
   "execution_count": 198,
   "metadata": {},
   "outputs": [
    {
     "data": {
      "text/plain": [
       "11136"
      ]
     },
     "execution_count": 198,
     "metadata": {},
     "output_type": "execute_result"
    }
   ],
   "source": [
    "hidden_dim = 16\n",
    "thiago = nn.GRU(input_size = hidden_dim, hidden_size = int(2*hidden_dim), num_layers = 2, batch_first = True)\n",
    "sum(p.numel() for p in thiago.parameters())"
   ]
  },
  {
   "cell_type": "code",
   "execution_count": 201,
   "metadata": {},
   "outputs": [
    {
     "data": {
      "text/plain": [
       "11200"
      ]
     },
     "execution_count": 201,
     "metadata": {},
     "output_type": "execute_result"
    }
   ],
   "source": [
    "mlp = nn.Sequential(nn.Linear(hidden_dim, 2*hidden_dim), nn.Linear(2*hidden_dim, 2*hidden_dim))\n",
    "7*sum(p.numel() for p in mlp.parameters())"
   ]
  },
  {
   "cell_type": "code",
   "execution_count": 163,
   "metadata": {},
   "outputs": [],
   "source": [
    "from torch.distributions import Normal \n",
    "\n",
    "\n",
    "class CustomNet(nn.Module):\n",
    "    def __init__(self, input_dim, hidden_dim):\n",
    "        super().__init__()\n",
    "        \n",
    "        self.embd = nn.Sequential(\n",
    "            nn.Linear(input_dim // 2, hidden_dim),\n",
    "            nn.Tanh())\n",
    "        \n",
    "        self.rnn = nn.GRU(input_size = hidden_dim, hidden_size = int(2*hidden_dim), num_layers = 2, batch_first = True)\n",
    "        \n",
    "        self.output = nn.Linear(int(2*hidden_dim), input_dim)\n",
    "\n",
    "    def forward(self, x):\n",
    "\n",
    "        x = self.embd(x)\n",
    "        x, _ = self.rnn(x)\n",
    "        x = self.output(x)\n",
    "\n",
    "        return x\n",
    "\n",
    "class AffineCouplingLayer(nn.Module):\n",
    "    def __init__(self, input_dim, hidden_dim):\n",
    "        super(AffineCouplingLayer, self).__init__()\n",
    "        \n",
    "        self.net = CustomNet(input_dim, hidden_dim)\n",
    "        \n",
    "    def forward(self, x):\n",
    "        x1, x2 = x.chunk(2, dim=1)\n",
    "        params = self.net(x1)\n",
    "        shift, log_scale = params.chunk(2, dim=1)\n",
    "        z2 = (x2 - shift) * torch.exp(-log_scale)\n",
    "        z = torch.cat([x1, z2], dim=1)\n",
    "        log_det_jacobian = -log_scale.sum(dim=1)\n",
    "        \n",
    "        return z, log_det_jacobian\n",
    "\n",
    "    def inverse(self, z):\n",
    "        z1, z2 = z.chunk(2, dim=1)\n",
    "        params = self.net(z1)\n",
    "        shift, log_scale = params.chunk(2, dim=1)\n",
    "        x2 = z2 * torch.exp(log_scale) + shift\n",
    "        x = torch.cat([z1, x2], dim=1)\n",
    "        \n",
    "        return x\n",
    "\n",
    "class InvConv1D(nn.Module):\n",
    "    def __init__(self, num_features):\n",
    "        super().__init__()\n",
    "        # Initialize an orthogonal matrix for 1x1 convolution in 1D\n",
    "        w_init, _ = torch.linalg.qr(torch.randn(num_features, num_features))\n",
    "        #w_init = torch.tensor(w_init)\n",
    "\n",
    "        self.register_buffer('w', w_init)\n",
    "        self.w_inverse = None\n",
    "\n",
    "    def forward(self, x):\n",
    "        # x is of shape (batch_size, num_features)\n",
    "        # Apply the learned 1x1 convolution (linear transformation)\n",
    "        z = x @ self.w  # Matrix multiplication for 1D\n",
    "\n",
    "        # Compute log determinant of the Jacobian for the flow\n",
    "        log_det_jacobian = torch.slogdet(self.w)[1]\n",
    "        \n",
    "        return z, log_det_jacobian\n",
    "\n",
    "    def inverse(self, z):\n",
    "        if self.w_inverse is None:\n",
    "            self.w_inverse = torch.inverse(self.w)\n",
    "        x = z @ self.w_inverse\n",
    "        \n",
    "        return x\n",
    "\n",
    "\n",
    "\n",
    "class NFBlock(nn.Module):\n",
    "    def __init__(self, num_features, hidden_dim):\n",
    "        super().__init__()\n",
    "        self.invertible_conv = InvConv1D(num_features)\n",
    "        self.affine_coupling = AffineCouplingLayer(num_features, hidden_dim)\n",
    "\n",
    "    def forward(self, x):\n",
    "        z, log_det_jacobian_conv = self.invertible_conv(x)\n",
    "        \n",
    "        z, log_det_jacobian_affine = self.affine_coupling(z)\n",
    "        \n",
    "        log_det_jacobian = log_det_jacobian_conv + log_det_jacobian_affine\n",
    "        \n",
    "        return z, log_det_jacobian\n",
    "\n",
    "    def inverse(self, z):\n",
    "        x = self.affine_coupling.inverse(z)\n",
    "        x = self.invertible_conv.inverse(x)\n",
    "        \n",
    "        return x\n",
    "\n",
    "\n",
    "\n",
    "class NormalizingFlow(nn.Module):\n",
    "    def __init__(self, input_dim, hidden_dim, num_layers):\n",
    "        super(NormalizingFlow, self).__init__()\n",
    "        self.input_dim = input_dim\n",
    "        self.hidden_dim = hidden_dim\n",
    "        self.num_layers = num_layers\n",
    "        self.base_dist = Normal(0, 1)\n",
    "        self.blocks = nn.ModuleList(\n",
    "            [NFBlock(num_features = input_dim, hidden_dim = hidden_dim) for _ in range(num_layers)]\n",
    "        )\n",
    "        \n",
    "    \n",
    "    def forward(self, x):\n",
    "        log_det_jacobian = 0\n",
    "        \n",
    "        for layer in self.blocks:\n",
    "            x, ldj = layer(x)\n",
    "            log_det_jacobian += ldj\n",
    "        \n",
    "        return x, log_det_jacobian\n",
    "\n",
    "    def inverse(self, z):\n",
    "        for layer in reversed(self.blocks):\n",
    "            z = layer.inverse(z)\n",
    "        return z\n",
    "\n",
    "\n",
    "    def log_prob(self, x):\n",
    "        z, ldj = self.forward(x)\n",
    "        log_pz = self.base_dist.log_prob(z).sum(dim = (1,))\n",
    "        log_px = log_pz + ldj\n",
    "\n",
    "        return z, log_px\n",
    "\n"
   ]
  },
  {
   "cell_type": "code",
   "execution_count": 164,
   "metadata": {},
   "outputs": [],
   "source": [
    "model = NormalizingFlow(input_dim=4, hidden_dim = 64, num_layers=3)"
   ]
  },
  {
   "cell_type": "code",
   "execution_count": 189,
   "metadata": {},
   "outputs": [],
   "source": [
    "class GrangerMPP(nn.Module):\n",
    "\n",
    "    def __init__(self, processes, memory_dim : int = 10):\n",
    "\n",
    "        super().__init__()\n",
    "\n",
    "        self.processes = processes\n",
    "        self.memory_dim = memory_dim\n",
    "        self.n_processes = len(self.processes)\n",
    "\n",
    "        self.GrangerMatrix = nn.Parameter((torch.empty(self.n_processes, self.n_processes)))\n",
    "        nn.init.normal_(self.GrangerMatrix, mean=0.5, std=0.1) # very important\n",
    "\n",
    "        self.models = nn.ModuleList([NormalizingFlow(self.memory_dim, hidden_dim = 16, num_layers = 2) for i in range(self.n_processes)])\n",
    "        self.sweep_dict = self.make_sweep_dict()\n",
    "        self.time_of_start = self.get_time_of_start()\n",
    "        self.optimizers = [torch.optim.Adam(list(self.models[i].parameters()), lr=1e-4, weight_decay = 1e-5) for i in range(self.n_processes)]\n",
    "        self.g_optimizer = torch.optim.Adam([self.GrangerMatrix], lr = 1e-3, weight_decay=1e-5)\n",
    "        self.log_GrangerMatrix = []\n",
    "\n",
    "\n",
    "    def em_step(self, n_steps):\n",
    "        dic = {}\n",
    "        self.causes = [[], [], []]\n",
    "        for i in range(self.n_processes):\n",
    "            dic[i] = []\n",
    "\n",
    "\n",
    "        taus = torch.linspace(1, 0.3, steps = n_steps)#\n",
    "        \n",
    "        for self.step in range(n_steps):\n",
    "          for i_proc in range(self.n_processes):\n",
    "              self.causes[i_proc] = []\n",
    "              curr = processes[i_proc]\n",
    "              len_curr = len(curr)\n",
    "              idx_start = 0\n",
    "              while idx_start < len_curr:\n",
    "                self.num_events = 5\n",
    "                events = self.get_events(self.num_events, idx_start, i_proc, 1.0) ## the get_events does the e_step!\n",
    "                if events:\n",
    "                  DL = DataLoader(events, batch_size = len(events))\n",
    "\n",
    "                  for X, cause_rank in DL:\n",
    "\n",
    "                    loss = self.m_step(i_proc, X, cause_rank)\n",
    "                    dic[i_proc].append(loss)\n",
    "\n",
    "                idx_start += self.num_events\n",
    "\n",
    "              if (self.step + 1) % 5 == 0 or self.step == 0:\n",
    "                  print(f'Step: {self.step + 1}, Model: {i_proc}, Loss: {loss}')\n",
    "\n",
    "\n",
    "        return dic\n",
    "\n",
    "    def m_step(self, i_proc, X, cause_rank):\n",
    "\n",
    "        model = self.models[i_proc]\n",
    "        self.optimizers[i_proc].zero_grad()\n",
    "        self.g_optimizer.zero_grad()\n",
    "        z, logp = model.log_prob(X)\n",
    "        loss = -1*logp\n",
    "\n",
    "        loss_rnn = (loss * cause_rank).sum()  + -1*(torch.log(cause_rank + 1e-7)).sum() + 0.001*self.GrangerMatrix[i_proc].norm(p=1)\n",
    "\n",
    "\n",
    "        if not (torch.isnan(loss_rnn) | torch.isinf(loss_rnn)):\n",
    "\n",
    "\n",
    "            loss_rnn.backward(retain_graph = True)\n",
    "\n",
    "            self.optimizers[i_proc].step()\n",
    "            self.g_optimizer.step()\n",
    "            self.log_GrangerMatrix.append(self.GrangerMatrix.clone().detach())\n",
    "\n",
    "\n",
    "        else:\n",
    "            print(f'NaN found in epoch: {self.step}')\n",
    "\n",
    "        return loss_rnn.item()\n",
    "\n",
    "    def make_sweep_dict(self):\n",
    "\n",
    "        dic = {}\n",
    "        for i in range(self.n_processes):\n",
    "            target = self.processes[i]\n",
    "            dic[i] = {}\n",
    "            for j in range(self.n_processes):\n",
    "                cause = self.processes[j]\n",
    "                dic[i][j] = self.sweep(target, cause)\n",
    "\n",
    "        return dic\n",
    "\n",
    "\n",
    "    def sweep(self, pa, pc):\n",
    "        events = []\n",
    "        pa_indices = []\n",
    "\n",
    "\n",
    "        for i, ia in enumerate(pa):\n",
    "            events.append((ia, 'a'))\n",
    "            pa_indices.append(i)\n",
    "\n",
    "        for ic in pc:\n",
    "            events.append((ic, 'c'))\n",
    "\n",
    "        lim = self.memory_dim\n",
    "\n",
    "        events.sort()\n",
    "        mem = []\n",
    "        ret = []\n",
    "        index_start = False\n",
    "\n",
    "        pa_idx_counter = 0  # Counter to track which index in pa we are at\n",
    "\n",
    "        for t, e in events:\n",
    "            if e == 'c':\n",
    "                if len(mem) >= lim:\n",
    "                    mem.pop(0)\n",
    "                mem.append(t)\n",
    "\n",
    "            if e == 'a':\n",
    "                # Memory is not full yet\n",
    "                if len(mem) < lim:\n",
    "                    pa_idx_counter += 1  # Move to the next pa index\n",
    "                    continue\n",
    "                # Retrieve deltas from this time to the cause times\n",
    "                pp = [t - tc for tc in mem]\n",
    "                ret.append(pp)\n",
    "                if not index_start:\n",
    "                  index_start = pa_indices[pa_idx_counter] # Save index relative to pa\n",
    "                pa_idx_counter += 1  # Move to the next pa index\n",
    "        if not index_start:\n",
    "          index_start = -1\n",
    "        return torch.tensor(ret, dtype=torch.float), index_start\n",
    "\n",
    "    def get_time_of_start(self):\n",
    "\n",
    "      indexs = []\n",
    "      dic = self.sweep_dict\n",
    "\n",
    "      for i in dic:\n",
    "        curr = []\n",
    "        for j in dic[i]:\n",
    "          curr.append(dic[i][j][1])\n",
    "        indexs.append(curr)\n",
    "\n",
    "      return indexs\n",
    "\n",
    "\n",
    "    def new_e_step(self, num_events, i_proc, tau):\n",
    "\n",
    "      in_ = self.GrangerMatrix[i_proc]#.softmax(dim = 0)\n",
    "      rv = []\n",
    "      for i in range(num_events):\n",
    "        cause = F.gumbel_softmax(\n",
    "            in_,\n",
    "            tau = tau,\n",
    "            hard = False\n",
    "        )\n",
    "        rv.append(cause)\n",
    "\n",
    "      self.causes[i_proc].append(rv)\n",
    "\n",
    "      return rv\n",
    "\n",
    "\n",
    "    def get_events(self, num_events, idx_start, i_proc, tau):\n",
    "\n",
    "      begin_of_influences = self.time_of_start[i_proc]\n",
    "      n_causes = self.new_e_step(num_events, i_proc, tau)\n",
    "\n",
    "      event_cause = []\n",
    "\n",
    "      for time in range(num_events):\n",
    "        causes = n_causes[time]\n",
    "\n",
    "        for idx_cause, cause in enumerate(causes):\n",
    "          inf_begin = begin_of_influences[idx_cause]\n",
    "\n",
    "          if inf_begin == -1: ## this process cannot be caused by this other process (it started after the current process ended)\n",
    "            continue\n",
    "\n",
    "          else:\n",
    "            if time + idx_start >= inf_begin and len(self.sweep_dict[i_proc][idx_cause][0]) > time + idx_start + inf_begin: ## checking if the current_timestamp could be cause by the process and if there's events pass this time\n",
    "              app = (self.sweep_dict[i_proc][idx_cause][0][time + idx_start - inf_begin], cause)\n",
    "              event_cause.append(app)\n",
    "\n",
    "      return event_cause\n",
    "\n"
   ]
  },
  {
   "cell_type": "code",
   "execution_count": 204,
   "metadata": {},
   "outputs": [],
   "source": [
    "X1_ = torch.tensor(X1.copy(), dtype = torch.float32)\n",
    "X2_ = torch.tensor(X2.copy(), dtype = torch.float32)\n",
    "X3_ = torch.tensor(X3.copy(), dtype = torch.float32)\n",
    "processes = [X2_, X3_, X1_]"
   ]
  },
  {
   "cell_type": "code",
   "execution_count": 205,
   "metadata": {},
   "outputs": [
    {
     "name": "stdout",
     "output_type": "stream",
     "text": [
      "Step: 1, Model: 0, Loss: 9.04128360748291\n",
      "Step: 1, Model: 1, Loss: 9.103618621826172\n",
      "Step: 1, Model: 2, Loss: 17.551761627197266\n",
      "Step: 5, Model: 0, Loss: 4.935922622680664\n",
      "Step: 5, Model: 1, Loss: 19.58301544189453\n",
      "Step: 5, Model: 2, Loss: 4.551562786102295\n",
      "Step: 10, Model: 0, Loss: 5.036654949188232\n",
      "Step: 10, Model: 1, Loss: 11.893320083618164\n",
      "Step: 10, Model: 2, Loss: 3.977306842803955\n",
      "Step: 15, Model: 0, Loss: 7.48842716217041\n",
      "Step: 15, Model: 1, Loss: 10.519984245300293\n",
      "Step: 15, Model: 2, Loss: 4.733119964599609\n",
      "Step: 20, Model: 0, Loss: 5.458603858947754\n",
      "Step: 20, Model: 1, Loss: 12.318037033081055\n",
      "Step: 20, Model: 2, Loss: 5.799465656280518\n",
      "Step: 25, Model: 0, Loss: 5.54259729385376\n",
      "Step: 25, Model: 1, Loss: 8.320773124694824\n",
      "Step: 25, Model: 2, Loss: 3.281498432159424\n",
      "Step: 30, Model: 0, Loss: 4.71624755859375\n",
      "Step: 30, Model: 1, Loss: 10.41666030883789\n",
      "Step: 30, Model: 2, Loss: 6.4383344650268555\n",
      "Step: 35, Model: 0, Loss: 8.416790962219238\n",
      "Step: 35, Model: 1, Loss: 9.662530899047852\n",
      "Step: 35, Model: 2, Loss: 4.564661502838135\n",
      "Step: 40, Model: 0, Loss: 5.062989711761475\n",
      "Step: 40, Model: 1, Loss: 13.941678047180176\n",
      "Step: 40, Model: 2, Loss: 5.14121675491333\n",
      "Step: 45, Model: 0, Loss: 3.698721170425415\n",
      "Step: 45, Model: 1, Loss: 11.292269706726074\n",
      "Step: 45, Model: 2, Loss: 8.248003959655762\n",
      "Step: 50, Model: 0, Loss: 4.45477294921875\n",
      "Step: 50, Model: 1, Loss: 10.358314514160156\n",
      "Step: 50, Model: 2, Loss: 5.60126256942749\n",
      "Step: 55, Model: 0, Loss: 4.582446575164795\n",
      "Step: 55, Model: 1, Loss: 10.482892036437988\n",
      "Step: 55, Model: 2, Loss: 7.9557976722717285\n",
      "Step: 60, Model: 0, Loss: 9.144856452941895\n",
      "Step: 60, Model: 1, Loss: 10.091144561767578\n",
      "Step: 60, Model: 2, Loss: 4.372824668884277\n",
      "Step: 65, Model: 0, Loss: 6.164890289306641\n",
      "Step: 65, Model: 1, Loss: 12.427677154541016\n",
      "Step: 65, Model: 2, Loss: 6.182128429412842\n",
      "Step: 70, Model: 0, Loss: 7.644218921661377\n",
      "Step: 70, Model: 1, Loss: 12.384528160095215\n",
      "Step: 70, Model: 2, Loss: 3.7905168533325195\n",
      "Step: 75, Model: 0, Loss: 8.866995811462402\n",
      "Step: 75, Model: 1, Loss: 10.304760932922363\n",
      "Step: 75, Model: 2, Loss: 6.050734519958496\n",
      "Step: 80, Model: 0, Loss: 7.8338093757629395\n",
      "Step: 80, Model: 1, Loss: 10.74059009552002\n",
      "Step: 80, Model: 2, Loss: 3.9935593605041504\n",
      "Step: 85, Model: 0, Loss: 7.6773786544799805\n",
      "Step: 85, Model: 1, Loss: 10.838805198669434\n",
      "Step: 85, Model: 2, Loss: 5.779092311859131\n",
      "Step: 90, Model: 0, Loss: 7.63668966293335\n",
      "Step: 90, Model: 1, Loss: 10.943727493286133\n",
      "Step: 90, Model: 2, Loss: 6.65608549118042\n",
      "Step: 95, Model: 0, Loss: 8.112542152404785\n",
      "Step: 95, Model: 1, Loss: 10.008646011352539\n",
      "Step: 95, Model: 2, Loss: 5.174366474151611\n",
      "Step: 100, Model: 0, Loss: 7.6803507804870605\n",
      "Step: 100, Model: 1, Loss: 12.478660583496094\n",
      "Step: 100, Model: 2, Loss: 5.883586406707764\n",
      "Step: 105, Model: 0, Loss: 7.360003471374512\n",
      "Step: 105, Model: 1, Loss: 7.233570575714111\n",
      "Step: 105, Model: 2, Loss: 5.860132217407227\n",
      "Step: 110, Model: 0, Loss: 8.024478912353516\n",
      "Step: 110, Model: 1, Loss: 10.452765464782715\n",
      "Step: 110, Model: 2, Loss: 5.519052982330322\n",
      "Step: 115, Model: 0, Loss: 5.632402420043945\n",
      "Step: 115, Model: 1, Loss: 10.585933685302734\n",
      "Step: 115, Model: 2, Loss: 5.533488750457764\n",
      "Step: 120, Model: 0, Loss: 7.996067523956299\n",
      "Step: 120, Model: 1, Loss: 9.459349632263184\n",
      "Step: 120, Model: 2, Loss: 5.0153093338012695\n",
      "Step: 125, Model: 0, Loss: 7.780118942260742\n",
      "Step: 125, Model: 1, Loss: 11.364480972290039\n",
      "Step: 125, Model: 2, Loss: 5.067579746246338\n",
      "Step: 130, Model: 0, Loss: 7.1644415855407715\n",
      "Step: 130, Model: 1, Loss: 9.525914192199707\n",
      "Step: 130, Model: 2, Loss: 4.6798319816589355\n",
      "Step: 135, Model: 0, Loss: 7.791895866394043\n",
      "Step: 135, Model: 1, Loss: 11.246878623962402\n",
      "Step: 135, Model: 2, Loss: 5.352039813995361\n",
      "Step: 140, Model: 0, Loss: 7.727464199066162\n",
      "Step: 140, Model: 1, Loss: 10.277237892150879\n",
      "Step: 140, Model: 2, Loss: 5.658542156219482\n",
      "Step: 145, Model: 0, Loss: 7.414395809173584\n",
      "Step: 145, Model: 1, Loss: 11.214701652526855\n",
      "Step: 145, Model: 2, Loss: 4.665104866027832\n",
      "Step: 150, Model: 0, Loss: 4.9663166999816895\n",
      "Step: 150, Model: 1, Loss: 11.303786277770996\n",
      "Step: 150, Model: 2, Loss: 5.4338765144348145\n",
      "Step: 155, Model: 0, Loss: 7.308821201324463\n",
      "Step: 155, Model: 1, Loss: 9.242927551269531\n",
      "Step: 155, Model: 2, Loss: 5.833550453186035\n",
      "Step: 160, Model: 0, Loss: 7.112602233886719\n",
      "Step: 160, Model: 1, Loss: 7.658936023712158\n",
      "Step: 160, Model: 2, Loss: 5.457889556884766\n",
      "Step: 165, Model: 0, Loss: 5.675482749938965\n",
      "Step: 165, Model: 1, Loss: 9.832340240478516\n",
      "Step: 165, Model: 2, Loss: 3.3758177757263184\n",
      "Step: 170, Model: 0, Loss: 7.124239921569824\n",
      "Step: 170, Model: 1, Loss: 9.984624862670898\n",
      "Step: 170, Model: 2, Loss: 5.4310302734375\n",
      "Step: 175, Model: 0, Loss: 5.881266117095947\n",
      "Step: 175, Model: 1, Loss: 9.779281616210938\n",
      "Step: 175, Model: 2, Loss: 5.51967191696167\n",
      "Step: 180, Model: 0, Loss: 7.039262294769287\n",
      "Step: 180, Model: 1, Loss: 10.399810791015625\n",
      "Step: 180, Model: 2, Loss: 4.876011848449707\n",
      "Step: 185, Model: 0, Loss: 6.675382614135742\n",
      "Step: 185, Model: 1, Loss: 8.332479476928711\n",
      "Step: 185, Model: 2, Loss: 5.494552135467529\n",
      "Step: 190, Model: 0, Loss: 6.9474616050720215\n",
      "Step: 190, Model: 1, Loss: 8.626477241516113\n",
      "Step: 190, Model: 2, Loss: 5.413070201873779\n",
      "Step: 195, Model: 0, Loss: 6.88608455657959\n",
      "Step: 195, Model: 1, Loss: 10.936431884765625\n",
      "Step: 195, Model: 2, Loss: 5.2523064613342285\n",
      "Step: 200, Model: 0, Loss: 6.819227695465088\n",
      "Step: 200, Model: 1, Loss: 9.308677673339844\n",
      "Step: 200, Model: 2, Loss: 5.478170394897461\n"
     ]
    }
   ],
   "source": [
    "mpp = GrangerMPP(processes, memory_dim = 4)\n",
    "l = mpp.em_step(n_steps = 200)"
   ]
  },
  {
   "cell_type": "code",
   "execution_count": 206,
   "metadata": {},
   "outputs": [
    {
     "name": "stdout",
     "output_type": "stream",
     "text": [
      "Len of losses: [6800, 4600, 13800]\n"
     ]
    },
    {
     "data": {
      "image/png": "[encoded data removed]",
      "text/plain": [
       "<Figure size 640x480 with 1 Axes>"
      ]
     },
     "metadata": {},
     "output_type": "display_data"
    }
   ],
   "source": [
    "colors = ['red', 'green', 'blue']\n",
    "for i in range(3):\n",
    "    plt.plot(l[i], color = colors[i])\n",
    "\n",
    "t = [len(l[i]) for i in range(3)]\n",
    "\n",
    "print(f'Len of losses: {t}')"
   ]
  },
  {
   "cell_type": "code",
   "execution_count": null,
   "metadata": {},
   "outputs": [],
   "source": [
    "mpp.models"
   ]
  },
  {
   "cell_type": "code",
   "execution_count": 207,
   "metadata": {},
   "outputs": [
    {
     "data": {
      "text/plain": [
       "<matplotlib.colorbar.Colorbar at 0x7fc3cfbb1960>"
      ]
     },
     "execution_count": 207,
     "metadata": {},
     "output_type": "execute_result"
    },
    {
     "data": {
      "image/png": "[encoded data removed]",
      "text/plain": [
       "<Figure size 640x480 with 2 Axes>"
      ]
     },
     "metadata": {},
     "output_type": "display_data"
    }
   ],
   "source": [
    "matrix = mpp.GrangerMatrix.softmax(dim = 1).detach().cpu().numpy()\n",
    "\n",
    "plt.imshow(matrix)\n",
    "plt.axis('off')\n",
    "plt.colorbar()"
   ]
  },
  {
   "cell_type": "code",
   "execution_count": 196,
   "metadata": {},
   "outputs": [
    {
     "data": {
      "text/plain": [
       "array([[0.97008646, 0.02526725, 0.0046463 ],\n",
       "       [0.9726123 , 0.02193777, 0.00545002],\n",
       "       [0.967797  , 0.02780076, 0.00440216]], dtype=float32)"
      ]
     },
     "execution_count": 196,
     "metadata": {},
     "output_type": "execute_result"
    }
   ],
   "source": [
    "mpp.GrangerMatrix.softmax(dim = 1).detach().cpu().numpy()"
   ]
  },
  {
   "cell_type": "code",
   "execution_count": 180,
   "metadata": {},
   "outputs": [
    {
     "data": {
      "text/plain": [
       "167"
      ]
     },
     "execution_count": 180,
     "metadata": {},
     "output_type": "execute_result"
    }
   ],
   "source": [
    "len(processes[1])"
   ]
  },
  {
   "cell_type": "code",
   "execution_count": 194,
   "metadata": {},
   "outputs": [
    {
     "data": {
      "text/plain": [
       "array([[ 3.6089153 , -0.03896093, -1.7323986 ],\n",
       "       [ 3.2188134 , -0.5729626 , -1.9655529 ],\n",
       "       [ 3.4200108 , -0.1299482 , -1.9729176 ]], dtype=float32)"
      ]
     },
     "execution_count": 194,
     "metadata": {},
     "output_type": "execute_result"
    }
   ],
   "source": [
    "mpp.GrangerMatrix.detach().cpu().numpy()"
   ]
  },
  {
   "cell_type": "code",
   "execution_count": 159,
   "metadata": {},
   "outputs": [
    {
     "data": {
      "image/png": "[encoded data removed]",
      "text/plain": [
       "<Figure size 640x480 with 1 Axes>"
      ]
     },
     "metadata": {},
     "output_type": "display_data"
    }
   ],
   "source": [
    "final = []\n",
    "for proc in range(3):\n",
    "    proc_size = len(processes[proc])\n",
    "    loss_size = len(l[proc])\n",
    "    temp = [ sum(l[proc][i:i + proc_size])/proc_size for i in range(0, loss_size - proc_size, proc_size)]\n",
    "    final.append(temp)\n",
    "\n",
    "colors = ['red', 'green', 'blue']\n",
    "for i in range(3):\n",
    "    plt.plot(final[i], color = colors[i])"
   ]
  },
  {
   "cell_type": "code",
   "execution_count": 158,
   "metadata": {},
   "outputs": [
    {
     "data": {
      "text/plain": [
       "[905.976876769747, 824.3470450299127, 720.2255801473345]"
      ]
     },
     "execution_count": 158,
     "metadata": {},
     "output_type": "execute_result"
    }
   ],
   "source": [
    "temp"
   ]
  },
  {
   "cell_type": "code",
   "execution_count": 74,
   "metadata": {},
   "outputs": [
    {
     "ename": "AttributeError",
     "evalue": "'list' object has no attribute 'argmax'",
     "output_type": "error",
     "traceback": [
      "\u001b[0;31m---------------------------------------------------------------------------\u001b[0m",
      "\u001b[0;31mAttributeError\u001b[0m                            Traceback (most recent call last)",
      "Cell \u001b[0;32mIn[74], line 1\u001b[0m\n\u001b[0;32m----> 1\u001b[0m s \u001b[38;5;241m=\u001b[39m [i\u001b[38;5;241m.\u001b[39margmax()\u001b[38;5;241m.\u001b[39mitem() \u001b[38;5;28;01mfor\u001b[39;00m i \u001b[38;5;129;01min\u001b[39;00m mpp\u001b[38;5;241m.\u001b[39mcauses[\u001b[38;5;241m0\u001b[39m]]\n\u001b[1;32m      2\u001b[0m s \u001b[38;5;241m=\u001b[39m torch\u001b[38;5;241m.\u001b[39mtensor(s)\n\u001b[1;32m      3\u001b[0m s\u001b[38;5;241m.\u001b[39munique(return_counts \u001b[38;5;241m=\u001b[39m \u001b[38;5;28;01mTrue\u001b[39;00m)\n",
      "Cell \u001b[0;32mIn[74], line 1\u001b[0m, in \u001b[0;36m<listcomp>\u001b[0;34m(.0)\u001b[0m\n\u001b[0;32m----> 1\u001b[0m s \u001b[38;5;241m=\u001b[39m [\u001b[43mi\u001b[49m\u001b[38;5;241;43m.\u001b[39;49m\u001b[43margmax\u001b[49m()\u001b[38;5;241m.\u001b[39mitem() \u001b[38;5;28;01mfor\u001b[39;00m i \u001b[38;5;129;01min\u001b[39;00m mpp\u001b[38;5;241m.\u001b[39mcauses[\u001b[38;5;241m0\u001b[39m]]\n\u001b[1;32m      2\u001b[0m s \u001b[38;5;241m=\u001b[39m torch\u001b[38;5;241m.\u001b[39mtensor(s)\n\u001b[1;32m      3\u001b[0m s\u001b[38;5;241m.\u001b[39munique(return_counts \u001b[38;5;241m=\u001b[39m \u001b[38;5;28;01mTrue\u001b[39;00m)\n",
      "\u001b[0;31mAttributeError\u001b[0m: 'list' object has no attribute 'argmax'"
     ]
    }
   ],
   "source": [
    "s = [i.argmax().item() for i in mpp.causes[0]]\n",
    "s = torch.tensor(s)\n",
    "s.unique(return_counts = True)"
   ]
  },
  {
   "cell_type": "code",
   "execution_count": 79,
   "metadata": {},
   "outputs": [
    {
     "data": {
      "text/plain": [
       "(tensor([0, 1, 2]), tensor([112, 125, 112]))"
      ]
     },
     "execution_count": 79,
     "metadata": {},
     "output_type": "execute_result"
    }
   ],
   "source": [
    "causes = []\n",
    "for i in mpp.causes[0]:\n",
    "    for j in i:\n",
    "        causes.append(j.argmax().item())\n",
    "causes = torch.tensor(causes)\n",
    "causes.unique(return_counts = True)"
   ]
  },
  {
   "cell_type": "code",
   "execution_count": null,
   "metadata": {},
   "outputs": [],
   "source": []
  }
 ],
 "metadata": {
  "kernelspec": {
   "display_name": "Python 3 (ipykernel)",
   "language": "python",
   "name": "python3"
  }
 },
 "nbformat": 4,
 "nbformat_minor": 2
}
